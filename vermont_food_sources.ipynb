{
 "cells": [
  {
   "cell_type": "code",
   "execution_count": 14,
   "metadata": {},
   "outputs": [],
   "source": [
    "import pandas as pd\n",
    "import numpy as np\n",
    "import matplotlib.pyplot as plt\n",
    "import plotly.express as px\n",
    "import scipy.stats\n",
    "pd.options.mode.chained_assignment = None"
   ]
  },
  {
   "cell_type": "code",
   "execution_count": 15,
   "metadata": {},
   "outputs": [],
   "source": [
    "df = pd.read_csv(\"Food_Scrap_Generators.csv\")\n",
    "df.drop(columns=['Phone','Website','Facebook','Active'], inplace=True)\n",
    "df.drop([5905,6034], inplace=True)\n",
    "df.dropna(subset=['X','Y'], inplace=True)\n",
    "df.reset_index(drop=True, inplace=True)"
   ]
  },
  {
   "cell_type": "code",
   "execution_count": 16,
   "metadata": {},
   "outputs": [
    {
     "data": {
      "image/png": "[encoded data removed]",
      "text/plain": [
       "<Figure size 432x288 with 1 Axes>"
      ]
     },
     "metadata": {
      "needs_background": "light"
     },
     "output_type": "display_data"
    }
   ],
   "source": [
    "fig, axs = plt.subplots()\n",
    "axs.scatter(df.X,df.Y)\n",
    "axs.axis('equal')\n",
    "plt.show()"
   ]
  },
  {
   "cell_type": "code",
   "execution_count": 17,
   "metadata": {},
   "outputs": [
    {
     "data": {
      "text/html": [
       "<div>\n",
       "<style scoped>\n",
       "    .dataframe tbody tr th:only-of-type {\n",
       "        vertical-align: middle;\n",
       "    }\n",
       "\n",
       "    .dataframe tbody tr th {\n",
       "        vertical-align: top;\n",
       "    }\n",
       "\n",
       "    .dataframe thead th {\n",
       "        text-align: right;\n",
       "    }\n",
       "</style>\n",
       "<table border=\"1\" class=\"dataframe\">\n",
       "  <thead>\n",
       "    <tr style=\"text-align: right;\">\n",
       "      <th></th>\n",
       "      <th>Latitude</th>\n",
       "      <th>Longitude</th>\n",
       "      <th>ID</th>\n",
       "      <th>FSGName</th>\n",
       "      <th>TonsPerWeek</th>\n",
       "      <th>TYPE1</th>\n",
       "      <th>TYPE2</th>\n",
       "      <th>TYPE3</th>\n",
       "      <th>Address</th>\n",
       "      <th>Town</th>\n",
       "      <th>County</th>\n",
       "      <th>Zip</th>\n",
       "    </tr>\n",
       "  </thead>\n",
       "  <tbody>\n",
       "    <tr>\n",
       "      <th>0</th>\n",
       "      <td>43.454391</td>\n",
       "      <td>-72.409799</td>\n",
       "      <td>1</td>\n",
       "      <td>BROOKHAVEN CATERER</td>\n",
       "      <td>0.050</td>\n",
       "      <td>Food Establishment</td>\n",
       "      <td>Caterer</td>\n",
       "      <td>NaN</td>\n",
       "      <td>1470 ROUTE 44</td>\n",
       "      <td>WINDSOR</td>\n",
       "      <td>WINDSOR</td>\n",
       "      <td>05089</td>\n",
       "    </tr>\n",
       "    <tr>\n",
       "      <th>1</th>\n",
       "      <td>43.492291</td>\n",
       "      <td>-72.394699</td>\n",
       "      <td>2</td>\n",
       "      <td>VERMONT WHOLE FOODS CATERING</td>\n",
       "      <td>0.050</td>\n",
       "      <td>Food Establishment</td>\n",
       "      <td>Caterer</td>\n",
       "      <td>NaN</td>\n",
       "      <td>153 PEMBROKE RD</td>\n",
       "      <td>WINDSOR</td>\n",
       "      <td>WINDSOR</td>\n",
       "      <td>05089</td>\n",
       "    </tr>\n",
       "    <tr>\n",
       "      <th>2</th>\n",
       "      <td>43.492291</td>\n",
       "      <td>-72.394699</td>\n",
       "      <td>3</td>\n",
       "      <td>JUNIPER HILL INN</td>\n",
       "      <td>0.735</td>\n",
       "      <td>Food Establishment</td>\n",
       "      <td>Restaurant</td>\n",
       "      <td>NaN</td>\n",
       "      <td>153 PEMBROKE ROAD</td>\n",
       "      <td>WINDSOR</td>\n",
       "      <td>WINDSOR</td>\n",
       "      <td>05089</td>\n",
       "    </tr>\n",
       "    <tr>\n",
       "      <th>3</th>\n",
       "      <td>43.476891</td>\n",
       "      <td>-72.388099</td>\n",
       "      <td>4</td>\n",
       "      <td>WINDSOR ELKS BPO LODGE 1665</td>\n",
       "      <td>1.680</td>\n",
       "      <td>Food Establishment</td>\n",
       "      <td>Restaurant</td>\n",
       "      <td>NaN</td>\n",
       "      <td>156 MAIN ST</td>\n",
       "      <td>WINDSOR</td>\n",
       "      <td>WINDSOR</td>\n",
       "      <td>05089</td>\n",
       "    </tr>\n",
       "    <tr>\n",
       "      <th>4</th>\n",
       "      <td>43.501991</td>\n",
       "      <td>-72.392599</td>\n",
       "      <td>5</td>\n",
       "      <td>JOHN P LARKIN COUNTRY CLUB</td>\n",
       "      <td>0.945</td>\n",
       "      <td>Food Establishment</td>\n",
       "      <td>Restaurant</td>\n",
       "      <td>NaN</td>\n",
       "      <td>1571 ROUTE 5 NORTH</td>\n",
       "      <td>WINDSOR</td>\n",
       "      <td>WINDSOR</td>\n",
       "      <td>05089</td>\n",
       "    </tr>\n",
       "  </tbody>\n",
       "</table>\n",
       "</div>"
      ],
      "text/plain": [
       "    Latitude  Longitude  ID                       FSGName  TonsPerWeek  \\\n",
       "0  43.454391 -72.409799   1            BROOKHAVEN CATERER        0.050   \n",
       "1  43.492291 -72.394699   2  VERMONT WHOLE FOODS CATERING        0.050   \n",
       "2  43.492291 -72.394699   3              JUNIPER HILL INN        0.735   \n",
       "3  43.476891 -72.388099   4   WINDSOR ELKS BPO LODGE 1665        1.680   \n",
       "4  43.501991 -72.392599   5    JOHN P LARKIN COUNTRY CLUB        0.945   \n",
       "\n",
       "                TYPE1       TYPE2 TYPE3             Address     Town   County  \\\n",
       "0  Food Establishment     Caterer   NaN       1470 ROUTE 44  WINDSOR  WINDSOR   \n",
       "1  Food Establishment     Caterer   NaN     153 PEMBROKE RD  WINDSOR  WINDSOR   \n",
       "2  Food Establishment  Restaurant   NaN   153 PEMBROKE ROAD  WINDSOR  WINDSOR   \n",
       "3  Food Establishment  Restaurant   NaN         156 MAIN ST  WINDSOR  WINDSOR   \n",
       "4  Food Establishment  Restaurant   NaN  1571 ROUTE 5 NORTH  WINDSOR  WINDSOR   \n",
       "\n",
       "     Zip  \n",
       "0  05089  \n",
       "1  05089  \n",
       "2  05089  \n",
       "3  05089  \n",
       "4  05089  "
      ]
     },
     "execution_count": 17,
     "metadata": {},
     "output_type": "execute_result"
    }
   ],
   "source": [
    "conversion_df = df[[\"X\",\"Y\"]]\n",
    "conversion_df.to_csv(\"food_sources_locs_EPSG32145.csv\", header=False, index=False)\n",
    "converted_df = pd.read_csv(\"food_sources_locs_latlon.csv\")\n",
    "lat_lon = converted_df.filter(items=['Latitude','Longitude'])\n",
    "df_lat_lon = lat_lon.join(df)\n",
    "df_lat_lon.drop(labels=['X','Y'], axis=1, inplace=True)\n",
    "df_lat_lon.head()"
   ]
  },
  {
   "cell_type": "code",
   "execution_count": 18,
   "metadata": {},
   "outputs": [
    {
     "data": {
      "text/plain": [
       "Restaurant           2379\n",
       "Grocery               458\n",
       "Convenience Store     269\n",
       "Name: TYPE2, dtype: int64"
      ]
     },
     "execution_count": 18,
     "metadata": {},
     "output_type": "execute_result"
    }
   ],
   "source": [
    "df_lat_lon.dropna(subset=['TYPE2'], inplace=True)\n",
    "our_sources_df = df_lat_lon[df_lat_lon['TYPE2'].isin(['Restaurant','Convenience Store','Grocery'])]\n",
    "our_sources_df.TYPE2.value_counts()"
   ]
  },
  {
   "cell_type": "code",
   "execution_count": 19,
   "metadata": {},
   "outputs": [
    {
     "data": {
      "application/vnd.plotly.v1+json": {
       "config": {
        "plotlyServerURL": "https://plot.ly"
       },
       "data": [
        {
         "customdata": [
          [
           "153 PEMBROKE ROAD"
          ],
          [
           "156 MAIN ST"
          ],
          [
           "1571 ROUTE 5 NORTH"
          ],
          [
           "2066 ROUTE 5 N"
          ],
          [
           "2066 VT RT 5 N"
          ],
          [
           "3 ARTISANS WAY"
          ],
          [
           "336 RUTH CARNEY DR"
          ],
          [
           "7 STATE ST"
          ],
          [
           "70 MAIN ST"
          ],
          [
           "70 MAIN ST"
          ],
          [
           "71 ARTISANS WAY"
          ],
          [
           "74 MAIN ST"
          ],
          [
           "88 MAIN ST"
          ],
          [
           "4800 SOUTH RD"
          ],
          [
           "14 THE GREEN"
          ],
          [
           "24 ELM ST"
          ],
          [
           "3 ELM ST"
          ],
          [
           "31 SOUTH ST"
          ],
          [
           "33 CENTRAL ST"
          ],
          [
           "43 PLEASANT ST"
          ],
          [
           "442 WOODSTOCK RD"
          ],
          [
           "462 WOODSTOCK RD"
          ],
          [
           "49 CENTRAL STREET"
          ],
          [
           "21710 Maxham Meadow Way STE 101D"
          ],
          [
           "61 CENTRAL ST"
          ],
          [
           "61 PLEASANT ST"
          ],
          [
           "450 WOODSTOCK RD"
          ],
          [
           "66 PLEASANT ST"
          ],
          [
           "28 Central  ST"
          ],
          [
           "71 CENTRAL ST"
          ],
          [
           "40 RANDOLPH AV"
          ],
          [
           "48 MAIN STREET"
          ],
          [
           "48 RANDOLPH AVE"
          ],
          [
           "50 RANDOLPH AV"
          ],
          [
           "50 RANDOLPH AVE"
          ],
          [
           "665 STOCK FARM ROAD"
          ],
          [
           "8 PROSPECT AV"
          ],
          [
           "2 Salisbury  ST"
          ],
          [
           "232 ROUTE 132"
          ],
          [
           "7 BROOK RD"
          ],
          [
           "3052 ROUTE 5"
          ],
          [
           "246 VT ROUTE 25"
          ],
          [
           "110 BUSINESS CENTER RD"
          ],
          [
           "2374 ROUTE 14"
          ],
          [
           "34 BUSINESS CENTER RD"
          ],
          [
           "6722 ROUTE 14"
          ],
          [
           "14 GLOVER RD"
          ],
          [
           "3098 BARTON-ORLEANS RD"
          ],
          [
           "548 TELFER HILL RD"
          ],
          [
           "67 MAIN ST"
          ],
          [
           "72 CHURCH ST"
          ],
          [
           "2628 AIRPORT ROAD"
          ],
          [
           "1037 S CRAFTSBURY ROAD"
          ],
          [
           "107 SO CRAFTSBURY RD"
          ],
          [
           "1162 N CRAFTSBURY RD"
          ],
          [
           "468 MILL VILLAGE ROAD"
          ],
          [
           "1928 US ROUTE 5"
          ],
          [
           "2005 HERRICK RD"
          ],
          [
           "3004 ROUTE 5"
          ],
          [
           "3032 US ROUTE 5"
          ],
          [
           "3111 ROUTE 5"
          ],
          [
           "3111 US ROUTE 5"
          ],
          [
           "3131 US ROUTE 5"
          ],
          [
           "3300 US ROUTE 5"
          ],
          [
           "3319 ROUTE 5"
          ],
          [
           "3922 ROUTE 5"
          ],
          [
           "4267 US ROUTE 5"
          ],
          [
           "4278 US ROUTE 5"
          ],
          [
           "43 MAIN STREET"
          ],
          [
           "4397 US ROUTE 5"
          ],
          [
           "4486 US ROUTE 5"
          ],
          [
           "4503 US ROUTE 5"
          ],
          [
           "4558 US ROUTE 5"
          ],
          [
           "502 MAIN STREET"
          ],
          [
           "5043 US ROUTE 5"
          ],
          [
           "43 Main  ST"
          ],
          [
           "72 COMMONS DR UNIT 30"
          ],
          [
           "2984 Glover  ST"
          ],
          [
           "2985 GLOVER ST"
          ],
          [
           "2985 GLOVER ST"
          ],
          [
           "316 DRY POND ROAD"
          ],
          [
           "295 BREEZY AV"
          ],
          [
           "316 COUNTRY CLUB RD"
          ],
          [
           "767 MAIN ST"
          ],
          [
           "4549 ROUTE 5"
          ],
          [
           "4775 ROUTE 5"
          ],
          [
           "4862 ROUTE 14"
          ],
          [
           "1077 VT ROUTE 242"
          ],
          [
           "3866 ROUTE 242"
          ],
          [
           "4434 ROUTE 242"
          ],
          [
           "JAY PEAK  RD"
          ],
          [
           "4850 ROUTE 242"
          ],
          [
           "79 WEST BOWL RD"
          ],
          [
           "77 TRAILSIDE RD"
          ],
          [
           "80 TRAILSIDE RD"
          ],
          [
           "80 TRAILSIDE ROAD"
          ],
          [
           "80 TRAILSIDE RD"
          ],
          [
           "80 TRAILSIDE RD"
          ],
          [
           "830 JAY PEAK RD"
          ],
          [
           "830 W JAY ROAD"
          ],
          [
           "ROUTE 242"
          ],
          [
           "1594 VT ROUTE 100"
          ],
          [
           "3010 ROUTE 100"
          ],
          [
           "POPE ROAD"
          ],
          [
           "0 FYFE DR"
          ],
          [
           "125 MAIN STREET"
          ],
          [
           "1477 DERBY ROAD"
          ],
          [
           "158 MAIN ST"
          ],
          [
           "1724 E MAIN ST"
          ],
          [
           "1724 E MAIN ST"
          ],
          [
           "181 MAIN ST"
          ],
          [
           "194 MAIN ST STE 104"
          ],
          [
           "33 RAILROAD SQUARE"
          ],
          [
           "33 VT ROUTE 105"
          ],
          [
           "364 MAIN ST"
          ],
          [
           "4503 U.S. ROUTE 5"
          ],
          [
           "59 WATERFRONT PLAZA STE 7"
          ],
          [
           "590 MOUNT VERNON ST"
          ],
          [
           "1688 VT RT 105"
          ],
          [
           "96 WESTERN AVE"
          ],
          [
           "100 MAIN ST STE 200"
          ],
          [
           "100 SECOND ST"
          ],
          [
           "127 MAIN ST"
          ],
          [
           "158 MAIN ST"
          ],
          [
           "1724 E MAIN ST"
          ],
          [
           "187 WATERFRONT PLZ"
          ],
          [
           "222 MAIN ST"
          ],
          [
           "350 EAST MAIN ST"
          ],
          [
           "388 EAST MAIN ST"
          ],
          [
           "398 WESTERN AV"
          ],
          [
           "47 LANDING ST"
          ],
          [
           "501 PLEASANT ST"
          ],
          [
           "501 PLEASANT ST"
          ],
          [
           "523 CLYDE ST"
          ],
          [
           "590 MOUNT VERNON ST"
          ],
          [
           "4212 VERMONT ROUTE 105"
          ],
          [
           "193 EAST MAIN ST"
          ],
          [
           "35 ROUTE 243"
          ],
          [
           "21 PROSPECT ST"
          ],
          [
           "25 RAILROAD AVE"
          ],
          [
           "316 COUNTRY CLUB LN"
          ],
          [
           "4332 BARTON ORLEANS RD"
          ],
          [
           "1078 VERMONT ROUTE 242"
          ],
          [
           "118 ROUTE 242"
          ],
          [
           "179 RAILROAD ST"
          ],
          [
           "20 RAILROAD ST"
          ],
          [
           "17 WINTER CT"
          ],
          [
           "19 ELLIOT ST"
          ],
          [
           "192 PUTNEY ROAD"
          ],
          [
           "2 MAIN ST"
          ],
          [
           "209 CANAL ST"
          ],
          [
           "228 CANAL ST"
          ],
          [
           "231 MAIN ST"
          ],
          [
           "254 MARLBORO RD"
          ],
          [
           "28 SPRING TREE ROAD"
          ],
          [
           "28 SPRINGTREE RD"
          ],
          [
           "2582 SOUTH RD"
          ],
          [
           "29 HIGH ST"
          ],
          [
           "39 MAIN ST"
          ],
          [
           "30 MAIN ST"
          ],
          [
           "32 ELLIOT ST"
          ],
          [
           "32 LINDEN ST"
          ],
          [
           "328 MARLBORO RD"
          ],
          [
           "52 SENATOR GANNETT DR"
          ],
          [
           "36 BRIDGE ST"
          ],
          [
           "36 BRIDGE ST"
          ],
          [
           "39 MAIN ST"
          ],
          [
           "4 HIGH ST"
          ],
          [
           "40 BLACK MT RD"
          ],
          [
           "419 CANAL ST"
          ],
          [
           "419 CANAL ST"
          ],
          [
           "45 CANAL STREET"
          ],
          [
           "460 CANAL ST"
          ],
          [
           "469 CANAL ST"
          ],
          [
           "487 MARLBORO RD"
          ],
          [
           "499 CANAL  ST UNIT 5"
          ],
          [
           "50 ELLIOT ST"
          ],
          [
           "51 HARRIS PL"
          ],
          [
           "51 MAIN ST"
          ],
          [
           "51 MAIN ST"
          ],
          [
           "54 CHICKERING DR"
          ],
          [
           "548 CANAL ST"
          ],
          [
           "563 S MAIN ST"
          ],
          [
           "57-61 MAIN ST"
          ],
          [
           "6 FLAT ST"
          ],
          [
           "648 PUTNEY RD"
          ],
          [
           "648 PUTNEY ROAD"
          ],
          [
           "7 HIGH ST"
          ],
          [
           "69-73 MAIN ST"
          ],
          [
           "747 PUTNEY RD"
          ],
          [
           "747 PUTNEY RD"
          ],
          [
           "75 ELLIOT ST"
          ],
          [
           "766 PUTNEY RD"
          ],
          [
           "766 PUTNEY RD UNIT 6"
          ],
          [
           "78 ELLIOT ST"
          ],
          [
           "78 SOUTH ST"
          ],
          [
           "801 PUTNEY RD"
          ],
          [
           "849 WESTERN AVENUE"
          ],
          [
           "865 PUTNEY RD"
          ],
          [
           "889 PUTNEY ROAD"
          ],
          [
           "889 PUTNEY RD"
          ],
          [
           "896 PUTNEY ROAD"
          ],
          [
           "896 PUTNEY ROAD"
          ],
          [
           "896 PUTNEY ROAD"
          ],
          [
           "911 WESTERN AV"
          ],
          [
           "145 ROUTE 100"
          ],
          [
           "148 ROUTE 100 UNIT E"
          ],
          [
           "15 TANNERY RD"
          ],
          [
           "171 ROUTE 100"
          ],
          [
           "178 ROUTE 100"
          ],
          [
           "178 RTE 100"
          ],
          [
           "19 MOUNT SNOW RD"
          ],
          [
           "1 MOUNTAIN PARK"
          ],
          [
           "21 MOUNT SNOW RD"
          ],
          [
           "248 ROUTE 100"
          ],
          [
           "259 ROUTE 100"
          ],
          [
           "267 ROUTE 100"
          ],
          [
           "271 ROUTE 100 N"
          ],
          [
           "284 ROUTE 100"
          ],
          [
           "323 ROUTE 100"
          ],
          [
           "324 ROUTE 100"
          ],
          [
           "332 VT ROUTE 100"
          ],
          [
           "294 HANDLE RD"
          ],
          [
           "39 MOUNT SNOW ROAD"
          ],
          [
           "21 GRAND SUMMIT WAY"
          ],
          [
           "401 VT ROUTE 100"
          ],
          [
           "7 CROSSTOWN RD"
          ],
          [
           "89 GRAND SUMMIT WAY"
          ],
          [
           "39  MOUNT SNOW RD"
          ],
          [
           "GRAND SUMMIT RESORT HOTEL & CENTER"
          ],
          [
           "162 Main  ST"
          ],
          [
           "55 TOWNSHEND RD"
          ],
          [
           "56 TOWNSHEND ROAD"
          ],
          [
           "475 COOLIDGE HIGHWAY"
          ],
          [
           "1778 COLLINS RD"
          ],
          [
           "106 VERMONT ROUTE 30"
          ],
          [
           "3863 VERMONT ROUTE 30"
          ],
          [
           "3894 MAIN ST"
          ],
          [
           "8811 VT Route 30"
          ],
          [
           "8814 ROUTE 30"
          ],
          [
           "4071 RT 11"
          ],
          [
           "52 HEARTHSTONE LN"
          ],
          [
           "5700 VT ROUTE 100"
          ],
          [
           "5700 VT ROUTE 100"
          ],
          [
           "615 LITTLE POND RD"
          ],
          [
           "8 MELENDY HL"
          ],
          [
           "95 MIDDLETOWN RD"
          ],
          [
           "5383 ROUTE 9"
          ],
          [
           "1096 VT ROUTE 30"
          ],
          [
           "386 ROUTE 30"
          ],
          [
           "505 ROUTE 30"
          ],
          [
           "550 VT ROUTE 30"
          ],
          [
           "598 RTE 30"
          ],
          [
           "ROUTE 30"
          ],
          [
           "132 MAIN ST"
          ],
          [
           "133 MAIN ST"
          ],
          [
           "133 MAIN ST STE 1"
          ],
          [
           "26 BELLOWS FALLS RD"
          ],
          [
           "26 BELLOWS FALLS ROAD"
          ],
          [
           "3 BELLOWS FALLS ROAD"
          ],
          [
           "4  Kimball Hill RD"
          ],
          [
           "57 PUTNEY LANDING RD"
          ],
          [
           "55 PUTNEY LANDING RD"
          ],
          [
           "128 Main ST"
          ],
          [
           "8 CAROL BROWN WAY"
          ],
          [
           "111 ROCKINGHAM ST"
          ],
          [
           "117 ROCKINGHAM ST"
          ],
          [
           "124 ROCKINGHAM ST"
          ],
          [
           "124 ROCKINGHAM ST"
          ],
          [
           "16 SOUTH ST"
          ],
          [
           "23 CANAL ST"
          ],
          [
           "1 E MAIN ST"
          ],
          [
           "143 MAIN ST"
          ],
          [
           "205 MAIN ST"
          ],
          [
           "245 MAIN ST"
          ],
          [
           "25 MAIN ST"
          ],
          [
           "25 MAIN STREET"
          ],
          [
           "253 MAIN ST"
          ],
          [
           "2395 VT ROUTE 30"
          ],
          [
           "28 DEPOT ST"
          ],
          [
           "3034 ROUTE 30 S"
          ],
          [
           "21 NORTH ST"
          ],
          [
           "53 WEST ST"
          ],
          [
           "1 RUTLAND SHOPPING PLAZA"
          ],
          [
           "1 STRONGS AVE"
          ],
          [
           "11 TERRILL ST"
          ],
          [
           "100 DIAMOND RUN MALL PL"
          ],
          [
           "102 STRONGS AVE"
          ],
          [
           "106 WEST ST STE 2"
          ],
          [
           "113 US ROUTE 4"
          ],
          [
           "118 MERCHANTS ROW"
          ],
          [
           "12 CHITTENDEN ROAD"
          ],
          [
           "121 WEST ST"
          ],
          [
           "124 WOODSTOCK AVE"
          ],
          [
           "125 STATE ST"
          ],
          [
           "128 MERCHANTS ROW"
          ],
          [
           "131 WOODSTOCK AVE"
          ],
          [
           "132 LIBRARY AVE"
          ],
          [
           "134 WOODSTOCK AVE"
          ],
          [
           "136 Strongs  AVE"
          ],
          [
           "15 JACKSON AVE"
          ],
          [
           "153 S MAIN ST"
          ],
          [
           "155 WOODSTOCK AVE"
          ],
          [
           "157 Woodstock  AVE"
          ],
          [
           "159 S MAIN ST"
          ],
          [
           "165 US ROUTE 7"
          ],
          [
           "170 SOUTH MAIN ST"
          ],
          [
           "182 ROUTE 4 EAST"
          ],
          [
           "195 WOODSTOCK AVE"
          ],
          [
           "195 WOODSTOCK AVE"
          ],
          [
           "21 N MAIN ST"
          ],
          [
           "215 WOODSTOCK AV"
          ],
          [
           "217 N MAIN ST"
          ],
          [
           "217 WOODSTOCK AVE"
          ],
          [
           "224 NORTH MAIN ST"
          ],
          [
           "225 WOODSTOCK AVE"
          ],
          [
           "23 CENTER ST"
          ],
          [
           "23 CENTER ST"
          ],
          [
           "24 JOURNEYS END"
          ],
          [
           "24 MERCHANTS ROW"
          ],
          [
           "24 MERCHANTS ROW"
          ],
          [
           "26 RUTLAND SHOPPING PLAZA"
          ],
          [
           "27 US ROUTE 4"
          ],
          [
           "29 N MAIN ST"
          ],
          [
           "275 GROVE ST"
          ],
          [
           "283 ROUTE 4"
          ],
          [
           "283 US ROUTE 4 EAST"
          ],
          [
           "288 US ROUTE 7 SOUTH"
          ],
          [
           "30 CENTER STREET"
          ],
          [
           "315 SOUTH MAIN ST"
          ],
          [
           "33 N MAIN ST"
          ],
          [
           "36 STRONGS AVE"
          ],
          [
           "361 S MAIN ST"
          ],
          [
           "40 CAMPBELL ROAD"
          ],
          [
           "45 FARRELL RD"
          ],
          [
           "46 DIAMOND RUN PL UNIT 100"
          ],
          [
           "47  Woodstock  AVE"
          ],
          [
           "48 CENTER ST"
          ],
          [
           "48 CENTER ST"
          ],
          [
           "55 WASHINGTON ST "
          ],
          [
           "52 CRESCENT ST"
          ],
          [
           "559 US ROUTE 7 SOUTH"
          ],
          [
           "55-57 MERCHANTS ROW"
          ],
          [
           "68 STRONGS AVE"
          ],
          [
           "825 ROUTE 7 S"
          ],
          [
           "86 STRONGS AVENUE"
          ],
          [
           "87 STATE STREET"
          ],
          [
           "87 STATE STREET"
          ],
          [
           "91 STATE ST"
          ],
          [
           "93 STATE ST"
          ],
          [
           "96 STRONGS AVENUE"
          ],
          [
           "97 STATE STREET"
          ],
          [
           "98 MERCHANTS ROW"
          ],
          [
           "175 S MAIN ST"
          ],
          [
           "1 SCALE AVE"
          ],
          [
           "101-103 MERCHANTS ROW"
          ],
          [
           "42 WALES ST, # 12"
          ],
          [
           "147 STATE ST"
          ],
          [
           "148 STATE ST"
          ],
          [
           "159 SOUTH MAIN ST"
          ],
          [
           "197 WEST ST"
          ],
          [
           "2 CENTER ST"
          ],
          [
           "200 S MAIN ST"
          ],
          [
           "24 TERRILL ST"
          ],
          [
           "24 WALES ST"
          ],
          [
           "44 CENTER ST"
          ],
          [
           "26 RUTLAND SHOPPING PLZ"
          ],
          [
           "271 NORTH MAIN ST"
          ],
          [
           "38 WALES ST"
          ],
          [
           "389 West  ST"
          ],
          [
           "56 STRONGS AVE"
          ],
          [
           "62 MERCHANTS ROW"
          ],
          [
           "8 STRATTON RD"
          ],
          [
           "86 STRONGS AV"
          ],
          [
           "88 MERCHANTS ROW"
          ],
          [
           "5446 VT ROUTE 103"
          ],
          [
           "12 MCNAMARA ROAD"
          ],
          [
           "1774 US 7 SOUTH"
          ],
          [
           "5 MAIN ST"
          ],
          [
           "5 N MAIN ST"
          ],
          [
           "580 VT ROUTE 140"
          ],
          [
           "224 ROUTE 22A"
          ],
          [
           "654 ROUTE 22A"
          ],
          [
           "100 MAIN ST"
          ],
          [
           "100 MAIN ST"
          ],
          [
           "149 MARBLE ST"
          ],
          [
           "179 MARBLE STREET"
          ],
          [
           "355 MAIN ST"
          ],
          [
           "416 MAIN ST"
          ],
          [
           "416 MAIN STREET"
          ],
          [
           "458 MAIN ST"
          ],
          [
           "194 THE LN"
          ],
          [
           "1 RIVER RD"
          ],
          [
           "103 WINHALL HOLLOW RD"
          ],
          [
           "11 AMEDEN RD"
          ],
          [
           "ROUTE 5"
          ],
          [
           "223 SHERBURNE LODGE RD"
          ],
          [
           "3799 ROUTE 5"
          ],
          [
           "466 ROUTE 114"
          ],
          [
           "3383 DARLING HILL RD"
          ],
          [
           "12 VT ROUTE 15"
          ],
          [
           "20 HILL ST"
          ],
          [
           "46 HILL ST"
          ],
          [
           "59 PARKER RD"
          ],
          [
           "570 E BURKE RD"
          ],
          [
           "1261 ROUTE 302"
          ],
          [
           "2967 SCOTT HIGHWAY"
          ],
          [
           "GROTON STATE FOREST"
          ],
          [
           "19 MAIN STREET"
          ],
          [
           "333 RT 14"
          ],
          [
           "387 WOLCOTT ST"
          ],
          [
           "75 SOUTH MAIN ST"
          ],
          [
           "87 SOUTH MAIN ST"
          ],
          [
           "87 US ROUTE 2"
          ],
          [
           "1000 BROAD ST"
          ],
          [
           "1000 BROAD STREET"
          ],
          [
           "1001 COLLEGE ROAD"
          ],
          [
           "110 BROAD ST"
          ],
          [
           "128 MAIN ST"
          ],
          [
           "17 DEPOT ST"
          ],
          [
           "2059 DARLING HILL ROAD"
          ],
          [
           "21 DEPOT ST"
          ],
          [
           "2601 MOUNTAIN RD"
          ],
          [
           "45 BROAD ST"
          ],
          [
           "58 BROAD ST"
          ],
          [
           "5849 S WHEELOCK RD"
          ],
          [
           "60 DEPOT ST"
          ],
          [
           "626 BROAD ST"
          ],
          [
           "6583 MEMORIAL DR"
          ],
          [
           "686 BROAD ST"
          ],
          [
           "774 MAIN ST"
          ],
          [
           "801 CENTER STREET"
          ],
          [
           "93 MAIN ST"
          ],
          [
           "947 BROAD ST"
          ],
          [
           "1580 LILY POND RD"
          ],
          [
           "ROUTE 5"
          ],
          [
           "1001 COLLEGE RD"
          ],
          [
           "1001 COLLEGE RD"
          ],
          [
           "293 HILL ST"
          ],
          [
           "45 DEPOT STREET"
          ],
          [
           "626 BROAD ST"
          ],
          [
           "53 TRI TOWN RD"
          ],
          [
           "GRANDEY ROAD"
          ],
          [
           "1183 ROUTE 125"
          ],
          [
           "8053 VT ROUTE 125"
          ],
          [
           "16 MAIN ST"
          ],
          [
           "17 MAIN ST"
          ],
          [
           "1858 ROUTE 17"
          ],
          [
           "1868 N 116 RD"
          ],
          [
           "24 MAIN ST"
          ],
          [
           "25 MOUNTAIN VIEW STREET"
          ],
          [
           "382 HEWITT ROAD"
          ],
          [
           "5 MAIN ST"
          ],
          [
           "56 AIRPORT DR"
          ],
          [
           "567 ROCKY DALE RD"
          ],
          [
           "8 MAIN ST"
          ],
          [
           "3958 ROUTE 30"
          ],
          [
           "232 HARBOR DR"
          ],
          [
           "5371 ROUTE 7"
          ],
          [
           "4800 BASIN HARBOR RD"
          ],
          [
           "34 BUFFALO FARM RD"
          ],
          [
           "3 VT ROUTE 125"
          ],
          [
           "80 BULL RUN RD"
          ],
          [
           "1 BAKERY LN"
          ],
          [
           "10 WASHINGTON ST"
          ],
          [
           "22 MERCHANTS ROW"
          ],
          [
           "11 WASHINGTON ST"
          ],
          [
           "111 MAPLE ST"
          ],
          [
           "137 MAPLE ST STE 29F"
          ],
          [
           "137 MAPLE ST"
          ],
          [
           "14 COLLEGE ST"
          ],
          [
           "1499 ROUTE 7 S"
          ],
          [
           "1499 US ROUTE 7"
          ],
          [
           "16 COURT ST"
          ],
          [
           "20 SEYMOUR ST"
          ],
          [
           "217 GOLF COURSE RD"
          ],
          [
           "22 MERCHANTS ROW"
          ],
          [
           "24 MERCHANTS ROW"
          ],
          [
           "25 BAKERY LN"
          ],
          [
           "26 SEYMOUR ST"
          ],
          [
           "280 COURT ST"
          ],
          [
           "3 MILL ST"
          ],
          [
           "40 COURT ST STE 4"
          ],
          [
           "5 BAKERY LN"
          ],
          [
           "51 MAIN ST"
          ],
          [
           "52 MERCHANTS ROW"
          ],
          [
           "54 COLLEGE ST"
          ],
          [
           "54 COLLEGE ST"
          ],
          [
           "56 COLLEGE STREET"
          ],
          [
           "60 N PLEASANT ST"
          ],
          [
           "610 US ROUTE 7"
          ],
          [
           "68 SOUTH PLEASANT ST"
          ],
          [
           "793 EXCHANGE ST"
          ],
          [
           "82 BIRCHARD PARK"
          ],
          [
           "86 MAIN ST"
          ],
          [
           "886 ROUTE 7 SOUTH"
          ],
          [
           "99 MAPLE ST"
          ],
          [
           "51 CHARLES AVE"
          ],
          [
           "51 CHARLES AVE"
          ],
          [
           "160 HMKL WAY"
          ],
          [
           "14 Old Chapel  RD"
          ],
          [
           "229 PINEY WOODS ROAD"
          ],
          [
           "5356 ETHAN ALLEN HWY"
          ],
          [
           "550 MAIN ST"
          ],
          [
           "550 MAIN STREET"
          ],
          [
           "73 MAIN ST"
          ],
          [
           "PO BOX 4"
          ],
          [
           "1192 VT ROUTE 125"
          ],
          [
           "1588 LAKE DUNMORE RD"
          ],
          [
           "70 DEWEY RD"
          ],
          [
           "937 W SHORE RD"
          ],
          [
           "2949 ROUTE 22A"
          ],
          [
           "450 VT ROUTE 22A"
          ],
          [
           "394 STATES PRISON HOLLOW RD"
          ],
          [
           "113 MONKTON RD STE 8"
          ],
          [
           "14 GREEN ST"
          ],
          [
           "193 MAIN ST"
          ],
          [
           "161 MAIN ST"
          ],
          [
           "253 MAIN ST"
          ],
          [
           "3 N GREEN ST"
          ],
          [
           "35 C GREEN ST"
          ],
          [
           "4800 BASIN HARBOR ROAD"
          ],
          [
           "6035 VT ROUTE 17"
          ],
          [
           "67 NEW HAVEN RD"
          ],
          [
           "8013 VT RT 17"
          ],
          [
           "94 W MAIN ST"
          ],
          [
           "29 Sugar Shack LN"
          ],
          [
           "3158 VT ROUTE 7A"
          ],
          [
           "5403 VT ROUTE 7A"
          ],
          [
           "663 BROAD ST"
          ],
          [
           "2080 SCHOOLHOUSE RD"
          ],
          [
           "1886 RYEGATE RD"
          ],
          [
           "10 EASTERN AV"
          ],
          [
           "1000 MAIN ST"
          ],
          [
           "1009 Memorial  DR"
          ],
          [
           "1049 MEMORIAL DR"
          ],
          [
           "1049 MEMORIAL DR"
          ],
          [
           "4357 Memorial  DR"
          ],
          [
           "1112 MEMORIAL DR"
          ],
          [
           "115 EASTERN AVE"
          ],
          [
           "118 WESTERN AVE"
          ],
          [
           "1187 MAIN ST"
          ],
          [
           "1216 MAIN ST"
          ],
          [
           "1216 RAILROAD ST"
          ],
          [
           "1216 RAILROAD AVE"
          ],
          [
           "1216 RAILROAD ST SUITE #6"
          ],
          [
           "169 RAILROAD ST"
          ],
          [
           "1786 MEMORIAL DR"
          ],
          [
           "2000 MEMORIAL DRIVE"
          ],
          [
           "2000 MEMORIAL DRIVE"
          ],
          [
           "205 HASTINGS HIL"
          ],
          [
           "25 DEPOT  SQ"
          ],
          [
           "26 RAILROAD ST"
          ],
          [
           "264 PORTLAND ST"
          ],
          [
           "264 PORTLAND ST"
          ],
          [
           "275 RAILROAD STREET"
          ],
          [
           "287 PORTLAND ST"
          ],
          [
           "287 PORTLAND STREET"
          ],
          [
           "33 EASTERN AVE"
          ],
          [
           "378 RAILROAD ST STE 3"
          ],
          [
           "378 RAILROAD ST STE 1"
          ],
          [
           "394 RAILROAD ST"
          ],
          [
           "394 RAILROAD ST"
          ],
          [
           "46 ROUTE 18"
          ],
          [
           "50 RAILROAD ST"
          ],
          [
           "580 PORTLAND ST"
          ],
          [
           "94 EASTERN AVE"
          ],
          [
           "98 MILL ST"
          ],
          [
           "985 MEMORIAL DRIVE"
          ],
          [
           "3324 NASHVILLE RD"
          ],
          [
           "4010 BOLTON VALLEY ACCESS RD"
          ],
          [
           "4302 BOLTON ACCESS RD"
          ],
          [
           "4302 BOLTON VLY ACCESS RD"
          ],
          [
           "4302 BOLTON VLY ACCESS RD"
          ],
          [
           "4302 BOLTON VLY ACCESS RD"
          ],
          [
           "4302 BOLTON VLY ACCESS RD"
          ],
          [
           "1 COLLEGE ST"
          ],
          [
           "1 COLLEGE STREET"
          ],
          [
           "1 HOWARD STREET"
          ],
          [
           "1 KING ST"
          ],
          [
           "1 KING STREET"
          ],
          [
           "1 LAWSON LN STOP 120"
          ],
          [
           "1 LAWSON LANE"
          ],
          [
           "103 CHURCH ST"
          ],
          [
           "103 SHELBURNE RD"
          ],
          [
           "108 CHERRY ST"
          ],
          [
           "11 Henry  ST"
          ],
          [
           "1 S PROSPECT ST"
          ],
          [
           "111 COLCHESTER AVE"
          ],
          [
           "112 LAKE ST"
          ],
          [
           "1127 NORTH AVE UNIT 23"
          ],
          [
           "1127 NORTH AVE STE 20"
          ],
          [
           "1130 NORTH AVE"
          ],
          [
           "1130 NORTH AVE"
          ],
          [
           "633 N MAIN ST"
          ],
          [
           "290 FERRY RD"
          ],
          [
           "3620 GREENBUSH RD"
          ],
          [
           "ROUTE 7"
          ],
          [
           "1 ROOSEVELT HWY"
          ],
          [
           "1072 LAKESHORE DR"
          ],
          [
           "116 MAIN ST"
          ],
          [
           "127 PORTERS POINT RD"
          ],
          [
           "127 PORTERS POINT RD STE 3"
          ],
          [
           "133 HEINEBERG DR"
          ],
          [
           "164 PORTERS POINT RD"
          ],
          [
           "164 PORTERS POINT RD"
          ],
          [
           "21 SEVERANCE ROAD"
          ],
          [
           "215 LOWER MOUNTAIN VIEW DR"
          ],
          [
           "218 LOWER MOUNTAIN VIEW DR"
          ],
          [
           "261 MOUNTAIN VIEW DR"
          ],
          [
           "133 BROADACRES DR"
          ],
          [
           "29 COLLEGE PKWY"
          ],
          [
           "292 LAKESHORE DRIVE"
          ],
          [
           "33 SOUTH PARK DR"
          ],
          [
           "38 LOWER MOUNTAIN VIEW DR"
          ],
          [
           "411 SHORE ACRES D"
          ],
          [
           "414 ROOSEVELT HWY"
          ],
          [
           "79 HEINEBURG DR"
          ],
          [
           "46 HIGH POINT CENTER"
          ],
          [
           "453 CHURCH RD"
          ],
          [
           "49 HEINEBERG DR"
          ],
          [
           "49 HEINEBERG DRIVE"
          ],
          [
           "49 HEINEBERG DRIVE"
          ],
          [
           "49 HEINEBURG RD"
          ],
          [
           "49 HEINEBURG RD"
          ],
          [
           "156 ROOSEVELT HWY"
          ],
          [
           "6 ROOSEVELT HIGHWAY"
          ],
          [
           "600 MOUNTAIN VIEW DR"
          ],
          [
           "70 ROOSEVELT HWY"
          ],
          [
           "44 SOUTH PARK DR"
          ],
          [
           "794 W LAKESHORE DR"
          ],
          [
           "85 S PARK DR"
          ],
          [
           "97  Blakely  RD"
          ],
          [
           "973 ROOSEVELT HIGHWAY STE 2"
          ],
          [
           "1 David DR"
          ],
          [
           "1 MARKET PL"
          ],
          [
           "110 PEARL ST"
          ],
          [
           "112 CENTER RD"
          ],
          [
           "12 RAILROAD AV"
          ],
          [
           "137 PEARL ST"
          ],
          [
           "17 PARK ST"
          ],
          [
           "2 EDUCATIONAL DR"
          ],
          [
           "2 EDUCATIONAL DR"
          ],
          [
           "2 SENECA AV"
          ],
          [
           "21 ESSEX WY"
          ],
          [
           "26 SUSIE WILSON RD"
          ],
          [
           "332 OLD STAGE RD"
          ],
          [
           "4 CARMICHAEL ST STE 102"
          ],
          [
           "4 PK ST"
          ],
          [
           "5 CARMICHAEL ST STE 2"
          ],
          [
           "51 UPPER MAIN ST"
          ],
          [
           "70 ESSEX WY"
          ],
          [
           "71 UPPER MAIN ST"
          ],
          [
           "75 MAPLE ST"
          ],
          [
           "90 CENTER RD"
          ],
          [
           "90 OLD PUMP RD"
          ],
          [
           "97 PEARL ST"
          ],
          [
           "1 MARKET PLACE, BLDG 1 STE 13"
          ],
          [
           "1 MARKETPLACE SUITE 13"
          ],
          [
           "10 KELLOGG ROAD SUITE 127"
          ],
          [
           "1000 RIVER ST"
          ],
          [
           "106 PEARL ST"
          ],
          [
           "12 RAILROAD AVE"
          ],
          [
           "126 PEARL ST"
          ],
          [
           "2 CARMICHAEL ST"
          ],
          [
           "159 PEARL ST"
          ],
          [
           "16 MAIN ST"
          ],
          [
           "163 PEARL ST"
          ],
          [
           "58 PEARL ST STE A"
          ],
          [
           "2 CARMICHAEL ST"
          ],
          [
           "21 ESSEX WAY"
          ],
          [
           "21 ESSEX WAY STE 210"
          ],
          [
           "24 GREENBRIAR DR"
          ],
          [
           "34 PARK ST UNIT 8"
          ],
          [
           "35 MAIN ST"
          ],
          [
           "35 MAIN STREET"
          ],
          [
           "38 PARK ST"
          ],
          [
           "39 PARK ST UNIT A"
          ],
          [
           "39 RIVER RD STE 1"
          ],
          [
           "4 CARMICHAEL ST"
          ],
          [
           "4 LINCOLN PLACE"
          ],
          [
           "4 PARK ST"
          ],
          [
           "50 SUSIE WILSON RD"
          ],
          [
           "60 PEARL ST"
          ],
          [
           "7 PINECREST DR"
          ],
          [
           "9 PARK ST"
          ],
          [
           "90 CENTER RD"
          ],
          [
           "99 PEARL ST"
          ],
          [
           "10240 VT ROUTE 116"
          ],
          [
           "10516 ROUTE 116 STE 6A"
          ],
          [
           "10805 ROUTE 116"
          ],
          [
           "10997 VT ROUTE 116"
          ],
          [
           "110 RIGGS ROAD"
          ],
          [
           "13020 ROUTE 116"
          ],
          [
           "17 BALLARDS CORNER  RD"
          ],
          [
           "22 COMMERCE ST UNIT 6"
          ],
          [
           "22 COMMERCE ST"
          ],
          [
           "84 RICHMOND RD"
          ],
          [
           "10805 VT ROUTE 116"
          ],
          [
           "104 BALLARDS CORNER RD"
          ],
          [
           "253  VT ROUTE 15"
          ],
          [
           "74 VERMONT ROUTE 15"
          ],
          [
           "45 VT ROUTE 15"
          ],
          [
           "105 RIVER ST"
          ],
          [
           "130 RIVER ST"
          ],
          [
           "167 Us Route 7  S"
          ],
          [
           "104 CORNERSTONE DR"
          ],
          [
           "11 TAFT CORNERS"
          ],
          [
           "121 CONNOR WAY"
          ],
          [
           "121 CONNOR WAY STE 160"
          ],
          [
           "121 CONNOR WAY STE 110"
          ],
          [
           "125 CYPRESS ST"
          ],
          [
           "1400 MOUNTAIN VIEW RD"
          ],
          [
           "1405 MAPLE TREE PLACE"
          ],
          [
           "166 SYCAMORE STREET"
          ],
          [
           "18 TAFT CORNERS"
          ],
          [
           "202 CORNERSTONE DR"
          ],
          [
           "2033 ESSEX RD"
          ],
          [
           "2121 ESSEX ROAD"
          ],
          [
           "28 WALNUT ST STE 140"
          ],
          [
           "28 WALNUT ST"
          ],
          [
           "3 TAFT CORNERS SHOPPING CTR"
          ],
          [
           "329 HARVEST LN STE 100"
          ],
          [
           "424 GOLF COURSE RD"
          ],
          [
           "300 Cornerstone DR STE 240"
          ],
          [
           "472 MARSHALL AVE"
          ],
          [
           "500 ESSEX RD"
          ],
          [
           "500 ESSEX RD"
          ],
          [
           "5085 WILLISTON RD"
          ],
          [
           "5876 WILLISTON RD"
          ],
          [
           "70 MARSHALL AVE"
          ],
          [
           "85 RETAIL WAY"
          ],
          [
           "863 HARVEST LN"
          ],
          [
           "1 EAST ALLEN STREET"
          ],
          [
           "13 WEST CENTER ST"
          ],
          [
           "165 EAST ALLEN ST"
          ],
          [
           "18 MALLETTS BAY AVE"
          ],
          [
           "19 EAST ALLEN ST"
          ],
          [
           "212 Main  ST"
          ],
          [
           "348 MAIN  ST UNIT 1"
          ],
          [
           "22 MAIN ST"
          ],
          [
           "24 MAIN ST"
          ],
          [
           "25 WINOOSKI FALLS WAY"
          ],
          [
           "28 MAIN ST"
          ],
          [
           "348 MAIN ST"
          ],
          [
           "28 MAIN ST"
          ],
          [
           "36 MAIN ST"
          ],
          [
           "36B MANSION STREET"
          ],
          [
           "38 MAIN ST"
          ],
          [
           "38 MAIN ST"
          ],
          [
           "46 MAIN ST STE C"
          ],
          [
           "476 MAIN ST"
          ],
          [
           "47  VT ROUTE 105"
          ],
          [
           "128 CROSS STREET"
          ],
          [
           "10 Cross  ST"
          ],
          [
           "24 MAIN ST"
          ],
          [
           "31 DERBY ST"
          ],
          [
           "69 CROSS ST"
          ],
          [
           "99 CROSS ST"
          ],
          [
           "DERBY ST"
          ],
          [
           "114 GALE ST"
          ],
          [
           "166 GALE STREET"
          ],
          [
           "213 JACKSON LODGE RD"
          ],
          [
           "1058 MAIN ST"
          ],
          [
           "1111 MAIN ST"
          ],
          [
           "661 ROUTE 2"
          ],
          [
           "7190 ROUTE 102"
          ],
          [
           "ROUTE 102"
          ],
          [
           "69 CROSS STREET"
          ],
          [
           "1282 VT-114, NORTON, VT 05907"
          ],
          [
           "7595 BOSTON POST RD"
          ],
          [
           "EAST BAKERSFIELD RD"
          ],
          [
           "ROUTE 108"
          ],
          [
           "1692 E BERKSHIRE RD"
          ],
          [
           "2879 ROUTE 105"
          ],
          [
           "13 DEPOT ST"
          ],
          [
           "162  Main  ST"
          ],
          [
           "2445 SAMPSONVILLE RD"
          ],
          [
           "264 MAIN ST"
          ],
          [
           "41 JAY VIEW DR"
          ],
          [
           "50 MAIN ST"
          ],
          [
           "518 PEARL ST"
          ],
          [
           "15 ELM ST"
          ],
          [
           "162 MAIN STREET"
          ],
          [
           "2393 SAMPSONVILLE RD"
          ],
          [
           "355 MAIN ST UNIT 1"
          ],
          [
           "385 MAIN STREET"
          ],
          [
           "88 MAIN ST"
          ],
          [
           "2463 LAKE ROAD"
          ],
          [
           "5243 MAIN ST"
          ],
          [
           "863 ETHAN ALLEN HIGHWAY"
          ],
          [
           "219 GORE RD"
          ],
          [
           "2865 ROUTE 78"
          ],
          [
           "14 AMADON RD"
          ],
          [
           "2057 N MAIN ST"
          ],
          [
           "3709 MOUNTAIN RD"
          ],
          [
           "72 MAIN ST"
          ],
          [
           "1036 S RICHFORD ROAD"
          ],
          [
           "243 S MAIN ST"
          ],
          [
           "249 GOLF COURSE RD"
          ],
          [
           "301 S MAIN ST"
          ],
          [
           "308 S MAIN ST"
          ],
          [
           "5 RIVER ST"
          ],
          [
           "5 RIVER ST"
          ],
          [
           "4232 ROUTE 105"
          ],
          [
           "6212 VT ROUTE 105"
          ],
          [
           "1 FEDERAL ST"
          ],
          [
           "10 CATHERINE ST"
          ],
          [
           "139 LAKE ST"
          ],
          [
           "139 N MAIN ST"
          ],
          [
           "159 US ROUTE 5"
          ],
          [
           "25 HARTWOOD WY"
          ],
          [
           "4 STATION RD"
          ],
          [
           "1-C LAMERE SQUARE"
          ],
          [
           "111 JACKSON GORE RD"
          ],
          [
           "111 JACKSON GORE RD"
          ],
          [
           "111 JACKSON GORE RD"
          ],
          [
           "117 MAIN ST"
          ],
          [
           "145 MAIN ST"
          ],
          [
           "13 PLEASANT STREET"
          ],
          [
           "14 MAIN ST"
          ],
          [
           "145 MAIN ST"
          ],
          [
           "146 MAIN ST"
          ],
          [
           "164 MAIN ST"
          ],
          [
           "190 MAIN  ST"
          ],
          [
           "1C LAMERE SQUARE"
          ],
          [
           "1-C LAMERE SQUARE"
          ],
          [
           "20 PLUMLEY AV"
          ],
          [
           "21 MAIN ST"
          ],
          [
           "1 LAMERe SQ UNIT B"
          ],
          [
           "26 MAIN ST"
          ],
          [
           "29 MAIN ST"
          ],
          [
           "29 MAIN STREET"
          ],
          [
           "31 ROUTE 103 S"
          ],
          [
           "31 ROUTE 103 S"
          ],
          [
           "31 ROUTE 103 SOUTH"
          ],
          [
           "41 DEPOT ST"
          ],
          [
           "41 DEPOT ST"
          ],
          [
           "44 POND ST"
          ],
          [
           "46 DEPOT ST"
          ],
          [
           "57 POND ST"
          ],
          [
           "57 POND ST"
          ],
          [
           "57 POND ST"
          ],
          [
           "61 LOCUST HILL RD"
          ],
          [
           "68 VT Route 100 N"
          ],
          [
           "77 OKEMO RIDGE RD"
          ],
          [
           "845 OKEMO RIDGE RD"
          ],
          [
           "77 OKEMO RIDGE RD"
          ],
          [
           "77 OKEMO RIDGE RD"
          ],
          [
           "77 OKEMO RIDGE RD"
          ],
          [
           "77 OKEMO RIDGE RD"
          ],
          [
           "86 MAIN ST"
          ],
          [
           "89 FOX LN"
          ],
          [
           "91 ROUTE 103 S"
          ],
          [
           "953 E LAKE RD"
          ],
          [
           "262 FOX LN"
          ],
          [
           "LAMERE SQ"
          ],
          [
           "1101 CLOUDLAND RD"
          ],
          [
           "135 US ROUTE 5 SOUTH"
          ],
          [
           "325 MAIN ST"
          ],
          [
           "326 MAIN ST"
          ],
          [
           "ROUTE 100A"
          ],
          [
           "16 Messer Hill RD"
          ],
          [
           "5742 ROUTE 100"
          ],
          [
           "75 BILLINGS RD"
          ],
          [
           "ROUND TOP RD"
          ],
          [
           "247 STAGE RD"
          ],
          [
           "265 DEPOT ST"
          ],
          [
           "2940 RT 103"
          ],
          [
           "1 QUECHEE MAIN ST"
          ],
          [
           "1119 QUECHEE MAIN ST"
          ],
          [
           "176 WATERMANN HILL ROAD"
          ],
          [
           "5945 WOODSTOCK RD"
          ],
          [
           "6053 WOODSTOCK RD"
          ],
          [
           "6931 EAST WOODSTOCK ROAD"
          ],
          [
           "6962 WOODSTOCK RD"
          ],
          [
           "1347 BAILEYS MILLS RD"
          ],
          [
           "3685 ROUTE 106"
          ],
          [
           "37 ROUTE 44"
          ],
          [
           "13 School ST"
          ],
          [
           "1862 MARSHBROOK RD"
          ],
          [
           "30 MAIN ST"
          ],
          [
           "3070 ROUTE 100"
          ],
          [
           "3070 VT ROUTE 100 SOUTH"
          ],
          [
           "360 S MAIN ST"
          ],
          [
           "4609 RT 100"
          ],
          [
           "55 N MAIN ST"
          ],
          [
           "106 CHELSEA RD"
          ],
          [
           "108 CHELSEA ST"
          ],
          [
           "108 RAINBOW ST"
          ],
          [
           "166 CHELSEA ST"
          ],
          [
           "190 CHELSEA ST"
          ],
          [
           "192 CHELSEA ST"
          ],
          [
           "462 VT ROUTE 107"
          ],
          [
           "53 PARK ST"
          ],
          [
           "5789 VERMONT RT 14"
          ],
          [
           "5894 VT ROUTE 14"
          ],
          [
           "5772 VT ROUTE 14"
          ],
          [
           "192 CHELSEA STREET"
          ],
          [
           "222 CHELSEA ST"
          ],
          [
           "56 RAINBOW ST"
          ],
          [
           "1 CHESTER RD"
          ],
          [
           "10 CLINTON ST"
          ],
          [
           "129 CLINTON ST"
          ],
          [
           "13 MAIN ST"
          ],
          [
           "14 MISSING LINK RD"
          ],
          [
           "197 CLINTON ST"
          ],
          [
           "197 CLINTON ST"
          ],
          [
           "2 Chester  RD"
          ],
          [
           "2 CHESTER ROAD"
          ],
          [
           "20 VALLEY ST"
          ],
          [
           "244 RIVER ST"
          ],
          [
           "244 RIVER ST"
          ],
          [
           "284 RIVER ST"
          ],
          [
           "3 MAIN ST"
          ],
          [
           "30 MAIN ST"
          ],
          [
           "30 MAIN ST"
          ],
          [
           "360 RIVER ST"
          ],
          [
           "363 RIVER ST"
          ],
          [
           "371 RIVER ST"
          ],
          [
           "40 MAIN ST"
          ],
          [
           "41 MAIN ST"
          ],
          [
           "50 CLINTON ST"
          ],
          [
           "50 CLINTON ST"
          ],
          [
           "50 CLINTON STREET"
          ],
          [
           "85 CLINTON ST"
          ],
          [
           "920 BROOK RD"
          ],
          [
           "WEATHERSFIELD CENTER ROAD"
          ],
          [
           "1703 VT ROUTE 100"
          ],
          [
           "3657 ROUTE 107"
          ],
          [
           "4261 VT Route 106"
          ],
          [
           "5803 ROUTE 5"
          ],
          [
           "267 BROWNSVILLE-HARTLAND RD"
          ],
          [
           "485 HOTEL RD"
          ],
          [
           "871 ROUTE 44"
          ],
          [
           "ROUTE 44"
          ],
          [
           "660 MAIN ST"
          ],
          [
           "657 MAIN ST"
          ],
          [
           "815 ROUTE 100"
          ],
          [
           "104 S MAIN ST"
          ],
          [
           "1147 HARTFORD AVE"
          ],
          [
           "188 SOUTH MAIN ST"
          ],
          [
           "39 S MAIN ST"
          ],
          [
           "39 SOUTH MAIN STREET"
          ],
          [
           "45 BESWICK DR"
          ],
          [
           "56 RALPH LEHMAN DR"
          ],
          [
           "5893 WOODSTOCK RD"
          ],
          [
           "7 N MAIN ST"
          ],
          [
           "70 GATES ST"
          ],
          [
           "74 BOWLING LANE"
          ],
          [
           "96 SYKES MOUNTAIN AVE"
          ],
          [
           "97 SOUTH MAIN ST"
          ],
          [
           "QUECHEE GORGE"
          ],
          [
           "10 STATE ST"
          ],
          [
           "131 MAIN ST"
          ],
          [
           "135 MAIN ST"
          ],
          [
           "RFD"
          ],
          [
           "12 DEPOT SQUARE"
          ],
          [
           "15 NORTH MAIN ST"
          ],
          [
           "157 CHANDLER ROAD"
          ],
          [
           "1680 ROUTE 12 S"
          ],
          [
           "2066 VT ROUTE 12 A"
          ],
          [
           "40 DEPOT SQUARE"
          ],
          [
           "451 VT ROUTE 12"
          ],
          [
           "48 DEPOT SQUARE"
          ],
          [
           "40 DEPOT SQUARE STE 1"
          ],
          [
           "9 EAST ST"
          ],
          [
           "9 EAST ST"
          ],
          [
           "123 PITKIN RD"
          ],
          [
           "142 DRAKE RD"
          ],
          [
           "69 MAIN ST"
          ],
          [
           "8195 US RT 2"
          ],
          [
           "107 MAD RIVER VIEW"
          ],
          [
           "2150 MAIN ST"
          ],
          [
           "40 BRIDGE ST"
          ],
          [
           "40 BRIDGE ST"
          ],
          [
           "4403 MAIN ST"
          ],
          [
           "4403 MAIN ST"
          ],
          [
           "4403 MAIN ST UNIT 102"
          ],
          [
           "46 LAREAU RD"
          ],
          [
           "4752 MAIN ST"
          ],
          [
           "4752 MAIN ST"
          ],
          [
           "48 CARROLL RD"
          ],
          [
           "6163 MAIN ST"
          ],
          [
           "8 ROUTE 17"
          ],
          [
           "9 VT ROUTE 17"
          ],
          [
           "114 VT ROUTE 100"
          ],
          [
           "59 MOUNTAIN SIDE DR"
          ],
          [
           "1091 GOLF COURSE CLUB RD"
          ],
          [
           "1838 SUGARBUSH ACCESS RD"
          ],
          [
           "202 BRIDGES CIR"
          ],
          [
           "202 BRIDGES CIRCLE"
          ],
          [
           "203 POWDERHOUND RD"
          ],
          [
           "203 POWDERHOUND ROAD"
          ],
          [
           "2355 AIRPORT RD"
          ],
          [
           "SUGARBUSH SOUTH"
          ],
          [
           "2535 AIRPORT ROAD"
          ],
          [
           "3209 GERMAN FLATS RD"
          ],
          [
           "SUGARBUSH ACCESS RD"
          ],
          [
           "527 SUGARBUSH ACCESS RD"
          ],
          [
           "527 SUGARBUSH ACCESS ROAD"
          ],
          [
           "59 Mountainside Drive"
          ],
          [
           "731 VERMONT RT 100"
          ],
          [
           "80 SUGARBUSH VILLAGE"
          ],
          [
           "88 FOREST DRIVE"
          ],
          [
           "76 SUGARBUSH VILLAGE DR"
          ],
          [
           "1 ROTARIAN PLACE"
          ],
          [
           "1 S MAIN ST"
          ],
          [
           "1 S MAIN ST"
          ],
          [
           "1 STOWE STREET"
          ],
          [
           "1024 WATERBURY STOWE RD"
          ],
          [
           "103 S MAIN ST"
          ],
          [
           "1100 WATERBURY STOWE ROAD"
          ],
          [
           "1281 WATERBURY-STOWE RD"
          ],
          [
           "13 STOWE ST"
          ],
          [
           "13-15 STOWE ST"
          ],
          [
           "141 LONESONE TRAIL RD"
          ],
          [
           "149 S MAIN ST"
          ],
          [
           "150 SOUTH MAIN ST"
          ],
          [
           "1675 US ROUTE 2"
          ],
          [
           "18 N MAIN ST"
          ],
          [
           "2 BUTLER ST"
          ],
          [
           "23 S MAIN ST"
          ],
          [
           "23 S MAIN ST"
          ],
          [
           "2653 WATERBURY STOWE ROAD"
          ],
          [
           "2800 COUNTRY CLUB RD"
          ],
          [
           "40 FOUNDRY ST"
          ],
          [
           "45 BLUSH HILL RD"
          ],
          [
           "47 N MAIN ST"
          ],
          [
           "5088 WATERBURY-STOWE RD"
          ],
          [
           "546 RIVER RD"
          ],
          [
           "7 PARK ROW"
          ],
          [
           "70 MCNEIL RD"
          ],
          [
           "76 SOUTH MAIN ST"
          ],
          [
           "92 STOWE ST"
          ],
          [
           "1 STOWE ST UNIT 2"
          ],
          [
           "758 WATERBURY STOWE RD"
          ],
          [
           "3600 WATERBURY-STOWE RD"
          ],
          [
           "4182 WATERBURY STOWE RD"
          ],
          [
           "34 WORCESTER VILLAGE RD"
          ],
          [
           "1 HAPGOOD ST"
          ],
          [
           "111 ROCKINGHAM ST"
          ],
          [
           "113 ROCKINGHAM ST"
          ],
          [
           "124 ROCKINGHAM STREET"
          ],
          [
           "140 ROCKINGHAM ST"
          ],
          [
           "287 ROCKINGHAM ST"
          ],
          [
           "30 ISLAND ST"
          ],
          [
           "36 THE SQUARE"
          ],
          [
           "42 ROCKINGHAM ST"
          ],
          [
           "59 WESTMINSTER ST"
          ],
          [
           "65 ROCKINGHAM ST"
          ],
          [
           "65 ROCKINGHAM ST"
          ],
          [
           "61 THE SQUARE"
          ],
          [
           "660 ROCKINGHAM RD"
          ],
          [
           "7 BURT STREET"
          ],
          [
           "7 THE SQUARE"
          ],
          [
           "83 WESTMINSTER ST"
          ],
          [
           "89 ATKINSON ST"
          ],
          [
           "90 ROCKINGHAM ST"
          ],
          [
           "92 ATKINSON ST"
          ],
          [
           "92 ROCKINGHAM ST"
          ],
          [
           "92 ROCKINGHAM STREET"
          ],
          [
           "1 KIPLING RD"
          ],
          [
           "10 CANAL ST"
          ],
          [
           "10 CANAL STREET UNIT 101"
          ],
          [
           "1007 PUTNEY ROAD"
          ],
          [
           "1012 WESTERN AVE"
          ],
          [
           "1027 PUTNEY RD"
          ],
          [
           "105 CANAL ST"
          ],
          [
           "105 CANAL ST"
          ],
          [
           "1059 PUTNEY RD"
          ],
          [
           "11 GREEN ST"
          ],
          [
           "1111 PUTNEY RD"
          ],
          [
           "113 MAIN ST"
          ],
          [
           "1155 PUTNEY RD"
          ],
          [
           "1184 PUTNEY RD"
          ],
          [
           "12 HARMONY PL"
          ],
          [
           "126 MAIN ST"
          ],
          [
           "128 MAIN ST"
          ],
          [
           "129 LANDMARK HILL DR"
          ],
          [
           "1300 PUTNEY RD"
          ],
          [
           "1300 PUTNEY ROAD"
          ],
          [
           "1300 PUTNEY RD"
          ],
          [
           "132 ELLIOT ST"
          ],
          [
           "132 MAIN ST"
          ],
          [
           "1332 PUTNEY RD"
          ],
          [
           "134 ELLIOT STREET"
          ],
          [
           "1380 PUTNEY ROAD"
          ],
          [
           "30 MAIN ST"
          ],
          [
           "499 Canal ST"
          ],
          [
           "16 HARMONY PLACE"
          ],
          [
           "84 LOWER MAIN ST"
          ],
          [
           "81 BRIDGE ST"
          ],
          [
           "92 PORTLAND ST"
          ],
          [
           "441 COUNTRY CLUB RD"
          ],
          [
           "103 MAPLE STREET"
          ],
          [
           "201 PARK STREET"
          ],
          [
           "87 OLD CREAMERY RD"
          ],
          [
           "30 FAIRGROUND PLAZA STE 3"
          ],
          [
           "3266 LAPORTE RD"
          ],
          [
           "33 VT ROUTE 15 WEST"
          ],
          [
           "387 BROOKLYN STREET"
          ],
          [
           "632 LAPORTE RD"
          ],
          [
           "74 PLEASANT ST"
          ],
          [
           "97 PORTLAND ST"
          ],
          [
           "1190 MOUNTAIN  RD"
          ],
          [
           "14 BARROWS RD"
          ],
          [
           "14 BARROWS RD"
          ],
          [
           "140 COTTAGE CLUB RD"
          ],
          [
           "144 MAIN ST"
          ],
          [
           "160 SPRUCE PEAK RD"
          ],
          [
           "1613 MOUNTAIN RD"
          ],
          [
           "1669 MOUNTAIN RD"
          ],
          [
           "1799 MOUNTAIN RD"
          ],
          [
           "18 MAIN ST"
          ],
          [
           "1801 PUCKER ST"
          ],
          [
           "1801 PUCKER ST"
          ],
          [
           "1859 MOUNTAIN RD"
          ],
          [
           "1880 MOUNTAIN ROAD"
          ],
          [
           "1899 MOUNTAIN RD"
          ],
          [
           "199 EDSON HILL RD"
          ],
          [
           "206 Spruce Peak"
          ],
          [
           "142 Red Sled  DR"
          ],
          [
           "2160 MOUNTAIN ROAD"
          ],
          [
           "25 MAIN ST"
          ],
          [
           "2625 WATERBURY RD"
          ],
          [
           "294 MOUNTAIN ROAD"
          ],
          [
           "3214 MOUNTAIN RD"
          ],
          [
           "3343 MOUNTAIN RD"
          ],
          [
           "394 MOUNTAIN RD"
          ],
          [
           "394 MOUNTAIN ROAD"
          ],
          [
           "394 MOUNTAIN RD STE 9"
          ],
          [
           "395 MOUNTAIN RD"
          ],
          [
           "4000 MOUNTAIN ROAD"
          ],
          [
           "4080 MOUNTAIN RD"
          ],
          [
           "433 MOUNTAIN RD"
          ],
          [
           "433 MOUNTAIN ROAD"
          ],
          [
           "454 MOUNTAIN RD"
          ],
          [
           "4527 MOUNTAIN RD"
          ],
          [
           "4969 MOUNTAIN RD"
          ],
          [
           "5037 MOUNTAIN ROAD"
          ],
          [
           "504 MOUNTAIN RD"
          ],
          [
           "504 MOUNTAIN ROAD"
          ],
          [
           "511 MOUNTAIN RD"
          ],
          [
           "57 DEPOT ST"
          ],
          [
           "57 MOUNTAIN RD"
          ],
          [
           "5781 MOUNTAIN RD"
          ],
          [
           "7231 Mountain RD"
          ],
          [
           "5781 MOUNTAIN RD"
          ],
          [
           "Toll RD"
          ],
          [
           "7229 MOUNTAIN  RD"
          ],
          [
           "5783 MOUNTAIN RD"
          ],
          [
           "613 MAIN ST"
          ],
          [
           "618 S MAIN ST"
          ],
          [
           "717 MAPLE STREET"
          ],
          [
           "Cape Cod  RD"
          ],
          [
           "745 S MAIN ST"
          ],
          [
           "82 LIFTLINE DR"
          ],
          [
           "823 S MAIN ST"
          ],
          [
           "911 MAIN ST"
          ],
          [
           "968 MOUNTAIN ROAD"
          ],
          [
           "129 VFW DR"
          ],
          [
           "11 MAIN STREET"
          ],
          [
           "9 BARTON ST"
          ],
          [
           "142 MAIN ST"
          ],
          [
           "153 MAIN ST"
          ],
          [
           "158 MAIN ST"
          ],
          [
           "164 MAIN ST"
          ],
          [
           "1058 KIDDER RD"
          ],
          [
           "379 LOWER PLAIN"
          ],
          [
           "184 MAIN ST"
          ],
          [
           "48 MAIN STREET"
          ],
          [
           "776 LOWER PLAIN"
          ],
          [
           "9 SOUTH RD"
          ],
          [
           "10397 VT ROUTE 25"
          ],
          [
           "ROUTE 5 & 25"
          ],
          [
           "29 STONE RD"
          ],
          [
           "293 VT ROUTE 110"
          ],
          [
           "299 VT ROUTE 110"
          ],
          [
           "302 VT ROUTE 110"
          ],
          [
           "2307 US ROUTE 5 UNIT C"
          ],
          [
           "158 ROUTE 5 N"
          ],
          [
           "1809 US ROUTE 5 N"
          ],
          [
           "261 ROUTE 5 S"
          ],
          [
           "428 ROUTE 5 N"
          ],
          [
           "456 ROUTE 5 SOUTH"
          ],
          [
           "2284 ROUTE 302"
          ],
          [
           "2284 ROUTE 302"
          ],
          [
           "42 MAIN ST N"
          ],
          [
           "41 MAIN ST"
          ],
          [
           "4991 ROUTE 5 S"
          ],
          [
           "1 MAIN ST"
          ],
          [
           "1 S MAIN ST"
          ],
          [
           "12 PRINCE ST STE 5"
          ],
          [
           "12 SOUTH MAIN ST"
          ],
          [
           "124 ADMIN DR"
          ],
          [
           "1 MAIN ST"
          ],
          [
           "17 MAIN ST"
          ],
          [
           "17 S MAIN ST"
          ],
          [
           "17 SOUTH MAIN STREET"
          ],
          [
           "1869 VT ROUTE 66"
          ],
          [
           "2 MERCHANTS ROW"
          ],
          [
           "2 SALISBURY ST"
          ],
          [
           "21 MERCHANTS ROW"
          ],
          [
           "27 MERCHANTS ROW"
          ],
          [
           "29 N MAIN ST"
          ],
          [
           "3 SALISBURG ST"
          ],
          [
           "4278 VT ROUTE 101"
          ],
          [
           "66 MAIN STREET"
          ],
          [
           "MAIN & SCHOOL ST"
          ],
          [
           "830 Jay Peak Rd"
          ],
          [
           "280 ROUTE 5A"
          ],
          [
           "280 VT ROUTE 5A"
          ],
          [
           "ROUTE 5A"
          ],
          [
           "730 LAKE RD"
          ],
          [
           "774 LAKE RD"
          ],
          [
           "178 ROUTE 30"
          ],
          [
           "11 CENTER ST"
          ],
          [
           "12 FRANKLIN STREET"
          ],
          [
           "2111 GROVE ST"
          ],
          [
           "2146 US ROUTE 7"
          ],
          [
           "22 CENTER STREET"
          ],
          [
           "22 PARK STREET"
          ],
          [
           "224 TOWN FARM RD"
          ],
          [
           "228 GROVE ST"
          ],
          [
           "25 CENTER ST"
          ],
          [
           "31 CENTER ST"
          ],
          [
           "31 FRANKLIN ST"
          ],
          [
           "16 CENTER ST"
          ],
          [
           "16 PARK ST"
          ],
          [
           "62 COUNTRY CLUB RD"
          ],
          [
           "111 PROSPECT POINT RD"
          ],
          [
           "151 ROUTE 4A"
          ],
          [
           "1589 MAIN ST"
          ],
          [
           "17 E CREEK RD"
          ],
          [
           "22 CEDAR MOUNTAIN RD"
          ],
          [
           "272A ROUTE 4A WEST"
          ],
          [
           "319 NORTH ROAD"
          ],
          [
           "334 ROUTE 4A"
          ],
          [
           "590 MAIN ST"
          ],
          [
           "575 MAIN ST"
          ],
          [
           "886 ROUTE 4A"
          ],
          [
           "212 ROUTE 103"
          ],
          [
           "178 S MAIN ST"
          ],
          [
           "186 N MAIN ST"
          ],
          [
           "217 TROLL HILL ROAD"
          ],
          [
           "1430 EAST MAIN STREET"
          ],
          [
           "873 EAST MAIN STREET"
          ],
          [
           "1 LIBERTY ST"
          ],
          [
           "31 MAIN ST"
          ],
          [
           "33 MAIN ST"
          ],
          [
           "1 DUTTON AVE"
          ],
          [
           "5 ADAMS ST"
          ],
          [
           "55 MAIN ST"
          ],
          [
           "654 ROUTE 22A N"
          ],
          [
           "71 MAIN ST"
          ],
          [
           "76 S MAIN ST"
          ],
          [
           "22 WASHINGTON ST"
          ],
          [
           "95 MAIN ST"
          ],
          [
           "912 ROUTE 4A"
          ],
          [
           "133 E MOUNTAIN DR"
          ],
          [
           "1667 KILLINGTON RD"
          ],
          [
           "1667 KILLINGTON ROAD"
          ],
          [
           "1724 KILLINGTON RD"
          ],
          [
           "1741 KILLINGTON RD"
          ],
          [
           "1807 KILLINGTON RD"
          ],
          [
           "2820 KILLINGTON ACCESS RD"
          ],
          [
           "2910 KILLINGTON RD"
          ],
          [
           "2229 KILLINGTON RD"
          ],
          [
           "227 EAST MOUNTAIN RD"
          ],
          [
           "228 E MOUNTAIN RD"
          ],
          [
           "2384 KILLINGTON RD"
          ],
          [
           "241 SUNRISE RD"
          ],
          [
           "2820 KILLINGTON ROAD"
          ],
          [
           "2023 KILLINGTON RD"
          ],
          [
           "2822 KILLINGTON RD"
          ],
          [
           "2841 KILLINGTON RD"
          ],
          [
           "285 THUNDERING BROOK RD"
          ],
          [
           "37 BUTLER RD"
          ],
          [
           "37 MILLER BROOK RD"
          ],
          [
           "3861 KILLINGTON RD"
          ],
          [
           "3880 KILLINGTON RD"
          ],
          [
           "4337 US ROUTE 4"
          ],
          [
           "47 OLD MILL ROAD"
          ],
          [
           "4763 KILLINGTON RD"
          ],
          [
           "4763 KILLINGTON RD"
          ],
          [
           "81 ALPINE DR"
          ],
          [
           "53 WOODS RD"
          ],
          [
           "63 SUMMIT PATH"
          ],
          [
           "709 ROUTE 4 SHERBURNE PASS"
          ],
          [
           "747 KILLINGTON RD"
          ],
          [
           "78 WEATHERVANE DR"
          ],
          [
           "2194 KILLINGTON RD"
          ],
          [
           "36 US ROUTE 4"
          ],
          [
           "923 KILLINGTON RD"
          ],
          [
           "972 BEAR MOUNTAIN RD"
          ],
          [
           "476 BARROWS TOWNE RD"
          ],
          [
           "KILLINGTON ACCESS ROAD"
          ],
          [
           "KILLINGTON RD"
          ],
          [
           "4763 KILLINGTON RD"
          ],
          [
           "113 ROUTE 4"
          ],
          [
           "63 TOWN LINE RD"
          ],
          [
           "2563 US ROUTE 4"
          ],
          [
           "78 ROUTE 4"
          ],
          [
           "ROUTE 4"
          ],
          [
           "549 COY HILL ROAD"
          ],
          [
           "1781 ROUTE 103"
          ],
          [
           "3621 VT ROUTE 103 S"
          ],
          [
           "897 VT ROUTE 155"
          ],
          [
           "216 SQUIRE RD"
          ],
          [
           "25 SCHOOL ST"
          ],
          [
           "50 SCHOOL ST"
          ],
          [
           "50 School ST"
          ],
          [
           "5581 VT ROUTE 30"
          ],
          [
           "2640 VT Route 100"
          ],
          [
           "3932 ROUTE 100"
          ],
          [
           "3963 VT ROUTE 100"
          ],
          [
           "2874 US ROUTE 7"
          ],
          [
           "311 Country Club DR"
          ],
          [
           "4601 US ROUTE 7"
          ],
          [
           "663 US ROUTE 7"
          ],
          [
           "77 FURNACE ROAD"
          ],
          [
           "37 MAIN ST"
          ],
          [
           "46 CANAL ST"
          ],
          [
           "6 EARL ST"
          ],
          [
           "12 COUNTRY CLUB RD"
          ],
          [
           "16 MAIN ST"
          ],
          [
           "27 MAIN STREET"
          ],
          [
           "10 VILLAGE SQUARE"
          ],
          [
           "5 VILLAGE LODGE RD"
          ],
          [
           "19 VILLAGE LODGE RD"
          ],
          [
           "5 VILLAGE LODGE RD"
          ],
          [
           "5 VILLAGE LODGE RD"
          ],
          [
           "74 FOUNDERS HILL RD"
          ],
          [
           "5 VILLAGE LODGE RD"
          ],
          [
           "SPACE 8B2 VILLAGE SQ"
          ],
          [
           "STRATTON MOUNTAIN ACCESS RD"
          ],
          [
           "5 VILLAGE LODGE RD"
          ],
          [
           "STRATTON MTN ACCESS RD"
          ],
          [
           "STRATTON MTN"
          ],
          [
           "VILLAGE SQ"
          ],
          [
           "VILLAGE SQ"
          ],
          [
           "5 VILLAGE LODGE RD"
          ],
          [
           "1169 GRAFTON ROAD"
          ],
          [
           "2041 ROUTE 30"
          ],
          [
           "22 RIVERDALE ROAD"
          ],
          [
           "5929 VT ROUTE 30"
          ],
          [
           "82 COMMON RD"
          ],
          [
           "101 GOVERNOR HUNT ROAD"
          ],
          [
           "3077 FORT BRIDGEMAN ROAD"
          ],
          [
           "ROUTE 142 & STEBBINS ROAD"
          ],
          [
           "11 FORNUTO RD"
          ],
          [
           "STRATTON MOUNTAIN ROAD"
          ],
          [
           "12 CARINTHIA RD"
          ],
          [
           "131 ROUTE 100"
          ],
          [
           "183 VT ROUTE 100"
          ],
          [
           "21 GRAND SUMMIT WAY"
          ],
          [
           "21 MOUNT SNOW RD"
          ],
          [
           "21 MOUNT SNOW RD"
          ],
          [
           "259 ROUTE 100"
          ],
          [
           "267 ROUTE 100"
          ],
          [
           "267 ROUTE 100"
          ],
          [
           "271 VT ROUTE 100"
          ],
          [
           "289 HANDLE RD"
          ],
          [
           "319 VT ROUTE 100"
          ],
          [
           "321 VT ROUTE 100"
          ],
          [
           "33 MOUNT SNOW RD"
          ],
          [
           "100 COUNTRY CLUB RD"
          ],
          [
           "ROUTE 100"
          ],
          [
           "ROUTE 100 MAIN BASE LODGE"
          ],
          [
           "6573 VT ROUTE 30"
          ],
          [
           "758 SHELDON HILL ROAD"
          ],
          [
           "1097 WESTMINSTER WEST RD"
          ],
          [
           "6365 ROUTE 5"
          ],
          [
           "7079 US ROUTE 5"
          ],
          [
           "3090 ROUTE 100"
          ],
          [
           "10 W MAIN ST"
          ],
          [
           "129 ROUTE 9 EAST"
          ],
          [
           "15 WEST MAIN ST"
          ],
          [
           "159 ROUTE 100 N"
          ],
          [
           "167 ROUTE 100 N"
          ],
          [
           "178 E MAIN ST"
          ],
          [
           "179 VT ROUTE 100"
          ],
          [
           "19 S MAIN ST"
          ],
          [
           "19 S MAIN ST"
          ],
          [
           "20 WEST MAIN ST"
          ],
          [
           "225 Interstate Corporate Center"
          ],
          [
           "26 WEST MAIN ST"
          ],
          [
           "3 MAIN ST"
          ],
          [
           "3 NORTH MAIN ST"
          ],
          [
           "34 LOOK RD"
          ],
          [
           "4 N MAIN ST"
          ],
          [
           "4 OLD ARK RD"
          ],
          [
           "41 WEST MAIN ST"
          ],
          [
           "5 TRAILS END LN"
          ],
          [
           "54 E DOVER RD"
          ],
          [
           "7 SOUTH MAIN ST"
          ],
          [
           "70 SPYGLASS DR"
          ],
          [
           "8 SOUTH MAIN ST"
          ],
          [
           "840 ROUTE 100"
          ],
          [
           "861 ROUTE 9 E"
          ],
          [
           "9 WEST MAIN ST"
          ],
          [
           "6802 POPPLE DUNGEON RD"
          ],
          [
           "202 RT 131"
          ],
          [
           "5803 VERMONT RTE 5"
          ],
          [
           "6014 ROUTE 5"
          ],
          [
           "5518 ROUTE 12"
          ],
          [
           "5723 ROUTE 12"
          ],
          [
           "1525 Royalton TPKE"
          ],
          [
           "1837 RIVER ST"
          ],
          [
           "23 RIVER ST"
          ],
          [
           "257 MAIN ST"
          ],
          [
           "2659 PLEASANT ST"
          ],
          [
           "235 MAIN ST"
          ],
          [
           "269 MAIN ST"
          ],
          [
           "2708 RIVER ST"
          ],
          [
           "88 NORTH RD"
          ],
          [
           "101 MILL RD"
          ],
          [
           "5520 US ROUTE 4"
          ],
          [
           "7083 US ROUTE 4"
          ],
          [
           "325 SHATTUCK HILL ROAD"
          ],
          [
           "1589 MAIN ST"
          ],
          [
           "1589 MAIN STREET"
          ],
          [
           "2588 ROUTE 103"
          ],
          [
           "4203 TWENTY MILE STREAM RD"
          ],
          [
           "73 DEPOT ST"
          ],
          [
           "117 DAVIDSON HILL ROAD"
          ],
          [
           "22 GRAIN STORE RD"
          ],
          [
           "232 DEPOT STREET"
          ],
          [
           "24 ROCKINGHAM ST."
          ],
          [
           "291 PLEASANT ST"
          ],
          [
           "319 S MAIN ST"
          ],
          [
           "397 PECK RD"
          ],
          [
           "42 MAPLE ST"
          ],
          [
           "46 VT ROUTE 103"
          ],
          [
           "512 ROUTE 103"
          ],
          [
           "52 S MAIN ST"
          ],
          [
           "55 SCHOOL ST"
          ],
          [
           "561 ROUTE 103"
          ],
          [
           "571 ROUTE 103 SOUTH"
          ],
          [
           "637 RT 103 SOUTH"
          ],
          [
           "90 THE COMMON"
          ],
          [
           "92 MAIN ST"
          ],
          [
           "1 QUECHEE MAIN  ST"
          ],
          [
           "1 S MAIN ST"
          ],
          [
           "104 BALLARDVALE DR"
          ],
          [
           "129 S. MAIN ST"
          ],
          [
           "186 S MAIN ST."
          ],
          [
           "1567 VT ROUTE 14"
          ],
          [
           "1760 QUECHEE MAIN ST"
          ],
          [
           "3268 QUECHEE MAIN ST"
          ],
          [
           "3369 QUECHEE MAIN ST"
          ],
          [
           "7024 WOODSTOCK RD"
          ],
          [
           "39 S MAIN ST"
          ],
          [
           "40 BOWLING LN"
          ],
          [
           "42 SYKES MOUNTAIN AVE"
          ],
          [
           "7024 WOODSTOCK RD"
          ],
          [
           "5573 WOODSTOCK RD"
          ],
          [
           "5817 WOODSTOCK RD"
          ],
          [
           "7024 WOODSTOCK RD"
          ],
          [
           "VOCATIONAL CENTER"
          ],
          [
           "12 BROWNSVILLE RD"
          ],
          [
           "100 DEPOT ST"
          ],
          [
           "100  Northside  DR"
          ],
          [
           "100 PLEASANT ST"
          ],
          [
           "1001 MAIN ST"
          ],
          [
           "105 SOUTH ST"
          ],
          [
           "1104 WOODFORD RD"
          ],
          [
           "112 NORTHSIDE DR"
          ],
          [
           "116 NORTH ST"
          ],
          [
           "125 WASHINGTON AVE"
          ],
          [
           "135 DEPOT ST"
          ],
          [
           "138 RIVER ST"
          ],
          [
           "139 MAIN ST"
          ],
          [
           "180 COUNTRY CLUB DR"
          ],
          [
           "204 PROSPECT ACCESS RD"
          ],
          [
           "207 Northside  DR"
          ],
          [
           "210 NORTHSIDE DR"
          ],
          [
           "210 NORTHSIDE DR"
          ],
          [
           "214 NORTHSIDE DR"
          ],
          [
           "217 NORTHSIDE DR"
          ],
          [
           "217 NORTHSIDE DRIVE"
          ],
          [
           "227 NORTH ST"
          ],
          [
           "24 HANNAFORD SQUARE"
          ],
          [
           "241 MAIN ST"
          ],
          [
           "25 MAIN ST"
          ],
          [
           "27 MAIN  ST"
          ],
          [
           "3 PROSPECT ST"
          ],
          [
           "32 BENNINGTON SQUARE"
          ],
          [
           "332 NORTH ST"
          ],
          [
           "336 NORTH STREET"
          ],
          [
           "344 NORTH ST"
          ],
          [
           "704 MAIN ST"
          ],
          [
           "428 MAIN ST"
          ],
          [
           "430 MAIN ST"
          ],
          [
           "430 MAIN  ST"
          ],
          [
           "519 MAIN ST"
          ],
          [
           "520 MAIN ST"
          ],
          [
           "604 MAIN ST"
          ],
          [
           "68 BENNINGTON PLAZA"
          ],
          [
           "636 MAIN ST"
          ],
          [
           "782 HARWOOD HILL RD"
          ],
          [
           "9 MAIN STREET"
          ],
          [
           "916 ORCHARD ROAD"
          ],
          [
           "979 ROUTE 7 S"
          ],
          [
           "1 RIVER ROAD"
          ],
          [
           "55 ROUTE 30"
          ],
          [
           "65 EMERALD LAKE LN"
          ],
          [
           "8 READ FARM LN"
          ],
          [
           "10 TOLLGATE RD"
          ],
          [
           "108 UNION ST"
          ],
          [
           "13 RIVERSIDE HEIGHTS"
          ],
          [
           "133 ELM ST"
          ],
          [
           "15 BONNET ST"
          ],
          [
           "1568 DEPOT ST"
          ],
          [
           "188 DEPOT ST"
          ],
          [
           "1942 DEPOT ST"
          ],
          [
           "2279 DEPOT ST"
          ],
          [
           "263 DEPOT STREET"
          ],
          [
           "351 DEPOT ST"
          ],
          [
           "263-3 DEPOT STREET"
          ],
          [
           "3757 RICHVILLE RD STE 2"
          ],
          [
           "380 RTE 11 AND 30"
          ],
          [
           "3912 MAIN ST"
          ],
          [
           "4201 MAIN ST"
          ],
          [
           "4455 MAIN ST"
          ],
          [
           "4479 MAIN STREET"
          ],
          [
           "4546 MAIN ST"
          ],
          [
           "4900 MAIN STREET"
          ],
          [
           "4931 MAIN ST"
          ],
          [
           "4935 MAIN ST"
          ],
          [
           "4940 MAIN ST STE 1"
          ],
          [
           "4961 MAIN ST STE 2"
          ],
          [
           "4972 MAIN ST"
          ],
          [
           "515 DEPOT ST"
          ],
          [
           "5183 MAIN ST"
          ],
          [
           "575 DEPOT ST"
          ],
          [
           "6137 MAIN ST"
          ],
          [
           "7259 MAIN ST"
          ],
          [
           "74 WILLOW POND RD"
          ],
          [
           "970 SVAC DRIVE WEST RD"
          ],
          [
           "1610 DEPOT ST"
          ],
          [
           "4478 MAIN ST"
          ],
          [
           "4566 MAIN ST"
          ],
          [
           "4659 MAIN ST"
          ],
          [
           "5036 MAIN ST"
          ],
          [
           "6458 MAIN ST"
          ],
          [
           "222 CAMPUS ROAD"
          ],
          [
           "3776 VT ROUTE 11"
          ],
          [
           "3984 VT ROUTE 11"
          ],
          [
           "305 MAIN ST"
          ],
          [
           "7594 ROUTE 7"
          ],
          [
           "6998 MAIN ST"
          ],
          [
           "115 ST PAUL ST"
          ],
          [
           "119 COLLEGE ST"
          ],
          [
           "120 CHURCH ST"
          ],
          [
           "123 CHURCH ST"
          ],
          [
           "125 BATTERY ST"
          ],
          [
           "128 LAKESIDE AVE"
          ],
          [
           "133 BANK ST"
          ],
          [
           "134 CHURCH ST"
          ],
          [
           "135 PEARL ST"
          ],
          [
           "135 ST PAUL ST"
          ],
          [
           "136 1/2 CHURCH ST"
          ],
          [
           "136 1/2 CHURCH STREET"
          ],
          [
           "139 MAIN ST"
          ],
          [
           "1398 North AVE"
          ],
          [
           "144 COLLEGE ST STE 16"
          ],
          [
           "147 N WINOOSKI AV"
          ],
          [
           "148 CHURCH ST"
          ],
          [
           "149 ELMWOOD AVE"
          ],
          [
           "15 CENTER ST"
          ],
          [
           "1 COLLEGE ST"
          ],
          [
           "150 CHERRY ST"
          ],
          [
           "152 St. Paul  ST"
          ],
          [
           "153 MAIN ST"
          ],
          [
           "155 BANK ST"
          ],
          [
           "156 CHURCH STREET"
          ],
          [
           "156 ST PAUL ST"
          ],
          [
           "159 MAIN ST"
          ],
          [
           "16 CHURCH ST"
          ],
          [
           "16 N WINOOSKI AVE"
          ],
          [
           "160 BANK ST"
          ],
          [
           "160 FLYNN AVE"
          ],
          [
           "163 MAIN ST"
          ],
          [
           "165 CHURCH  ST"
          ],
          [
           "167 MAIN ST"
          ],
          [
           "169 CHURCH ST"
          ],
          [
           "173 COLLEGE ST"
          ],
          [
           "176 MAIN ST"
          ],
          [
           "177 CHURCH ST"
          ],
          [
           "180 Battery  ST STE 130"
          ],
          [
           "181 BATTERY ST"
          ],
          [
           "184 MAIN ST"
          ],
          [
           "185 PEARL ST"
          ],
          [
           "187 PEARL ST"
          ],
          [
           "188 MAIN ST"
          ],
          [
           "189 BANK ST"
          ],
          [
           "191 PEARL ST"
          ],
          [
           "194 MAIN ST"
          ],
          [
           "198 MAIN ST"
          ],
          [
           "2 UNIVERSITY PL"
          ],
          [
           "197 NORTH WINOOSKI AVE"
          ],
          [
           "205 COLLEGE ST"
          ],
          [
           "206 Main  ST"
          ],
          [
           "207 COLCHESTER AVE"
          ],
          [
           "208 FLYNN AV"
          ],
          [
           "213 COLLEGE ST"
          ],
          [
           "219 MAIN STREET"
          ],
          [
           "23 NORTH ST"
          ],
          [
           "242 MAIN ST"
          ],
          [
           "249 ST PAUL ST"
          ],
          [
           "28 NORTH STREET"
          ],
          [
           "295 SHELBURNE RD"
          ],
          [
           "295 SHELBURNE ROAD"
          ],
          [
           "30 MAIN ST"
          ],
          [
           "30 North  ST"
          ],
          [
           "310 PINE ST"
          ],
          [
           "315 SHELBURNE ST"
          ],
          [
           "316 FLYNN AVE"
          ],
          [
           "325 NORTH WINOOSKI AVE"
          ],
          [
           "370 SHELBURNE RD"
          ],
          [
           "370 SHELBURNE RD"
          ],
          [
           "375 MAPLE ST"
          ],
          [
           "4 NO WINOOSKI AVE"
          ],
          [
           "412 PINE STREET"
          ],
          [
           "42 CHURCH ST"
          ],
          [
           "42 ELMWOOD AVE"
          ],
          [
           "42 PARK ST"
          ],
          [
           "49 CHURCH ST"
          ],
          [
           "463 ST PAUL ST"
          ],
          [
           "555 SHELBURNE RD"
          ],
          [
           "568 SOUTH PROSPECT ST"
          ],
          [
           "580 SHELBURNE ROAD"
          ],
          [
           "590 MAIN ST"
          ],
          [
           "590 MAIN ST"
          ],
          [
           "590 MAIN ST"
          ],
          [
           "60 BATTERY ST"
          ],
          [
           "688 PINE ST"
          ],
          [
           "71 CHURCH ST"
          ],
          [
           "74 MAPLE ST"
          ],
          [
           "8-10 N WINOOSKI AVE"
          ],
          [
           "80 CHURCH ST"
          ],
          [
           "82 S WINOOSKI AVE"
          ],
          [
           "82 SO WINOOSKI AV"
          ],
          [
           "40 S PROSPECT ST"
          ],
          [
           "438 S PROSPECT ST"
          ],
          [
           "85-87 PEARL STREET"
          ],
          [
           "86 ST. PAUL ST"
          ],
          [
           "88 CHURCH ST"
          ],
          [
           "88 OAK ST"
          ],
          [
           "9 CENTER ST"
          ],
          [
           "9 CENTRAL AVE"
          ],
          [
           "93 CHURCH ST"
          ],
          [
           "93 SO WINOOSKI AVE"
          ],
          [
           "388 Pine  ST"
          ],
          [
           "95 ST PAUL ST"
          ],
          [
           "BURLINGTON BOATHOUSE COLLEGE ST"
          ],
          [
           "BURLINGTON TECHNICAL CENTER"
          ],
          [
           "170 US ROUTE 7 S"
          ],
          [
           "191 ROUTE 7 SOUTH"
          ],
          [
           "197 ROUTE 7 S"
          ],
          [
           "25 CENTRE RD"
          ],
          [
           "350 MURRAY AVE"
          ],
          [
           "42 CENTRE DR"
          ],
          [
           "5 HAYDENBERRY DR"
          ],
          [
           "514 US ROUTE 7"
          ],
          [
           "575 EAST ROAD"
          ],
          [
           "6 RIVER ST"
          ],
          [
           "93 GRAVELLE RD"
          ],
          [
           "950 ROUTE 7 SOUTH"
          ],
          [
           "MIDDLE RD"
          ],
          [
           "13 JOLINA  CT"
          ],
          [
           "162 ORCHARD LN"
          ],
          [
           "1840 WEST MAIN ST"
          ],
          [
           "1949 EAST MAIN ST"
          ],
          [
           "27 BRIDGE ST"
          ],
          [
           "375 WILLIAMS HILL ROAD"
          ],
          [
           "38 E MAIN ST"
          ],
          [
           "910 COCHRAN RD"
          ],
          [
           "38 EAST MAIN ST"
          ],
          [
           "1469 BAY RD"
          ],
          [
           "166 ATHLETIC DR"
          ],
          [
           "2403 SHELBURNE RD"
          ],
          [
           "2455 SHELBURNE ROAD"
          ],
          [
           "2572 SHELBURNE RD"
          ],
          [
           "2630 SHELBURNE RD"
          ],
          [
           "2659 SHELBURNE ROAD"
          ],
          [
           "2659 SHELBURNE RD"
          ],
          [
           "3164 SHELBURNE ROAD"
          ],
          [
           "3182 SHELBURNE RD"
          ],
          [
           "3762 SHELBURNE RD"
          ],
          [
           "4066 SHELBURNE RD"
          ],
          [
           "43 SHELBURNE SHOPPING PARK"
          ],
          [
           "4309 SHELBURNE RD"
          ],
          [
           "52 HARBOR RD"
          ],
          [
           "5247 SHELBURNE RD"
          ],
          [
           "5288 SHELBURNE RD"
          ],
          [
           "5531 SPEAR ST"
          ],
          [
           "5597 SHELBURNE RD"
          ],
          [
           "6000 SHELBURNE ROAD"
          ],
          [
           "6305 SHELBURNE RD"
          ],
          [
           "6655 SHELBURNE RD"
          ],
          [
           "9 MCDONALD FARM ROAD"
          ],
          [
           "97 FALLS RD"
          ],
          [
           "100 DORSET ST"
          ],
          [
           "1000 HINESBURG RD"
          ],
          [
           "1016 SHELBURNE RD"
          ],
          [
           "1016 SHELBURNE RD"
          ],
          [
           "102 DORSET ST"
          ],
          [
           "1025 SHELBURNE RD"
          ],
          [
           "1068 Williston RD"
          ],
          [
           "1076 WILLISTON ROAD"
          ],
          [
           "1076 WILLISTON RD"
          ],
          [
           "1117 WILLISTON RD"
          ],
          [
           "1125 SHELBURNE RD"
          ],
          [
           "1150 WILLISTON RD"
          ],
          [
           "1160 WILLISTON RD"
          ],
          [
           "1160 WILLISTON RD"
          ],
          [
           "1164 WILLISTON ROAD"
          ],
          [
           "1200 AIRPORT DR"
          ],
          [
           "1200 WILLISTON ROAD"
          ],
          [
           "1205 AIRPORT PARKWAY"
          ],
          [
           "1205 WILLISTON RD"
          ],
          [
           "1208 WILLISTON ROAD"
          ],
          [
           "1210 WILLISTON RD"
          ],
          [
           "1214 WILLISTON RD"
          ],
          [
           "1216 WILLISTON RD"
          ],
          [
           "1227 DORSET ST"
          ],
          [
           "1250 WILLISTON RD"
          ],
          [
           "1251 WILLISTON RD"
          ],
          [
           "1301 WILLISTON RD"
          ],
          [
           "1303 WILLISTON RD"
          ],
          [
           "1330 SHELBURNE RD"
          ],
          [
           "1330 SHELBURNE ROAD"
          ],
          [
           "1355 WILLISTON RD"
          ],
          [
           "142 W TWIN OAKS TER"
          ],
          [
           "150 DORSET ST"
          ],
          [
           "150 DORSET ST"
          ],
          [
           "150 DORSET ST STE 340"
          ],
          [
           "155 DORSET ST"
          ],
          [
           "1205 WILLISTON RD"
          ],
          [
           "35 WHITE ST"
          ],
          [
           "155 DORSET STREET"
          ],
          [
           "155 DORSET ST STE D6"
          ],
          [
           "1560 SPEAR ST"
          ],
          [
           "1633 WILLISTON RD STE 2"
          ],
          [
           "1636 WILLISTON RD"
          ],
          [
           "1696 WILLISTON RD"
          ],
          [
           "1710 SHELBURNE RD"
          ],
          [
           "1712 SHELBURNE RD"
          ],
          [
           "1712 SHELBURNE RD"
          ],
          [
           "1712 SHELBURNE RD"
          ],
          [
           "1720 SHELBURNE RD"
          ],
          [
           "1834 SHELBURNE RD"
          ],
          [
           "1860 WILLISTON RD STE 2"
          ],
          [
           "1930 WILLISTON RD"
          ],
          [
           "340 DORSET ST"
          ],
          [
           "35 WHITE ST"
          ],
          [
           "35 WHITE ST"
          ],
          [
           "360 DORSET ST"
          ],
          [
           "259 QUARRY HILL RD"
          ],
          [
           "370 SHELBURNE RD"
          ],
          [
           "3761 SHELBURNE RD"
          ],
          [
           "40 IDX DRIVE"
          ],
          [
           "401 DORSET ST"
          ],
          [
           "150 Dorset ST STE 300"
          ],
          [
           "5 BARTLETT BAY RD"
          ],
          [
           "5 MARKET ST"
          ],
          [
           "5 MARKET ST"
          ],
          [
           "516 SHELBURNE RD"
          ],
          [
           "35 SAN REMO DR"
          ],
          [
           "570 SHELBURNE RD"
          ],
          [
           "580 SHELBURNE RD"
          ],
          [
           "60 FARRELL ST"
          ],
          [
           "65 PATCHEN ROAD"
          ],
          [
           "7 FAYETTE RD"
          ],
          [
           "71 SPEAR ST"
          ],
          [
           "730 SHELBURNE  RD"
          ],
          [
           "733 QUEEN CITY PARK ROAD"
          ],
          [
           "760 SHELBURNE RD"
          ],
          [
           "792 SHELBURNE RD"
          ],
          [
           "981 SHELBURNE RD"
          ],
          [
           "992 SHELBURNE RD"
          ],
          [
           "SPEAR ST"
          ],
          [
           "7 BARBER RD"
          ],
          [
           "7470 ROUTE 116"
          ],
          [
           "278 RIVER RD"
          ],
          [
           "10 KEITH AVE"
          ],
          [
           "107 SOUTH MAIN ST"
          ],
          [
           "1239 US ROUTE 302 BERLIN"
          ],
          [
           "1331 US ROUTE 302"
          ],
          [
           "136 N MAIN ST"
          ],
          [
           "1400 US ROUTE 302"
          ],
          [
           "1490 US Route 302"
          ],
          [
           "14 N MAIN ST STE 1006"
          ],
          [
           "209 RTE 14 S"
          ],
          [
           "210 N MAIN ST"
          ],
          [
           "276 NORTH MAIN ST"
          ],
          [
           "28 PROSPECT ST"
          ],
          [
           "30 SUMMER ST"
          ],
          [
           "322 N MAIN ST"
          ],
          [
           "342 N MAIN ST"
          ],
          [
           "36 SUMMER ST"
          ],
          [
           "379 NORTH MAIN ST"
          ],
          [
           "385 BARRE MONTPEILER ROAD"
          ],
          [
           "47 N MAIN ST"
          ],
          [
           "70 NORTH MAIN ST"
          ],
          [
           "8 S MAIN ST"
          ],
          [
           "88 N MAIN ST"
          ],
          [
           "9 MAPLE AVE"
          ],
          [
           "20 AUDITORIUM HL"
          ],
          [
           "10 JEFFERSON ST"
          ],
          [
           "115 S MAIN ST"
          ],
          [
           "131 S MAIN ST"
          ],
          [
           "248 NORTH MAIN ST"
          ],
          [
           "14 N MAIN ST"
          ],
          [
           "169 WASHINGTON ST"
          ],
          [
           "173 S MAIN ST"
          ],
          [
           "20 BECKLEY ST"
          ],
          [
           "20 S MAIN ST"
          ],
          [
           "210 N MAIN ST"
          ],
          [
           "240 N MAIN ST"
          ],
          [
           "276 N MAIN ST"
          ],
          [
           "302 N MAIN ST STE 1"
          ],
          [
           "316 NORTH MAIN ST"
          ],
          [
           "320 N MAIN ST"
          ],
          [
           "8 S MAIN ST"
          ],
          [
           "414 EAST MONTPELIER RD"
          ],
          [
           "84 PINE HILL RD"
          ],
          [
           "1332 US ROUTE 302"
          ],
          [
           "1873 US ROUTE 302"
          ],
          [
           "21 INDUSTRIAL LN"
          ],
          [
           "213 PAINE TURNPIKE NORTH"
          ],
          [
           "213 PAINE TPKE N"
          ],
          [
           "282 BERLIN MALL RD"
          ],
          [
           "1129 US-302"
          ],
          [
           "365 BARRE-MONTPELIER RD STE 4"
          ],
          [
           "3075 MAIN ST"
          ],
          [
           "3087 MAIN STREET"
          ],
          [
           "31 WEST COUNTY RD"
          ],
          [
           "3689 ROUTE 14"
          ],
          [
           "2574 CROSSETT HILL"
          ],
          [
           "4723 US ROUTE 2"
          ],
          [
           "57 SCHUSS PASS"
          ],
          [
           "1912 MILL BROOK RD"
          ],
          [
           "3411 N FAYSTON RD"
          ],
          [
           "533 MILL BROOK RD"
          ],
          [
           "SUGARBUSH NORTH"
          ],
          [
           "SUGARBUSH NORTH"
          ],
          [
           "675 MILL BROOK RD"
          ],
          [
           "1111 THISTLE HILL ROAD"
          ],
          [
           "8132 US ROUTE 2"
          ],
          [
           "7 CHURCH ST"
          ],
          [
           "36 COLLEGE ST"
          ],
          [
           "203 COUNTRY CLUB RD"
          ],
          [
           "1 NATIONAL LIFE DR"
          ],
          [
           "1 SCHOOL ST"
          ],
          [
           "100 E STATE ST"
          ],
          [
           "100 STATE ST"
          ],
          [
           "108 MAIN ST"
          ],
          [
           "114 RIVER ST"
          ],
          [
           "115 STATE HOUSE"
          ],
          [
           "118 MAIN ST"
          ],
          [
           "118 MAIN ST"
          ],
          [
           "133 STATE ST"
          ],
          [
           "15 Barre  ST"
          ],
          [
           "15 MAIN ST"
          ],
          [
           "15 TERRACE STREET"
          ],
          [
           "22 STATE ST"
          ],
          [
           "25 BERLIN ST"
          ],
          [
           "26 MAIN ST"
          ],
          [
           "27 STATE ST"
          ],
          [
           "28 MAIN ST"
          ],
          [
           "28 STATE ST"
          ],
          [
           "3 MAIN ST"
          ],
          [
           "32 STATE ST"
          ],
          [
           "320 STATE ST"
          ],
          [
           "34 ELM ST"
          ],
          [
           "34 STATE ST"
          ],
          [
           "38 ELM ST"
          ],
          [
           "4 LANGDON ST"
          ],
          [
           "41 STATE ST"
          ],
          [
           "45 STATE ST"
          ],
          [
           "51 BERLIN ST"
          ],
          [
           "52 STATE ST"
          ],
          [
           "54 STATE ST"
          ],
          [
           "58 BARRE ST"
          ],
          [
           "70 MAIN ST"
          ],
          [
           "72 MAIN ST"
          ],
          [
           "74 EAST STATE STREET"
          ],
          [
           "83 MAIN ST"
          ],
          [
           "89 MAIN ST"
          ],
          [
           "14 KINGMAN ST"
          ],
          [
           "8 SWANTON RD"
          ],
          [
           "17 SWANTON RD"
          ],
          [
           "171 S MAIN ST"
          ],
          [
           "178 SWANTON ROAD"
          ],
          [
           "183 SWANTON RD"
          ],
          [
           "207 SOUTH MAIN ST"
          ],
          [
           "211 SWANTON RD"
          ],
          [
           "22 S MAIN ST"
          ],
          [
           "235 SWANTON ROAD"
          ],
          [
           "24 N MAIN ST"
          ],
          [
           "277 SWANTON ROAD"
          ],
          [
           "24 MAIN ST"
          ],
          [
           "30 KINGMAN ST"
          ],
          [
           "30 SOUTH MAIN STREET"
          ],
          [
           "32 KINGMAN ST"
          ],
          [
           "333 SWANTON RD"
          ],
          [
           "363 SWANTON RD"
          ],
          [
           "38 SOUTH MAIN ST"
          ],
          [
           "42 KINGMAN ST"
          ],
          [
           "51 S MAIN ST"
          ],
          [
           "581 Swanton Road"
          ],
          [
           "65 N MAIN ST"
          ],
          [
           "190 SWANTON RD"
          ],
          [
           "424 SWANTON RD"
          ],
          [
           "84 NORTH MAIN STREET"
          ],
          [
           "424 SWANTON RD"
          ],
          [
           "94 NORTH MAIN ST"
          ],
          [
           "99 LAKE ST"
          ],
          [
           "133 N MAIN ST"
          ],
          [
           "139-141 LAKE ST"
          ],
          [
           "14 KINGMAN ST"
          ],
          [
           "14 SWANTON RD"
          ],
          [
           "16 S MAIN ST"
          ],
          [
           "190 S MAIN ST"
          ],
          [
           "195 LAKE ST"
          ],
          [
           "266 NORTH MAIN ST"
          ],
          [
           "3 FEDERAL ST"
          ],
          [
           "42 KINGMAN ST"
          ],
          [
           "51 S MAIN ST"
          ],
          [
           "66 S MAIN ST"
          ],
          [
           "84 N MAIN ST"
          ],
          [
           "93 FEDERAL ST"
          ],
          [
           "94 N MAIN ST"
          ],
          [
           "495 US ROUTE 7"
          ],
          [
           "178 SWANTON RD"
          ],
          [
           "20 SWANTON RD"
          ],
          [
           "235 SWANTON RD"
          ],
          [
           "267 SWANTON RD"
          ],
          [
           "333 SWANTON ROAD"
          ],
          [
           "359 LAKE  RD"
          ],
          [
           "366 LAKE RD"
          ],
          [
           "366 SWANTON RD"
          ],
          [
           "555 FAIRFAX RD"
          ],
          [
           "711 FAIRFAX RD"
          ],
          [
           "90 GEORGIA SHORE RD"
          ],
          [
           "109 FIRST ST"
          ],
          [
           "11 GRAND AV"
          ],
          [
           "153 FIRST ST"
          ],
          [
           "165 FIRST ST"
          ],
          [
           "2 CANADA ST"
          ],
          [
           "32 MERCHANTS ROW"
          ],
          [
           "34 MERCHANTS ROW"
          ],
          [
           "5 MERCHANTS ROW"
          ],
          [
           "57 MERCHANTS ROW"
          ],
          [
           "581 ST ALBANS RD"
          ],
          [
           "73 FIRST ST"
          ],
          [
           "9 GRAND AVE"
          ],
          [
           "7 POTATO HILL RD"
          ],
          [
           "1106 ROUTE 2"
          ],
          [
           "14 LAKE ST"
          ],
          [
           "2 NORTH MAIN ST"
          ],
          [
           "225 ROUTE 78"
          ],
          [
           "230 VT ROUTE 129"
          ],
          [
           "4 MAIN ST"
          ],
          [
           "1 ADAMS LANDING RD EXT"
          ],
          [
           "1 HYDE RD STE 3"
          ],
          [
           "1268 GORDONS LANDING"
          ],
          [
           "259 US ROUTE 2"
          ],
          [
           "2925 WEST SHORE RD"
          ],
          [
           "4445 MAIN ST"
          ],
          [
           "92 ST ANNES RD"
          ],
          [
           "3643 US ROUTE 2"
          ],
          [
           "316 ROUTE 2"
          ],
          [
           "34 E SHORE RD N"
          ],
          [
           "500 US ROUTE 2"
          ],
          [
           "500 RTE 2"
          ],
          [
           "513 ROUTE 2"
          ],
          [
           "5187 VT ROUTE 14"
          ],
          [
           "218 NORTH MAIN STREET"
          ],
          [
           "4322 VT ROUTE 108 S"
          ],
          [
           "4323 VT ROUTE 108 S"
          ],
          [
           "4323 VT ROUTE 108 S"
          ],
          [
           "4323 VT ROUTE 108 SOUTH"
          ],
          [
           "44 DESJARDINS RD"
          ],
          [
           "4807 ROUTE 15"
          ],
          [
           "51 MAIN ST"
          ],
          [
           "55 Stebbins  RD"
          ],
          [
           "55 Church  ST"
          ],
          [
           "48 MAIN ST"
          ],
          [
           "4323 VT ROUTE 108 S"
          ],
          [
           "143 MORSE DR"
          ],
          [
           "2319 WARREN RD"
          ],
          [
           "639 MORRISTOWN CORNERS RD "
          ],
          [
           "158 MAIN ST"
          ],
          [
           "4323 VT ROUTE 108 S"
          ],
          [
           "4807 VT ROUTE 15"
          ],
          [
           "4828 VT ROUTE 15"
          ],
          [
           "55 CHURCH ST"
          ],
          [
           "55 CHURCH STREET"
          ],
          [
           "52 DEER RUN LOOP"
          ],
          [
           "1015 ROUTE 15 W"
          ],
          [
           "1015 VT ROUTE 15"
          ],
          [
           "12 LOWER MAIN W"
          ],
          [
           "17 LOWER MAIN ST"
          ],
          [
           "337 COLLEGE HILL"
          ],
          [
           "38 LOWER MAIN ST"
          ],
          [
           "105 MORRISVILLE PLAZA"
          ],
          [
           "107 UNION ST"
          ],
          [
           "116 W VT ROUTE 15 SUITE 2"
          ],
          [
           "157 VT ROUTE 15 W"
          ],
          [
           "30 FAIRGROUND PLZ"
          ],
          [
           "30 MUNSON AVE STE 1"
          ],
          [
           "3107 VT ROUTE 15"
          ],
          [
           "345 BROOKLYN ST"
          ],
          [
           "387 BROOKLYN ST"
          ],
          [
           "65 NORTHGATE PLAZA UNIT 5"
          ],
          [
           "3 Main St"
          ],
          [
           "28 Mill St."
          ],
          [
           "1859 MOUNTAIN RD"
          ],
          [
           "54 Steele Road"
          ],
          [
           "18 EDSON HILL RD"
          ],
          [
           "3835 Main St"
          ],
          [
           "1 King ST"
          ],
          [
           "10 PRINCE ST                       "
          ],
          [
           "495 MAGIC MOUNTAIN ACCESS RD"
          ],
          [
           "2170 VT ROUTE 11"
          ],
          [
           "87 EDWARDS RD"
          ],
          [
           "2242 NORTH MAIN ST"
          ],
          [
           "4323 Route 108"
          ],
          [
           "25 Main St."
          ],
          [
           "216 ROUTE 7 S"
          ],
          [
           "289 MAIN ST"
          ],
          [
           "831 COLLEGE PKWY"
          ],
          [
           "37 Church St."
          ],
          [
           "83 CHURCH ST"
          ],
          [
           "107 STATE ST"
          ],
          [
           "21 CONNOR WAY STE 140"
          ],
          [
           "53 LOWER MAIN  ST"
          ],
          [
           "1880 MOUNTAIN RD STE 1"
          ],
          [
           "1380 PUTNEY RD"
          ],
          [
           "703 PINE ST UNIT B"
          ],
          [
           "1844 DEPOT ST"
          ],
          [
           "61 CENTRAL ST"
          ],
          [
           "3266 LAPORTE RD"
          ],
          [
           "32 BONNET ST"
          ],
          [
           "520 Rte 5 South"
          ],
          [
           "UVM Living/Learning Campus 633 Main St"
          ],
          [
           "1150 WILLISTON RD"
          ],
          [
           "2072 Burlington Town Ctr            "
          ],
          [
           "580 SHELBURNE RD UNIT 9"
          ],
          [
           "10 Hawthorne St"
          ],
          [
           "134 MAIN ST"
          ],
          [
           "3657 VT Route 107"
          ],
          [
           "1880 MOUNTAIN RD"
          ],
          [
           "2043 Mountain Rd"
          ],
          [
           "25 MACRAE RD"
          ],
          [
           "320 US ROUTE 2 NORTH"
          ],
          [
           "366 Swanton Rd. Rte. 7"
          ],
          [
           "700 Tuckers Way (Wal-Mart)"
          ],
          [
           "1038 N MAIN ST"
          ],
          [
           "6800 WOODSTOCK RD"
          ],
          [
           "1917 VT ROUTE 66"
          ],
          [
           "133 BLAKELY RD"
          ],
          [
           "369 DEPOT ST"
          ],
          [
           "518 Pearl Street"
          ],
          [
           "14 MISSING LINK RD"
          ],
          [
           "221 LOWER MAIN ST W"
          ],
          [
           "2781 Rte 7 North"
          ],
          [
           "4828 Route 15 "
          ],
          [
           "733 Queen City  PKWY"
          ],
          [
           "1128 MOUNTAIN RD"
          ],
          [
           "19 TAFT CORNERS SHCTR"
          ],
          [
           "48 S MAIN ST"
          ],
          [
           "985 MEMORIAL DR"
          ],
          [
           "161 CHURCH ST"
          ],
          [
           "68 Lower Main St."
          ],
          [
           "5247 SHELBURNE ROAD                "
          ],
          [
           "54 College  ST"
          ],
          [
           "81 BRIDGE ST"
          ],
          [
           "708 US ROUTE 302"
          ],
          [
           "230 NORTH ST"
          ],
          [
           "136 MAIN ST"
          ],
          [
           null
          ],
          [
           "263 Depot St."
          ],
          [
           "20 WINOOSKI FALLS WAY STE 201"
          ],
          [
           "12 PARK ST"
          ],
          [
           "2759 ROUTE 11"
          ],
          [
           "201 CORNERSTONE DR"
          ],
          [
           "1705 WILLISTON RD"
          ],
          [
           "10 RAILROAD ST"
          ],
          [
           "39 River Road, Suite 6"
          ],
          [
           "48 MAIN ST"
          ],
          [
           "16 IRIS LN"
          ],
          [
           "400 PINE ST"
          ],
          [
           "2685 KILLINGTON RD"
          ],
          [
           "492 MOUNTAIN RD"
          ],
          [
           "126 COLLEGE ST"
          ],
          [
           "379 Lower Plain"
          ],
          [
           "482 VT RT 114"
          ],
          [
           "25 OMEGA DR STE 150"
          ],
          [
           "133 ST PAUL ST"
          ],
          [
           "930 SOUTHERN VT ARTS CENTER DR"
          ],
          [
           "242 N WINOOSKI AVE"
          ],
          [
           "1746 Mountain Road"
          ],
          [
           "3128 FOREST DALE ROAD              "
          ],
          [
           "3805 MAIN ST"
          ],
          [
           "35 SCHOOL ST"
          ],
          [
           "294 MOUNTAIN RD"
          ],
          [
           "19 Hungtington Pl."
          ],
          [
           "21 LOWER MAIN ST"
          ],
          [
           "586 US ROUTE 4"
          ],
          [
           "4940 MAIN ST"
          ],
          [
           "2 N WINOOSKI AVE"
          ],
          [
           "10 Church Street"
          ],
          [
           "4 PARK ST"
          ],
          [
           "82 LOWER MAIN ST"
          ],
          [
           "53 ELM ST"
          ],
          [
           "951 MAIN ST"
          ],
          [
           "137 Pearl St."
          ],
          [
           "997 MAIN ST STE 4"
          ],
          [
           "6305 Shelburne Rd."
          ],
          [
           "119 Walnut St"
          ],
          [
           "209 CANAL ST"
          ],
          [
           "4000 MOUNTAIN RD                   "
          ],
          [
           "112 LAKE ST"
          ],
          [
           "66 BELDEN RD"
          ],
          [
           "8814 ROUTE 30"
          ],
          [
           "132 NORTHSIDE DR"
          ],
          [
           "740 MARSHALL AVE"
          ],
          [
           "192 BOXWOOD ST"
          ],
          [
           "9 PORTLAND ST"
          ],
          [
           "1730 ROUTE 100"
          ],
          [
           "506 Porters Point RD UNIT 1"
          ],
          [
           "65 WINOOSKI FALLS WAY SUITE B 104  "
          ],
          [
           "57 Main ST"
          ],
          [
           "301 VT ROUTE 131"
          ],
          [
           "3 SOUTHERBERRY DR"
          ],
          [
           "1 Commonwealth  AVE"
          ],
          [
           "41 ELM  ST"
          ],
          [
           "2099 DARLING HILL RD"
          ],
          [
           "911 WESTERN AVE"
          ],
          [
           "85 NORTH MAIN ST"
          ],
          [
           "83 HUNTINGTON RD"
          ],
          [
           "20 W MAIN ST"
          ],
          [
           "478 S BARRE RD"
          ],
          [
           "106 MAIN ST"
          ],
          [
           "131 MAIN ST"
          ],
          [
           "8 CATAMOUNT DR"
          ],
          [
           "144  Church  ST"
          ],
          [
           "699 WASHINGTON ST"
          ],
          [
           "91 N Main  ST"
          ],
          [
           "3 VILLAGE SQ"
          ],
          [
           "1214 MAIN ST"
          ],
          [
           "423 MARLBORO RD"
          ],
          [
           "205 ST PAUL ST"
          ],
          [
           "21 EAST ST"
          ],
          [
           "56 MAIN ST"
          ],
          [
           "156 N WINOOSKI AVE"
          ],
          [
           "41 CENTER ST"
          ],
          [
           "3082 MAIN ST"
          ],
          [
           "250 RAILROAD ST UNIT 3"
          ],
          [
           "102 FOREST DR"
          ],
          [
           "30 S MAIN ST"
          ],
          [
           "176 VT ROUTE 5 N"
          ],
          [
           "27 WATER ST"
          ],
          [
           "172 S MAIN ST"
          ],
          [
           "42 Village  GRN"
          ],
          [
           "85 WESTERN AVE"
          ],
          [
           "192 US Route 5"
          ],
          [
           "11 FORNUTO RD"
          ],
          [
           "34 S MAIN ST"
          ],
          [
           "856 HERCULES DR STE 20"
          ],
          [
           "287 MAIN ST"
          ],
          [
           "400 CORNERSTONE DR STE 230"
          ],
          [
           "7083 US ROUTE 4"
          ],
          [
           "2875 Hardwick  ST"
          ],
          [
           "26 CENTER ST"
          ],
          [
           "256 MAIN ST"
          ],
          [
           "7404 ETHAN ALLEN  HWY"
          ],
          [
           "18 SEVERANCE GREEN"
          ],
          [
           "1060 US ROUTE 302"
          ],
          [
           "104  Cheney  RD"
          ],
          [
           "91 MAIN ST"
          ],
          [
           "5228 E MAIN ST"
          ],
          [
           "1089 SHELBURNE RD"
          ],
          [
           "716 Pine ST"
          ],
          [
           "49 Church  ST"
          ],
          [
           "373 BLAIR PARK RD STE 101"
          ],
          [
           "1 MILL ST STE 138"
          ],
          [
           "199 US ROUTE 7"
          ],
          [
           "150 W CANAL ST STE 1"
          ],
          [
           "150 Dorset  ST STE 304"
          ],
          [
           "2989 SHELBURNE  RD"
          ],
          [
           "5781 Mountain  RD"
          ],
          [
           "64 POND ST"
          ],
          [
           "118 PEARL ST"
          ],
          [
           "201 South ST"
          ],
          [
           "1236 ROUTE 4"
          ],
          [
           "4 MECHANIC ST"
          ],
          [
           "26 SUSIE WILSON RD"
          ],
          [
           "352 N HARTLAND RD"
          ],
          [
           "178 WEST ST"
          ],
          [
           "457 ST PAUL ST"
          ],
          [
           "11 CABIN LN"
          ],
          [
           "403 HILL RD"
          ],
          [
           "154 DEPOT ST"
          ],
          [
           "1840 SUGARBUSH ACCESS RD"
          ],
          [
           "1233 SHELBURNE RD STE B1"
          ],
          [
           "186 River  ST"
          ],
          [
           "219 N MAIN ST"
          ],
          [
           "703 PINE ST"
          ],
          [
           "202 VT ROUTE 131"
          ],
          [
           "30 BRIDGE ST"
          ],
          [
           "71 S UNION ST"
          ],
          [
           "29 STOWE ST"
          ],
          [
           "232 GROVE ST"
          ],
          [
           "2822 ROUTE 7 SUITE B"
          ],
          [
           "197 COLLEGE ST"
          ],
          [
           "15 SOUTH MAIN ST"
          ],
          [
           "648 PUTNEY RD"
          ],
          [
           "595 Main ST"
          ],
          [
           "504 MOUNTAIN RD"
          ],
          [
           "92 CHURCH  ST"
          ],
          [
           "214 N MAIN ST"
          ],
          [
           "273 MAIN ST"
          ],
          [
           "3239 VT Route 30"
          ],
          [
           "191 College ST"
          ],
          [
           "109 MAIN ST"
          ],
          [
           "5 W MAIN ST"
          ],
          [
           "1653 W WOODSTOCK RD"
          ],
          [
           "67 Central  ST"
          ],
          [
           "585 ROUTE 5"
          ],
          [
           "2002 MEMORIAL DR STE 6"
          ],
          [
           "22 ROCKINGHAM ST"
          ],
          [
           "59 ROUTE 30"
          ],
          [
           "17 Main ST"
          ],
          [
           "175 CHURCH ST"
          ],
          [
           "32 VT Route 10"
          ],
          [
           "366 SWANTON RD"
          ],
          [
           "1917 VT ROUTE 66"
          ],
          [
           "71 S UNION ST UNIT 4"
          ],
          [
           "5101 MAIN ST"
          ],
          [
           "1396 ROUTE 7 SOUTH"
          ],
          [
           "60  Institute  RD"
          ],
          [
           "3087 Main  ST"
          ],
          [
           "317  Golf Course RD"
          ],
          [
           "125 MAIN ST STE B"
          ],
          [
           "434 Main ST"
          ],
          [
           "5573 Shelburne  RD"
          ],
          [
           "191 COLLEGE ST"
          ],
          [
           "80 ETHAN ALLEN  DR STE 2"
          ],
          [
           "43 E MAIN ST"
          ],
          [
           "716 PINE ST"
          ],
          [
           "365 DEPOT ST"
          ],
          [
           "308 US Route 2"
          ],
          [
           "97 Main  ST"
          ],
          [
           "4479 MAIN ST"
          ],
          [
           "515 MAIN ST"
          ],
          [
           "228 CHELSEA ST"
          ],
          [
           "27 N MAIN ST"
          ],
          [
           "610 US Route 7"
          ],
          [
           "6 VILLAGE SQUARE"
          ],
          [
           "95 MAIN ST"
          ],
          [
           "140 STRONGS AVE"
          ],
          [
           "78 BARRE ST"
          ],
          [
           "139 EASTERN AVE"
          ],
          [
           "163 CHERRY ST"
          ],
          [
           "2370 US Route 5"
          ],
          [
           "87 MAIN ST"
          ],
          [
           "1948 VT ROUTE 100"
          ],
          [
           "1  Washington  ST UNIT 2"
          ],
          [
           "67 CENTER ST"
          ],
          [
           "126 COLLEGE ST STE 130/140"
          ],
          [
           "65 MAIN ST"
          ],
          [
           "10 SIMONS PLAZA"
          ],
          [
           "260 N MAIN ST STE 19"
          ],
          [
           "237 N MAIN ST STE 2"
          ],
          [
           "441 MAIN  ST"
          ],
          [
           "3796 VT Route 30"
          ],
          [
           "1007 PUTNEY RD"
          ],
          [
           "94 The Common"
          ],
          [
           "136 MAIN ST"
          ],
          [
           "128 Main  ST"
          ],
          [
           "40 BRIDGE ST"
          ],
          [
           "14 S MAIN ST"
          ],
          [
           "82 Ethan Allen  DR STE A"
          ],
          [
           "579 PLOT RD"
          ],
          [
           "19 S Main ST"
          ],
          [
           "2165 PORTLAND ST"
          ],
          [
           "38 MAIN ST"
          ],
          [
           "100 River  ST STE 204"
          ],
          [
           "260 NORTH ST"
          ],
          [
           "1208 WILLISTON RD"
          ],
          [
           "1103 VT Route 253"
          ],
          [
           "1860 WILLISTON RD UNIT 4"
          ],
          [
           "19 ALLEN ST"
          ],
          [
           "VILLAGE SQUARE BLDG 8"
          ],
          [
           "1396 ROUTE 7 SOUTH "
          ],
          [
           "191 COLLEGE ST"
          ],
          [
           "26 MAIN ST"
          ],
          [
           "1127 North AVE STE 8"
          ],
          [
           "89 MAD RIVER GRN"
          ],
          [
           "5351 MAIN ST"
          ],
          [
           "17 EAST ST"
          ],
          [
           "294 N WINOOSKI  AVE STE 112C"
          ],
          [
           "193 N MAIN ST"
          ],
          [
           "716 MAIN ST"
          ],
          [
           "3090 VT ROUTE 100"
          ],
          [
           "1307 KILLINGTON RD"
          ],
          [
           "603 VT Route 114"
          ],
          [
           "916 Shelburne  RD"
          ],
          [
           "80 MAIN ST"
          ],
          [
           "155 DORSET  ST S"
          ],
          [
           "95 WOODSTOCK AVE"
          ],
          [
           "40 Summit  PATH"
          ],
          [
           "580 SHELBURNE RD"
          ],
          [
           "360 STATESIDE RD"
          ],
          [
           "11 CENTER ST"
          ],
          [
           "237 NORTH AVE"
          ],
          [
           "1400 US ROUTE 302"
          ],
          [
           "2841 KILLINGTON  RD"
          ],
          [
           "51 WEST ST"
          ],
          [
           "179  Guptil  RD"
          ],
          [
           "4 COURT ST"
          ],
          [
           "48 EASTERN AVE"
          ],
          [
           "71 ARTISANS WAY"
          ],
          [
           "26 DOVER RD"
          ],
          [
           "333 Jones Drive"
          ],
          [
           "4928 MAIN ST"
          ],
          [
           "316 PINE ST STE 114"
          ],
          [
           "164 PORTER POINT RD STE 3"
          ],
          [
           "71 S UNION ST"
          ],
          [
           "137 PEARL ST"
          ],
          [
           "774 MAIN ST"
          ],
          [
           "311 MOUNTAIN  RD"
          ],
          [
           "195 FALLS RD"
          ],
          [
           "12 COUNTRY CLUB  RD"
          ],
          [
           "1930 KILLINGTON RD"
          ],
          [
           "114 MAD RIVER GREEN"
          ],
          [
           "69 CROSS ST"
          ],
          [
           "46 CENTER ST"
          ],
          [
           "1355 NORTH AVE"
          ],
          [
           "46 PLEASANT ST"
          ],
          [
           "258 WINOOSKI AVE"
          ],
          [
           "4374 WOODSTOCK RD"
          ],
          [
           "1955 VT Route 16"
          ],
          [
           "53 UPPER MAIN ST"
          ],
          [
           "4928 MAIN ST"
          ],
          [
           "5 S MAIN  ST"
          ],
          [
           "4723 US ROUTE 2"
          ],
          [
           "303 MAIN ST"
          ],
          [
           "11 MAIN ST"
          ],
          [
           "32 CHERRY ST STE 199"
          ],
          [
           "150 MAIN  ST"
          ],
          [
           "1002 AIRPORT RD"
          ],
          [
           "208 HOUR GLASS  DR"
          ],
          [
           "183 GATE HOUSE TRAIL"
          ],
          [
           "94 PLACE ST"
          ],
          [
           "10  RAILROAD  AVE"
          ],
          [
           "258 S MAIN"
          ],
          [
           "1127 NORTH  AVE STE 32"
          ],
          [
           "133 N MAIN ST UNIT 7"
          ],
          [
           "662 RIVERSIDE  AVE"
          ],
          [
           "1482 DRY POND RD"
          ],
          [
           "340 AVE D UNIT 20"
          ],
          [
           "123 MAIN ST"
          ],
          [
           "2388 PORTLAND ST"
          ],
          [
           "156 CHURCH ST"
          ],
          [
           "700 TRAPP HILL RD"
          ],
          [
           "4584 US ROUTE 5"
          ],
          [
           "4 PEARL  ST STE 105"
          ],
          [
           "155 CARROLL RD"
          ],
          [
           "3 S MAIN ST "
          ],
          [
           "118 MAIN ST"
          ],
          [
           "4229 VT ROUTE 125"
          ]
         ],
         "hovertemplate": "<b>%{hovertext}</b><br><br>TYPE2=Restaurant<br>Latitude=%{lat}<br>Longitude=%{lon}<br>Address=%{customdata[0]}<extra></extra>",
         "hovertext": [
          "JUNIPER HILL INN",
          "WINDSOR ELKS BPO LODGE 1665",
          "JOHN P LARKIN COUNTRY CLUB",
          "STUBS & LAURAS",
          "FRAZERS PLACE",
          "AMERICAN CRAFTED SPIRITS INCORPORATED",
          "HARPOON BREWERY",
          "BOSTON DREAMS LLC",
          "CLARAS CAFE",
          "CROW BAR & GRILL",
          "SUSTAINABLE FARMER THE",
          "YUMMY YUMMY CHINESE RESTAURANT",
          "PIZZA CHEF OF WINDSOR",
          "SOUTH WOODSTOCK COUNTRY STORE",
          "RED ROOSTER",
          "PRINCE AND THE PAUPER",
          "BENTLEYS RESTAURANT",
          "1830 SHIRE TOWN INN THE",
          "MOUNTAIN CREAMERY",
          "CANTERBURY HOUSE BED & BREAKFAST",
          "WORTHY KITCHEN",
          "WHITE COTTAGE SNACK BAR",
          "PI BRICK OVEN TRATTORIA",
          "HEART ROCK KITCHEN",
          "THE DAILY CATCH",
          "ANGKOR WAT",
          "PIZZA CHEF OF WOODSTOCK",
          "MAPLEFIELDS AT WOODSTOCK",
          "MON VERT CAFE",
          "MELAZA CARIBBEAN BISTRO",
          "SWEET SERENITY BED & BREAKFAST",
          "PERFECT PEAR CAFE",
          "MONTAGUE GOLF CLUB",
          "GOLF COURSE",
          "SAAP",
          "THREE STALLION INN",
          "SHADY MAPLES",
          "CHEFS MARKET",
          "CAFE 232 LLC",
          "STONE SOUP",
          "ISABELLS CAFE",
          "LIMLAW FAMILY MAPLE FARM LLC",
          "LOYAL ORDER OF MOOSE LODGE 1391",
          "THE PUB",
          "PUMP & PANTRY",
          "VILLAGE HOUSE INN OF ALBANY",
          "PARSONS CORNER",
          "B & W SNACK BAR INC",
          "BARTON GOLF CLUB",
          "LAKE HOUSE SALOON LLC",
          "MINGS HOUSE CHINESE RESTAURANT",
          "PARKER PIE WINGS",
          "WHETSTONE BROOK B & B",
          "CRAFTSBURY INN, THE",
          "INN ON THE COMMON",
          "MILL VILLAGE B & B",
          "PAULS SUGAR HOUSE",
          "GARDEN OF EDIE",
          "HILLBILLY HIDEAWAY",
          "LEE WAH CHINESE RESTAURANT",
          "DERBY COW PALACE",
          "COW PALACE",
          "DERBY CORNER MINI MART",
          "JENNIFER'S RESTAURANT OF DERBY",
          "DERBY CANDLEPIN LANES",
          "CHAMPLAIN FARMS",
          "ROASTERS CAFE & DELI",
          "VERMONT PIE AND PASTA CO",
          "RACHELS TEAPOT CAFE",
          "HOAGIES PIZZA & PASTA EXPRESS",
          "DERBY JOLLEY #113",
          "VILLAGE PIZZA",
          "McDonald’s",
          "BIRCHWOOD B & B, THE",
          "AMERICAS TACO SHOP",
          "JANE'S",
          "CHINA MOON BUFFET",
          "CURRIERS DELI",
          "PETES BUSY BEE",
          "GLOVER BUSY BEE",
          "RUNAWAY CAFE",
          "LAKEVIEW INN",
          "TEE OFF THE",
          "SMITHS GROCERY INC",
          "CRAZY HORSE LLC",
          "MARTHA'S DINER",
          "COTTONWOOD QUILTS",
          "JAY COUNTRY STORE",
          "INGLENOOK LODGE",
          "SNOWLINE",
          "INTERNATIONAL HOUSE & FOOD SERVICE",
          "TRAM HOUSE PIZZERIA & GOLDEN EAGLE",
          "ALICES TABLE TOWER BAR & AROMAS",
          "JAY PEAK ICE HAUS",
          "FOUNDRY RESTAURANT THE",
          "HOTEL JAY",
          "MOUNTAIN DICKS PIZZERIA",
          "WARMING HUT THE",
          "JAY PEAK GENERAL STORE AND PROVISIONS",
          "JAY PEAK RESORT",
          "STATE CHALET",
          "CAJUNS SNACK BAR",
          "MISSISSQUOI LANES",
          "HIDDEN COUNTRY RESTAURANT",
          "NORTHERN STAR THE",
          "PUB & GRUB THE",
          "L B SNACK BAR RESTAURANT",
          "DUSIT THAI CUISINE",
          "CRAVING RESTAURANT",
          "TAVERN ON THE HILL",
          "FAMILY RECIPE",
          "NEWPORT NATURAL MARKET AND CAFE",
          "LITTLE GS",
          "MISS NEWPORT DINER",
          "HEBARD'S CUPBOARD",
          "SUB STATION EXPRESS",
          "HOAGIES PIZZA & PASTA",
          "NOONANS SUPPER CLUB LLC",
          "WAYNES SNACKBAR & PIZZA HOUSE",
          "NEWPORT SUBWAY",
          "LE BELVEDERE",
          "MEETING PLACE THE",
          "PEKING GARDEN",
          "WEST SHORE PUB",
          "LOS TAVERN",
          "Wendy’s",
          "GATEWAY CENTER",
          "BROWN COW THE",
          "WOK N ROLL",
          "NEWPORT CAR WASH & MINI MART",
          "EASTSIDE RESTAURANT & PUB ",
          "RACHELS RESTAURANT",
          "YOWZERS",
          "WATERFRONT LANES",
          "GRIFFS CADDYSHACK",
          "NEWPORT TOWN SCHOOL",
          "PADDIES SNACK BAR",
          "NORTH TROY INN BED & BREAKFAST",
          "ORLEANS PIZZA PLACE",
          "SUBWAY",
          "ORLEANS COUNTRY CLUB",
          "VILLAGE PIZZA ORLEANS",
          "WILD COYOTE BAR AND GRILLE",
          "LODGE GRILL & PUB",
          "1ST & LAST BORDER STOP RESTAURANT",
          "BUON AMICI",
          "LINDA'S PLACE",
          "WEATHERVANE MUSIC HALL",
          "FORTY PUTNEY ROAD BED & BREAKFAST",
          "BRATTLEBORO FOOD COOP",
          "OUR PLACE FAMILY RESTAURANT",
          "SONNYS PIT STOP",
          "SUBWAY",
          "NEW ENGLAND HOUSE THE",
          "MARINA RESTAURANT AND CATERING",
          "WEST RIVER MARINA",
          "MARLBORO COLLEGE COFFEE SHOP",
          "CAFE LOTUS",
          "BLUE MOOSE",
          "WINE GALLERY THE",
          "PETER HAVENS",
          "AMERICAN LEGION CLUB POST 5",
          "SUBWAY #802",
          "BRATTLEBORO COUNTRY CLUB",
          "RIVERVIEW CAFE THE",
          "WHETSTONE STATION RESTAURANT & BREWERY",
          "39 MAIN",
          "MOLES EYE CAFE",
          "VFW CARL DESSAINT POST #1034",
          "MILLENNIUM PIZZA",
          "HOUSE OF PIZZA",
          "SPORTSMAN'S LOUNGE",
          "VERMONT INN PIZZA",
          "Dunkin’ Donuts",
          "CHELSEA ROYAL DINER",
          "FU CAI CHINESE RESTAURANT",
          "ELLIOT STREET FISH CHIPS & MORE",
          "ALICIS BISTRO & MARTINI BAR",
          "CAPERS",
          "TWILIGHT TEA LOUNGE",
          "FRATERNAL ORDER OF EAGLES #2445",
          "BURGER KING",
          "EMILS PUB",
          "SHIN LA RESTAURANT",
          "FLAT STREET PUB",
          "D ANGELO OF VERMONT",
          "MATTY CS CAFE",
          "THAI BAMBOO INC",
          "ECHO RESTAURANT & LOUNGE",
          "BEACON BAR/BILLIARDS, THE",
          "DELIGHTFULLY DELICIOUS CAFE BAKERY",
          "HAZEL",
          "HOUSE OF PIZZA",
          "PANASIAN",
          "MIKE'S RESTAURANT",
          "DALEMS CHALET",
          "CHINA BUFFET",
          "SUNNYS DELI & BAKERY",
          "BRATTLEBORO BOWL",
          "MICHELE'S RISTORANTE",
          "INDIA MASALA HOUSE",
          "CHUN YAN CHINESE RESTAURANT",
          "BRATTLEBORO HOUSE OF PIZZA",
          "THIN CRUST PIZZERIA LLC",
          "GILLIES RESTAURANT",
          "PAW HOUSE INN & RESORT AT MT SNOW",
          "PIZZERIA LA TOSCANELLA",
          "TWO TANNERY ROAD",
          "LITTLE FLOWER",
          "T C'S FAMILY RESTAURANT",
          "TCS TAVERN",
          "1900 BURGER",
          "DOTS OF DOVER",
          "MARKETPLACE CAFETERIA",
          "MATTERHORN INN",
          "FENNESSEY'S PARLOR",
          "HENNESSEY & DEEGANS RESTAURANT & TAVERN",
          "DOS GRINGOS",
          "DOVEBERRY INN",
          "VALLEY DINER THE",
          "SILO RESTAURANT THE",
          "KITZHOF INN",
          "SNOW BARN",
          "SUNDANCE CAFE",
          "SUMMIT LODGE",
          "INN AT MOUNT SNOW",
          "INN @ SAWMILL FARM THE",
          "HARRIMAN'S RESTAURANT - MOUNT SNOW",
          "TONYS AT MOUNT SNOW",
          "GRAND SUMMIT COUNTRY DELI",
          "MKT",
          "OLD TAVERN AT GRAFTON LLC DANIELS CAFE",
          "MACKS PLACE EATERY",
          "GUILFORD COUNTRY STORE",
          "AVIGLIANO CATERING",
          "MO'S MARKET",
          "JAMAICA COFFEE HOUSE",
          "ASTAS",
          "HONEYPIE RESTAURANT",
          "TONYS NY STYLE PIZZA",
          "SNOWDON CHALET            ",
          "GRANDMA MILLERS PIES AND PASTRIES",
          "NEW AMERICAN GRILL THE",
          "JAKE'S RESTAURANT AND TAVERN",
          "VIKING NORDIC",
          "LONDONDERRY INN",
          "SOLO FARM & TABLE",
          "GOLDEN EAGLE MOTEL THE",
          "WEST RIVER GRILLE",
          "RICKS TAVERN",
          "GILLIANS GUEST HOUSE",
          "FAT CROW",
          "NEWFANE COUNTRY STORE",
          "NEWFANE INN",
          "PUTNEY VILLAGE PIZZA",
          "FRONT PORCH CAFE",
          "GLEANERY THE",
          "JD MCCLIMENTs PUB",
          "J.D. MCCLIMENT'S SCOTTISH PUB",
          "MOUNTAIN PAUL'S GENERAL STORE",
          "PUTNEY G STORE",
          "PUTNEY INN ",
          "CLUB VT",
          "THE PUTNEY DINER",
          "PUTNEY CONSUMERS COOPERATIVE",
          "PIZZA PALACE",
          "CHINA GARDEN",
          "Dunkin’ Donuts",
          "T-BIRD MINI MART",
          "WEEPING CHERRY BED & BREAKFAST",
          "HRAEFNWOOD CAFE",
          "POULTNEY SMART SHOP",
          "TROLLEY STOP",
          "STEWARTS SHOP #191",
          "POULTNEY HOUSE OF PIZZA",
          "TOTS DINER",
          "TO TS DINER",
          "PERRY'S MAIN STREET EATERY ",
          "LAKE ST CATHERINE COUNTRY CLUB",
          "RED BRICK GRILL",
          "LAKE ST CATHERINE STATE PARK CONCESSION",
          "MORGAN'S SPIRITS AND FOOD",
          "WEST SIDE DINER",
          "SUBWAY #28116",
          "STEWART'S SHOPS",
          "PAISANOS ITALIAN KITCHEN",
          "CASTLETON UNIVERSITY SPARTAN ARENA",
          "RAMUNTO'S PIZZA OF RUTLAND",
          "TOKYO HOUSE JAPANESE RESTAURANT",
          "LITTLE CAESARS PIZZA",
          "BRIX WINE BAR",
          "CHITTENDEN DAM GOOD PIZZA",
          "LITTLE HARRYS",
          "GINGER CHINA RESTAURANT",
          "UNCLE SAMS PUB",
          "KELVANS",
          "THELMA & LOUISE DELI",
          "BROWNSTONE TAVERN",
          "OLYMPIC PIZZA ",
          "BUENO BURRITO",
          "LUCKY DEL'S EATERY",
          "KFC",
          "VERMONT BAGEL CAFE",
          "PIZZA HUT",
          "NUMBER ONE CHINESE RESTAURANT",
          "FRIENDLY'S #706",
          "SOUTHSIDE STEAKHOUSE",
          "JOHNNY BOYS PANCAKE HOUSE II",
          "McDonald’s",
          "McDonald’s",
          "Wendy’s",
          "A CRUST ABOVE",
          "Dunkin’ Donuts",
          "SUBWAY #47179",
          "SEWARD FAMILY RESTAURANT",
          "APPLEBEES NEIGHBORHOOD GRILL & BAR 6802",
          "BACK HOME AGAIN",
          "YELLOW DELI",
          "RED MOON SALOON",
          "JILLY'S SPORTS BAR",
          "LOCAL THE",
          "HIBACHI BUFFET",
          "THAI STAR",
          "BURGER KING RESTAURANT 322",
          "RUTLAND COUNTRY CLUB",
          "PANDA PAVILION",
          "EAST ASIAN CUISINE",
          "99 RESTAURANT & PUB",
          "PARAMOUNT THEATRE",
          "NINETY-NINE RESTAURANT/PUBS",
          "VILLAGE PIZZA DELIGHT",
          "PALMS RESTAURANT",
          "DENNYS RESTAURANT #2365",
          "TRAVELING BISTRO",
          "TACO BELL #26367",
          "THE DRAUGHT ROOM ",
          "ORIENTASTE HIBACHI",
          "KONG CHOW RESTAURANT",
          "NEW KONG CHOW FUSION",
          "ROOTS THE RESTAURANT",
          "CHECKMATE",
          "GROUND ROUND GRILL & BAR",
          "RUTLAND RESTAURANT",
          "GILLS DELICATESSEN",
          "K-MART #3981",
          "THREE D'S CAFE",
          "CASS' PUB",
          "GREEN MOUNTAIN FRESH",
          "TEDS PIZZA SHOP",
          "MAXIES DELI",
          "QUS BREAKFAST AND BURGERS",
          "BURNHAM HOLLOW BAKERY & CATERING COMPANY",
          "COFFEE EXCHANGE",
          "ROXIES",
          "HOWE COFFEE SHOP/FRANKLIN CONFERENCE CTR",
          "CLEM AND COMPANY",
          "SAINTS N SINNERS IRISH PUB",
          "WASHBUCKLERS",
          "OUT OF BOUNDS SPORTS BAR & NIGHTCLUB",
          "NO 1 CHINESE RESTAURANT",
          "OFFICE BAR & GRILL",
          "SIDE LINES",
          "SIRLOIN SALOON",
          "YELLOW SUBMARINE & DELI, THE",
          "TABLE 24",
          "HIDE-A-WAY TAVERN",
          "DOUBLE DRAGON BUFFET",
          "NEW SHANGHAI AND TOKYO RESTAURANT",
          "EMMA TS SUB EXPRESS",
          "THE VILLAGE SNACK BAR",
          "BIG LENNY'S INSIDE JOB",
          "SANDWICH SHOPPE",
          "STAFFORD TECHNICAL CENTER",
          "3 DS",
          "JAVA NEWS",
          "RUSTIC ROOSTER THE",
          "FORGET ME NOT FARM",
          "WHITE ROCKS INN",
          "MOMS COUNTRY KITCHEN",
          "THOROUGHBREADS",
          "TINMOUTH SNACK BAR",
          "FAIRWOOD LANES",
          "CITY CHINESE RESTAURANT",
          "CROWS NEST RESTAURANT",
          "SWEET CAROLINES",
          "JILLYS WEST",
          "MARBLE QUARRY PUB",
          "SUBWAY #458",
          "KAPPYS",
          "PIE SHACK THE",
          "MARY'S CAFE",
          "STAMFORD VALLEY GOLF COURSE",
          "THREE PEAKS INN RESTAURANT & PUB",
          "RED FOX INN",
          "WHISKEY DICKS SALOON",
          "INN AT MAPLEMONT FARM",
          "SHERBURNE BASE LODGE",
          "MIKES GAS & REDEMPTION",
          "NORTHEAST KINGDOM COUNTRY STORE",
          "MOUNTAIN VIEW CREAMERY",
          "THREE PONDS",
          "BENTLEYS BAKERY & CAFE",
          "CREAMERY RESTAURANT",
          "GOOD FELLAS RESTAURANT & TAVERN",
          "WILLY'S RESTAURANT & CATERING",
          "BROWNS MARKET BISTRO",
          "UPPER VALLEY GRILL & GENERAL STORE",
          "SEYON RANCH STATE PARK",
          "HARDWICK VILLAGE RESTAURANT",
          "MOUNTAIN VIEW SNACK BAR OF HARDWICK",
          "HARDWICK HOUSE OF PIZZA",
          "YUMMY WOK",
          "POSITIVE PIE HARDWICK",
          "ECHO LEDGE FARM INN",
          "LYNDON FREIGHT HOUSE RESTAURANT",
          "FREIGHTHOUSE ORGANIC FARM RESTAURANT",
          "ARAMARK SERVICES",
          "McDonald’s",
          "WHITE MARKET DELI THE",
          "ASIA RESTAURANT ",
          "JUNIPER'S",
          "LYNDONVILLE SUBWAY",
          "MID BURKE LODGE",
          "BIG DELI THE",
          "TROUT RIVER BREWING COMPANY",
          "BRANCH BROOK BED & BRKFST",
          "SWEET BASIL",
          "CHINAMOON BUFFET",
          "HOAGIES PIZZA & PASTA",
          "MISS LYNDONVILLE DINER",
          "VALLEY VIEW FAMILY RESTAURANT & TAVERN",
          "MOONLIGHT INN VERMONT BED & BREAKFAST",
          "LYNDONVILLE HOUSE OF PIZZA",
          "Cumberland Farms",
          "LYNDON OUTING CLUB",
          "VINNYS ITALIAN AMERICAN RESTAURANT",
          "STEVENS DINING HALL LYNDON STATE",
          "HORNETS NEST / LYNDON STATE",
          "PACKING HOUSE THE",
          "BURGERS & FRIES UNLIMITED",
          "LYNDON BUFFET",
          "BARSEN HOUSE INN",
          "WHITFORD HOUSE THE",
          "FAIRY TALE FARM BED & BREAKFAST",
          "DEERWOOD ESTATE",
          "BRISTOL CLIFFS CAFE",
          "WOKKYS CHINESE RESTAURANT",
          "JERUSALEM CORNERS COUNTRY STORE",
          "MARYS AT BALDWIN CREEK",
          "SNAPS CAFE",
          "MOUNTAIN GREENS MARKET AND DELI",
          "DREAM HOUSE ENTERPRISES",
          "BOBCAT CAFE",
          "BRISTOL AM LEG POST 19",
          "KINFOLKS KUNTRY RESTAURANT",
          "CUBBERS",
          "WILLOW & LOTUS BED & BREAKFAST",
          "BASIN HARBOR BUFFET KITCHEN",
          "STARRY NIGHT CAFE",
          "BASIN HARBOR RED MILL",
          "D'S DOG HOUSE & TAVERN",
          "VERMONT HOME KITCHEN & BAKERY",
          "FIREFLY RANCH",
          "TASTE OF INDIA",
          "GREEN PEPPERS RESTAURANT",
          "SABAI SABAI THAI CUSINE",
          "MIDDLEBURY BAGEL & DELICATESSEN",
          "STONE LEAF TEAHOUSE LLC",
          "AMERICAN FLATBREAD AT THE MARBLE WORKS",
          "NOONIES DELI",
          "OTTER CREEK DELI & BAKERY",
          "KINGS PLATE",
          "MAGIC CHINESE WOK INC",
          "MIDDLEBURY VILLAGE DEPOT",
          "RICE",
          "KIRK ALUMNI CENTER DINING",
          "DORIAS RESTAURANT",
          "THE DAILY GRIND",
          "MISTER UP'S",
          "FIRE & ICE RESTAURANT",
          "McDonald’s",
          "STORM CAFE, THE",
          "SUBWAY OF MIDDLEBURY",
          "MR UPS RESTAURANT",
          "THE ROUGH CUT",
          "NEIL AND OTTO'S PIZZA CELLAR",
          "MIDDLEBURY MARKET & CAFE",
          "SAMA'S CAFE",
          "SPARKLING",
          "MAPLEFIELDS MIDDLEBURY",
          "GRAPEVINE GRILLE",
          "TOWN HALL THEATER",
          "OTTER CREEK BREWING COMPANY ",
          "HUNGRY MIND CAFE",
          "TWO BROTHERS TAVERN",
          "ROSIES RESTAURANT",
          "TOP SPICE ASIAN CUISINE",
          "DIVERSIFIED OCCUPATIONS KITCHEN",
          "GLASS ONION",
          "ROSS DINING HALL",
          "THE GRILL AT MCCULLOUGH",
          "EDGE OF THE MEADOW B & B",
          "DONUTS OF RUTLAND",
          "MADE IN VERMONT UNLIMITED",
          "PAMS COUNTRY KITCHEN",
          "HAWKS COUNTRY KITCHEN",
          "BUCKSWOOD BED & BREAKFAST",
          "RIPTON COUNTRY STORE",
          "KAMPERSVILLE SNACK BAR",
          "SALISBURY STATION BED & BREAKFAST",
          "PADDLERS PUB",
          "MAPLEFIELDS SHOREHAM",
          "HALFWAY HOUSE RESTAURANT",
          "MILLHOUSE BED & BREAKFAST",
          "SUBWAY OF VERGENNES",
          "CITY LIMITS NITE CLUB",
          "LUIGIS ITALIAN SPECIALTIES",
          "PARK SQUEEZE RESTAURANT",
          "BLACK SHEEP BISTRO",
          "BAR ANTIDOTE",
          "ECHO LOUNGE",
          "RED MILL RESTAURANT (BASIN HARBOR CLUB)",
          "GOODIES SNACK BAR",
          "ADDISON COUNTY EAGLES",
          "BRIDGE RESTAURANT THE",
          "STRONG HOUSE INN",
          "JONATHON'S TABLE",
          "SNOWS ARLINGTON DAIRY BAR",
          "CHAUNCEY'S FAMILY DINING",
          "PIZZA MAN THE",
          "RIVENDELL",
          "LONGMEADOWS FARM INN",
          "FIRST WOK RESTAURANT",
          "ST JOHNSBURY ACADEMY",
          "PIZZA HUT",
          "RIVER BEND DINER",
          "RIVERBEND DINER",
          "ST JOHNSBURY COUNTRY CLUB",
          "KHAMS THAI CUISINE",
          "CATAMOUNT FILM AND ARTS COMPANY",
          "BENEVOLENT & PROTECTIVE ORDER OF ELKS",
          "COMFORT INN & SUITES",
          "HILLTOPPER CULINARY CAFE",
          "BAGEL DEPOT",
          "KINGDOM CRUST COMPANY",
          "RAILROAD STREET BAGEL DEPOT",
          "EAST GARDEN",
          "CENTER TOWER",
          "D & G'S CAFE",
          "PADDY CAKES & CANDY",
          "BLACK BEAR TAVERN & GRILLE",
          "THE WINE GATE",
          "ST JOHNSBURY SUBWAY",
          "JDS FAMILY RESTAURANT",
          "NEW CENTURY CHINESE RESTAURANT",
          "McDonald’s",
          "ST JOHNSBURY HOUSE OF PIZZA",
          "HOUSE OF PIZZA -ST. JOHNSBURY",
          "DAWG HOUSE TAVERN",
          "THE KITCHEN COUNTER CAFE ",
          "CANTINA DI GERARDO",
          "BOXCAR AND CABOOSE",
          "FRONT ROW SPORTS TAVERN",
          "ALPINE VALLEY MOTEL REST & PU",
          "ANTHONYS DINER",
          "TIM'S DELI",
          "CHRISTIE'S AVENUE BISTRO",
          "ELEMENTS RESTAURANT",
          "KFC",
          "WEST BOLTON GOLF CLUB",
          "LOTUS LODGE INN",
          "MAIN BASE LODGE",
          "VILLAGE CAFÉ AT BOLTON VALLEY",
          "SPORTS CENTER",
          "TIMBERLINE",
          "JAMES MOORE TAVERN",
          "THINK CAFE",
          "SUGARSNAP AT ECHO",
          "DEALER.COM",
          "BREAKWATERS",
          "MV NORTHERN LIGHTS",
          "BLUE CAT CAFE",
          "MAGNOLIA BREAKFAST AND LUNCH BISTRO",
          "CHURCH STREET TAVERN",
          "ROTARY MART",
          "OVERLOOK CAFE THE",
          "HENRY STREET DELI",
          "PAVILION THE",
          "FLETCHER ALLEN HEALTH CARE GARDEN ATRIUM ",
          "TASTE OF BURLINGTON",
          "HUNG TAO RESTAURANT",
          "SMITTYS PUB",
          "PHO NGUYEN",
          "NEPALI KITCHEN & BAR",
          "UVM MARCHE AND ALICES CAFE",
          "OLD BRICK STORE",
          "OLD LANTERN",
          "UNCLE SAMS DAIRY BAR",
          "LIBBYS BLUE LINE DINER",
          "ROZZIS LAKESHORE TAVERN",
          "THE SPANKED PUPPY",
          "PORTERS POINT PUB INC",
          "CHOPSTICK HOUSE II",
          "LEE ZACHARYS PIZZA HOUSE @ MALLETTS BAY",
          "BU EMPORIUM",
          "HOAGIE HUT",
          "BRIGANTE'S SNACK BAR",
          "SPARETIME",
          "COSTCO WHOLESALE #314",
          "BRAIN FOOD CAFE THE",
          "BROADACRES BINGO SNACK BAR",
          "PURPLE KNIGHT PIZZA & DELI",
          "BAYSIDE BAKERY AND COFFEE BAR",
          "BURGER KING",
          "LIGHTHOUSE RESTAURANT",
          "COLCHESTER YOUTH BASEBALL MOBILE VENDOR",
          "MAPLEFIELDS AT COLCHESTER",
          "McDonald’s",
          "ATHENS DINER",
          "CLOVER HOUSE RESTAURANT",
          "BAMBOO ROOTS LLC DBA BAYSIDE TRIPLE ME",
          "PEOPLE'S REPUBLIC OF YUMMY",
          "PIZZA HUT",
          "MINGS II RESTAURANT",
          "YUMMY CHINESE RESTAURANT",
          "Dunkin’ Donuts",
          "JUNIOR'S PIZZA",
          "FRIENDLY'S #1249",
          "BEVO",
          "McDonald’s",
          "NEW YORK PIZZA OVEN",
          "JUNIORS",
          "THE PICKLED PERCH RESTAURANT",
          "THREE BROTHERS PIZZA & GRILL",
          "PIZZA HUT",
          "EURO RESTAURANT",
          "Wendy’s",
          "HOAGIES PIZZA & PASTA",
          "MANHATTAN PIZZA & PUB",
          "PEARL STREET PUB",
          "CAFE MEDITERANO",
          "COLONIAL ROOM THE",
          "CAFE & BAKERY AT CTE",
          "BS PANTRY",
          "MAPLE TREE BOOKS DBA PHOENIX BOOKS ESSEX",
          "SWEET SCIENCE",
          "ESSEX COUNTRY CLUB",
          "MIMMOS PIZZERIA & RESTAURANT",
          "LINCOLN INN ESSEX",
          "JOYCE'S NOODLE HOUSE",
          "BARNS AT LANG FARM",
          "INN AT ESSEX THE",
          "McDonald’s",
          "MAPLE ST POOL CONCESSIONS",
          "FULL HOUSE",
          "HOMEPLACE",
          "VESPA'S PIZZA OVEN",
          "WICKED WINGS",
          "ABC CAFE AND PUB",
          "ISTANBUL KEBAB HOUSE LLC",
          "EUREST DINING SERVICE",
          "McDonald’s",
          "HORNETS NEST PUB LLC",
          "KFC",
          "Dunkin’ Donuts",
          "SUBWAY OF ESSEX JCT",
          "MARTONES MARKET",
          "FIREBIRD CAFE",
          "Domino’s Pizza",
          "QUIZNO'S SUBS",
          "ORIENTAL WOK",
          "SUKHO THAI RESTAURANT",
          "AL'S PIZZA TOWNE",
          "LAZY FARMER",
          "AJS KITCHEN",
          "ESSEX GRILL",
          "PARK PLACE TAVERN & GRILL",
          "ROCKY'S NY PIZZA AND ICE CREAM",
          "JP'S DINER & DELI",
          "CODYS IRISH PUB & GRILL",
          "MURRAYS TAVERN",
          "ON TAP BAR AND GRILL",
          "ESSEX COLONIAL MART",
          "BACKSTAGE PUB AND RESTAURANT",
          "RAY'S SEAFOOD MARKET",
          "PHO DANG VIETNAMESE RESTAURANT",
          "LITTLE CAESARS PIZZA",
          "VESPAS PIZZA, PASTA & DELI",
          "BRISTOL BAKERY & CAFE",
          "HINESBURG PUBLIC HOUSE",
          "GOOD TIMES CAFE",
          "PAPA NICKS PIZZA & RESTAURANT",
          "NRG SYSTEMS",
          "AYER GOLF INC DBA CEDAR KNOLL CNTRY CLUB",
          "SUBWAY #446",
          "DRAGON HOUSE",
          "PAISLEY HIPPO SANDWICH SHOP ",
          "BY THE OLD MILL STREAM",
          "CHRISTO'S GOOD TIMES CAFE",
          "TRAVIAS",
          "MOUNTAIN HIGH PIZZA PIE",
          "NANNIE'S PANTRY",
          "JOES DRIVE IN SNACK BAR",
          "RENES DISCOUNT BEVERAGE",
          "IRISH ANNIES PUB",
          "Domino’s Pizza",
          "VERMONT MEAT & SEAFOOD MARKET",
          "99 RESTAURANT & PUB #40100",
          "ASIAN BISTRO",
          "BELLES CAFE",
          "YOGURT CITY",
          "CHILI'S GRILL & BAR",
          "CATAMOUNT GOLF CLUB",
          "LONGHORN STEAKHOUSE",
          "QUIZNO'S SUBS",
          "RAMUNTO'S BRICK OVEN PIZZA",
          "NARU ASIAN CUISINE",
          "EAST ORCHID",
          "CHEF'S CORNER CAFE",
          "MCGILLICUDDY'S IRISH ALE HOUSE",
          "AGAVE TACO AND TEQUILLA CASA",
          "MEN AT WOK",
          "NATURAL PROVISIONS MARKET",
          "19TH HOLE AT WILLISTON",
          "CHEFS CORNER CAFE & BAKERY",
          "GARDEN OF EATIN CAFE",
          "COLONIAL DELI MART",
          "SUBWAY #441",
          "OBRIENS TOWN & COUNTRY",
          "FRIENDLY'S RESTAURANT #1082",
          "VERMONT TAP HOUSE",
          "MOES SOUTHWEST GRILL WILLISTON",
          "Dunkin’ Donuts",
          "BLOCK GALLERY THE",
          "PAPA FRANKS ITALIAN RESTAURANT",
          "WAF'S WESTSIDE DELI",
          "TRACKSIDE TAVERN",
          "MCKEE'S PUB",
          "FRIEND'S NEPALI RESTAURANT",
          "PHO DANG VIETNAMESE CAFE",
          "MANDARIN",
          "TINY THAI RESTAURANT",
          "ASIAN BISTRO",
          "FOOD 88",
          "RACOON CLUB",
          "SNEAKERS BISTRO",
          "OUR HOUSE BISTRO",
          "HERMANAS CAFE #1",
          "38 MAIN STREET PUB",
          "MULE BAR",
          "MISERY LOVES CO.",
          "SUBWAY OF WINOOSKI",
          "DEBANVILLES GENERAL STORE & CAFE",
          "GREEN MOUNTAIN LODGE LLC",
          "HOBO'S CAFE",
          "GRAND TRUCK TAVERN THE",
          "FRIENDLY'S PIZZA",
          "VALENTINES ON ISLAND POND",
          "LAKEFRONT EXPRESS & DELI",
          "CLYDE RIVER COFFEE SHOP",
          "NORTHLAND RESTAURANT AND LOUNGE",
          "BESSIE'S DINER",
          "JACKSONS LODGE",
          "MOOSELOOK RESTAURANT",
          "ALPINE VALLEY RV & GENERAL STORE",
          "KIRBY GOLF COURSE",
          "GUILDHALL VILLAGE GENERAL STORE",
          "GUILD HALL INN",
          "PONDS EDGE PUB AND EATERY",
          "CHEZ PIDGEON",
          "BAKERSFIELD COUNTRY CLUB",
          "PICK A NICK BASKET",
          "POPPYS MARKET",
          "PINE CONE SNACK BAR",
          "JDS PUB",
          "SOMERSET INN",
          "MANDARIN GARDEN",
          "STONEBROOK",
          "PARK SIDE GRILL",
          "McDonald’s",
          "LEONS DINER",
          "MAPLEFIELDS",
          "OUTBACK CLUBHOUSE AND RESTAURANT",
          "SUBWAY",
          "DAIRY CENTER ENTERPRISES",
          "HALVY'S CAFE",
          "NOAHS",
          "ENOSBURG HOUSE OF PIZZA INC",
          "KRISTENS NORTH SHORE SNACK BAR",
          "FRANKLIN GENERAL STORE",
          "GEORGIA FARMHOUSE ICECREAM",
          "SNACKBAR AT HIGHGATE ARENA",
          "JOEYS JUNCTION BAKERY & KITCHEN",
          "BELFRY THE",
          "MONTGOMERY HOUSE THE",
          "BIG JAY TAVERN",
          "BERNIE'S RESTAURANT",
          "K'S EATERY",
          "TEMPLETONS BAKERY CAFE & MORE",
          "RICHFORD COUNTRY CLUB INC",
          "SOUTH MAIN QUICK STOP",
          "RICHFORD JOLLEY #325",
          "CLAUDE'S RIVERSIDE PUB",
          "RICOCHET",
          "DEVYNS",
          "ABBEY PUB & RESTAURANT",
          "ONE FEDERAL RESTAURANT AND LOUNGE",
          "NORTHERN PIZZA EXPRESS",
          "ST ALBANS MOOSE LODGE 1090 LLC",
          "CHINA WOK BUFFET",
          "HARTLAND DINER",
          "SHEPHERDS HILL FARM",
          "SUMNER MANSION THE",
          "THE COOKSTER ",
          "COLEMAN BROOK TAVERN THE",
          "ROUND HOUSE THE",
          "SIENA",
          "WICKED GOOD PIZZA",
          "CAFE AT DELIGHT",
          "ANDRIE ROSE INN",
          "CHEF MEI CHINESE RESTAURANT",
          "CHRISTOPHER'S SPORTS AND SPIRITS",
          "DJS RESTAURANT",
          "HATCHERY THE",
          "MAMA'S",
          "ART OF THE CHICKEN RESTAURANT",
          "ALLIGATOR TRAP THE",
          "PLUM ROSE INN THE",
          "SUBWAY",
          "TACOS TACOS",
          "LUDLOW VILLAGE PIZZA",
          "LUDLOW COOKING COMPANY",
          "SCOOP'S LUNCHBOX",
          "GOURMET THAI COOKING",
          "PANARELLOS FINE ITALIAN",
          "MR DARCYS BAR AND GRILL",
          "CAPPUCCINOS BAKERY & CAFE",
          "DOWNTOWN GROCERY THE",
          "KILLARNEY ",
          "STEMWINDER",
          "ARCHIE MOORES STEAKHOUSE",
          "JAVA BABAS SLOW FOOD CAFE",
          "DU JOUR VT",
          "OKEMO INN",
          "TAVOLA ITALIANA",
          "BASE LODGE CAFE",
          "EPIC",
          "OKEMO SUMMIT LODGE",
          "OKEMO VALLEY GOLF CLUB",
          "SITTING BULL LOUNGE",
          "SUGARHOUSE",
          "GOVERNORS INN",
          "WILLIE DUNNS GRILLE",
          "SAM'S STEAKHOUSE",
          "COMBES FAMILY INN, THE",
          "WEIGHT CONTROL COMMUNITY AT FOX RUN",
          "NORTH FORK BAGEL COMPANY THE",
          "CLOUDLAND FARM ",
          "KING ARTHUR FLOUR ",
          "NORWICH INN ",
          "CARPENTER & MAIN RESTAURANT",
          "KILLINGTON SNOWMOBILE TOURS",
          "WILDER HOUSE CAFE",
          "PLYMOUTH TOWNE INN",
          "RIVER TAVERN RESTAURANT",
          "BEAR CREEK MOUNTAIN CLUB",
          "SUICIDE SIX SKI AREA",
          "VERMONT APPLE PIES BREAKFAST BAKERY",
          "SWEET BRIER",
          "DOG HOUSE THE",
          "QUECHEE INN AT MARSHLAND",
          "TRAP DOOR BAKEHOUSE & CAFE INC",
          "DANAS BY THE GORGE",
          "SNACK BAR AT THE GORGE",
          "FIRE STONES RESTAURANT",
          "SINGLETONS MARKET",
          "BAILEYS MILLS B & B",
          "KEEPERS A COUNTRY CAFE",
          "SEEDHOUSE CAFE",
          "MAPLE SOUL",
          "HARVEYS MOUNTAIN VIEW TOURIST HOME",
          "SEASONED BOOKS & BAKERY",
          "WHITE RIVER GOLF CLUB",
          "GREEN MOUNTAIN CHINESE",
          "NEW HOMESTEAD",
          "TUPPER FARM LODGE",
          "ROCHESTER CAFE",
          "SOROS",
          "CHELSEA STATION RESTAURANT",
          "CROSSROADS BAR AND GRILL",
          "VERMONT LAW SCHOOL CAFE",
          "STICKY BUNS BAKERY & CAFE",
          "5 OLDE TAVERN & GRILLE",
          "MAPLEWOOD CONVENIENCE STORE",
          "SOUTH ROYALTON HOUSE",
          "ROYALTON VILLAGE PIZZA",
          "EATONS SUGAR HOUSE",
          "SANDY'S DRIVE-IN",
          "FIVE OLDE BISTRO",
          "SOUTH ROYALTON MARKET",
          "WORTHY BURGER",
          "McDonald’s",
          "ORIENTAL PALACE",
          "SHANGHAI GARDEN",
          "FLYING SAUCER THE",
          "CIRCLE K #7404",
          "JAKES MARKET & DELI",
          "SPRINGFIELD GO GO MART",
          "UP YOUR ALLEY",
          "FRIENDLY'S #4101",
          "PERKINS COUNTRY DELI",
          "COOPERS FAMILY RESTAURANT",
          "RIVERSIDE RESTAURANT INC",
          "BLACK ROCK STEAKHOUSE",
          "KJS PLACE",
          "PENELOPE'S",
          "SHERI'S PLACE",
          "BLACK RIVER KWIK STOP",
          "SPRINGFIELD ROYAL DINER",
          "371 RESTAURANT & PIZZERIA",
          "SPRINGFIELD VILLAGE PIZZA INC",
          "APRON STRINGS CAFE",
          "Dunkin’ Donuts",
          "T BIRD MINI MART",
          "PENGUIN MARKET",
          "SUBWAY THE",
          "CROWN POINT COUNTRY CLUB",
          "SUMMERFIELDS RESTAURANT",
          "WILD FERN THE",
          "THIRSTY BULL BREWERY LLC/DBA PEAVINE RES",
          "VILLAGERS",
          "CASA DEL SOL MEXICAN RESTAURANT",
          "CAROLS HILLTOP B & B",
          "THE MAPLE KITCHEN",
          "BROWNSVILLE GENERAL STRE",
          "449 SKI TOW RD",
          "WESTON VILLAGE STORE",
          "BRYANT HOUSE RESTAURANT ",
          "APPLE KNOLL INN",
          "C & S PIZZA",
          "BLOOD'S CATERING & PARTY RENTALS",
          "ELIXIR",
          "HOTEL COOLIDGE",
          "BOHO CAFE & MARKET",
          "McDonald’s",
          "COMFORT INN",
          "PIZZA CHEF OF QUECHEE",
          "PHNOM PENH SANDWICH STATION",
          "FILLING STATION RESTAURANT & LOUNGE THE",
          "SHENANIGANS",
          "CANTORE'S CROSSROADS CAFE",
          "VETERANS OF FOREIGN WARS",
          "OTT DOG SNACK BAR",
          "CAVERN RESTAURANT AND LOUNGE",
          "NO NAME COFFEE AND TEA COMPANY",
          "WINDSOR DINER",
          "MAYNARDS SNACK BAR",
          "COMMON CAFE",
          "CHINA STAR",
          "VANDERBERGER'S SNACK BAR",
          "PUB AT FIDDLERS GREEN",
          "NORTHFIELD COUNTRY CLUB INC",
          "DEPOT SQUARE PIZZERIA",
          "RUSTIC RESTAURANT",
          "AMERICAN LEGION #63",
          "O'MADDI'S",
          "VERMONT CHOCOLATIERS",
          "SUBWAY",
          "GODDARD COLLEGE",
          "COUNTRY CLUB OF BARRE INC",
          "POSITIVE PIE",
          "MAPLE VALLEY CAFE",
          "THREE MOUNTAIN CAFE",
          "1824 HOUSE INN",
          "GREEN CUP CAFE THE",
          "PEASANT RESTAURANT",
          "SPOTTED COW THE",
          "SWEET PEA NATURAL FOOD",
          "MINT",
          "AMERICAN FLATBREAD",
          "PERELLIES PIZZERIA",
          "PIZZA IN THE VALLEY",
          "BIG PICTURE THEATER & CAFE",
          "SHEPHERDS PUB",
          "JOHN EGANS BIG WORLD PUB & GRILL",
          "LOCALFOLK SMOKEHOUSE",
          "MAC'S MARKET",
          "MUTHA STUFFERS",
          "HOGANS PUB",
          "FIT TO BE THAIED A THAI RESTAURANT",
          "THE BRIDGES ",
          "BIRDS NEST BISTRO LLC",
          "HOSTEL TEVERE",
          "SWEETWOOD GRILL AND BAR",
          "DINERSOAR DELI",
          "VALLEY HOUSE",
          "SUGAR MAMAS AIRPORT GRILL",
          "COMMON MAN RESTAURANT THE",
          "GATEHOUSE LODGE",
          "THE AVALANCHE",
          "MAD RIVER GRILL",
          "THE REKS",
          "GOLDEN LION RIVERSIDE INN THE",
          "CHEZ HENRI",
          "SUNRISE CAFE",
          "PIZZA SOUL",
          "GREEN MOUNTAIN COFFEE ROASTERS VISITORS CENTER & CAFE",
          "WATERBURY WINGS",
          "RESERVOIR",
          "CORK",
          "THAI SMILE",
          "WATERBURY STATE COMPLEX",
          "CAFORIA'S MEAT DELI",
          "PK PIZZA & DELI",
          "MARSALA SALSA",
          "THE BLUE STONE",
          "BLUSH HILL COUNTRY CLUB",
          "SUBWAY ",
          "VITALITY MART LLC",
          "CIDER HOUSE BBQ AND PUB",
          "OLD STAGECOACH INN, THE",
          "ZACHARYS PIZZA",
          "ALCHEMIST PUB & BREWERY",
          "PROHIBITION PIG",
          "Dunkin’ Donuts",
          "COUNTRY CLUB OF VERMONT",
          "GREEN MOUNTAIN COFFEE ROASTERS OUTLET",
          "BEST WESTERN INN",
          "MAXIS RESTAURANT",
          "BIRDS NEST INN",
          "ICE CENTER",
          "PARK ROW CAFE",
          "JIMMZ PIZZA",
          "CHINA STAR ",
          "HEN OF THE WOOD WATERBURY",
          "BLACK BACK PUB",
          "BILLINGS MOBIL",
          "APPLE CORE LUNCHEONETTE",
          "MICHAELS ON THE HILL RESTAURANT",
          "POST OFFICE CAFE",
          "READMORE",
          "LAZO'S PIZZA PALACE",
          "PK'S PUBLIC HOUSE",
          "PENGUIN MARKET",
          "DARI JOY",
          "JOY WAH",
          "VERMONT TREATS",
          "POPOLO",
          "PIERCE-LAWTON POST #37",
          "BELLOWS FALLS MOOSE FAMILY CENTER 527",
          "NICK'S BAR AND GRILL",
          "DONOVAN'S",
          "SUBWAY",
          "LESLIE'S TAVERN AT ROCKINGHAM",
          "RIVER MIST",
          "VALLEY PROVISIONS",
          "ATHENS PIZZA HOUSE INC",
          "FAMOUS PIZZA",
          "MISS BELLOWS FALLS DINER",
          "LISAIS CORNER DELI",
          "FAT FRANKS",
          "SHONA GRILL",
          "SCHOOL FOR INTERNATIONAL TRAINING",
          "VEGETARIAN PARADISE FOOD & CRAFT",
          "SALA THAI",
          "KFC",
          "WEST BRATTLEBORO PIZZA",
          "McDonald’s",
          "TAMIS DINER",
          "THREE STONES",
          "Wendy’s",
          "BRATTLEBORO SHRINE",
          "RAMUNTO'S BRICK OVEN PIZZA",
          "AMYS BAKERY ARTS CAFE",
          "BRATTLEBORO VILLAGE PIZZA",
          "NINETY NINE RESTAURANT & PUB #40128",
          "COFFEE COUNTRY",
          "TULIP CAFE",
          "TURQUOISE GRILL",
          "HUNAN GARDEN",
          "MORTS ROADHOUSE",
          "ROADHOUSE BAR & BILLIARDS",
          "SUNDRIED TOMATO THE",
          "TJ BUCKLEY'S",
          "ADAGIO",
          "PANDA NORTH",
          "ELLIOT STREET CAFE",
          "SUKURA ONE",
          "SUPERFRESH! ORGANIC CAFE",
          "Domino’s Pizza",
          "ARKHAM",
          "THOMPSON'S FLOUR SHOP ",
          "SUBWAY",
          "CORNER POCKET THE",
          "COPLEY GOLF CORP",
          "MAPLE HOUSE INN",
          "THISTLEDOWN INN BED & BREAKFAST",
          "LOST NATION BREWING CO",
          "NEW FU LINS",
          "SHARON MCGAUGHAN REST",
          "MAPLEFIELDS MORRISVILLE",
          "SABRINAS BAKERY & CAFE",
          "ROCK ART BREWERY",
          "RIVER ARTS CENTER",
          "MOOGS PLACE",
          "TRES AMIGOS",
          "TEN ACRES LODGE",
          "BISTRO AT TEN ACRES",
          "SUNSET GRILLE & TAPROOM",
          "BLACK CAP COFFEE",
          "SPRUCE BASE LODGE",
          "STOWE BOWL",
          "BLUE DONKEY & BURGERS ON BOARDS",
          "STOWE WINE & CHEESE",
          "GREEN MOUNTAIN INN",
          "SHACK THE",
          "MOUNTAIN VIEW SNACK BAR OF STOWE INC",
          "SHED",
          "STOWE DOGS",
          "PIECASSO PIZZERIA & LOUNGE",
          "WINDING BROOK LODGE",
          "STOWE MOUNTAIN CLUB GOLF COTTAGE",
          "THE STOWE MOUNTAIN CLUB ALPINE CLUBHOUSE",
          "CACTUS CAFE OF STOWE",
          "HARRISONS",
          "LJS LODGE",
          "RED BASIL THAI CUISINE",
          "ARBOR INN",
          "MOUNTAINEER MOTOR INN",
          "RIMROCKS",
          "LUCKY KING RESTAURANT",
          "SANFO CHINESE RESTAURANT",
          "BACKYARD TAVERN THE",
          "NORMA'S",
          "TRATTORIA LA FESTA",
          "OLDE ENGLAND INNE, THE",
          "YE OLDE ENGLAND INNE",
          "MCCARTHYS",
          "HONEYWOOD COUNTRY LODGE",
          "MATTERHORN, THE",
          "SKI INN",
          "SAENSOOK THAI KITCHEN SUSHI & MARTINI",
          "PATRIDGE INN",
          "GOLDEN EAGLE RESORT CAFE",
          "DEPOT STREET MALT SHOP",
          "STOWE COFFEE HOUSE",
          "STOWE MOUNTAIN RESORT ADVENTURE CENTER",
          "GONDOLA CAFETERIA - MIDWAY LODGE",
          "HH BINGHAMS",
          "OCTAGON",
          "MANSFIELD CAFE",
          "TOLL HOUSE CONFERENCE CENTER",
          "SEASONS PASS INN",
          "GREEN GODDESS CAFE",
          "BRASS LANTERN INN",
          "STOWE COUNTRY CLUB",
          "PIZZA JOINT",
          "SPRUCE CAMP",
          "COMMODORES INN",
          "Dunkin’ Donuts",
          "SUBWAY",
          "HYDE PARK VFW",
          "KOSTANTINA'S PIZZA",
          "DUSTY BOTTLE",
          "LOCAL BUZZ ",
          "SUBWAY",
          "BLISS VILLAGE STORE & DELI",
          "COLATINA EXIT",
          "BEAR RIDGE SPEEDWAY #1",
          "SUNNY OASIS",
          "CHANS HOUSE RESTAURANT",
          "MILL WATERS COUNTRY GRILLE AND TAVERN",
          "HUNGRY BEAR PUB & GRILL THE",
          "BEAR RIDGE SPEEDWAY # 2",
          "NORTHEAST SKI SLOPES",
          "BRADFORD MINI MART",
          "ARIELS RESTAURANT & POND VILLAGE PUB",
          "WILL'S STORE",
          "BROOKSIDE BAKERY",
          "DIXIES II",
          "THETFORD VILLAGE PIZZA",
          "WHIPPI DIP",
          "FAIRLEE DRIVE IN & MOTEL",
          "HOLY MACKEREL",
          "THIRD RAIL THE",
          "LEDAS PIZZA",
          "SARKI'S MEDITERRANEAN RESTAURANT",
          "WARNERS GALLERY RESTAURANT",
          "HAPPY HOUR RESTAURANT THE",
          "TUTTLE'S FAMILY DINER",
          "NEWBURY VILLAGE STORE & THISTLE CAFE",
          "VERMONT TECHNICAL COLLEGE SHAPE CENTER",
          "RANDOLPH VILLAGE PIZZA",
          "VALLEY BOWL",
          "ALS PIZZERIA AND RISTORANTE",
          "MOREY DINING HALL",
          "VERMONT TECHNICAL COLLEGE",
          "CHINA JADE",
          "KETNER'S 2ND CUP CAFE & CATERING",
          "WRIGHT AT HOME CAFE",
          "McDonald’s",
          "ONE MAIN TAP & GRILL INC",
          "RANDOLPH DEPOT THE",
          "BLACK KRIM TAVERN LLC",
          "RAIL SIDE TAVERN",
          "CHEFS DOWNTOWN DELI",
          "NEW EAST GARDEN CHINESE RESTAURANT",
          "THE JUNCTION RESTAURANT",
          "TASTINGS FOOD AND SPIRITS",
          "NORTH TROY VILLAGE PUB & RESTAURANT",
          "SKY HAUS",
          "ROBINS ROOST",
          "GAP PUB & GRILL THE",
          "WILL O BEE SNACK BAR",
          "WHEEL INN RESTAURANT",
          "BENSON VILLAGE STORE",
          "SUNRISE FAMILY RESTAURANT",
          "CAFE PROVENCE",
          "12 FRANKLIN STREET BED & BREAKFAST",
          "SMOKERISE RESTAURANT",
          "CATTAILS RESTAURANT",
          "VERMONT SOUP & SANDWICH OF BRANDON",
          "INSIDE SCOOP ",
          "NESHOBE GOLF CLUB",
          "McDonald’s",
          "BRANDON FALLS DINER",
          "WATERSHED TAVERN",
          "ROSEBELLES VICTORIAN INN",
          "BRANDON HOUSE OF PIZZA",
          "LIS CHINESE RESTAURANT",
          "BRANDON MUSIC CAFE",
          "PALMS AT PROSPECT BAY ",
          "ROXIE'S SNACK BAR",
          "CASTLETON SNACK BAR",
          "LAKE BOMOSEEN INN",
          "BOMOSEEN STATE PARK CONCESSION",
          "IRON LANTERN RESTAURANT",
          "APPLEWOOD MANOR BED & BREAKFAST",
          "B K DELI",
          "BIRDSEYE DINER",
          "CASTLETON PIZZA PLACE",
          "PAULS FAMILY PIZZA",
          "WHISTLE STOP RESTAURANT",
          "SILAS GRIFFITH INN & EMMAS RESTAURANT",
          "BARNES TAVERN B & B",
          "MOUNT TABOR INN AND TAVERN",
          "BIRDHOUSE INN B&B",
          "HOPSON HOUSE",
          "TOMASIs RESTAURANT",
          "WOODEN SOLDIER RESTAURANT",
          "FAIR HAVEN PIZZA HOUSE",
          "STEWARTS SHOP #190",
          "FAIR HAVEN INN",
          "SUBWAY",
          "CHINA CITY",
          "MARY'S DELI",
          "M AND B SNACK BAR",
          "McDonald’s",
          "GREEK HOUSE OF PIZZA",
          "BIG BOB'S FOOD SHACK",
          "SKYBOX GRILLE",
          "SCRUB A DUB PUB/JAX",
          "JAX FOOD AND GAMES",
          "GARLIC THE",
          "PICKLE BARREL THE",
          "CHINESE GOURMET SUSHI YOSHI",
          "CLAUDE'S CHOICES",
          "LOOKOUT BAR & GRILL",
          "WOBBLY BARN",
          "CLUB HOUSE GRILL",
          "OVATIONS RESTAURANT",
          "ON THE ROCS LOUNGE",
          "SUNRISE CAFE",
          "CHOICES RESTAURANT AND ROTISSERIE",
          "BACKCOUNTRY CAFE",
          "DOMENICS PIZZERIA",
          "OUTBACK PIZZA OF KILLINGTON",
          "MOUNTAIN MEADOWS LODGE",
          "BIRCH RIDGE INN",
          "LIQUID ART COFFEEHOUSE",
          "SNOWSHED LODGE",
          "RAMSHEAD LODGE",
          "KOKOPELLI INN AND SPA",
          "SANTA FE STEAKHOUSE",
          "KILLINGTON BASE LODGE",
          "KILLINGTON PEAK RESTAURANT",
          "PICO BASE LODGE",
          "KILLINGTON BEER COMPANY",
          "FOUNDRY AT SUMMIT POND",
          "INN AT LONG TRAIL THE",
          "PEPPINOS RISTORANTE ITALIANO",
          "CONSTELLATION CAFE",
          "CHARITY'S 1887 SALOON",
          "BACK BEHIND RESTAURANT & BBQ",
          "JOHNNY BOYS",
          "BEAR MOUNTAIN",
          "GREEN MOUNTAIN NATIONAL GOLF COURSE",
          "NIGHTSPOT",
          "CEDARS RESTAURANT",
          "SKYESHIP BASE STATION",
          "LITTLE CAESARS PIZZA",
          "COUNTRYMAN'S PLEASURE ",
          "SUGAR & SPICE RESTAURANT",
          "HELIS RESTAURANT",
          "SIMON'S TYROL MOTEL",
          "TWIN MOUNTAINS FARM B & B",
          "BROOKLYN PUB",
          "HARRY'S CAFE",
          "BLUE SPRUCE INN",
          "STONEHEDGE GOLF COURSE",
          "STATION RESTAURANT INC",
          "MIO",
          "THE PAWLET STATION RESTAURANT",
          "BARN RESTAURANT & TAVERN",
          "CLEAR RIVER TAVERN",
          "SWISS FARM MARKET",
          "VERMONT FARMS CATERING AND ORIGINAL GENERAL STORE",
          "RUBYS BISTRO",
          "REDFIELDS BAR & GRILL",
          "JR'S EATERY",
          "COUNTRY HOUSE RESTAURANT THE",
          "SUBWAY",
          "GOLDEN EGG FAMILY RESTAURANT",
          "BOCCELLIS ON THE CANAL",
          "RJS FOOD SERVICES INC",
          "BELLOWS FALLS COUNTRY CLUB",
          "KENDALLS KITCHEN",
          "SAXTONS RIVER INN",
          "STRATTON MOUNTAIN MARKET AND DELI",
          "MULLIGAN'S TAVERN",
          "VERDE RESTAURANT",
          "STRATTON BASE LODGE GRIZZLYS",
          "STRATTON BASE LODGE MARKET",
          "STRATTON MOUNTAIN CLUB",
          "SUN BOWL LODGE",
          "WIRED @ THE COPPER CUP",
          "LIFTLINE LODGE",
          "MID MOUNTAIN LODGE",
          "TENDERLOINS",
          "WAFFLE CABIN",
          "BLUE MOON CAFE",
          "DOMAINE",
          "JR SKI & SNOWBOARD SCHOOL",
          "OLDE FARMHOUSE BED & BREAKFAST",
          "TOWNSHEND VILLAGE PIZZA",
          "U-HAC INTERNATIONAL",
          "TOWNSHEND DAM DINER THE",
          "OLD BRICK TAVERN BED & BREAKFAST",
          "NESBITT'S PORTSIDE TAVERN",
          "SCHOOLHOUSE PIZZA",
          "SCHOOLHOUSE GROCERY",
          "BOB & PEGS FRONT PORCH",
          "GREEN DOOR PUB",
          "CARINTHIA BASE LODGE",
          "VALLEY VIEW SALOON",
          "DOVER FORGE ",
          "GRAND COUNTRY DELI",
          "CUZZINS",
          "VERMONT COUNTRY DELI AT MOUNT SNOW",
          "SNOW GOOSE INN",
          "FIDDLEHEADS AT MOUNT SNOW",
          "LAST CHAIR BAR & GRILL",
          "WEST DOVER JOES",
          "SUNDANCE BASE LODGE",
          "DOVER BAR AND GRILL",
          "COFFEE BARN CAFE",
          "DISCOVERY CENTER",
          "FAIRWAYS",
          "FIRST WOK CHINESE RESTAURANT",
          "GO FISH",
          "WEST TOWNSHEND COUNTRY STORE",
          "EDELWEISS AT SNOW MOUNTAIN FARMS",
          "RANNEY CRAWFORD HOUSE",
          "CAFÉ LOCO",
          "FATHERS",
          "VALBERTS DINER",
          "ALONZO'S PASTA AND GRILLE",
          "WILMINGTON HOUSE OF PIZZA",
          "VERMONT HOUSE THE",
          "SONNYS CUP N SAUCER",
          "SMOKIN JS",
          "WAHOOS EATERY",
          "NORTH STAR BOWL",
          "GUISEPPE'S PIZZERIA AND RESTAURANT",
          "TONY ZUPPARDIS APIZZA LLC",
          "FENNESSEYS RESTAURANT",
          "TEXAS ROADHOUSE",
          "JEZEBELS EATERY",
          "DOTS",
          "MAPLE LEAF MALT & BREWING",
          "NORDIC HILLS LODGE",
          "CASK & KILN KITCHEN",
          "ROADHOUSE",
          "RED SHUTTER INN & RESTAURANT",
          "TRAILS END - A COUNTRY INN",
          "SITZMARK LODGE",
          "WILMINGTON VILLAGE PUB",
          "HERMITAGE GOLF CLUB",
          "ANCHOR SEAFOOD RESTAURANT",
          "RAVELLO",
          "HORIZON INN",
          "VERMONT HOUSE BAKERY",
          "JAKE'S GRILL AT TATER HILL",
          "MR G'S RESTAURANT",
          "ASCUTNEY DINER & SNACK BAR",
          "ASCUTNEY MARKET",
          "BARNARD INN",
          "CHELSEA FARM BED & BREAKFAST",
          "FABLE FARM",
          "CREEK HOUSE DINER THE",
          "BETHEL DEPOT",
          "BLACK FOREST CAFE",
          "ONION FLATS",
          "COCKADOODLE PIZZA CAFE",
          "BETHEL VILLAGE SANDWICH SHOP",
          "TOZIERS RESTAURANT",
          "HARRINGTON HOUSE",
          "RAMUNTO'S BRICK & BREW PIZZA",
          "LONG TRAIL BREWING COMPANY",
          "SHARIS PLACE",
          "POND HOUSE INN THE",
          "CAVENDISH INN",
          "INN @ GLIMMERSTONE MANSION",
          "NEAL'S",
          "BATES MANSION AT BROOK FARM",
          "OPERA HOUSE CAFE THE",
          "CITY SLICKERS DINER",
          "CURTISS CABOOSE",
          "PARK LIGHT INN",
          "MOON DOG CAFE",
          "PIZZA STONE VT",
          "ZACHARYS PIZZA RESTAURANT OF CHESTER",
          "WILLIAMS RIVER HOUSE",
          "WHEELHOUSE RESTAURANT & TAVERN",
          "COUNTRY GIRL DINER",
          "JACKS DINER",
          "MACLAOMAINNS",
          "ROSE ARBOUR",
          "MOUNTAIN MAN",
          "PAR LOCOS",
          "AMERICAN LEGION POST #67",
          "FREE RANGE RESTAURANT THE",
          "PHOENIX CAFE THE",
          "CHEF BRAD'S CRAZY SIDE CAFE",
          "TUCKERBOX CAFE ",
          "HAMPTON INN",
          "AMERICAN LEGION",
          "BIG FATTY'S BBQ",
          "RHONDA SNACK SHACK",
          "SIMON PEARCE RESTAURANT",
          "QUECHEE CLUB THE",
          "ACTIVITIES CENTER",
          "Dunkin’ Donuts",
          "JUNCTION HOUSE BUFFET",
          "AJS JACKS OR BETTER",
          "VT CHINA MOON BUFFET",
          "Dunkin’ Donuts",
          "PUBLIC HOUSE DINER",
          "BOSTOCKS BLACK ANGUS CAFE",
          "URBAN CAFE",
          "GETAWAY, THE",
          "SKUNK HOLLOW TAVERN",
          "TJS FISH FRY",
          "KFC TACO BELL",
          "YOUR BELLY'S DELI",
          "BAKKERIJ KRIJNEN",
          "SOUTH STREET CAFE & BAKERY",
          "PAPA PETES OF BENNINGTON VT",
          "McDonald’s",
          "LIL BRITAIN FISH AND CHIP SHOP",
          "ELKS BPO BENNINGTON LODGE #567",
          "JCS TAVERN",
          "RIVER STREET VARIETY",
          "BROWN COW CAFE THE",
          "MT ANTHONY GOLF & TENNIS CLUB",
          "PROSPECT MOUNTAIN",
          "PIZZA HUT",
          "BENNINGTON PIZZA PLAZA",
          "Wendy’s",
          "PRICE CHOPPER #171",
          "NORTHSIDE DAIRY BAR THE",
          "BILLY T'S NORTHSIDE DAIRY BAR",
          "SUBWAY",
          "CHILIS GRILL & BAR",
          "SUNNY SIDE DINER",
          "MARIGOLD KITCHEN",
          "KEVIN'S SPORTS PUB & RESTAURANT",
          "PANGAEA ",
          "BURGER KING RESTAURANT",
          "JENSEN'S RESTAURANT",
          "OMAS CAFE EXPRESS",
          "TASTEE FREEZ",
          "LOVE A BAGEL",
          "MADISON BREWING COMPANY PUB & RESTAURANT",
          "BENNINGTON LODGE OF ELKS",
          "BENNINGTON PIZZA HOUSE",
          "RAMUNTO'S BRICK OVEN PIZZA",
          "ALLEGRO RISTORANTE",
          "BENNERS BAGELS PIZZA N WHAT NOSH",
          "CHINA WOK",
          "STEWARTS SHOP #195",
          "PUBLYK HOUSE THE",
          "POWERS MARKET",
          "ALEXANDRA B & B INN",
          "APPLE VALLEY INN & CAFE",
          "STONES LODGE UNDER MT STRATTON",
          "FOX STOP THE",
          "EMERALD STATE PARK STORE",
          "CHANTECLEER RESTAURANT",
          "MISTRALS",
          "EQUINOX COUNTRY CLUB",
          "VERMONT BAGEL WORKS",
          "AL DUCCIS ITALIAN PANTRY",
          "SPIRAL PRESS CAFE THE",
          "ZOEYS DOUBLE HEX INC",
          "McDonald’s",
          "BISTRO HENRY",
          "BOBS DINER",
          "CHINA CITY",
          "MANCHESTER HOUSE OF PIZZA",
          "MANCHESTER CHINA CITY INC",
          "EARTH & SEA FISH MARKET",
          "MANCHESTER DISCOUNT BEVERAGE CENTER",
          "MULLIGAN'S OF MANCHESTER",
          "SILVER FORK THE",
          "STEWARTS SHOP #197",
          "RACHEL'S GOURMET FOODS",
          "LITTLE ROOSTER CAFE THE",
          "ZOEY'S DELI AND BAKERY",
          "CHRISTOS PIZZA & PASTA",
          "UP FOR BREAKFAST",
          "THAI BASIL",
          "GOURMET DELI & CAFE ",
          "SUSHI BOAT",
          "DEPOT CAFE",
          "YE OLDE TAVERN",
          "FIREFLY RESTAURANT",
          "GRAND SLAM NY STYLE PIZZA & PASTA",
          "OLYMPIA MOTOR LODGE",
          "INN AT WILLOW POND RESTAURANT",
          "SOUTHERN VERMONT ARTS CENTER INC",
          "GARLIC JOHN'S",
          "SAM'S WOOD FIRED PIZZA",
          "SEASONS RESTAURANT",
          "PONCE BISTRO",
          "CILANTRO",
          "NIPPERS CAFE",
          "BENNINGTON COLLEGE DINING HALL",
          "BROMLEY MARKET",
          "BROMLEY SKI AREA",
          "JJ HAPGOOD GENERAL STORE & EATERY",
          "STEWARTS SHOP #199",
          "ALWAYS EMMAS",
          "AMERICAN FLATBREAD BURLINGTON HEARTH",
          "SHERPA KITCHEN RESTAURANT LLC",
          "SWEETWATERS ",
          "RI RA IRISH PUB",
          "BURLINGTON BAY MARKET AND CAFE",
          "SCOUT & COMPANY",
          "SINGLE PEBBLE A",
          "AKES PLACE",
          "PAPA JOHN PIZZA",
          "DRINK",
          "HALF LOUNGE",
          "1/2 LOUNGE",
          "JP'S PUB",
          "BESSERYS BUTCHER SHOP AND DELICATESSAN",
          "VERMONT PUB & BREWERY ",
          "DINOS PIZZA",
          "SCUFFER STEAK & ALE HOUSE",
          "T RUGGS TAVERN",
          "DAILY PLANET ",
          "SPLASH AT THE BOATHOUSE",
          "NEW MOON",
          "TRATTORIA DELIA AND SOTTO ENOTECA",
          "FLYNN CENTER",
          "HENRYS DINER",
          "CHURCH AND MAIN",
          "PIZZERIA VERITA",
          "RUBEN JAMES RESTAURANT",
          "HALVORSON'S UPSTREET CAFE ",
          "SHALIMAR OF INDIA",
          "FARMHOUSE TAP & GRILL THE",
          "SWITCHBACK BEERWORKS THE",
          "AHLI BABAS KABOB SHOP",
          "SOCIAL",
          "MANHATTAN PIZZA & PUB",
          "EL GATO CANTINA",
          "ANYTHINGS PASTABLE",
          "PIESANOS BURLINGTON",
          "BIG DADDYS DELIVERY RESTAURANT",
          "ESPERANZA RESTAURANTE",
          "SHANTY RESTAURANT AND SEAFOOD MARKET",
          "MUDDY WATERS",
          "THREE NEEDS",
          "FUDA CHINESE RESTAURANT",
          "NECTAR'S RESTAURANT",
          "EL CORTIJO",
          "ASIANA HOUSE",
          "ESOX",
          "MIRABELLES",
          "BILLINGS STUDENT CENTER",
          "BARRIO BAKERY",
          "FINNIGANS PUB",
          "MR MIKES PIZZA",
          "INDIA HOUSE RESTAURANT",
          "OUTER SPACE",
          "BUENO Y SANO",
          "QUIZNO'S SUBS",
          "OLDE NORTHENDER PUB",
          "CLUB 242",
          "KERRYS KWIK STOP PURCHASER LLC",
          "EDDY'S PUB",
          "CHINA EXPRESS BURLINGTON INC",
          "CHINA EXPRESS",
          "CALLAHANS",
          "CHINA EXPRESS 2",
          "FOUR CORNERS OF THE EARTH",
          "CHAMPLAIN FARMS",
          "PINE STREET DELI",
          "PHO HONG",
          "BLIMPIE",
          "UNION JACK'S",
          "JAZZMANS CAFE",
          "OTHER PLACE THE",
          "SPEEDER & EARLS COFFEE",
          "UNCOMMON GROUNDS COFFEE AND TEA",
          "ELMWOOD GUEST HOUSE LLC",
          "SIMON'S PARK STREET STORE & DELI",
          "STARBUCKS COFFEE #7629",
          "TOMGIRL JUICE CO",
          "BUFFALO WILD WINGS",
          "BURLINGTON COUNTRY CLUB",
          "FIVE GUYS",
          "UVM BRENNONS PUB BISTRO",
          "NEW WORLD TORTILLA @ UVM DAVIS CENTER",
          "UVM DAVIS CENTER MARKETPLACE",
          "SEASONS BISTRO",
          "ECO BEAN AND JUICE",
          "KEN'S PIZZA & PUB",
          "HANDYS LUNCH",
          "RADIO BEAN COFFEEHOUSE",
          "DOBRA TEA",
          "CITY MARKET OF ONION RIVER COOP",
          "SUSHI AT CITY MARKET",
          "WATERMAN MANOR",
          "SIMPSON DINING HALL UVM",
          "PEARL STREET DINER",
          "THE FRIENDLY TOAST",
          "ASIANA NOODLE SHOP",
          "CHUBBY MUFFIN THE",
          "REVOLUTION KITCHEN",
          "ST JOHNS CLUB",
          "BRUEGGERS BAGEL BAKERY",
          "DOWNTOWN QUICKSTOP INC",
          "DEDALUS WINE BAR",
          "HJ HOUSE",
          "MOONLIGHT LADY",
          "GOURMET CAFE",
          "LUCKY WOK",
          "SUBWAY OF MILTON",
          "ZACHARYS PIZZA",
          "RICKS GRILL",
          "ARROWHEAD GOLF COURSE",
          "ARROWHEAD AERIE FOE 4218 INC",
          "McDonald’s",
          "MILTON DINER",
          "GROUCHEESE SNACK BAR",
          "SIMON'S MILTON STORE & DELI",
          "COTTON CANDY CONNECTION LLC",
          "RR CHARLEBOIS INC",
          "MILTON PIZZA CO LLC",
          "RICHMOND COMMUNITY KITCHEN",
          "EDDIES ENERGY",
          "KITCHEN TABLE BISTRO",
          "VERMONT YOUTH CONSERVATION CORPS",
          "TOSCANO CAFE BISTRO",
          "CHEF NEXT DOOR",
          "LEE ZACHARY PIZZA HOUSE",
          "COCHRANS SKI AREA",
          "PAPA MCKEE'S PIZZERIA",
          "MAIN DISH",
          "SHELBURNE FIELD HOUSE",
          "BANGKOK MINUTE THAI CAFE",
          "SUBWAY",
          "SHELBURNE TRAVELODGE",
          "CHAMPLAIN LANES",
          "BRENDAN'S DELI AND PIZZA",
          "RT 7 LIQUOR & DELI",
          "ECONO LODGE INN & SUITES",
          "BUONO APPETITO",
          "LA VILLA BISTRO",
          "ARCHIES GRILL",
          "CUCINA ANTICA",
          "DUTCH MILL RESTAURANT",
          "OPEN ARMS CAFE",
          "BEARDED FROG",
          "VILLAGE WINE AND COFFEE",
          "KWINIASKA GOLF CLUB",
          "HARRINGTONS",
          "SHELBURNE MUSEUM CAFE",
          "FOLINOS LLC",
          "HUNGRY BEAR CAFE",
          "BARNHOUSE BED & BREAKFAST",
          "BARKEATERS",
          "PULCINELLAS",
          "LANE PRESS INC THE",
          "RODEWAY INN",
          "TRAVELODGE",
          "BARNES & NOBLE BOOKSELLERS",
          "OLIVE GARDEN ITALIAN RESTAURANT #1520",
          "HOLIDAY INN HARPERS",
          "UPPER DECK PUB",
          "WINDJAMMER RESTAURANT",
          "TRADER DUKE'S RESTAURANT",
          "McDonald’s",
          "MOES SOUTHWEST GRILL",
          "CHICKEN CHARLIES",
          "LEONARDO'S PIZZA",
          "LING'S RESTAURANT",
          "CHUBBY MUFFIN THE",
          "BURGER KING #2362",
          "PIZZA PUTT",
          "McDonald’s",
          "QUIZNO'S SUBS",
          "WOODEN SPOON BISTRO",
          "HIGHER GROUND",
          "SILVER PALACE",
          "VERMONT NATIONAL COUNTRY CLUB",
          "ZACHARY'S PIZZA",
          "ALS FRENCH FRYS",
          "MARCO'S PIZZA",
          "TIAN FU BUFFET",
          "UNO PIZZERIA & GRILL",
          "UNO CHICAGO GRILL",
          "ROTISSERIE THE",
          "TWIN OAKS TENNIS CENTER",
          "WINGS OVER BURLINGTON",
          "OUTBACK STEAKHOUSE",
          "OSAKA HANA JAPANESE RESTAURANT",
          "APPLEBEES NEIGHBORHOOD GRILL & BAR",
          "McDonald’s",
          "SUBWAY",
          "QUIZNO'S SUBS",
          "IHOP",
          "OVERLOOK PARK B & B",
          "GUILD TAVERN",
          "BURL LODGE #1618 LOYAL ORDER MOOSE INC",
          "PARKWAY DINER",
          "LAKE VIEW HOUSE",
          "COMFORT SUITES",
          "SUNSET BALLROOM",
          "WATERFRONT CATERING GROUP",
          "HOLIDAY INN EXPRESS",
          "PAULINE'S CAFE & RESTAURANT",
          "GONZOS HD SPORTS",
          "POUR HOUSE",
          "MT BELLIES DELI/DORSET ST BEVERAGE",
          "GT BAGEL FACTORY",
          "SUBWAY",
          "LEES CHINESE RESTAURANT",
          "QUARRY HILL CLUB",
          "M SAIGON VIETNAMESE NOODLE HOUSE",
          "CHEF LEUS HOUSE",
          "GE HEALTHCARE",
          "HAWTHORN SUITES HOTEL",
          "BUENO Y SANO",
          "THE ARTIFACTORY AT MAGIC HAT BREWING CO.",
          "HONG KONG JADE",
          "ORCHID RESTAURANT",
          "TOMMYS GRILL",
          "VERMONT POOL & BAR",
          "MAMA MIAS PIZZERIA",
          "SUBWAY",
          "CAFE DEMETER",
          "NORTH GARDEN CHINESE RESTAURANT",
          "ZEN GARDEN",
          "HARRIS MILLIS DINING HALL",
          "DENNYS RESTAURANT #2364",
          "FRANNY O'S",
          "BOURNES SERVICE CENTER",
          "KOTO",
          "BURGER KING #676",
          "BURLINGTON BAGEL BAKERY",
          "MARSH DINING HALL UVM",
          "Dunkin’ Donuts",
          "ROCKY RIDGE GOLF CLUB",
          "WELLS CORNER MARKET",
          "ALLEY CAT THE",
          "SMOLDER MIST PUB",
          "STEAK HOUSE",
          "BURGER KING #677",
          "UNCLE JOE'S PIZZA AND PASTA",
          "CHINA MOON BUFFET",
          "PIZZA HUT",
          "ELLIE & SHIRLS SIMPLY DELICIOUS",
          "D & D SMOKEHOUSE AND DELI",
          "QUARRY KITCHEN AND SPIRITS THE",
          "ASIAN GOURMET",
          "GUSTO'S",
          "JERRYS SPORTS TAVERN",
          "Domino’s Pizza",
          "BURGER KING #9109",
          "BACKSTRETCH LOUNGE",
          "MR Z'S PIZZA",
          "McDonald’s",
          "CORNERSTONE PUB & KITCHEN",
          "SIMPLY SUBS INC",
          "LADDER 1 GRILL",
          "SUBWAY",
          "MULLIGAN'S IRISH PUB",
          "BARRE AUDITORIUM",
          "BARRE LODGE OF ELKS #1535",
          "BAMBOO GARDENS",
          "TINAS GRILL & DELI",
          "ESPRESSO BUENO",
          "STONECUTTERS BREW HOUSE",
          "CHAMPLAIN FARMS",
          "ROUND TABLE RESTAURANT",
          "MUTUO INC",
          "BASILS PIZZERIA",
          "EL SOL",
          "ES PIT STOP",
          "SEAN & NORAS",
          "CHINATOWN RESTAURANT",
          "SOUP N GREENS",
          "AMERICAN LEGION",
          "L & JS FIREHOUSE CAFE",
          "CANADIAN CLUB",
          "KNIGHTS OF COLUMBUS HALL",
          "McDonald’s",
          "WAYSIDE RESTAURANT",
          "ABBEY LANE FOOD COURT @ BC/BS",
          "APPLEBEES NEIGHBORHOOD BAR & GRILL 6803",
          "COMFORT INN",
          "SANDYS COLLECTIBLES",
          "KFC",
          "SUBWAY",
          "GOLDIES GATHERING AT CABOT INN",
          "BUTTERS RESTAURANT",
          "MAPLE CORNER CAFE",
          "FARM HOUSE CAFE THE",
          "GARDEN TOWER B AND B",
          "MAMAS MELTING POT",
          "MAD RIVER GLEN COOP",
          "MOUNTAIN VIEW INN",
          "SPICE OF LIFE SPIRITS CORP",
          "MILLBROOK LODGE",
          "MOUNT ELLEN BASE LODGE AT SUGARBUSH",
          "GLEN HOUSE ON MOUNT ELLEN AT SUGARBUSH",
          "BONGIORNOS",
          "CHILLY WILLY'S ICE CREAM PARLOR",
          "MAPLEFIELDS",
          "1850 RIVER HOUSE B & B",
          "NEW ENGLAND CULINARY INST AT VT COLLEGE",
          "MONTPELIER ELKS #924",
          "NEW ENGLAND CULINARY @ NATIONAL LIFE",
          "UNCOMMON MARKET THE",
          "J MORGANS STEAKHOUSE",
          "CAPITOL PLAZA HOTEL",
          "THREE PENNY TAPROOM",
          "HOUSE OF TANG",
          "CAPITOL FOOD COURT",
          "CHEF'S TABLE",
          "NECI ON MAIN",
          "UNDERGROUND CAFE, THE",
          "BUDDY'S FAMOUS",
          "CHINA STAR",
          "HEALTH CARE WITHOUT HARM",
          "POSITIVE PIE ",
          "Domino’s Pizza",
          "SAVOY THEATER",
          "CAPITOL GROUNDS CAFE",
          "BAGITOS",
          "SUBWAY",
          "SARDUCCIS RESTAURANT",
          "CHILL VERMONT GELATO",
          "DAIRY CREME",
          "TULSI TEA ROOM",
          "WILAIWANS KITCHEN",
          "ROYAL ORCHID THAI RESTAURANT",
          "SWEET MELISSAS",
          "NORTH BRANCH THE",
          "ASIANA HOUSE",
          "Dunkin’ Donuts",
          "KISMET",
          "JULIOS CANTINA",
          "MONTPELIER SENIOR ACTIVITY CENTER",
          "CHARLIE O'S",
          "MAD TACO THE",
          "BETSYS BED & BREAKFAST",
          "THE BLUE STONE",
          "SKINNY PANCAKE THE",
          "TATRO'S GOURMET SOUP & SANDWICH",
          "ST ALBANS DINER",
          "MAPLE CITY DINER",
          "Dunkin’ Donuts",
          "NEW ORIENTAL KITCHEN",
          "McDonald’s",
          "GREEN MOUNTAIN CAFE",
          "PIZZA HUT",
          "MIMMOS PIZZERIA & RESTAURANT",
          "PANDA CHINA",
          "CHOW BELLA",
          "HANNAFORD'S #355",
          "TWIGGS",
          "SHOOTERS SALOON",
          "COSMIC BAKERY & CAFE",
          "KINGMAN STREET TAVERN",
          "THAI HOUSE",
          "KFC / TACO BELL",
          "OVERTIME SALOON",
          "RYAN'S PUB",
          "TIM'S PLACE",
          "SHERIDANS BAR & GRILL LLC",
          "JEFF'S MAINE SEAFOOD",
          "BURGER KING #678",
          "SUBWAY",
          "MI CASITA",
          "SUBWAY",
          "TRAVELED CUP THE",
          "LUCKY BUFFET",
          "CHINA WOK BUFFET",
          "ALWAYS 80S RESTAURANT LLC",
          "JULIE ANNS CAFE LLC",
          "NANAS RESTAURANT",
          "EASTERN DRAGON",
          "CHAMPLAIN FARMS",
          "HOSS DOG HOUSE",
          "DOMINO'S PIZZA",
          "OLD FOUNDRY RESTAURANT",
          "JW RYANS PUB",
          "KJ DINER",
          "ROSARIOS II",
          "84 MAIN SPORTS GRILL",
          "BREAKYARD JOLLEY #162",
          "SWEET NOTHINGS",
          "WARNERS SNACK BAR",
          "ORIENTAL KITCHEN",
          "PAPA JIMS PIZZERIA",
          "CHENG BIAO RESTAURANT",
          "PIE IN THE SKY",
          "RAIL CITY GRILL",
          "THE HEN HOUSE",
          "HARLEY DS BAR & GRILL",
          "MAPLEFIELDS NORTH",
          "AMATOS",
          "ST ALBANS JOLLEY #150",
          "KINGS COVE HOME BAKE SHOP",
          "SHAGGYS SNACK BAR",
          "FISH TALES",
          "McDonald’s",
          "MAPLEFIELDS SWANTON",
          "CHAMPLAIN FARMS",
          "SWANTON HOUSE OF PIZZA",
          "TIM'S SHOP DBA SWANTON HOUSE OF PIZZA",
          "MARBLE MILL RESTAURANT & PUB",
          "GOLDEN CRUST",
          "CHAMPLAIN RESTAURANT",
          "JACOBS RESTAURANT LLC",
          "CODYS CAFE",
          "PHOENIX HOUSE 1835 ",
          "ALBURG SHORT STOP MOBIL",
          "AUCTION HOUSE SNACK BAR",
          "ALBURGH BEVERAGE MART LLC",
          "KAYS RESTAURANT",
          "19TH HOLE BAR & GRILL",
          "ALBURGH COUNTRY STORE LLC",
          "ADAMS LANDING BED & BREAKFAST",
          "ISLAND HUB LLC THE",
          "CHAMP DINER THE",
          "CAFE AT THE GALLERY",
          "TERRY LODGE",
          "SOUTH END CAFE",
          "ST ANNES CAFETERIA",
          "NORTH HERO HOUSE",
          "BLUE PADDLE BISTRO",
          "GRAND ISLE LAKE HOUSE",
          "KEELER BAY VARIETY STORE",
          "KEELER'S BAY VARIETY",
          "MCKEE'S ISLAND PUB & PIZZA",
          "WEST HARTFORD VILLAGE STORE",
          "SUZANNES B & B",
          "MORSE HIGHLANDS DAY LODGE",
          "SMUGGLERS NOTCH BASELODGE",
          "SMUGGLERS NOTCH BASELODGE/BLACK BEAR",
          "HEARTH & CANDLE RESTAURANT",
          "STELLA NOTTE RESTAURANT & BISTRO",
          "PEGGYS COOKIN LLC",
          "JOE'S 4 PLAY TAVERN",
          "THE BARN AT SMUGGLERS NOTCH",
          "BROKEN YOKE",
          "ANGELINAS RESTAURANT",
          "RIBA-BELLOS PIZZERIA",
          "MEETING HOUSE, THE",
          "EDEN MINI MART/UNCLE BILLS DINER",
          "BLACK DIAMOND BARBEQUE",
          "158 MAIN",
          "MOUNTAINSIDE CABANA",
          "FAMILY TABLE THE",
          "MAPLEFIELDS JEFFERSONVILLE",
          "VILLAGE TAVERN OF JEFFERSONVILLE THE",
          "MIX THE",
          "ROBBIES WILDLIFE REFUGE",
          "LONGTRAIL TAVERN",
          "HOGBACK SNACKS",
          "PLUM & MAIN RESTAURANT",
          "JOHNSON'S CHINESE KITCHEN",
          "JOHNSON STATE STEARNS DINING HALL",
          "LOU LOU'S COFFEE HOUSE",
          "McDonald’s",
          "VILLAGE VICTORIAN BED & BREAKFAST",
          "CHARLMONT RESTAURANT",
          "Dunkin’ Donuts",
          "LIU LINS ASIAN CUISINE",
          "MORRISVILLE HOUSE OF PIZZA",
          "MOUNTAIN VIEW SNACK BAR",
          "DEBS PLACE",
          "MUNCHYS",
          "HOAGIES PIZZA & PASTA",
          "Himalaya Restaurant",
          "Holy Grounds Ice Cream",
          "IDLETYME BREWING COMPANY",
          "Idlewood the Restaurant",
          "SALUTE",
          "Kimpton Taconic Hotel",
          "SPOT ON THE DOCK",
          "Lyon's Den Restaurant & Pub",
          "MAGIC MOUNTAIN SKI AREA/BLACKLINE TAVERN",
          "MAPLE LEAF DINER",
          "MARTELL'S AT THE RED FOX",
          "MILL TAVERN THE",
          "Morse Mountain Grille",
          "Nite Jars",
          "NORTH COUNTRY SALOON",
          "BLUE SPARROW KITCHEN",
          "BURGER BAR",
          "Panera Bread Church Street",
          "PASCOLO",
          "PHO CAPITAL VIETNAMESE RESTAURANT",
          "PHO K&K",
          "PIZZA ON MAIN",
          "PK COFFEE",
          "Quality Inn & Conference Center restaurant (fka Tequila Red's)",
          "QUEEN CITY BREWERY",
          "RAVEN'S DEN STEAK HOUSE",
          "MANGALITSA",
          "Ryder Brook Golf Club",
          "Second Rising Café",
          "Silver Maple Lodge and Cottages",
          "Skinny Pancake-UVM",
          "STARBUCKS COFFEE #10301",
          "STARBUCKS COFFEE                        ",
          "STARBUCKS COFFEE #3473",
          "STARBUCKS COFFEE                        ",
          "DOUGH BOY'S PIZZA",
          "STONY BROOK TAVERN",
          "STOWE SANDWICH COMPANY",
          "Stowe Motel & Snowdrift",
          "SUBWAY",
          "SUBWAY",
          "SUBWAY",
          "SUBWAY",
          "SUBWAY",
          "SUBWAY #439",
          "SUBWAY RESTAURANT",
          "SUBWAY #456",
          "SUBWAY",
          "SUBWAY",
          "SUBWAY",
          "JOHNSON SUBWAY",
          "SUBWAY",
          "SUBWAY",
          "THE OLD POST",
          "SUSHI YOSHI",
          "SAKURA SUSHI & KITCHEN",
          "SWISS FONDUE BY HEINZ",
          "KFC / TACO BELL",
          "THAI DISHES",
          "Thai Kitchen",
          "The Bearded Frog Bar & Grill",
          "SHAFERS MARKET AND DELI",
          "SUBWAY AT TOMLINSONS STORE",
          "K'S KORNER",
          "TWO BREWS CAFE",
          "TWO LOCO GUYS",
          "VERMONT TEA AND TRADING COMPANY",
          "Village Picture Shows",
          "WATERWORKS FOOD & DRINK",
          "WEST TOWN EATERY",
          "WILEY INN",
          "Domino’s Pizza",
          "BARNYARD",
          "10 RAILROAD STREET",
          "1st Republic Brewing Company",
          "ALEXANDER'S RESTAURANT & PUB",
          "Artfull Cup Studio & Sunrise Café",
          "ARTSRIOT ",
          "BAJA BURRITO CO",
          "BENCH THE",
          "BISTRO DE MARGOT",
          "Bradford Hotel & Oasis Restaurant",
          "BURKE PUBLICK HOUSE",
          "BURLINGTON BEER COMPANY",
          "Burlington Wine Shop",
          "CAFE SORA",
          "CENTRAL MARKET BURLINGTON",
          "Charlie B's Restaurant",
          "CHURCHILL HOUSE INN                     ",
          "COPPER GROUSE RESTAURANT AND BAR",
          "CORK WINE BAR OF STOWE",
          "DOC PONDS",
          "Doc's Tavern",
          "DOWNTOWN PIZZERIA & PUB",
          "DREWSKIS ON THE RIVER",
          "Drunken Noodle",
          "EAST WEST CAFE",
          "EB Strong's",
          "EL GATO CANTINA",
          "EL TORO",
          "ENOSBURG FALLS COUNTRY CLUB RESTAURANT",
          "ERICAS AMERICAN DINER",
          "Essex Chinese Restaurant",
          "JJ'S PLACE LLC",
          "Fiddlehead Brewery",
          "Firefly Catering",
          "FLAMINGO DINER ",
          "Flannel At Topnotch",
          "FOAM BREWERS",
          "FOGGY GOGGLE OSTERIA",
          "FRANS KITCHEN",
          "FUJI HIBACHI & ASIAN BISTRO INC",
          "GOOD WATER BREWERY",
          "GRAZERS",
          "GREEN DRAGON",
          "WILD FERN",
          "BIG APPLE DELI",
          "Happy Belly Market & Deli",
          "GOOBS BREW AND BARBEQUE",
          "SUBWAY #466",
          "LAURA B'S",
          "JULES ON THE GREEN",
          "THE HIPPIE CHICKPEA",
          "HUB BREW COUNTER",
          "VERMONT ASIAN GOURMET",
          "THYME",
          "STONE CORRAL",
          "VILLAGE ROOST CAFE AND MARKETPLACE ",
          "McDonald’s",
          "MOJO CAFE",
          "GRYPHON THE",
          "BOVE'S",
          "GAKU RAMEN",
          "MAPLEFIELDS FAIR HAVEN",
          "THE BLUE BIKE CAFE",
          "BENEDICTS",
          "PICA-PICA FILIPINO CUISINE",
          "GREEN MOUNTAIN MARKET & DELI",
          "ST PAUL STREET GASTROGRUB",
          "CORNERSTONE BURGER NORTHFIELD",
          "THE COPPER FOX",
          "DRIFTERS",
          "HOP'N MOOSE BREWING COMPANY",
          "SARAHS COUNTRY DINER",
          "Domino’s Pizza",
          "RUMBLES KITCHEN",
          "LA CASA BURRITO",
          "SAMURAI SOUL FOOD",
          "CARRIAGE HOUSE CAFE & GRILL",
          "STONEHEDGE INDOOR GOLF",
          "MURDOCKS ON THE GREEN",
          "MAPLEFIELDS ST JOHNSBURY",
          "THE LUNCHBOX DELI & CAFE",
          "BITTERSWEET MEMORIES BAKERY AND CAFE",
          "GRIND CAFE THE",
          "VERMONT CRAFT MEAD",
          "SOUTHERN PIE COMPANY THE",
          "WILLISTON COFFEE SHOP",
          "BRIDGEWATER DINER",
          "HARDWICK STREET CAFE",
          "HANDCARVED BY ERNIE",
          "FAIRLEE DINER",
          "PORKYS PLACE/PORKYS BACKYARD BBQ",
          "MCGILLICUDDY'S ON THE GREEEN",
          "SOUP'ER HEROS SANDWICH SHOP",
          "DORSET PLAYHOUSE",
          "PLATE",
          "Dunkin’ Donuts",
          "SMOKEY'S BBQ",
          "THE GREAT NORTHERN",
          "FIVE GUYS BURGERS AND FRIES",
          "THE SCALE POKE BAR",
          "PINGALA CAFE & EATERY",
          "FUYAM BUFFET & GRILL ",
          "FOUR QUARTERS BREWING LLC",
          "ECO BEAN AND GREENS",
          "SHELBURNE TAP HOUSE",
          "CLIFF HOUSE",
          "MANGIAMO RISTORANTE",
          "VIET THAI",
          "CILANTRO",
          "UNCLE DANNY'S DELICATESSEN",
          "SWEET & SALTY",
          "GREENE MOUNTAIN NUTRITION & SMOOTHIES ",
          "Dunkin’ Donuts",
          "CHINA KITCHEN",
          "SHY GUY GELATO",
          "VERMONT ARTISAN COFFEE & TEA",
          "HILL FARMSTEAD BREWERY",
          "BILLTOWN BARBECUE",
          "SKINNY PANCAKE SUGARBUSH THE",
          "FRATERNAL ORDER OF EAGLES CHAMPLAIN AERIE 793",
          "BEAR NAKED GROWLER",
          "POSITIVE PIE BARRE",
          "PIZZA 44",
          "EXIT ATE RESTAURANT ",
          "HATCHET TAP & TABLE",
          "WILLOW'S BAGELS",
          "STOWE STREET CAFE",
          "SUBWAY #436",
          "McDonald’s",
          "BENTO",
          "SAL'S SOUTH",
          "THE PORCH CAFE & CATERING",
          "THE 3RD PLACE PIZZERIA",
          "THE BUTCHERY",
          "B GOOD",
          "MINGLE NIGHTCLUB LLC",
          "MAPLEFIELDS NEWPORT",
          "DORSET RISING",
          "LINCOLN'S",
          "STOWE PUBLIC HOUSE AND BOTTLE SHOP",
          "DOT'S RESTAURANT",
          "506 ON THE RIVER INN",
          "SOULFULLY GOOD CAFE",
          "MARTHA'S DINER LLC",
          "SAINT J BREWERY",
          "WUNDERBAR",
          "CARTER'S PIZZA",
          "NEST COFFEE & BAKERY",
          "ISTANBUL KEBAB HOUSE",
          "JERSEY GIRLS DAIRY & FARM STORE",
          "SUBWAY #51954",
          "BARN THE",
          "STONECUTTER SPIRITS HIGHBALL SOCIAL",
          "MAD TACO THE",
          "7 SOUTH SANDWICH COMPANY",
          "THE BEACH HOUSE VT",
          "THE DEN",
          "ABOVE PAR",
          "BRENDA'S HOMESTYLE COOKIN",
          "BRINGING YOU VERMONT",
          "PEG AND TER'S",
          "ARCHIVES THE",
          "HALYARD BREWING COMPANY",
          "Dunkin’ Donuts",
          "ZERO GRAVITY CRAFT BREWERY",
          "STARBUCKS COFFEE #23351",
          "COOK SISTERS CAFE & CATERING",
          "TWIN FLAMES TAQUERIA",
          "THE MOONWINK",
          "NICKS SNACK SHACK",
          "FIRST BRANCH COFFEE",
          "JUEL MODERN APOTHECARY CAFE",
          "DROP IN BREWING",
          "FIRE TOWER RESTAURANT & TAVERN",
          "LAGO TRATTORIA",
          "STEWARTS SHOP #192",
          "BOHEMIAN BAKERY",
          "BREAD & BUTTER",
          "LUCKY NEXT DOOR",
          "NEXT TRICK BREWING",
          "KINDER WAY CAFE",
          "PAPA'S PLACE",
          "CORIANDER",
          "SPEAKEASY CAFE",
          "DELI 126",
          "MARQUIS THEATRE ",
          "DUNKIN’ DONUTS",
          "MORSE BLOCK DELICATESSEN",
          "SI AKU RAMEN ",
          "LEAP'N COW CAFE",
          "NORTH COUNTRY GENERAL",
          "KENTUCKY FRIED CHICKEN & TACO BELL",
          "MAIN STREET COFFEE AND SCOOP SHOPPE",
          "DUO RESTAURANT",
          "BUTLER'S PANTRY",
          "SWEET SPOT",
          "LA CASITA",
          "FARNHAM ALE & LAGER",
          "FLEDERMAUS TEAHOUSE",
          "SCALIA'S PIZZERIA",
          "RILEY'S FISH SHACK",
          "CAFE ON MAIN",
          "CUPPITY KAKES",
          "SHINJUKU STATION",
          "EVEREST INDIAN NEPALI RESTAURANT",
          "QUECHEE FARMS",
          "GREENE MOUNTAIN NUTRITION & SMOOTHIES",
          "COMFORT INN",
          "VILLAGE PIE/802",
          "JUICE AMOUR",
          "BANGKOK BISTRO(IN THE ALLEY)",
          "TANDEM",
          "SIMPLE ROOTS BREWING",
          "MAD RIVER TASTE PLACE",
          "THE BLUE STONE",
          "GOOD MEASURE BREWING CO",
          "KNEAD BAKERY",
          "UPPER VALLEY FOOD CO-OP",
          "THE MILLER'S TOLL",
          "REMEDY WINE BAR",
          "IPIE PIZZERIA",
          "CAFE LOTTI",
          "STARVING ARTIST CAFE",
          "YALLA VERMONT",
          "TARGET/STARBUCKS T3306",
          "Dunkin’ Donuts",
          "MAD HATTER'S SCOOPS",
          "CHIPOTLE MEXICAN GRILL",
          "STATESIDE CAFETERIA & BULLWHEEL BAR",
          "SWINGIN PINWHEEL THE",
          "SCOUT & CO",
          "DOG RIVER BREWERY",
          "KILLINGTON DINER",
          "FIELDSTONE LODGE B&B",
          "ZEN BARN",
          "AMERICAN LEGION POST #25",
          "WHISKEY DEN THE",
          "VERMONT FARMSTEAD CHEESE CO",
          "WILLIAMSVILLE EATERY",
          "SOUNDBITE",
          "MYSTIC CAFE & WINE BAR",
          "CITIZEN CIDER",
          "GUILTY PLATE THE",
          "FOLINO'S PIZZA",
          "PEARL ST PUB",
          "EVERYBUDDY'S CASUAL DINING",
          "RANCH CAMP",
          "RUSTIC ROOTS",
          "9 AND DINE RESTAURANT LLC",
          "CASEY'S CABOOSE",
          "WORTHY BURGER TOO",
          "K.T. RAYS ON THE POND",
          "RUFF LIFE COFFEE",
          "PHO THAO RESTAURANT",
          "MORRISVILLE FOOD CO-OP",
          "BUTCH & BABE'S",
          "EAT WOODSTOCK",
          "D & L BEVERAGE AND DELI",
          "BLACK CAP COFFEE & BEER",
          "UNION UNDERGROUND",
          "PIECEMEAL PIES",
          "PLAINFIELD HARDWARE",
          "FARM TO TABLE",
          "GOOD DAY CAFE",
          "COURTHOUSE CAFE",
          "THE WAREHOUSE",
          "HANGAR CAFE ",
          "THE PANTRY & BEANERY",
          "HERMITAGE CLUB HOUSE",
          "QUAD COMMONS CAFE",
          "NEPALI KITCHEN",
          "OLYMPIC II",
          "LA BOCA'S WOOD FIRED PIZZA",
          "14TH STAR BREWING CO",
          "PIZZERIA IDA",
          "COUNTRY BUMKINS SNACK SHACK",
          "LIFT VT ",
          "1906 HOUSE THE",
          "MOOSE CLUB #1779",
          "HONEY ROAD",
          "KAFFEEHAUS",
          "Dunkin’ Donuts",
          "MCGILLICUDDY'S FIVE CORNERS",
          "LAWSON'S FINEST LIQUIDS",
          "MCGILLICUDDY’S IRISH PUB",
          "THE WORKS CAFE ",
          "THE BREAD LOAF INN"
         ],
         "lat": [
          43.4922912,
          43.4768912,
          43.5019912,
          43.4955912,
          43.4955912,
          43.5143912,
          43.5128912,
          43.4799912,
          43.4803912,
          43.4803912,
          43.5131912,
          43.4843912,
          43.4796912,
          43.5443912,
          43.6231911,
          43.6257911,
          43.6253911,
          43.6208911,
          43.6250911,
          43.6265911,
          43.6325911,
          43.5967911,
          43.6253911,
          43.6271911,
          43.6258911,
          43.6264911,
          43.6273911,
          43.6268911,
          43.6255911,
          43.6260911,
          43.9223911,
          43.9220911,
          43.9230911,
          43.9221911,
          43.9221911,
          43.9208911,
          43.9202911,
          43.9031911,
          43.8348911,
          43.8658911,
          43.8124911,
          44.098191,
          44.1162911,
          44.121991,
          44.1165911,
          44.7315909,
          44.7480909,
          44.7876909,
          44.7654909,
          44.7463909,
          44.7499909,
          44.8884909,
          44.623991,
          44.634891,
          44.6504909,
          44.6664909,
          44.9703909,
          44.9884909,
          44.9559909,
          44.9556909,
          44.9542909,
          44.9542909,
          44.9540909,
          44.9540909,
          44.9532909,
          44.9528909,
          44.9514909,
          44.9521909,
          45.0050909,
          44.9512909,
          44.9519909,
          44.9511909,
          44.9519909,
          44.9993909,
          44.9480909,
          44.553091,
          44.9542909,
          44.7060909,
          44.7060909,
          44.7060909,
          44.6826909,
          44.571891,
          44.565791,
          44.550591,
          44.8568909,
          44.8596909,
          44.8011909,
          44.9475909,
          44.9370909,
          44.9315909,
          44.9284909,
          44.9284909,
          44.9284909,
          44.9284909,
          44.9376909,
          44.9376909,
          44.9376909,
          44.9376909,
          44.9388909,
          44.9896909,
          44.9283909,
          44.8137909,
          44.7939909,
          44.8152909,
          44.9362909,
          44.9357909,
          44.9472909,
          44.9359909,
          44.9474909,
          44.9474909,
          44.9354909,
          44.9358909,
          44.9365909,
          44.9322909,
          44.9352909,
          44.9509909,
          44.9398909,
          44.9327909,
          44.9271909,
          44.9419909,
          44.9364909,
          44.9340909,
          44.9357909,
          44.9359909,
          44.9474909,
          44.9416909,
          44.9355909,
          44.9428909,
          44.9428909,
          44.9389909,
          44.9422909,
          44.9293909,
          44.9293909,
          44.9397909,
          44.9327909,
          44.9518909,
          44.593391,
          45.0002909,
          44.8112909,
          44.8081909,
          44.7983909,
          44.8042909,
          44.9479909,
          44.9474909,
          44.9973909,
          44.9966909,
          42.8421913,
          42.8521913,
          42.8607913,
          42.8503913,
          42.8462913,
          42.8455913,
          42.8556913,
          42.8649913,
          42.8676913,
          42.8676913,
          42.8502913,
          42.8534913,
          42.8534913,
          42.8510913,
          42.8519913,
          42.8560913,
          42.8655913,
          42.8732913,
          42.8515913,
          42.8515913,
          42.8511913,
          42.8530913,
          42.8811913,
          42.8406913,
          42.8406913,
          42.8494913,
          42.8394913,
          42.8394913,
          42.8674913,
          42.8396913,
          42.8518913,
          42.8551913,
          42.8514913,
          42.8514913,
          42.8773913,
          42.8372913,
          42.8359913,
          42.8515913,
          42.8513913,
          42.8722913,
          42.8722913,
          42.8533913,
          42.8518913,
          42.8750913,
          42.8750913,
          42.8519913,
          42.8741913,
          42.8741913,
          42.8516913,
          42.8508913,
          42.8761913,
          42.8523913,
          42.8778913,
          42.8787913,
          42.8787913,
          42.8794913,
          42.8794913,
          42.8794913,
          42.8531913,
          42.9405913,
          42.9418913,
          42.9534913,
          42.9424913,
          42.9434913,
          42.9434913,
          42.9673913,
          42.9460913,
          42.9676913,
          42.9495913,
          42.9489913,
          42.9495913,
          42.9501913,
          42.9516913,
          42.9555913,
          42.9561913,
          42.9571913,
          42.9697913,
          42.9697913,
          42.9584913,
          42.9658913,
          42.9382913,
          42.9661913,
          42.9692913,
          42.9660913,
          43.1719912,
          43.1718912,
          43.1718912,
          42.8178913,
          42.8102913,
          43.1451912,
          43.0996912,
          43.1000912,
          43.1458912,
          43.1462912,
          43.2098912,
          43.2048912,
          43.2274912,
          43.2273912,
          43.2263912,
          43.1915912,
          43.1940912,
          42.8599913,
          43.0174913,
          42.9718913,
          42.9803913,
          42.9832913,
          42.9867913,
          42.9760913,
          42.9748913,
          42.9750913,
          42.9750913,
          42.9789913,
          42.9789913,
          42.9761913,
          42.9753913,
          42.9639913,
          42.9639913,
          43.5163912,
          42.9681913,
          43.1360912,
          43.1365912,
          43.1366912,
          43.1366912,
          43.1304912,
          43.1348912,
          44.9969909,
          43.5167912,
          43.5167912,
          43.5168912,
          43.5167912,
          43.5167912,
          43.5168912,
          43.4849912,
          43.5175912,
          43.4806912,
          43.6612912,
          43.6577912,
          43.6126912,
          43.6051912,
          43.6086912,
          43.5815912,
          43.6009912,
          43.6076912,
          43.6111912,
          43.6060912,
          43.6710911,
          43.6079912,
          43.6146912,
          43.6090912,
          43.6058912,
          43.6156912,
          43.6116912,
          43.6152912,
          43.5993912,
          43.6025912,
          43.5981912,
          43.6164912,
          43.6166912,
          43.5977912,
          43.5880912,
          43.5970912,
          43.6223912,
          43.5958912,
          43.6185912,
          43.6271912,
          43.6189912,
          43.6243912,
          43.6192912,
          43.6240912,
          43.6199912,
          43.6066912,
          43.6066912,
          43.6487911,
          43.6088912,
          43.6088912,
          43.6124912,
          43.6237912,
          43.6263912,
          43.6258912,
          43.6243912,
          43.6243912,
          43.5862912,
          43.6063912,
          43.5902912,
          43.6091912,
          43.6041912,
          43.5850912,
          43.5907912,
          43.5840912,
          43.5811912,
          43.6118912,
          43.6064912,
          43.6064912,
          43.6056912,
          43.6161912,
          43.5823912,
          43.6084912,
          43.6023912,
          43.5784912,
          43.6016912,
          43.6093912,
          43.6093912,
          43.6093912,
          43.6093912,
          43.6012912,
          43.6092912,
          43.6066912,
          43.5963912,
          43.6004912,
          43.6078912,
          43.6069912,
          43.6090912,
          43.6090912,
          43.5977912,
          43.6075912,
          43.6062912,
          43.5948912,
          43.6088912,
          43.6072912,
          43.6063912,
          43.6124912,
          43.6279912,
          43.6069912,
          43.6053912,
          43.6033912,
          43.6075912,
          43.6177912,
          43.6016912,
          43.6067912,
          43.4854912,
          43.4808912,
          43.4483912,
          43.4718912,
          43.4718912,
          43.4498912,
          43.6389912,
          43.6018912,
          43.8664911,
          43.8664911,
          43.5962912,
          43.5967912,
          43.5929912,
          43.5935912,
          43.5935912,
          43.5938912,
          42.7486913,
          43.1446912,
          43.1530912,
          43.1461912,
          44.286291,
          44.5875909,
          44.6377909,
          44.5878909,
          44.5898909,
          44.409091,
          44.411791,
          44.412291,
          44.427891,
          44.5882909,
          44.209791,
          44.219291,
          44.227091,
          44.506791,
          44.493891,
          44.504491,
          44.450191,
          44.277891,
          44.409591,
          44.533491,
          44.533491,
          44.535091,
          44.520991,
          44.535591,
          44.535291,
          44.5729909,
          44.534391,
          44.5839909,
          44.520491,
          44.520391,
          44.538691,
          44.534891,
          44.528591,
          44.519391,
          44.520491,
          44.544091,
          44.534391,
          44.535291,
          44.532891,
          44.512391,
          44.500991,
          44.535091,
          44.535091,
          44.532691,
          44.535191,
          44.528591,
          44.0812911,
          44.0503911,
          43.9890911,
          44.0136911,
          44.1331911,
          44.1328911,
          44.1701911,
          44.1546911,
          44.1331911,
          44.1342911,
          44.1252911,
          43.3958912,
          44.1337911,
          44.1283911,
          44.1332911,
          43.9421911,
          44.1970911,
          44.2369911,
          44.1970911,
          43.9526911,
          43.9262911,
          44.1225911,
          44.0129911,
          44.0149911,
          44.0136911,
          44.0149911,
          44.0153911,
          44.0150911,
          44.0150911,
          44.0119911,
          43.9903911,
          43.9903911,
          44.0125911,
          44.0166911,
          43.9998911,
          44.0135911,
          44.0135911,
          44.0115911,
          44.0172911,
          44.0022911,
          44.0132911,
          44.0106911,
          44.0129911,
          44.0133911,
          44.0134911,
          44.0117911,
          44.0117911,
          44.0116911,
          44.0184911,
          43.9999911,
          44.0131911,
          44.0293911,
          44.0049911,
          44.0122911,
          43.9966911,
          44.0155911,
          44.0073911,
          44.0073911,
          44.0108911,
          44.0082911,
          44.2021911,
          44.1223911,
          43.8039911,
          43.8039911,
          44.334791,
          43.8019911,
          43.9741911,
          43.9209911,
          43.9173911,
          43.9072911,
          43.8996911,
          43.9343911,
          44.244591,
          44.1710911,
          44.1672911,
          44.1680911,
          44.1777911,
          44.1767911,
          44.1679911,
          44.1678911,
          44.1970911,
          44.0631911,
          44.1648911,
          44.0361911,
          44.1612911,
          43.0849913,
          43.0644913,
          43.0930913,
          44.528891,
          44.6918909,
          44.181291,
          44.417991,
          44.416491,
          44.446891,
          44.447491,
          44.447491,
          44.442891,
          44.448191,
          44.418191,
          44.417191,
          44.418691,
          44.419091,
          44.428891,
          44.428891,
          44.428891,
          44.414991,
          44.457891,
          44.460491,
          44.460491,
          44.427291,
          44.417691,
          44.412991,
          44.420191,
          44.420191,
          44.416591,
          44.420591,
          44.420591,
          44.417591,
          44.418091,
          44.418091,
          44.418291,
          44.418291,
          44.429391,
          44.420991,
          44.420791,
          44.418391,
          44.424391,
          44.446391,
          44.443291,
          44.418091,
          44.420991,
          44.420891,
          44.420891,
          44.420891,
          44.420891,
          44.476991,
          44.476991,
          44.466091,
          44.474791,
          44.474791,
          44.476591,
          44.476591,
          44.477491,
          44.462391,
          44.465991,
          44.483991,
          44.479691,
          44.479691,
          44.479091,
          44.506491,
          44.506491,
          44.506991,
          44.506991,
          44.469091,
          44.310791,
          44.299191,
          44.308491,
          44.502591,
          44.551691,
          44.549391,
          44.537291,
          44.537291,
          44.534591,
          44.538291,
          44.538291,
          44.528991,
          44.506691,
          44.504191,
          44.508691,
          44.545491,
          44.493291,
          44.545391,
          44.503991,
          44.506191,
          44.544291,
          44.507891,
          44.503291,
          44.503591,
          44.544091,
          44.535691,
          44.535691,
          44.535691,
          44.535691,
          44.535691,
          44.587091,
          44.502591,
          44.513091,
          44.503291,
          44.535391,
          44.550891,
          44.504291,
          44.544291,
          44.516291,
          44.508291,
          44.507391,
          44.495191,
          44.511491,
          44.475691,
          44.496991,
          44.489391,
          44.497291,
          44.498191,
          44.489791,
          44.507391,
          44.507091,
          44.554791,
          44.508591,
          44.490191,
          44.508091,
          44.504891,
          44.447891,
          44.507391,
          44.486491,
          44.511891,
          44.526691,
          44.495191,
          44.507391,
          44.506591,
          44.509591,
          44.483691,
          44.494891,
          44.491791,
          44.496091,
          44.503091,
          44.498391,
          44.491291,
          44.498891,
          44.489391,
          44.507991,
          44.507391,
          44.506291,
          44.487191,
          44.488591,
          44.491491,
          44.491491,
          44.487891,
          44.487791,
          44.483791,
          44.508591,
          44.491891,
          44.489991,
          44.509091,
          44.492591,
          44.505191,
          44.489891,
          44.511791,
          44.495291,
          44.334691,
          44.329591,
          44.326991,
          44.326991,
          44.338791,
          44.310891,
          44.340991,
          44.334091,
          44.334291,
          44.343491,
          44.365491,
          44.355191,
          44.510891,
          44.505891,
          44.502691,
          44.632291,
          44.9990909,
          44.627391,
          44.446891,
          44.449991,
          44.446391,
          44.446391,
          44.446391,
          44.444391,
          44.458691,
          44.443891,
          44.445591,
          44.450291,
          44.446591,
          44.453091,
          44.451891,
          44.445191,
          44.445191,
          44.441291,
          44.448191,
          44.442391,
          44.476191,
          44.446591,
          44.475191,
          44.475191,
          44.455291,
          44.448591,
          44.444691,
          44.444691,
          44.441591,
          44.491491,
          44.490791,
          44.492291,
          44.491791,
          44.491491,
          44.495791,
          44.495691,
          44.490091,
          44.501691,
          44.490791,
          44.490391,
          44.499191,
          44.490591,
          44.340991,
          44.492991,
          44.490691,
          44.8105909,
          44.490991,
          44.502291,
          44.7533909,
          44.8132909,
          44.8148909,
          44.8150909,
          44.8124909,
          44.8140909,
          44.8134909,
          44.8124909,
          44.9963909,
          44.9964909,
          45.0117909,
          44.434391,
          44.435291,
          44.450491,
          44.5643909,
          44.5587909,
          44.8140909,
          45.0055909,
          44.8276909,
          44.7820909,
          44.7846909,
          44.9347909,
          44.9338909,
          44.9087909,
          44.9050909,
          44.9212909,
          44.9063909,
          44.9130909,
          44.9097909,
          44.9068909,
          44.9125909,
          44.9050909,
          44.9212909,
          44.9075909,
          44.9081909,
          44.9040909,
          44.9905909,
          44.9824909,
          44.691291,
          44.9412909,
          44.9390909,
          44.8815909,
          44.9012909,
          44.8849909,
          44.404491,
          44.9651909,
          44.9907909,
          45.0075909,
          44.9898909,
          44.9889909,
          44.9968909,
          44.9968909,
          44.9024909,
          44.9091909,
          44.8109909,
          44.8107909,
          44.8112909,
          44.8039909,
          43.5406912,
          43.6271911,
          43.5404912,
          43.3957912,
          43.4227912,
          43.4227912,
          43.4227912,
          43.3962912,
          43.3954912,
          43.3948912,
          43.3953912,
          43.3964912,
          43.3958912,
          43.3959912,
          43.3958912,
          43.3957912,
          43.3957912,
          43.3883912,
          43.3960912,
          43.3955912,
          43.3957912,
          43.3962912,
          43.2603912,
          43.3949912,
          43.3949912,
          43.3949912,
          43.3954912,
          43.3954912,
          43.3992912,
          43.3953912,
          43.4005912,
          43.4005912,
          43.3997912,
          43.4156912,
          43.4211912,
          43.4015912,
          43.4015912,
          43.4015912,
          43.4015912,
          43.4015912,
          43.4015912,
          43.3966912,
          43.4157912,
          43.3944912,
          43.4531912,
          43.4167912,
          43.3958912,
          43.6901911,
          43.7026911,
          43.7150911,
          43.7190911,
          43.5598912,
          43.5358912,
          43.5356912,
          43.4999912,
          43.5320912,
          43.6648911,
          43.3796912,
          43.3839912,
          43.6520911,
          43.6482911,
          43.6436911,
          43.6350911,
          43.6375911,
          43.6324911,
          43.6343911,
          43.5043912,
          43.4901912,
          43.4698912,
          43.8755911,
          43.9169911,
          43.8749911,
          43.8270911,
          43.8270911,
          43.8694911,
          43.8069911,
          43.8751911,
          43.8223911,
          43.8222911,
          43.8194911,
          43.8216911,
          43.8207911,
          43.8204911,
          43.8278911,
          43.8190911,
          43.8256911,
          43.8272911,
          43.7576911,
          43.8205911,
          43.8201911,
          43.8190911,
          43.3039912,
          43.2942912,
          43.2913912,
          43.2991912,
          43.2639912,
          43.2888912,
          43.2888912,
          43.3032912,
          43.3032912,
          43.3082912,
          43.3047912,
          43.3047912,
          43.3116912,
          43.3318912,
          43.3323912,
          43.3323912,
          43.3203912,
          43.3213912,
          43.3223912,
          43.2984912,
          43.2982912,
          43.2939912,
          43.2939912,
          43.2939912,
          43.2925912,
          43.3410912,
          43.3412912,
          43.7755911,
          43.7694911,
          43.3994912,
          43.4156912,
          43.4714912,
          43.4659912,
          43.4674912,
          43.4679912,
          43.2584912,
          43.2907912,
          43.3002912,
          43.6484911,
          43.6645911,
          43.6458911,
          43.6479911,
          43.6479911,
          43.6461911,
          43.6453911,
          43.6372911,
          43.6487911,
          43.6475911,
          43.6431911,
          43.6464911,
          43.6466911,
          43.6375911,
          43.4801912,
          43.4789912,
          43.4785912,
          44.235591,
          44.148891,
          44.258691,
          44.200291,
          44.1099911,
          44.1131911,
          44.149091,
          44.170791,
          44.149091,
          44.149091,
          44.148891,
          44.148891,
          44.279291,
          44.249491,
          44.277891,
          44.279591,
          44.183891,
          44.213191,
          44.189591,
          44.189591,
          44.189891,
          44.189891,
          44.189891,
          44.1728911,
          44.188391,
          44.188391,
          44.188391,
          44.1720911,
          44.181491,
          44.180891,
          44.1449911,
          44.1391911,
          44.1304911,
          44.1455911,
          44.1382911,
          44.1382911,
          44.1341911,
          44.1341911,
          44.1189911,
          44.1392911,
          44.1170911,
          44.1494911,
          44.1357911,
          44.1400911,
          44.1400911,
          44.1392911,
          44.1375911,
          44.1389911,
          44.1366911,
          44.1389911,
          44.335091,
          44.337591,
          44.337591,
          44.337691,
          44.349291,
          44.332891,
          44.349991,
          44.352891,
          44.337891,
          44.337991,
          44.359091,
          44.329791,
          44.330091,
          44.355691,
          44.338691,
          44.342391,
          44.337191,
          44.337191,
          44.369191,
          44.350991,
          44.337491,
          44.345291,
          44.341891,
          44.401991,
          44.324291,
          44.335191,
          44.370191,
          44.343191,
          44.342091,
          44.337791,
          44.346191,
          44.381291,
          44.389791,
          44.371291,
          43.1300912,
          43.1360912,
          43.1361912,
          43.1366912,
          43.1371912,
          43.1484912,
          43.1359912,
          43.1341912,
          43.1347912,
          43.1313912,
          43.1353912,
          43.1353912,
          43.1341912,
          43.1698912,
          43.1300912,
          43.1341912,
          43.1293912,
          43.1348912,
          43.1353912,
          43.1350912,
          43.1353912,
          43.1353912,
          42.8861913,
          42.8500913,
          42.8500913,
          42.8816913,
          42.8551913,
          42.8820913,
          42.8484913,
          42.8484913,
          42.8829913,
          42.8529913,
          42.8843913,
          42.8524913,
          42.8854913,
          42.8860913,
          42.8521913,
          42.8521913,
          42.8528913,
          42.8742913,
          42.8893913,
          42.8893913,
          42.8893913,
          42.8512913,
          42.8530913,
          42.8897913,
          42.8510913,
          42.8923913,
          42.8509913,
          42.8478913,
          42.8521913,
          44.561791,
          44.563191,
          44.562991,
          44.558991,
          44.560191,
          44.563391,
          44.569291,
          44.572691,
          44.522691,
          44.575791,
          44.568791,
          44.557991,
          44.562791,
          44.563191,
          44.475091,
          44.471791,
          44.471791,
          44.477091,
          44.465191,
          44.534891,
          44.472091,
          44.473091,
          44.473491,
          44.465291,
          44.482991,
          44.482991,
          44.473791,
          44.474691,
          44.473991,
          44.492091,
          44.497991,
          44.530891,
          44.476091,
          44.465591,
          44.432691,
          44.469491,
          44.488291,
          44.488591,
          44.471091,
          44.471091,
          44.471091,
          44.470291,
          44.493791,
          44.494891,
          44.471391,
          44.471391,
          44.471491,
          44.500291,
          44.501891,
          44.501391,
          44.472291,
          44.472291,
          44.471591,
          44.464391,
          44.466291,
          44.510491,
          44.510491,
          44.510491,
          44.510491,
          44.510491,
          44.510491,
          44.458291,
          44.458291,
          44.470791,
          44.479091,
          44.456391,
          44.530891,
          44.455391,
          44.454191,
          44.473891,
          44.604791,
          43.9942911,
          43.9938911,
          43.9939911,
          43.9942911,
          43.9942911,
          43.9943911,
          43.9878911,
          43.9879911,
          43.9924911,
          43.9924911,
          43.9824911,
          43.9860911,
          44.072591,
          43.9817911,
          44.0425911,
          43.9889911,
          43.9895911,
          43.9896911,
          43.8021911,
          43.9051911,
          43.9224911,
          43.9068911,
          43.9073911,
          43.9004911,
          44.153591,
          44.153591,
          44.153591,
          44.152991,
          44.079091,
          43.9221911,
          43.9221911,
          43.9262911,
          43.9221911,
          43.9395911,
          43.9247911,
          43.9212911,
          43.9212911,
          43.9212911,
          43.9439911,
          43.9227911,
          43.9225911,
          43.9225911,
          43.9225911,
          43.9232911,
          43.9228911,
          44.9043909,
          44.9430909,
          44.9955909,
          44.9388909,
          44.6432909,
          44.7836909,
          44.8266909,
          43.7066912,
          43.7067912,
          43.6109912,
          43.7986911,
          43.7976911,
          43.8283911,
          43.8288911,
          43.7991911,
          43.7984911,
          43.8156911,
          43.8021911,
          43.7989911,
          43.7991911,
          43.7962911,
          43.7991911,
          43.7996911,
          43.8118911,
          43.6439912,
          43.6378912,
          43.6068912,
          43.6075912,
          43.6580912,
          43.6088912,
          43.6155912,
          43.6092912,
          43.6136912,
          44.183091,
          43.6074912,
          43.5261912,
          43.3446912,
          43.3493912,
          43.3206912,
          43.5253912,
          43.5219912,
          43.5921912,
          43.5922912,
          43.5924912,
          43.6002912,
          43.5917912,
          43.5929912,
          43.6021912,
          43.5931912,
          43.5821912,
          43.6016912,
          43.5934912,
          43.6073912,
          43.6294911,
          43.6492911,
          43.6492911,
          43.6485911,
          43.6482911,
          43.6472911,
          43.6442911,
          43.6419911,
          43.6412911,
          43.6279911,
          43.6275911,
          43.6390911,
          43.5967912,
          43.6368911,
          43.6373911,
          43.6373911,
          43.6360911,
          43.6716911,
          43.6403911,
          43.6441911,
          43.6259911,
          43.6259911,
          43.6576911,
          43.6307911,
          43.6203911,
          43.6203911,
          43.6203911,
          43.6586911,
          43.6561911,
          43.6639911,
          43.6596911,
          43.6568911,
          43.6678911,
          43.6001912,
          43.6586911,
          43.6019912,
          43.6937911,
          43.6359911,
          43.6680911,
          43.6654911,
          43.6217912,
          43.6338912,
          43.6206912,
          43.6291912,
          43.6348912,
          43.4620912,
          43.4559912,
          43.4402912,
          43.4403912,
          43.5424912,
          43.3453912,
          43.3460912,
          43.1790912,
          43.3477912,
          43.7544911,
          43.7723911,
          43.7728911,
          43.7017911,
          43.6877911,
          43.7137911,
          43.6757911,
          43.7075911,
          43.1384912,
          43.1351912,
          43.1285912,
          43.1991912,
          43.1389912,
          43.1387912,
          43.1134912,
          43.1134912,
          43.1136912,
          43.1137912,
          43.1137912,
          43.1137912,
          43.1137912,
          43.1136912,
          43.1152912,
          43.1137912,
          43.1152912,
          43.1131912,
          43.1136912,
          43.1136912,
          43.1136912,
          43.0622912,
          43.0457913,
          43.0300913,
          43.0772912,
          43.0462913,
          42.7694913,
          42.7610913,
          42.7611913,
          43.0403913,
          43.1042912,
          42.9588913,
          42.9394913,
          42.9438913,
          42.9658913,
          42.9676913,
          42.9676913,
          42.9489913,
          42.9495913,
          42.9495913,
          42.9501913,
          42.9649913,
          43.0255913,
          42.9551913,
          42.9688913,
          42.9407913,
          42.9455913,
          43.6100912,
          43.0840912,
          43.0425913,
          43.0367912,
          43.1032912,
          43.1113912,
          42.7969913,
          42.8686913,
          42.8602913,
          42.8691913,
          42.8762913,
          42.8766913,
          44.519091,
          42.8775913,
          42.8678913,
          42.8678913,
          42.8689913,
          44.449891,
          42.8692913,
          42.8679913,
          42.8683913,
          42.9027913,
          42.8686913,
          42.9080913,
          42.8704913,
          42.9143913,
          42.9160913,
          42.8681913,
          42.8990913,
          42.8679913,
          42.9140913,
          42.8585913,
          42.8689913,
          43.2221912,
          43.4048912,
          43.4955912,
          43.4185912,
          43.7196911,
          43.7225911,
          43.7291911,
          43.8095911,
          43.8279911,
          43.8315911,
          43.8642911,
          43.8317911,
          43.8317911,
          43.8049911,
          43.8214911,
          43.5868911,
          43.5883912,
          43.5882911,
          43.4718912,
          43.3844912,
          43.3844912,
          43.3808912,
          43.4406912,
          43.3819912,
          43.3327912,
          43.2676912,
          43.2629912,
          43.1343912,
          43.2612912,
          43.2603912,
          43.2378912,
          43.2624912,
          43.2587912,
          43.2559912,
          43.2624912,
          43.2633912,
          43.2678912,
          43.2559912,
          43.2558912,
          43.2639912,
          43.2636912,
          43.6525911,
          43.6484911,
          43.6441911,
          43.6467911,
          43.6461911,
          43.6727911,
          43.6459911,
          43.6568911,
          43.6558911,
          43.6620911,
          44.499891,
          43.6435911,
          43.6469911,
          43.6460911,
          43.6354911,
          43.6378911,
          43.6438911,
          43.6584911,
          43.5454912,
          42.8798913,
          42.8940913,
          42.8791913,
          42.8798913,
          42.8779913,
          42.8824913,
          42.8954913,
          42.8962913,
          42.8778913,
          42.8817913,
          42.8821913,
          43.1378912,
          42.8916913,
          42.8755913,
          42.8994913,
          42.8985913,
          42.8985913,
          42.8987913,
          42.9001913,
          42.9001913,
          42.8830913,
          42.9066913,
          42.8793913,
          42.9308913,
          42.9309913,
          42.9285913,
          42.8936913,
          42.8859913,
          42.8861913,
          42.8872913,
          42.8821913,
          42.8783913,
          42.8782913,
          42.8782913,
          42.8777913,
          42.8781913,
          42.8780913,
          42.9070913,
          42.8782913,
          42.9121913,
          42.9290913,
          42.9046913,
          42.8539913,
          43.1446912,
          43.1439912,
          43.2833912,
          43.2193912,
          43.1942912,
          43.1617912,
          43.1747912,
          43.1738912,
          43.1770912,
          43.1738912,
          43.1749912,
          43.1742912,
          43.1780912,
          43.1756912,
          43.1756912,
          43.1747912,
          43.1722912,
          43.1736912,
          43.1661912,
          43.1697912,
          43.1726912,
          43.1728912,
          43.1732912,
          43.1767912,
          43.1772912,
          43.1772912,
          43.1770912,
          43.1776912,
          43.1773912,
          43.1732912,
          43.1782912,
          43.1729912,
          43.1897912,
          43.2011912,
          43.2072912,
          43.1659912,
          43.1738912,
          43.1725912,
          43.1731912,
          43.1745912,
          43.1773912,
          43.1931912,
          42.9191913,
          43.2140912,
          43.2137912,
          43.2300912,
          42.7503913,
          42.7720913,
          44.476491,
          44.476791,
          44.476891,
          44.476891,
          44.476491,
          44.461491,
          44.477991,
          44.476691,
          44.480291,
          44.475991,
          44.476491,
          44.476491,
          44.475691,
          44.512491,
          44.477291,
          44.484691,
          44.476291,
          44.484591,
          44.477791,
          44.476791,
          44.479491,
          44.475291,
          44.475791,
          44.477991,
          44.476091,
          44.475191,
          44.475791,
          44.479991,
          44.480991,
          44.478391,
          44.456191,
          44.475791,
          44.475591,
          44.475791,
          44.475491,
          44.476991,
          44.476191,
          44.475291,
          44.477691,
          44.474391,
          44.476191,
          44.480291,
          44.480191,
          44.476191,
          44.478091,
          44.480291,
          44.476191,
          44.476191,
          44.474491,
          44.485891,
          44.476991,
          44.476191,
          44.482091,
          44.456491,
          44.476991,
          44.475691,
          44.484391,
          44.476391,
          44.472291,
          44.484691,
          44.460891,
          44.460891,
          44.476191,
          44.484691,
          44.470691,
          44.456591,
          44.455691,
          44.485191,
          44.454891,
          44.454891,
          44.473691,
          44.480691,
          44.467891,
          44.479091,
          44.481691,
          44.481691,
          44.478791,
          44.489091,
          44.448191,
          44.466291,
          44.448791,
          44.477291,
          44.477291,
          44.475491,
          44.478091,
          44.460391,
          44.478391,
          44.473691,
          44.480891,
          44.478091,
          44.478191,
          44.478191,
          44.478291,
          44.478291,
          44.480291,
          44.477391,
          44.477991,
          44.489591,
          44.477891,
          44.460691,
          44.477791,
          44.477791,
          44.476791,
          44.477491,
          44.476991,
          44.496291,
          44.626991,
          44.625791,
          44.625391,
          44.620691,
          44.685991,
          44.619791,
          44.622591,
          44.626591,
          44.603091,
          44.631591,
          44.607591,
          44.597291,
          44.591391,
          44.403791,
          44.382591,
          44.424191,
          44.397191,
          44.404791,
          44.381191,
          44.404791,
          44.396591,
          44.404691,
          44.396891,
          44.382991,
          44.420291,
          44.419391,
          44.418091,
          44.417191,
          44.416691,
          44.416691,
          44.410291,
          44.409491,
          44.401291,
          44.396291,
          44.379191,
          44.393491,
          44.380991,
          44.380991,
          44.380491,
          44.394391,
          44.376091,
          44.370591,
          44.366191,
          44.360991,
          44.357191,
          44.379391,
          44.467491,
          44.454191,
          44.441091,
          44.441091,
          44.466691,
          44.440691,
          44.470091,
          44.470291,
          44.470291,
          44.468191,
          44.437591,
          44.468891,
          44.468691,
          44.468691,
          44.468691,
          44.469091,
          44.468391,
          44.484191,
          44.467491,
          44.468191,
          44.466091,
          44.468891,
          44.468991,
          44.435691,
          44.468091,
          44.467291,
          44.466791,
          44.466691,
          44.434291,
          44.434291,
          44.466591,
          44.451791,
          44.464991,
          44.464991,
          44.464991,
          44.464891,
          44.464891,
          44.464891,
          44.464891,
          44.464891,
          44.432091,
          44.463691,
          44.464691,
          44.463991,
          44.425091,
          44.424791,
          44.424791,
          44.424791,
          44.424691,
          44.421491,
          44.462391,
          44.461291,
          44.461191,
          44.467591,
          43.4094912,
          44.458791,
          44.468091,
          44.454891,
          44.422291,
          44.432391,
          44.458291,
          44.464991,
          44.428991,
          44.465091,
          44.465091,
          44.457691,
          44.459191,
          44.449691,
          44.448791,
          44.446491,
          44.468991,
          44.437891,
          44.472191,
          44.446191,
          44.444591,
          44.445591,
          44.444791,
          44.442091,
          44.441791,
          44.417091,
          43.5590911,
          44.369491,
          44.507891,
          44.198491,
          44.190991,
          44.225991,
          44.227191,
          44.198191,
          44.228991,
          44.229591,
          44.186991,
          44.184391,
          44.198891,
          44.199791,
          44.196791,
          44.160191,
          44.200691,
          44.213091,
          44.199891,
          44.202391,
          44.177291,
          44.197691,
          44.644591,
          44.196091,
          44.192191,
          44.202791,
          44.202891,
          44.198091,
          44.190391,
          44.189691,
          44.198191,
          44.197191,
          44.191891,
          44.186391,
          44.206791,
          44.195291,
          44.198891,
          44.199391,
          44.199791,
          44.199991,
          44.200391,
          44.200491,
          44.196091,
          44.223891,
          44.221791,
          44.227491,
          44.235091,
          44.209991,
          44.213491,
          44.213491,
          44.216891,
          44.224391,
          44.231991,
          44.402291,
          44.402391,
          44.375191,
          44.358391,
          44.319491,
          44.272291,
          44.202291,
          44.1869911,
          44.241791,
          44.182991,
          44.1774911,
          44.1767911,
          44.1823911,
          44.381391,
          44.280391,
          44.292291,
          44.296091,
          44.243891,
          44.256291,
          43.9252911,
          44.257891,
          44.260591,
          44.257591,
          44.249291,
          44.262491,
          44.260891,
          44.260891,
          44.261891,
          44.258091,
          44.258691,
          44.272691,
          44.260091,
          44.205491,
          44.261691,
          44.260491,
          44.259091,
          44.259791,
          44.257891,
          44.259691,
          44.258591,
          44.261391,
          44.260191,
          44.261491,
          44.260391,
          44.225591,
          44.260591,
          44.255791,
          44.260291,
          44.260291,
          44.257391,
          44.259891,
          44.259991,
          44.258091,
          44.259991,
          44.260291,
          44.8119909,
          44.8261909,
          44.8259909,
          44.8021909,
          44.8368909,
          44.8376909,
          44.8192909,
          44.8382909,
          44.8103909,
          44.8282909,
          44.8113909,
          44.8403909,
          44.8114909,
          44.8120909,
          44.8115909,
          44.8120909,
          44.8396909,
          44.8395909,
          44.8099909,
          44.8121909,
          44.8094909,
          44.8331909,
          44.8125909,
          44.8249909,
          44.7952909,
          44.8128909,
          44.8129909,
          44.8131909,
          44.8109909,
          44.8150909,
          44.8109909,
          44.8119909,
          44.8261909,
          44.8103909,
          44.8009909,
          44.8113909,
          44.8230909,
          44.8110909,
          44.8121909,
          44.8094909,
          44.8089909,
          44.8128909,
          44.8133909,
          44.8131909,
          44.8478909,
          44.8368909,
          44.8262909,
          44.8282909,
          44.8394909,
          44.8396909,
          44.8119909,
          44.8113909,
          44.8387909,
          44.7969909,
          44.7952909,
          44.8066909,
          44.9211909,
          44.9136909,
          44.9219909,
          44.9220909,
          44.9192909,
          44.9203909,
          44.9193909,
          44.9207909,
          44.9201909,
          44.8543909,
          44.9203909,
          44.9190909,
          44.9897909,
          44.9908909,
          44.9751909,
          44.9771909,
          44.9731909,
          44.9080909,
          44.9773909,
          44.736891,
          44.722391,
          44.687291,
          44.732891,
          44.8589909,
          44.846791,
          44.848291,
          44.817991,
          44.645891,
          44.624991,
          44.661791,
          44.661791,
          44.663891,
          43.7131911,
          44.645291,
          44.587491,
          44.588391,
          44.588391,
          44.588391,
          44.588691,
          44.644591,
          44.644591,
          44.643691,
          44.643691,
          44.645391,
          44.643791,
          44.572191,
          44.7412909,
          44.557191,
          44.645791,
          44.588391,
          44.644591,
          44.644391,
          44.643691,
          44.643691,
          44.649291,
          44.642691,
          44.642691,
          44.635591,
          44.635191,
          44.638891,
          44.635691,
          44.574291,
          44.560391,
          44.576991,
          44.576791,
          44.572691,
          44.572891,
          44.568991,
          44.568491,
          44.568791,
          44.571491,
          44.475291,
          44.504291,
          44.473791,
          43.7946911,
          44.489091,
          43.1656912,
          44.474891,
          43.9258911,
          43.2016912,
          43.2276912,
          44.610291,
          43.2273912,
          44.589091,
          42.9306913,
          44.623391,
          43.7132911,
          44.498091,
          44.479091,
          44.477991,
          44.261391,
          44.446491,
          44.561391,
          44.474691,
          42.8919913,
          44.459591,
          43.1737912,
          43.6257911,
          44.522691,
          43.1772912,
          43.9001911,
          44.473391,
          44.468891,
          44.478791,
          44.448691,
          44.446491,
          43.9938911,
          43.7689911,
          44.474691,
          44.474791,
          44.536491,
          44.9993909,
          44.8390909,
          44.8415909,
          43.6476911,
          43.6426911,
          43.9440911,
          44.543591,
          43.1750912,
          44.9067909,
          43.2639912,
          44.636391,
          43.7003911,
          44.644291,
          44.444591,
          44.475091,
          44.450291,
          44.465391,
          44.446291,
          44.475591,
          44.472291,
          44.380991,
          44.0117911,
          44.563191,
          44.220791,
          42.8830913,
          44.198091,
          44.0108911,
          43.1756912,
          44.489691,
          43.2930912,
          43.2225912,
          44.446591,
          44.463291,
          44.563991,
          44.483691,
          43.9925911,
          44.624991,
          44.468091,
          43.6356911,
          44.471991,
          44.477191,
          43.9878911,
          44.5872909,
          44.447491,
          44.476091,
          43.1772912,
          44.486491,
          44.474191,
          43.8360911,
          43.1654912,
          44.464691,
          44.469491,
          43.8740911,
          44.635191,
          43.6028912,
          43.1770912,
          44.480591,
          44.479991,
          44.489991,
          44.561791,
          44.9126909,
          44.654291,
          44.496991,
          44.656691,
          44.366091,
          44.490691,
          42.8462913,
          44.493891,
          44.479091,
          44.5877909,
          43.1463912,
          42.8979913,
          44.445591,
          44.445791,
          44.561891,
          43.7755911,
          44.540891,
          44.490391,
          45.0049909,
          43.4063912,
          44.622891,
          44.509891,
          44.261391,
          44.5736909,
          42.8531913,
          43.6495911,
          44.398891,
          42.8690913,
          44.173891,
          43.3957912,
          44.475491,
          44.605391,
          44.476391,
          43.6033912,
          44.8780909,
          43.1134912,
          44.419091,
          42.8671913,
          44.473491,
          44.148891,
          43.2978912,
          44.484991,
          43.6067912,
          44.402191,
          44.415991,
          44.1356911,
          44.8101909,
          43.9053911,
          44.8099909,
          43.5965912,
          43.3815912,
          44.418191,
          43.9054911,
          43.0403913,
          44.8100909,
          44.501791,
          43.2646912,
          44.447191,
          43.5883911,
          44.565491,
          43.6063912,
          43.9089911,
          44.1454911,
          44.529791,
          44.223891,
          43.2516912,
          44.465591,
          44.9520909,
          44.438491,
          44.459591,
          44.478791,
          44.454791,
          44.488391,
          44.624691,
          44.490591,
          44.464991,
          44.412591,
          44.529091,
          43.4015912,
          44.495691,
          42.8775913,
          43.6336912,
          43.6249911,
          44.507191,
          43.6452911,
          43.6073912,
          44.467391,
          44.394791,
          44.606691,
          44.121691,
          44.1358911,
          44.435091,
          44.250391,
          44.199491,
          44.459491,
          43.4045912,
          44.404991,
          44.478191,
          44.338191,
          43.8021911,
          44.2012911,
          44.476991,
          43.4714912,
          42.8722913,
          43.6115912,
          44.472491,
          44.477791,
          44.199091,
          44.9348909,
          43.2532912,
          44.476791,
          44.465491,
          42.8687913,
          43.6093911,
          43.6259911,
          44.8664909,
          44.460991,
          43.1343912,
          43.1440912,
          44.491091,
          44.475391,
          43.3042912,
          44.8389909,
          43.9440911,
          44.478191,
          44.183991,
          43.9906911,
          44.491991,
          44.402391,
          43.9984911,
          44.9357909,
          42.8784913,
          44.376291,
          44.476791,
          44.483391,
          42.8663913,
          44.459791,
          43.1742912,
          44.646591,
          42.8521913,
          43.1728912,
          44.7513909,
          43.8200911,
          43.6488911,
          43.9998911,
          43.1133912,
          44.9359909,
          43.5992912,
          44.256691,
          44.418391,
          44.479191,
          44.6190909,
          43.5931912,
          44.7018909,
          44.0145911,
          43.6068912,
          44.477091,
          44.0126911,
          44.447891,
          44.199491,
          44.199391,
          42.8780913,
          43.1001912,
          42.8817913,
          43.2639912,
          42.8530913,
          44.464991,
          44.189591,
          42.8676913,
          44.483291,
          44.654791,
          42.8692913,
          44.428191,
          44.465191,
          43.3015912,
          44.484991,
          44.468091,
          45.0084909,
          44.462391,
          43.5966912,
          43.1134912,
          43.9907911,
          44.476791,
          44.1331911,
          44.506291,
          44.184291,
          44.182091,
          44.148891,
          44.487691,
          43.6502911,
          42.8792913,
          42.7970913,
          43.6539911,
          44.5888909,
          44.443891,
          42.8518913,
          44.464991,
          43.6139912,
          43.6552911,
          44.448591,
          44.9379909,
          44.477791,
          44.487791,
          44.228191,
          43.6360911,
          42.9887913,
          44.355191,
          43.4806912,
          44.418091,
          43.5131912,
          42.9469913,
          43.8093911,
          43.1769912,
          44.470691,
          44.538291,
          44.478191,
          44.496991,
          44.543991,
          44.469991,
          44.377991,
          43.1991912,
          43.6455911,
          44.184391,
          44.8140909,
          43.6063912,
          44.511391,
          44.562591,
          44.486891,
          43.5982911,
          44.520491,
          44.561491,
          43.1769912,
          43.6483911,
          44.272291,
          44.9070909,
          44.1767911,
          44.479491,
          44.9360909,
          43.5276912,
          44.529091,
          42.9213913,
          44.495491,
          44.491691,
          43.5905912,
          44.506291,
          44.8144909,
          44.489191,
          44.6661909,
          44.467191,
          44.9101909,
          44.428391,
          44.476091,
          44.465491,
          44.9520909,
          44.490191,
          44.187891,
          44.337591,
          42.8525913,
          43.9539911
         ],
         "legendgroup": "Restaurant",
         "lon": [
          -72.3946989,
          -72.3880989,
          -72.3925989,
          -72.3880989,
          -72.3880989,
          -72.4023989,
          -72.4015989,
          -72.3867989,
          -72.3863989,
          -72.3863989,
          -72.4022989,
          -72.3853989,
          -72.3867989,
          -72.5533988,
          -72.5188988,
          -72.5186988,
          -72.5182988,
          -72.5187988,
          -72.5178988,
          -72.5106989,
          -72.5038989,
          -72.6022988,
          -72.5171989,
          -72.5099989,
          -72.5160989,
          -72.5084989,
          -72.5065989,
          -72.5171989,
          -72.5172989,
          -72.5155989,
          -72.6592988,
          -72.6650988,
          -72.6573988,
          -72.6585988,
          -72.6585988,
          -72.6468988,
          -72.6632988,
          -72.6568988,
          -72.3627989,
          -72.3777989,
          -72.1886989,
          -72.2988989,
          -72.5379988,
          -72.5414988,
          -72.5395988,
          -72.3778988,
          -72.1807989,
          -72.2134989,
          -72.1689989,
          -72.1753989,
          -72.1804989,
          -72.2244989,
          -72.3609988,
          -72.3715988,
          -72.3812988,
          -72.3748988,
          -72.1206989,
          -72.0748989,
          -72.1301989,
          -72.1303989,
          -72.1301989,
          -72.1301989,
          -72.1307989,
          -72.1344989,
          -72.1341989,
          -72.1465989,
          -72.1531989,
          -72.1537989,
          -72.0995989,
          -72.1565989,
          -72.1574989,
          -72.1582989,
          -72.1591989,
          -72.1040989,
          -72.1685989,
          -72.2602989,
          -72.1608989,
          -72.1876989,
          -72.1872989,
          -72.1872989,
          -72.1902989,
          -72.2980989,
          -72.2982989,
          -72.2615989,
          -72.2662988,
          -72.2682988,
          -72.2815988,
          -72.4389988,
          -72.4871988,
          -72.4944988,
          -72.5014988,
          -72.5014988,
          -72.5014988,
          -72.5014988,
          -72.5033988,
          -72.5033988,
          -72.5033988,
          -72.5033988,
          -72.5053988,
          -72.5486987,
          -72.5013988,
          -72.4437988,
          -72.4487988,
          -72.4425988,
          -72.2107989,
          -72.2084989,
          -72.1746989,
          -72.2095989,
          -72.1715989,
          -72.1715989,
          -72.2096989,
          -72.2098989,
          -72.2054989,
          -72.2425989,
          -72.2131989,
          -72.1584989,
          -72.2051989,
          -72.1933989,
          -72.2251989,
          -72.1950989,
          -72.2086989,
          -72.2094989,
          -72.2085989,
          -72.2095989,
          -72.1715989,
          -72.2050989,
          -72.2107989,
          -72.1967989,
          -72.1959989,
          -72.1988989,
          -72.2067989,
          -72.2187989,
          -72.2187989,
          -72.1870989,
          -72.1933989,
          -72.3062988,
          -72.6160988,
          -72.4123988,
          -72.2061989,
          -72.2046989,
          -72.1804989,
          -72.2075989,
          -72.4392988,
          -72.4141988,
          -72.4057988,
          -72.4026988,
          -72.5705989,
          -72.5585989,
          -72.5582989,
          -72.5590989,
          -72.5630989,
          -72.5627989,
          -72.5596989,
          -72.6135989,
          -72.5580989,
          -72.5580989,
          -72.5561989,
          -72.5595989,
          -72.5595989,
          -72.5575989,
          -72.5585989,
          -72.5611989,
          -72.6158989,
          -72.5815989,
          -72.5563989,
          -72.5563989,
          -72.5573989,
          -72.5585989,
          -72.5605989,
          -72.5647989,
          -72.5648989,
          -72.5592989,
          -72.5646989,
          -72.5652989,
          -72.6211989,
          -72.5659989,
          -72.5590989,
          -72.5572989,
          -72.5573989,
          -72.5573989,
          -72.5621989,
          -72.5653989,
          -72.5563989,
          -72.5574989,
          -72.5579989,
          -72.5589989,
          -72.5589989,
          -72.5588989,
          -72.5574989,
          -72.5596989,
          -72.5596989,
          -72.5599989,
          -72.5610989,
          -72.5610989,
          -72.5599989,
          -72.5998989,
          -72.5597989,
          -72.5972989,
          -72.5585989,
          -72.5579989,
          -72.5579989,
          -72.5611989,
          -72.5611989,
          -72.5611989,
          -72.5993989,
          -72.8567988,
          -72.8571988,
          -72.8876988,
          -72.8603988,
          -72.8610988,
          -72.8610988,
          -72.8942988,
          -72.8664988,
          -72.8942988,
          -72.8723988,
          -72.8743988,
          -72.8747988,
          -72.8756988,
          -72.8771988,
          -72.8817988,
          -72.8810988,
          -72.8815988,
          -72.8960988,
          -72.8960988,
          -72.8434988,
          -72.8869988,
          -72.8527988,
          -72.8922988,
          -72.8963988,
          -72.8923988,
          -72.6078989,
          -72.6090988,
          -72.6093988,
          -72.5751989,
          -72.7929988,
          -72.8662988,
          -72.7804988,
          -72.7809988,
          -72.8413988,
          -72.8414988,
          -72.7832988,
          -72.8215988,
          -72.8162988,
          -72.8160988,
          -72.7840988,
          -72.8159988,
          -72.8145988,
          -72.7657988,
          -72.6541988,
          -72.6579988,
          -72.6574988,
          -72.6555988,
          -72.6546988,
          -72.6574988,
          -72.5214989,
          -72.5222989,
          -72.5222989,
          -72.5164989,
          -72.5164989,
          -72.5214989,
          -72.5218989,
          -72.5192989,
          -72.5192989,
          -73.2311986,
          -72.5231989,
          -72.4472989,
          -72.4476989,
          -72.4487989,
          -72.4487989,
          -72.4461989,
          -72.4448989,
          -72.6715987,
          -73.2355986,
          -73.2372986,
          -73.2377986,
          -73.2333986,
          -73.2333986,
          -73.2378986,
          -73.2010986,
          -73.2362986,
          -73.2022986,
          -73.0400987,
          -73.0439987,
          -72.9629987,
          -72.9778987,
          -72.9715987,
          -72.9625987,
          -72.9732987,
          -72.9795987,
          -72.9704987,
          -72.9790987,
          -72.9426987,
          -72.9802987,
          -72.9621987,
          -72.9849987,
          -72.9788987,
          -72.9615987,
          -72.9866987,
          -72.9614987,
          -72.9711987,
          -72.9696987,
          -72.9706987,
          -72.9605987,
          -72.9600987,
          -72.9705987,
          -72.9679987,
          -72.9687987,
          -72.9525987,
          -72.9692987,
          -72.9565987,
          -72.9762987,
          -72.9559987,
          -72.9756987,
          -72.9557987,
          -72.9743987,
          -72.9550987,
          -72.9789987,
          -72.9789987,
          -72.8999987,
          -72.9803987,
          -72.9803987,
          -72.9626987,
          -72.9529987,
          -72.9755987,
          -72.9866987,
          -72.9519987,
          -72.9519987,
          -72.9688987,
          -72.9786987,
          -72.9697987,
          -72.9722987,
          -72.9768987,
          -72.9675987,
          -72.9957987,
          -72.9685987,
          -72.9640987,
          -72.9684987,
          -72.9780987,
          -72.9780987,
          -72.9777987,
          -72.9747987,
          -72.9663987,
          -72.9806987,
          -72.9747987,
          -72.9666987,
          -72.9740987,
          -72.9815987,
          -72.9815987,
          -72.9818987,
          -72.9819987,
          -72.9735987,
          -72.9824987,
          -72.9798987,
          -72.9702987,
          -72.9745987,
          -72.9805987,
          -72.9773987,
          -72.9871987,
          -72.9837987,
          -72.9705987,
          -72.9833987,
          -72.9792987,
          -72.9688987,
          -72.9701987,
          -72.9774987,
          -72.9781987,
          -72.9626987,
          -72.9765987,
          -72.9774987,
          -72.9976987,
          -72.9759987,
          -72.9802987,
          -72.9569987,
          -72.9740987,
          -72.9800987,
          -72.8804987,
          -73.0760987,
          -72.9892987,
          -72.9773987,
          -72.9773987,
          -73.0502987,
          -73.2965986,
          -73.2761986,
          -72.8436987,
          -72.8436987,
          -73.0489987,
          -73.0489987,
          -73.0445987,
          -73.0459987,
          -73.0459987,
          -73.0464987,
          -73.0658987,
          -72.8767988,
          -72.8930988,
          -72.8669988,
          -72.060199,
          -71.916399,
          -71.978299,
          -71.944799,
          -71.960099,
          -72.1950989,
          -72.1399989,
          -72.1400989,
          -72.1048989,
          -71.942699,
          -72.1935989,
          -72.2233989,
          -72.3037989,
          -72.3635988,
          -72.3747988,
          -72.3686988,
          -71.873099,
          -72.4240988,
          -72.1573989,
          -72.002599,
          -72.002599,
          -72.025299,
          -72.000299,
          -72.004399,
          -72.004699,
          -71.972099,
          -72.000999,
          -71.902499,
          -72.001599,
          -72.001099,
          -72.0541989,
          -72.003999,
          -72.000599,
          -72.003099,
          -72.000999,
          -71.999499,
          -72.006799,
          -72.005299,
          -72.002799,
          -71.994999,
          -72.003499,
          -72.025299,
          -72.025299,
          -71.993999,
          -72.004099,
          -72.000599,
          -73.3951985,
          -73.3448985,
          -73.2784986,
          -73.3892985,
          -73.0776986,
          -73.0776986,
          -72.9842987,
          -73.0455986,
          -73.0769986,
          -73.0768986,
          -73.0878986,
          -72.7052988,
          -73.0897986,
          -73.0569986,
          -73.0779986,
          -73.2119986,
          -73.3618985,
          -73.2322986,
          -73.3618985,
          -72.8385987,
          -72.8410987,
          -73.0022987,
          -73.1685986,
          -73.1638986,
          -73.1670986,
          -73.1646986,
          -73.1698986,
          -73.1697986,
          -73.1697986,
          -73.1700986,
          -73.1378986,
          -73.1378986,
          -73.1651986,
          -73.1687986,
          -73.1812986,
          -73.1678986,
          -73.1678986,
          -73.1683986,
          -73.1686986,
          -73.1542986,
          -73.1699986,
          -73.1644986,
          -73.1686986,
          -73.1682986,
          -73.1672986,
          -73.1707986,
          -73.1707986,
          -73.1709986,
          -73.1668986,
          -73.1487986,
          -73.1667986,
          -73.1723986,
          -73.1539986,
          -73.1697986,
          -73.1458986,
          -73.1696986,
          -73.1610986,
          -73.1610986,
          -73.1807986,
          -73.1772986,
          -73.1299986,
          -73.1818986,
          -73.2964986,
          -73.2964986,
          -72.7544987,
          -73.2797986,
          -73.0385987,
          -73.0844986,
          -73.1608986,
          -73.0861986,
          -73.3076986,
          -73.3101986,
          -73.0664986,
          -73.2463986,
          -73.2516986,
          -73.2508986,
          -73.2469986,
          -73.2458986,
          -73.2521986,
          -73.2518986,
          -73.3618985,
          -73.4070985,
          -73.2409986,
          -73.4175985,
          -73.2611986,
          -73.1442987,
          -73.1570987,
          -73.1404987,
          -72.001499,
          -71.959199,
          -72.060999,
          -72.016099,
          -72.019299,
          -72.016299,
          -72.016099,
          -72.016099,
          -72.014999,
          -72.015599,
          -72.018199,
          -72.021799,
          -72.021299,
          -72.020699,
          -72.017499,
          -72.017499,
          -72.017499,
          -72.016699,
          -72.015099,
          -72.013599,
          -72.013599,
          -72.018699,
          -72.015199,
          -72.017299,
          -72.010499,
          -72.010499,
          -72.016399,
          -72.010099,
          -72.010099,
          -72.016799,
          -72.015499,
          -72.015399,
          -72.015399,
          -72.015399,
          -71.962699,
          -72.014899,
          -72.004199,
          -72.017699,
          -72.014099,
          -72.016299,
          -72.9056987,
          -72.8535987,
          -72.8502987,
          -72.8492987,
          -72.8492987,
          -72.8492987,
          -72.8492987,
          -73.2225986,
          -73.2225986,
          -73.2140986,
          -73.2209986,
          -73.2209986,
          -73.2145986,
          -73.2145986,
          -73.2127986,
          -73.2082986,
          -73.1805986,
          -73.2051986,
          -73.1944986,
          -73.1944986,
          -73.2199986,
          -73.2454985,
          -73.2454985,
          -73.2444985,
          -73.2444985,
          -73.1995986,
          -73.2529986,
          -73.2554986,
          -73.2501986,
          -73.1824986,
          -73.2343985,
          -73.1635986,
          -73.2500985,
          -73.2500985,
          -73.2486985,
          -73.2496985,
          -73.2496985,
          -73.1716986,
          -73.1757986,
          -73.1742986,
          -73.1862986,
          -73.2104986,
          -73.1704986,
          -73.2098986,
          -73.1810986,
          -73.1799986,
          -73.2269986,
          -73.1792986,
          -73.1808986,
          -73.1825986,
          -73.2498985,
          -73.2476985,
          -73.2476985,
          -73.2476985,
          -73.2476985,
          -73.2476985,
          -72.7806987,
          -73.1822986,
          -73.1833986,
          -73.1815986,
          -73.2484985,
          -73.2293985,
          -73.1800986,
          -73.2145986,
          -73.1794986,
          -73.1338986,
          -73.1338986,
          -73.1226986,
          -73.0622986,
          -73.2126986,
          -73.1249986,
          -73.1121986,
          -73.1084986,
          -73.1099986,
          -73.1212986,
          -73.0824986,
          -73.1355986,
          -73.0686986,
          -73.0847986,
          -73.1113986,
          -73.0842986,
          -73.0884986,
          -73.1008986,
          -73.0864986,
          -73.1021986,
          -73.0657986,
          -72.9924986,
          -73.1199986,
          -73.1338986,
          -73.1333986,
          -73.1341986,
          -73.1070986,
          -73.1222986,
          -73.1101986,
          -73.1244986,
          -73.0317986,
          -73.1276986,
          -73.1100986,
          -73.1281986,
          -73.1122986,
          -73.0856986,
          -73.0824986,
          -73.0806986,
          -73.0541986,
          -73.1118986,
          -73.1088986,
          -73.1088986,
          -73.1123986,
          -73.1129986,
          -73.0847986,
          -73.0847986,
          -73.1103986,
          -73.1110986,
          -73.1325986,
          -73.1180986,
          -73.1351986,
          -73.1118986,
          -73.0660986,
          -73.1201986,
          -73.1128986,
          -73.1102986,
          -73.1096986,
          -73.1063986,
          -73.1115986,
          -73.0758986,
          -73.1181986,
          -73.1112986,
          -73.1109986,
          -73.1036986,
          -73.1257986,
          -73.1550986,
          -72.9623986,
          -72.9935986,
          -73.0065986,
          -73.1154986,
          -72.6749987,
          -73.1174986,
          -73.1037986,
          -73.1102986,
          -73.1086986,
          -73.1086986,
          -73.1086986,
          -73.1117986,
          -73.0864986,
          -73.1120986,
          -73.1082986,
          -73.1099986,
          -73.1032986,
          -73.1110986,
          -73.1107986,
          -73.1094986,
          -73.1094986,
          -73.0652986,
          -73.1149986,
          -73.0574986,
          -73.1133986,
          -73.1199986,
          -73.1137986,
          -73.1137986,
          -73.1233986,
          -73.1101986,
          -73.1125986,
          -73.1158986,
          -73.1220986,
          -73.1862986,
          -73.1870986,
          -73.1801986,
          -73.1896986,
          -73.1856986,
          -73.1858986,
          -73.1854986,
          -73.1866986,
          -73.0988986,
          -73.1849986,
          -73.1866986,
          -73.1841986,
          -73.1866986,
          -72.7600987,
          -73.1864986,
          -73.1866986,
          -72.2035989,
          -73.1866986,
          -73.1828986,
          -71.6320991,
          -71.881199,
          -71.881299,
          -71.880499,
          -71.881699,
          -71.880999,
          -71.880799,
          -71.881899,
          -71.5370991,
          -71.5379991,
          -71.6121991,
          -71.879099,
          -71.879799,
          -71.924699,
          -71.5606991,
          -71.6001991,
          -71.880999,
          -71.770599,
          -72.7790987,
          -72.8015987,
          -72.8010987,
          -72.8121987,
          -72.7105987,
          -72.8016987,
          -72.8060987,
          -72.7506987,
          -72.8051987,
          -72.7966987,
          -72.8033987,
          -72.8163987,
          -72.7999987,
          -72.8060987,
          -72.7512987,
          -72.8051987,
          -72.8046987,
          -72.8066987,
          -72.8689986,
          -72.9163986,
          -73.1090986,
          -73.0440986,
          -73.0490986,
          -72.5667987,
          -72.6403987,
          -72.5393988,
          -72.9918986,
          -72.6340987,
          -72.6750987,
          -72.6411987,
          -72.6753987,
          -72.6770987,
          -72.6710987,
          -72.6710987,
          -72.9494986,
          -72.9150986,
          -73.0853986,
          -73.0858986,
          -73.0888986,
          -73.0863986,
          -72.3995989,
          -72.4661989,
          -72.3985989,
          -72.7032988,
          -72.7165988,
          -72.7165988,
          -72.7165988,
          -72.6980988,
          -72.7047988,
          -72.7014988,
          -72.6858988,
          -72.7002988,
          -72.6998988,
          -72.7007988,
          -72.7015988,
          -72.7030988,
          -72.7030988,
          -72.7069988,
          -72.6861988,
          -72.7033988,
          -72.6868988,
          -72.6872988,
          -72.5907989,
          -72.6829988,
          -72.6829988,
          -72.6829988,
          -72.7011988,
          -72.7011988,
          -72.7066988,
          -72.7006988,
          -72.7060988,
          -72.7060988,
          -72.7058988,
          -72.7068988,
          -72.7044988,
          -72.7163988,
          -72.7163988,
          -72.7163988,
          -72.7163988,
          -72.7163988,
          -72.7163988,
          -72.6940988,
          -72.7014988,
          -72.6810988,
          -72.6947988,
          -72.6971988,
          -72.7031988,
          -72.4998989,
          -72.3113989,
          -72.3090989,
          -72.3093989,
          -72.7040988,
          -72.7217988,
          -72.7426988,
          -72.7145988,
          -72.7572988,
          -72.5391988,
          -72.6354988,
          -72.6476988,
          -72.3911989,
          -72.4073989,
          -72.4192989,
          -72.4513989,
          -72.4075989,
          -72.4699989,
          -72.4540989,
          -72.5694988,
          -72.5546988,
          -72.5328989,
          -72.8079987,
          -72.7904987,
          -72.8079987,
          -72.7918987,
          -72.7918987,
          -72.8082987,
          -72.7843987,
          -72.8085987,
          -72.5196988,
          -72.5196988,
          -72.5223988,
          -72.5213988,
          -72.5214988,
          -72.5216988,
          -72.5748988,
          -72.5206988,
          -72.5657988,
          -72.5658988,
          -72.4509989,
          -72.5216988,
          -72.5219988,
          -72.5215988,
          -72.4928989,
          -72.4793989,
          -72.4740989,
          -72.4822989,
          -72.4363989,
          -72.4727989,
          -72.4727989,
          -72.4924989,
          -72.4924989,
          -72.4784989,
          -72.4932989,
          -72.4932989,
          -72.4996989,
          -72.5171989,
          -72.5224989,
          -72.5224989,
          -72.5066989,
          -72.5063989,
          -72.5071989,
          -72.4817989,
          -72.4821989,
          -72.4775989,
          -72.4775989,
          -72.4775989,
          -72.4759989,
          -72.4715989,
          -72.4734989,
          -72.7652988,
          -72.7061988,
          -72.5143989,
          -72.4042989,
          -72.4739989,
          -72.4708989,
          -72.4693989,
          -72.4675989,
          -72.7877988,
          -72.7926988,
          -72.7852988,
          -72.3351989,
          -72.3122989,
          -72.3177989,
          -72.3188989,
          -72.3188989,
          -72.3355989,
          -72.3341989,
          -72.4044989,
          -72.3186989,
          -72.3192989,
          -72.3295989,
          -72.3332989,
          -72.3197989,
          -72.4076989,
          -72.3865989,
          -72.3867989,
          -72.3870989,
          -72.7794987,
          -72.6562988,
          -72.5762988,
          -72.6378988,
          -72.6499988,
          -72.6828988,
          -72.6568988,
          -72.6515988,
          -72.6570988,
          -72.6568988,
          -72.6558988,
          -72.6558988,
          -72.4385988,
          -72.4635988,
          -72.4243988,
          -72.4220988,
          -72.8386987,
          -72.7939987,
          -72.8238987,
          -72.8238987,
          -72.8243987,
          -72.8243987,
          -72.8243987,
          -72.8340987,
          -72.8313987,
          -72.8313987,
          -72.8328987,
          -72.8319987,
          -72.8405987,
          -72.8406987,
          -72.8412987,
          -72.8928987,
          -72.8725987,
          -72.8792987,
          -72.8830987,
          -72.8830987,
          -72.8479987,
          -72.8479987,
          -72.8269987,
          -72.8853987,
          -72.8289987,
          -72.8818987,
          -72.8944987,
          -72.8557987,
          -72.8557987,
          -72.8929987,
          -72.8455987,
          -72.8933987,
          -72.8948987,
          -72.8932987,
          -72.7517987,
          -72.7565987,
          -72.7565987,
          -72.7560987,
          -72.7431987,
          -72.7519987,
          -72.7422987,
          -72.7401987,
          -72.7557987,
          -72.7561987,
          -72.7509987,
          -72.7481987,
          -72.7478987,
          -72.7918987,
          -72.7577987,
          -72.7601987,
          -72.7559987,
          -72.7559987,
          -72.7286987,
          -72.7275987,
          -72.7544987,
          -72.7481987,
          -72.7595987,
          -72.7182987,
          -72.7377987,
          -72.7522987,
          -72.7260987,
          -72.7614987,
          -72.7479987,
          -72.7563987,
          -72.7453987,
          -72.7201987,
          -72.7183987,
          -72.5503988,
          -72.4446989,
          -72.4472989,
          -72.4473989,
          -72.4487989,
          -72.4500989,
          -72.4582989,
          -72.4438989,
          -72.4443989,
          -72.4457989,
          -72.4446989,
          -72.4460989,
          -72.4460989,
          -72.4443989,
          -72.4581989,
          -72.4488989,
          -72.4443989,
          -72.4446989,
          -72.4503989,
          -72.4466989,
          -72.4510989,
          -72.4467989,
          -72.4467989,
          -72.5658989,
          -72.5580989,
          -72.5580989,
          -72.5579989,
          -72.6018989,
          -72.5576989,
          -72.5607989,
          -72.5607989,
          -72.5574989,
          -72.5597989,
          -72.5564989,
          -72.5578989,
          -72.5558989,
          -72.5565989,
          -72.5592989,
          -72.5592989,
          -72.5584989,
          -72.5567989,
          -72.5545989,
          -72.5545989,
          -72.5545989,
          -72.5608989,
          -72.5585989,
          -72.5543989,
          -72.5612989,
          -72.5520989,
          -72.5608989,
          -72.5618989,
          -72.5595989,
          -72.5999988,
          -72.6000988,
          -72.5982988,
          -72.5901988,
          -72.5933988,
          -72.5929988,
          -72.6033988,
          -72.5951988,
          -72.6201988,
          -72.5931988,
          -72.5984988,
          -72.6087988,
          -72.5970988,
          -72.5987988,
          -72.7024987,
          -72.7269987,
          -72.7269987,
          -72.7155987,
          -72.6845987,
          -72.7745987,
          -72.7085987,
          -72.7104987,
          -72.7119987,
          -72.6871987,
          -72.6619987,
          -72.6619987,
          -72.7139987,
          -72.7143987,
          -72.7146987,
          -72.7299987,
          -72.7399987,
          -72.7812987,
          -72.7183987,
          -72.6869987,
          -72.7126987,
          -72.6873987,
          -72.7284987,
          -72.7308987,
          -72.6868987,
          -72.6868987,
          -72.6868987,
          -72.6882987,
          -72.7400987,
          -72.7414987,
          -72.6885987,
          -72.6885987,
          -72.6869987,
          -72.7488987,
          -72.7557987,
          -72.7575987,
          -72.6885987,
          -72.6885987,
          -72.6906987,
          -72.6864987,
          -72.6879987,
          -72.7655987,
          -72.7655987,
          -72.7655987,
          -72.7655987,
          -72.7655987,
          -72.7655987,
          -72.6934987,
          -72.6940987,
          -72.6747987,
          -72.7057987,
          -72.6941987,
          -72.7812987,
          -72.6944987,
          -72.6956987,
          -72.6972987,
          -72.6411987,
          -72.128399,
          -72.127899,
          -72.127899,
          -72.128399,
          -72.127799,
          -72.127799,
          -72.1602989,
          -72.122999,
          -72.127599,
          -72.127599,
          -72.121099,
          -72.142999,
          -72.2504989,
          -72.120399,
          -72.6035988,
          -72.4479988,
          -72.4478988,
          -72.4472988,
          -72.1927989,
          -72.146899,
          -72.124699,
          -72.145999,
          -72.142399,
          -72.157499,
          -72.086299,
          -72.086299,
          -72.046599,
          -72.046799,
          -72.057599,
          -72.6651988,
          -72.6651988,
          -72.6647988,
          -72.6646988,
          -72.6044988,
          -72.6654988,
          -72.6654988,
          -72.6654988,
          -72.6654988,
          -72.6258988,
          -72.6646988,
          -72.6651988,
          -72.6642988,
          -72.6639988,
          -72.6648988,
          -72.6653988,
          -72.4057988,
          -72.1907989,
          -72.4039988,
          -72.5053988,
          -71.989399,
          -72.0737989,
          -72.1347989,
          -73.3099986,
          -73.3107986,
          -73.2075986,
          -73.0888986,
          -73.0850987,
          -73.1044986,
          -73.1041986,
          -73.0889986,
          -73.0867987,
          -73.0726987,
          -73.0963986,
          -73.0883986,
          -73.0883986,
          -73.0827987,
          -73.0884986,
          -73.0928986,
          -73.0707987,
          -73.2010986,
          -72.9345987,
          -73.1959986,
          -73.2335986,
          -73.2291986,
          -73.2138986,
          -73.1818986,
          -73.2151986,
          -73.1688986,
          -72.8384987,
          -73.2258986,
          -72.9329987,
          -72.9955987,
          -72.9963987,
          -72.9916987,
          -73.2070986,
          -73.2170986,
          -73.2649986,
          -73.2647986,
          -73.2647986,
          -73.2620986,
          -73.2671986,
          -73.2649986,
          -73.2763986,
          -73.2650986,
          -73.2642986,
          -73.2740986,
          -73.2652986,
          -73.2265986,
          -72.7956988,
          -72.7880988,
          -72.7880988,
          -72.7888988,
          -72.7882988,
          -72.7887988,
          -72.7885988,
          -72.7883988,
          -72.7877988,
          -72.7940988,
          -72.7947988,
          -72.7879988,
          -72.7722988,
          -72.7926988,
          -72.7926988,
          -72.7926988,
          -72.7934988,
          -72.7984988,
          -72.7889988,
          -72.7890988,
          -72.7966988,
          -72.7985988,
          -72.7724988,
          -72.7970988,
          -72.8031988,
          -72.8031988,
          -72.8031988,
          -72.7995988,
          -72.7885988,
          -72.8330987,
          -72.7946988,
          -72.7879988,
          -72.8036988,
          -72.7497988,
          -72.7916988,
          -72.7834988,
          -72.8142987,
          -72.7935988,
          -72.8035988,
          -72.8466987,
          -72.9540987,
          -72.9369987,
          -72.9544987,
          -72.9451987,
          -72.9374987,
          -73.1346987,
          -72.7929988,
          -72.7636988,
          -72.8627987,
          -72.9617987,
          -73.1805987,
          -73.1778987,
          -73.0563987,
          -73.1807987,
          -72.8193987,
          -72.8127987,
          -72.8132987,
          -73.0109987,
          -73.0067987,
          -73.0376987,
          -72.9901987,
          -73.0170987,
          -72.5088989,
          -72.4455989,
          -72.4436989,
          -72.5034989,
          -72.5049989,
          -72.5075989,
          -72.9061988,
          -72.9064988,
          -72.9061988,
          -72.9050988,
          -72.9050988,
          -72.9050988,
          -72.9050988,
          -72.9044988,
          -72.9087988,
          -72.9050988,
          -72.9087988,
          -72.9087988,
          -72.9042988,
          -72.9042988,
          -72.9042988,
          -72.6617988,
          -72.6675988,
          -72.6605988,
          -72.7049988,
          -72.6693988,
          -72.5175989,
          -72.4941989,
          -72.4940989,
          -72.7905988,
          -72.8898988,
          -72.8910988,
          -72.8540988,
          -72.8626988,
          -72.8941988,
          -72.8942988,
          -72.8942988,
          -72.8743988,
          -72.8747988,
          -72.8747988,
          -72.8756988,
          -72.8921988,
          -72.8200988,
          -72.8815988,
          -72.8963988,
          -72.8703988,
          -72.8652988,
          -73.1860986,
          -72.7116988,
          -72.8412988,
          -72.5255989,
          -72.4450989,
          -72.4414989,
          -72.8218988,
          -72.8717988,
          -72.8513988,
          -72.8720988,
          -72.8616988,
          -72.8617988,
          -72.3062989,
          -72.8620988,
          -72.8724988,
          -72.8724988,
          -72.8725988,
          -73.1127986,
          -72.8731988,
          -72.8708988,
          -72.8705988,
          -72.8649988,
          -72.8709988,
          -72.8479988,
          -72.8742988,
          -72.8338988,
          -72.8360988,
          -72.8715988,
          -72.8882988,
          -72.8713988,
          -72.8394988,
          -72.8033988,
          -72.8717988,
          -72.7131988,
          -72.4100989,
          -72.3879989,
          -72.4039989,
          -72.6212988,
          -72.6213988,
          -72.6204988,
          -72.6501988,
          -72.6306988,
          -72.6337988,
          -72.6469988,
          -72.6337988,
          -72.6337988,
          -72.6650988,
          -72.6315988,
          -72.6211988,
          -72.6594988,
          -72.6289988,
          -72.5217989,
          -72.6173988,
          -72.6173988,
          -72.6437988,
          -72.6534988,
          -72.6372988,
          -72.5592989,
          -72.5899988,
          -72.5904988,
          -72.4450989,
          -72.5843989,
          -72.5898989,
          -72.5551989,
          -72.5926988,
          -72.5892989,
          -72.5808989,
          -72.5942988,
          -72.5982988,
          -72.5895988,
          -72.5792989,
          -72.5785989,
          -72.5985988,
          -72.5964988,
          -72.3912989,
          -72.3188989,
          -72.3398989,
          -72.3189989,
          -72.3182989,
          -72.3781989,
          -72.4192989,
          -72.4404989,
          -72.4421989,
          -72.3880989,
          -73.1832986,
          -72.3286989,
          -72.3345989,
          -72.3449989,
          -72.4504989,
          -72.4026989,
          -72.4227989,
          -72.3194989,
          -72.4259989,
          -73.1992987,
          -73.2031987,
          -73.1966987,
          -73.1750987,
          -73.1973987,
          -73.1677987,
          -73.2047987,
          -73.2054987,
          -73.2003987,
          -73.1984987,
          -73.1990987,
          -73.0930987,
          -73.2081987,
          -73.0775987,
          -73.2091987,
          -73.2109987,
          -73.2109987,
          -73.2128987,
          -73.2106987,
          -73.2106987,
          -73.1963987,
          -73.2199987,
          -73.1994987,
          -73.2423987,
          -73.2422987,
          -73.2423987,
          -73.1975987,
          -73.1992987,
          -73.1995987,
          -73.2002987,
          -73.2064987,
          -73.1963987,
          -73.1961987,
          -73.1961987,
          -73.1929987,
          -73.1938987,
          -73.1922987,
          -73.2190987,
          -73.1875987,
          -73.2116987,
          -73.2420987,
          -73.2111987,
          -73.2047987,
          -72.8767988,
          -72.8771988,
          -73.0029987,
          -73.0128987,
          -72.9966987,
          -73.0704987,
          -73.0532987,
          -73.0469987,
          -73.0571987,
          -73.0283987,
          -73.0541987,
          -73.0207987,
          -73.0167987,
          -73.0524987,
          -73.0524987,
          -73.0525987,
          -73.0494987,
          -73.0508987,
          -73.0690987,
          -73.0660987,
          -73.0629987,
          -73.0625987,
          -73.0612987,
          -73.0563987,
          -73.0559987,
          -73.0558987,
          -73.0556987,
          -73.0558987,
          -73.0551987,
          -73.0480987,
          -73.0512987,
          -73.0469987,
          -73.0431987,
          -73.0289987,
          -73.0242987,
          -73.0719987,
          -73.0273987,
          -73.0622987,
          -73.0608987,
          -73.0599987,
          -73.0539987,
          -73.0393987,
          -73.2389987,
          -72.9282987,
          -72.9322987,
          -72.8991988,
          -73.2149987,
          -72.9486988,
          -73.2142986,
          -73.2150986,
          -73.2122986,
          -73.2127986,
          -73.2191986,
          -73.2174986,
          -73.2144986,
          -73.2122986,
          -73.2134986,
          -73.2140986,
          -73.2122986,
          -73.2122986,
          -73.2134986,
          -73.2519985,
          -73.2143986,
          -73.2116986,
          -73.2122986,
          -73.2140986,
          -73.2116986,
          -73.2149986,
          -73.2120986,
          -73.2136986,
          -73.2131986,
          -73.2134986,
          -73.2122986,
          -73.2136986,
          -73.2128986,
          -73.2124986,
          -73.2110986,
          -73.2132986,
          -73.2206986,
          -73.2127986,
          -73.2126986,
          -73.2126986,
          -73.2125986,
          -73.2129986,
          -73.2120986,
          -73.2125986,
          -73.2187986,
          -73.2188986,
          -73.2118986,
          -73.2117986,
          -73.2113986,
          -73.2116986,
          -73.2119986,
          -73.2151986,
          -73.2115986,
          -73.2114986,
          -73.1954986,
          -73.2105986,
          -73.2116986,
          -73.2112986,
          -73.1923986,
          -73.2180986,
          -73.2112986,
          -73.2104986,
          -73.2213986,
          -73.2095986,
          -73.2140986,
          -73.2211986,
          -73.2080986,
          -73.2080986,
          -73.2183986,
          -73.2211986,
          -73.2143986,
          -73.2088986,
          -73.2138986,
          -73.2112986,
          -73.2077986,
          -73.2077986,
          -73.2040986,
          -73.2110986,
          -73.2147986,
          -73.2123986,
          -73.2133986,
          -73.2186986,
          -73.2128986,
          -73.2019986,
          -73.2096986,
          -73.1954986,
          -73.2080986,
          -73.1965986,
          -73.1965986,
          -73.1958986,
          -73.2181986,
          -73.2139986,
          -73.2127986,
          -73.2167986,
          -73.2110986,
          -73.2123986,
          -73.2107986,
          -73.2107986,
          -73.2010986,
          -73.2010986,
          -73.2172986,
          -73.2138986,
          -73.2123986,
          -73.2099986,
          -73.2116986,
          -73.2210986,
          -73.2127986,
          -73.2113986,
          -73.2162986,
          -73.2143986,
          -73.2225986,
          -73.2363986,
          -73.1162986,
          -73.1181986,
          -73.1189986,
          -73.1221986,
          -73.1592986,
          -73.1216986,
          -73.1232986,
          -73.1454986,
          -73.1079986,
          -73.1217986,
          -73.2124986,
          -73.1633986,
          -73.1307986,
          -72.9940986,
          -72.9470987,
          -73.0132986,
          -72.9596987,
          -72.9930986,
          -73.0255986,
          -72.9923986,
          -72.9821986,
          -72.9923986,
          -73.2408986,
          -73.2285986,
          -73.2115986,
          -73.2113986,
          -73.2132986,
          -73.2140986,
          -73.2127986,
          -73.2127986,
          -73.2167986,
          -73.2158986,
          -73.2193986,
          -73.2192986,
          -73.2259986,
          -73.2203986,
          -73.2284986,
          -73.2270986,
          -73.2277986,
          -73.2005986,
          -73.2288986,
          -73.2315986,
          -73.2326986,
          -73.2298986,
          -73.2218986,
          -73.2266986,
          -73.1802986,
          -73.1645986,
          -73.2094986,
          -73.2094986,
          -73.1805986,
          -73.2105986,
          -73.1809986,
          -73.1784986,
          -73.1784986,
          -73.1792986,
          -73.2107986,
          -73.1779986,
          -73.1775986,
          -73.1775986,
          -73.1772986,
          -73.1547986,
          -73.1760986,
          -73.1674986,
          -73.1755986,
          -73.1755986,
          -73.1673986,
          -73.1756986,
          -73.1752986,
          -73.1762986,
          -73.1743986,
          -73.1742986,
          -73.1720986,
          -73.1720986,
          -73.2099986,
          -73.2099986,
          -73.1704986,
          -73.1723986,
          -73.1788986,
          -73.1788986,
          -73.1788986,
          -73.1841986,
          -73.1841986,
          -73.1841986,
          -73.1841986,
          -73.1841986,
          -73.1917986,
          -73.1595986,
          -73.1592986,
          -73.1569986,
          -73.2108986,
          -73.2090986,
          -73.2090986,
          -73.2089986,
          -73.2105986,
          -73.2114986,
          -73.1515986,
          -73.1499986,
          -73.1796986,
          -73.1721986,
          -72.7211988,
          -73.1793986,
          -73.1917986,
          -73.2077986,
          -73.2118986,
          -73.2088986,
          -73.1802986,
          -73.1788986,
          -73.2134986,
          -73.1781986,
          -73.1781986,
          -73.2082986,
          -73.1787986,
          -73.2070986,
          -73.2080986,
          -73.2042986,
          -73.1720986,
          -73.2118986,
          -73.1920986,
          -73.2088986,
          -73.2117986,
          -73.2089986,
          -73.2088986,
          -73.2103986,
          -73.2093986,
          -73.1966986,
          -72.3943989,
          -73.1307986,
          -72.9035987,
          -72.5021988,
          -72.4990988,
          -72.5519988,
          -72.5527988,
          -72.5027988,
          -72.5511988,
          -72.5526988,
          -72.4981988,
          -72.4987988,
          -72.5036988,
          -72.5046988,
          -72.5125988,
          -72.4511988,
          -72.5062988,
          -72.5226988,
          -72.5022988,
          -72.5071988,
          -72.5061988,
          -72.5013988,
          -72.8287987,
          -72.5009988,
          -72.4995988,
          -72.5067988,
          -72.5035988,
          -72.5006988,
          -72.4981988,
          -72.4989988,
          -72.5027988,
          -72.5018988,
          -72.4924988,
          -72.4987988,
          -72.5113988,
          -72.5008988,
          -72.5036988,
          -72.5042988,
          -72.5046988,
          -72.5054988,
          -72.5057988,
          -72.5059988,
          -72.5009988,
          -72.4899988,
          -72.4987988,
          -72.5514988,
          -72.5544988,
          -72.5650988,
          -72.5762988,
          -72.5762988,
          -72.5649988,
          -72.5514988,
          -72.5535988,
          -72.3114989,
          -72.3113989,
          -72.4951988,
          -72.4425988,
          -72.7738987,
          -72.4535988,
          -72.9193987,
          -72.8782987,
          -72.8475987,
          -72.8530987,
          -72.9017987,
          -72.9032987,
          -72.8561987,
          -72.3826988,
          -72.4214988,
          -72.6796988,
          -72.5816988,
          -72.5467988,
          -72.5842988,
          -72.6666988,
          -72.5685988,
          -72.5785988,
          -72.5777988,
          -72.5630988,
          -72.5804988,
          -72.5749988,
          -72.5749988,
          -72.5819988,
          -72.5762988,
          -72.5762988,
          -72.6435988,
          -72.5762988,
          -72.5134988,
          -72.5637988,
          -72.5762988,
          -72.5765988,
          -72.5736988,
          -72.5767988,
          -72.5734988,
          -72.6067988,
          -72.5760988,
          -72.5765988,
          -72.5758988,
          -72.5751988,
          -72.5743988,
          -72.5766988,
          -72.5760988,
          -72.5763988,
          -72.5769988,
          -72.5744988,
          -72.5757988,
          -72.5756988,
          -72.5698988,
          -72.5750988,
          -72.5745988,
          -73.0838986,
          -73.0810986,
          -73.0801986,
          -73.0877986,
          -73.0826986,
          -73.0806986,
          -73.0805986,
          -73.0802986,
          -73.0836986,
          -73.0800986,
          -73.0835986,
          -73.0791986,
          -73.0834986,
          -73.0844986,
          -73.0834986,
          -73.0844986,
          -73.0810986,
          -73.0819986,
          -73.0837986,
          -73.0848986,
          -73.0832986,
          -73.0791986,
          -73.0827986,
          -73.0808986,
          -73.0731986,
          -73.0832986,
          -73.0832986,
          -73.0832986,
          -73.0854986,
          -73.0813986,
          -73.0863986,
          -73.0838986,
          -73.0810986,
          -73.0836986,
          -73.0894986,
          -73.0909986,
          -73.0814986,
          -73.0853986,
          -73.0848986,
          -73.0832986,
          -73.0841986,
          -73.0832986,
          -73.0846986,
          -73.0832986,
          -73.0873986,
          -73.0826986,
          -73.0810986,
          -73.0800986,
          -73.0792986,
          -73.0810986,
          -73.1035986,
          -73.1048986,
          -73.0825986,
          -73.0716986,
          -73.0731986,
          -73.1381986,
          -73.1139986,
          -73.1146986,
          -73.1108986,
          -73.1101986,
          -73.1246986,
          -73.1270986,
          -73.1260986,
          -73.1272986,
          -73.1265986,
          -73.0913986,
          -73.1175986,
          -73.1247986,
          -72.8129987,
          -73.2988985,
          -73.3040985,
          -73.2993985,
          -73.2401985,
          -73.3055985,
          -73.2993985,
          -73.3321985,
          -73.2935985,
          -73.3491985,
          -73.2919985,
          -73.3596985,
          -73.3456985,
          -73.3636985,
          -73.2899985,
          -73.3044985,
          -73.2837985,
          -73.3218985,
          -73.3218985,
          -73.3227985,
          -72.4173989,
          -72.8791987,
          -72.7902987,
          -72.7898987,
          -72.7898987,
          -72.7898987,
          -72.7915987,
          -72.8344987,
          -72.8756987,
          -72.8305987,
          -72.8305987,
          -72.8828987,
          -72.8293987,
          -72.7766987,
          -72.5629988,
          -72.6242988,
          -72.8281987,
          -72.7898987,
          -72.8344987,
          -72.8335987,
          -72.8305987,
          -72.8305987,
          -72.8207987,
          -72.7083987,
          -72.7083987,
          -72.6794987,
          -72.6795987,
          -72.6716987,
          -72.6798987,
          -72.5910988,
          -72.5970988,
          -72.5940988,
          -72.5952988,
          -72.5951988,
          -72.5894988,
          -72.5352988,
          -72.5993988,
          -72.5984988,
          -72.5939988,
          -73.2192986,
          -72.3656988,
          -72.7139987,
          -72.4463989,
          -72.7283987,
          -73.0705987,
          -73.2199986,
          -72.6644988,
          -72.7725988,
          -72.8104988,
          -72.8105987,
          -72.8090988,
          -72.7871987,
          -73.2423987,
          -73.1187986,
          -72.3085989,
          -73.1576986,
          -73.2129986,
          -73.2127986,
          -72.5788988,
          -73.1085986,
          -72.5994988,
          -72.7144987,
          -72.5525989,
          -73.2147986,
          -73.0227987,
          -72.5161989,
          -72.6201988,
          -73.0566987,
          -72.158599,
          -73.1946986,
          -73.1780986,
          -73.2129986,
          -73.2079986,
          -73.1102986,
          -72.127899,
          -72.7063988,
          -72.7144987,
          -72.7180987,
          -73.2474985,
          -73.3297985,
          -73.0825986,
          -73.0891986,
          -72.3344989,
          -72.4183989,
          -72.6246988,
          -73.2141986,
          -73.0507987,
          -72.8158987,
          -72.4362989,
          -72.6830987,
          -73.0107987,
          -72.8335987,
          -73.2118986,
          -72.7009987,
          -73.1099986,
          -72.6884987,
          -72.016199,
          -73.2126986,
          -72.6884987,
          -73.2269986,
          -73.1707986,
          -72.5999988,
          -72.5442988,
          -73.1971987,
          -72.5027988,
          -73.1629986,
          -73.0530987,
          -73.1850986,
          -72.7903988,
          -72.9118987,
          -73.1031986,
          -73.1571986,
          -72.5979988,
          -73.0844986,
          -72.128299,
          -72.8289987,
          -73.2147986,
          -72.7899988,
          -72.6880987,
          -73.2148986,
          -72.122999,
          -71.944799,
          -73.1254986,
          -73.2142986,
          -73.0805987,
          -73.2089986,
          -72.7117987,
          -73.0418987,
          -73.0703987,
          -72.6844987,
          -72.6873987,
          -72.8065987,
          -72.6796987,
          -72.7392988,
          -73.0556987,
          -73.2109986,
          -73.2125986,
          -73.1111986,
          -72.5998988,
          -72.8016987,
          -73.0073986,
          -73.1249986,
          -73.0083986,
          -73.2325986,
          -73.2125986,
          -72.5630989,
          -72.7393987,
          -73.2199986,
          -71.944299,
          -72.8415988,
          -73.2079987,
          -73.1265986,
          -73.1098986,
          -72.5981988,
          -72.7653988,
          -73.2559985,
          -73.1839986,
          -72.0995989,
          -72.4073989,
          -73.1327986,
          -73.0836986,
          -72.5755988,
          -71.972099,
          -72.5993989,
          -72.3202989,
          -73.0014986,
          -72.8725988,
          -72.5066988,
          -72.6973988,
          -73.2136986,
          -73.1589986,
          -73.2122986,
          -73.2748986,
          -72.6093987,
          -72.9057988,
          -72.020599,
          -72.6186989,
          -73.2139986,
          -72.6555988,
          -72.4815989,
          -73.2110986,
          -72.9783987,
          -72.3109989,
          -72.015799,
          -72.8949987,
          -73.0837986,
          -72.146699,
          -72.2014989,
          -72.9692987,
          -72.6384988,
          -72.029799,
          -72.146299,
          -72.7904988,
          -73.0837986,
          -73.1725986,
          -72.6002988,
          -73.1026986,
          -72.6289988,
          -72.3063989,
          -72.9788987,
          -72.139399,
          -73.2069986,
          -73.1745986,
          -72.5499988,
          -73.1018987,
          -72.6855987,
          -72.1606989,
          -73.2113986,
          -73.2137986,
          -73.2147986,
          -73.1131986,
          -73.1845986,
          -73.1196986,
          -73.1923986,
          -73.1792986,
          -73.2136986,
          -72.7772987,
          -72.7078988,
          -73.1234986,
          -73.1973987,
          -72.9387987,
          -72.5174989,
          -73.1355986,
          -72.3417989,
          -72.9826987,
          -73.2100986,
          -72.7200987,
          -72.2633989,
          -72.5403988,
          -72.8943987,
          -73.2118986,
          -72.5570988,
          -72.5032988,
          -73.2151986,
          -72.4102989,
          -72.9934986,
          -73.2094986,
          -72.7551987,
          -73.0964986,
          -73.2469986,
          -73.2117986,
          -72.9769987,
          -72.5590989,
          -73.1773986,
          -72.6886987,
          -73.2122986,
          -72.5039988,
          -72.2112989,
          -73.0974987,
          -73.2118986,
          -72.6851987,
          -72.8711988,
          -72.5496988,
          -72.5157989,
          -72.2620988,
          -72.013499,
          -72.4449989,
          -72.8777988,
          -73.1098986,
          -73.2126986,
          -72.6082988,
          -73.0826986,
          -72.6246988,
          -73.2094986,
          -72.8356987,
          -73.1402986,
          -73.2394986,
          -72.3113989,
          -73.1820986,
          -72.2084989,
          -73.1960987,
          -73.2287986,
          -73.2118986,
          -73.1567986,
          -72.8676988,
          -73.2140986,
          -73.0503987,
          -73.2972985,
          -72.5577989,
          -73.0625987,
          -72.1808989,
          -72.5220988,
          -72.3190989,
          -73.1488986,
          -72.9046988,
          -72.2081989,
          -72.9708987,
          -72.5738988,
          -72.018599,
          -73.2114986,
          -71.971699,
          -73.2652986,
          -72.5636988,
          -73.1652986,
          -72.9771987,
          -73.2146986,
          -73.1687986,
          -73.1054986,
          -72.5045988,
          -72.5037988,
          -73.1966987,
          -72.7811988,
          -72.5579989,
          -72.5983988,
          -72.5585989,
          -72.6848987,
          -72.8238987,
          -72.8715988,
          -73.1562986,
          -72.6848987,
          -72.8723988,
          -71.978099,
          -72.6867987,
          -72.4866989,
          -73.2117986,
          -73.1755986,
          -71.5077991,
          -73.1515986,
          -72.9681987,
          -72.9052988,
          -73.1401986,
          -73.2116986,
          -73.0771986,
          -73.2443985,
          -72.8382987,
          -72.8391987,
          -72.6557988,
          -73.2073986,
          -72.3218989,
          -73.1860987,
          -72.8218988,
          -72.7901988,
          -71.942299,
          -73.2088986,
          -72.5579989,
          -73.1836986,
          -72.9647987,
          -72.7888988,
          -73.2080986,
          -72.5044988,
          -73.2116986,
          -73.2252986,
          -72.5514988,
          -72.7934988,
          -72.6582988,
          -72.7318987,
          -72.3874989,
          -72.016799,
          -72.4026989,
          -72.6778988,
          -73.1087986,
          -73.0558987,
          -73.2141986,
          -73.2495985,
          -73.2094986,
          -73.1249986,
          -71.999399,
          -72.6878987,
          -73.2262986,
          -72.5034989,
          -72.7893988,
          -72.8390987,
          -71.880999,
          -72.9780987,
          -73.2512985,
          -72.5967988,
          -73.2086986,
          -72.5982988,
          -72.3018989,
          -72.5991988,
          -73.0558987,
          -72.3188989,
          -72.4535988,
          -72.8054987,
          -73.2451986,
          -73.2170986,
          -72.2093989,
          -72.9453987,
          -72.7772987,
          -72.8909988,
          -73.1647986,
          -73.1101986,
          -72.9683987,
          -73.2443985,
          -73.0815986,
          -73.2074986,
          -72.1925989,
          -73.1222986,
          -72.8043987,
          -71.973499,
          -73.2122986,
          -72.7451987,
          -72.1606989,
          -73.1117986,
          -72.8351987,
          -72.7563987,
          -72.5584989,
          -72.9932987
         ],
         "marker": {
          "color": "#636efa"
         },
         "mode": "markers",
         "name": "Restaurant",
         "showlegend": true,
         "subplot": "mapbox",
         "type": "scattermapbox"
        },
        {
         "customdata": [
          [
           "2 ASCUTNEY ST"
          ],
          [
           "2725 US ROUTE 5 N"
          ],
          [
           "54 US ROUTE 5"
          ],
          [
           "55 MAIN ST"
          ],
          [
           "RR 5"
          ],
          [
           "1206 VERMONT 12"
          ],
          [
           "16 ELM STREET"
          ],
          [
           "404 WOODSTOCK ROAD"
          ],
          [
           "839 ROUTE 12 SOUTH"
          ],
          [
           "EXIT 4 I89 - 1917 VT ROUTE 66"
          ],
          [
           "216 VT ROUTE 132"
          ],
          [
           "486 ROUTE 25"
          ],
          [
           "842 MAIN ST"
          ],
          [
           "3731 US ROUTE 5"
          ],
          [
           "4486 ROUTE 5"
          ],
          [
           "60 VT ROUTE 111"
          ],
          [
           "7 BREEZY AVENUE"
          ],
          [
           "1247 VT ROUTE 105"
          ],
          [
           "376 WESTERN AVENUE"
          ],
          [
           "17A EAST ST"
          ],
          [
           "4332 BARTON ORLEANS ROAD"
          ],
          [
           "1991 MARLBORO ROAD"
          ],
          [
           "972 PUTNEY RD STE 8"
          ],
          [
           "227 MAIN STREET"
          ],
          [
           "2557 W RIVER ROAD"
          ],
          [
           "318 E MOUNTAIN ROAD"
          ],
          [
           "414 CANAL STREET"
          ],
          [
           "499 CANAL STREET"
          ],
          [
           "499 CANAL STREET"
          ],
          [
           "564 CANAL ST"
          ],
          [
           "574 WESTERN AVENUE"
          ],
          [
           "584 PUTNEY RD"
          ],
          [
           "584 PUTNEY ROAD"
          ],
          [
           "69 ELLIOT STREET"
          ],
          [
           "766 PUTNEY ROAD"
          ],
          [
           "82 WESTERN AVE"
          ],
          [
           "987 PUTNEY ROAD"
          ],
          [
           "135 ROUTE 100"
          ],
          [
           "241 CANAL ST"
          ],
          [
           "792 ROUTE 5"
          ],
          [
           "8811 ROUTE 30"
          ],
          [
           "5700 VT ROUTE 100 STE C22"
          ],
          [
           "7627 VT ROUTE 9"
          ],
          [
           "130 WEST HILL ROAD"
          ],
          [
           "2536 US ROUTE 5"
          ],
          [
           "8 CAROL BROWN WAY"
          ],
          [
           "CAROL BROWN WAY"
          ],
          [
           "206 MAIN ST"
          ],
          [
           "298 E MAIN ST"
          ],
          [
           "36 WEST ST"
          ],
          [
           "100 1ST ST"
          ],
          [
           "100 1ST ST"
          ],
          [
           "11 TERRILL ST"
          ],
          [
           "136 PARK ST"
          ],
          [
           "137 LIBRARY AVE"
          ],
          [
           "14 N MAIN STREET"
          ],
          [
           "15 CENTER STREET"
          ],
          [
           "172 GRANGER ST"
          ],
          [
           "182 WOODSTOCK AVE"
          ],
          [
           "20 BELDEN ROAD"
          ],
          [
           "215 N MAIN ST"
          ],
          [
           "221 WOODSTOCK AVENUE"
          ],
          [
           "241 S MAIN ST"
          ],
          [
           "260 S MAIN ST"
          ],
          [
           "3 GRANDVIEW TER"
          ],
          [
           "314 S MAIN ST"
          ],
          [
           "315 SOUTH MAIN ST"
          ],
          [
           "37 CENTER STREET"
          ],
          [
           "38 RUTLAND SHOPPING PLAZA"
          ],
          [
           "39 US ROUTE 4 E"
          ],
          [
           "77 WALES ST"
          ],
          [
           "77 WALES ST"
          ],
          [
           "828 US ROUTE 7 S"
          ],
          [
           "GROVE ST"
          ],
          [
           "129 GROVE ST"
          ],
          [
           "209 N MAIN ST"
          ],
          [
           "215 N MAIN ST"
          ],
          [
           "258 S MAIN ST"
          ],
          [
           "5 N MAIN ST"
          ],
          [
           "93 WOODSTOCK AV"
          ],
          [
           "WOODSTOCK AV"
          ],
          [
           "2658 NORTHAM ROAD"
          ],
          [
           "137 NORTH MAIN STREET"
          ],
          [
           "4343 US ROUTE 7 S"
          ],
          [
           "5 ROUTE 30"
          ],
          [
           "290 MARBLE"
          ],
          [
           "544 MAIN ROAD"
          ],
          [
           "5053 ROUTE 9"
          ],
          [
           "8570 ROUTE 9"
          ],
          [
           "11 US ROUTE 2"
          ],
          [
           "1476 SCOTT HIGHWAY"
          ],
          [
           "780 BOULDER BEACH ROAD"
          ],
          [
           "30 S MAIN ST"
          ],
          [
           "82 ROUTE 15"
          ],
          [
           "450 MAIN ST"
          ],
          [
           "590 MAIN ST"
          ],
          [
           "65 DEPOT ST"
          ],
          [
           "ROUTE 5 6585 MEMORIAL DR"
          ],
          [
           "3191 ROUTE 116"
          ],
          [
           "RR 3 BOX 605"
          ],
          [
           "2707 ROUTE 7"
          ],
          [
           "529 VT ROUTE 100"
          ],
          [
           "9 WASHINGTON ST"
          ],
          [
           "198 COURT ST"
          ],
          [
           "21 MACINTYRE LANE"
          ],
          [
           "260 COURT STREET"
          ],
          [
           "303 ROUTE 144"
          ],
          [
           "3074 JERSEY ST"
          ],
          [
           "10 GREEN ST"
          ],
          [
           "211 MAIN ST"
          ],
          [
           "3074 JERSEY STREET"
          ],
          [
           "65 MAIN ST"
          ],
          [
           "799 VT ROUTE 22A"
          ],
          [
           "RR 22 BOX A"
          ],
          [
           "39 MAIN ST"
          ],
          [
           "13 OLD MILL ROAD"
          ],
          [
           "3713 ROUTE 7A"
          ],
          [
           "5187 VT ROUTE 7A"
          ],
          [
           "641 BAYLEY-HAZEN RD"
          ],
          [
           "2512 SCOTT HWY"
          ],
          [
           "12 VERMONT ROUTE 18"
          ],
          [
           "169 RAILROAD ST"
          ],
          [
           "280 PORTLAND ST"
          ],
          [
           "385 PORTLAND ST"
          ],
          [
           "604 PORTLAND ST"
          ],
          [
           "622 KEYSER HILL ROAD"
          ],
          [
           "716 RAILROAD STREET"
          ],
          [
           "757 PORTLAND ST"
          ],
          [
           "857 MEMORIAL DR"
          ],
          [
           "932 MEMORIAL DR"
          ],
          [
           "101 CHURCH STREET"
          ],
          [
           "20 JACKSON HILL ROAD"
          ],
          [
           "1184 PRIM RD"
          ],
          [
           "164 PORTERS POINT ROAD"
          ],
          [
           "277 LAVIGNE ROAD"
          ],
          [
           "3436 ROOSEVELT HIGHWAY"
          ],
          [
           "49 HEINEBERG DRIVE"
          ],
          [
           "506 PORTERS POINT RD"
          ],
          [
           "702 POOR FARM ROAD"
          ],
          [
           "77 U.S. 7"
          ],
          [
           "21A ESSEX WY"
          ],
          [
           "90 CENTER RD"
          ],
          [
           "16 MAPLE ST"
          ],
          [
           "178 BROWNS RIVER ROAD"
          ],
          [
           "182 RIVER ROAD"
          ],
          [
           "36 PLEASANT STREET"
          ],
          [
           "79 PEARL ST"
          ],
          [
           "17 BALLARDS-CORNERS"
          ],
          [
           "39 VT ROUTE 15"
          ],
          [
           "1361 E HILL ROAD"
          ],
          [
           "21 N WILLISTON ROAD"
          ],
          [
           "1 EAST STREET"
          ],
          [
           "20 WINOOSKI FALLS WAY"
          ],
          [
           "262 MAIN ST"
          ],
          [
           "264 MALLETTS BAY AV"
          ],
          [
           "264 MALLETTS BAY AVE"
          ],
          [
           "32 MALLETTS BAY AVE"
          ],
          [
           "7 W CANAL ST"
          ],
          [
           "4531 ROUTE 114"
          ],
          [
           "22 RIVER ROAD"
          ],
          [
           "23 W MAIN ST"
          ],
          [
           "540 VERMONT ROUTE 114"
          ],
          [
           "1246 N MAIN ST"
          ],
          [
           "1383 W HILL ROAD"
          ],
          [
           "167 MAIN STREET"
          ],
          [
           "182 MAIN ST"
          ],
          [
           "2394 WEST ENOSBURG ROAD"
          ],
          [
           "342 MAIN ST"
          ],
          [
           "1181 ETHAN ALLEN HWY"
          ],
          [
           "4573 LAKE RD"
          ],
          [
           "45 COMSTOCK BRIDGE ROAD"
          ],
          [
           "1 RIVER STREET"
          ],
          [
           "30 MAIN ST"
          ],
          [
           "44 MAIN  ST"
          ],
          [
           "891 S RICHFORD ROAD"
          ],
          [
           "195 MAIN ST"
          ],
          [
           "200 MAIN ST"
          ],
          [
           "MAIN STREET AND ANDOVER STREET"
          ],
          [
           "10 ELM STREET"
          ],
          [
           "300 MAIN STREET"
          ],
          [
           "301 US. ROUTE 5 SOUTH"
          ],
          [
           "5545 ROUTE 100"
          ],
          [
           "ROUTE 106"
          ],
          [
           "462 ROUTE 107"
          ],
          [
           "75 ROUTE 132"
          ],
          [
           "62 PLAISTED ROAD"
          ],
          [
           "TOWN GREEN"
          ],
          [
           "102 ELM HILL ST"
          ],
          [
           "1977 CONNECTICUT RIVER ROAD"
          ],
          [
           "209 RIVER ST"
          ],
          [
           "335 RIVER ST"
          ],
          [
           "335-1 RIVER ST"
          ],
          [
           "437 RIVER ST"
          ],
          [
           "450 RIVER ST"
          ],
          [
           "55 MAIN ST"
          ],
          [
           "6 MAIN STREET"
          ],
          [
           "657 MAIN STREET"
          ],
          [
           "186 SOUTH MAIN STREEET"
          ],
          [
           "83 PINE ST"
          ],
          [
           "438 N MAIN ST"
          ],
          [
           "63 PLAZA DRIVE"
          ],
          [
           "7 S MAIN ST"
          ],
          [
           "706 N MAIN ST"
          ],
          [
           "1616 ROXBURY ROAD"
          ],
          [
           "4330 MAIN ST"
          ],
          [
           "4492 MAIN ST"
          ],
          [
           "1 RIVER RD"
          ],
          [
           "1100 WATERBURY-STOWE RD"
          ],
          [
           "2007 GUPTIL RD"
          ],
          [
           "23 COMMERCIAL DR"
          ],
          [
           "2542 VERMONT ROUTE 100"
          ],
          [
           "2653 WATERBURY STOWE ROAD"
          ],
          [
           "2934 WATERBURY-STOWE ROAD"
          ],
          [
           "3627 WATERBURY STOWE RD"
          ],
          [
           "576 KNEELAND FLTS"
          ],
          [
           "80 S MAIN ST"
          ],
          [
           "251 RUSSELL ROAD"
          ],
          [
           "21 VALLEY LAKE RD"
          ],
          [
           "1292 ROCKINGHAM ROAD"
          ],
          [
           "17 DEPOT STREET"
          ],
          [
           "7 N SHORE DR"
          ],
          [
           "153 MAIN STREET"
          ],
          [
           "1568 PUTNEY ROAD"
          ],
          [
           "66 MOUNTAIN PLAZA"
          ],
          [
           "833 BROOKLYN STREET"
          ],
          [
           "1815 PUCKER ST"
          ],
          [
           "344 MOUNTAIN ROAD"
          ],
          [
           "21 CHURCH STREET"
          ],
          [
           "513 ROUTE 109"
          ],
          [
           "3737 NORTH WOLCOTT ROAD"
          ],
          [
           "61 MARKET LN"
          ],
          [
           "807 UPPER PLAIN"
          ],
          [
           "4642 VERMONT ROUTE 12"
          ],
          [
           "MAIN ST"
          ],
          [
           "2 NORTH COMMON"
          ],
          [
           "2805 COOKEVILLE ROAD"
          ],
          [
           "535 MAIN STREET"
          ],
          [
           "55 MAIN ST N"
          ],
          [
           "2 WESTON ST"
          ],
          [
           "24 CENTRAL STREET"
          ],
          [
           "67 MAIN ST"
          ],
          [
           "1 UNION ST"
          ],
          [
           "185 ADAMS ROAD"
          ],
          [
           "2265 FOREST DALE ROAD"
          ],
          [
           "2265 FORESTDALE RD"
          ],
          [
           "232 GROVE ST"
          ],
          [
           "30 UNION STREET"
          ],
          [
           "5 CARVER ST"
          ],
          [
           "52 PARK ST"
          ],
          [
           "9 CONANT SQUARE"
          ],
          [
           "1323 ROUTE 4A W"
          ],
          [
           "3888 ROUTE 30 N"
          ],
          [
           "583 MAIN STREET"
          ],
          [
           "363 EAST ST"
          ],
          [
           "81 ROUTE 7-B NORTH"
          ],
          [
           "1187 US ROUTE 7"
          ],
          [
           "5 DANBY PAWLET RD"
          ],
          [
           "26 MAIN ST"
          ],
          [
           "699 ROUTE 22A N"
          ],
          [
           "407 ROUTE 30"
          ],
          [
           "23894 KELLINGTON ROAD"
          ],
          [
           "2922 KILLINGTON ROAD"
          ],
          [
           "3073 US ROUTE 4"
          ],
          [
           "4 OLD TURNPIKE RD"
          ],
          [
           "15 UPPER GULF ROAD"
          ],
          [
           "752 COY HILL ROAD"
          ],
          [
           "1781 VT ROUTE 103 S"
          ],
          [
           "1 RAILROAD ST"
          ],
          [
           "3209 VT ROUTE 30"
          ],
          [
           "INTERSECTION OF RTE 30 AND RTE 35"
          ],
          [
           "5190 U.S. 5"
          ],
          [
           "BACK WESTMINSTER RD"
          ],
          [
           "28 WEST MAIN STREET"
          ],
          [
           "292 ROUTE 100 N"
          ],
          [
           "34 W MAIN ST"
          ],
          [
           "135 CHURCH STREET"
          ],
          [
           "5680 US ROUTE 4"
          ],
          [
           "1990 MAIN ST"
          ],
          [
           "247 BLUE HILL ROAD"
          ],
          [
           "544 NORTH STREET"
          ],
          [
           "1038 N MAIN ST"
          ],
          [
           "1238 MAPLE STREET"
          ],
          [
           "1477 MAPLE"
          ],
          [
           "5573 WOODSTOCK ROAD"
          ],
          [
           "906 HARTFORD AV"
          ],
          [
           "153 RT 5"
          ],
          [
           "73 E ARLINGTON ROAD"
          ],
          [
           "110 DEPOT ST 120"
          ],
          [
           "110 NORTHSIDE DR"
          ],
          [
           "119 PARK ST"
          ],
          [
           "125 NORTHSIDE DR"
          ],
          [
           "1487 HARWOOD HILL ROAD"
          ],
          [
           "210 NORTHSIDE DRIVE"
          ],
          [
           "510 SOUTH ST"
          ],
          [
           "819 MAIN STREET"
          ],
          [
           "BENNINGTON STTON RIVER ST"
          ],
          [
           "3584 MORSE HILL ROAD"
          ],
          [
           "2083 DEPOT STREET"
          ],
          [
           "303 CENTER HILL ROAD"
          ],
          [
           "345 CENTER HILL ROAD"
          ],
          [
           "167 MAIN ST"
          ],
          [
           "6185 ROUTE 7"
          ],
          [
           "125 COLLEGE ST"
          ],
          [
           "184 NORTH ST"
          ],
          [
           "208 N WINOOSKI AVE"
          ],
          [
           "240 PEARL ST"
          ],
          [
           "255 S CHAMPLAIN ST"
          ],
          [
           "30 CHURCH STREET"
          ],
          [
           "325 N WINOOSKI AVE"
          ],
          [
           "68 ARCHIBALD ST"
          ],
          [
           "75 S WINOOSKI AVE"
          ],
          [
           "NORTH AV"
          ],
          [
           "646 ROUTE 7 S"
          ],
          [
           "14 PLEASANT STREET"
          ],
          [
           "71 HUNTINGTON RD"
          ],
          [
           "2659 SHELBURNE ROAD"
          ],
          [
           "29 FALLS ROAD"
          ],
          [
           "1110 SHELBURNE RD"
          ],
          [
           "1186 WILLISTON ROAD"
          ],
          [
           "1293 WILLISTON ROAD"
          ],
          [
           "26 HINESBURG ROAD"
          ],
          [
           "340 DORSET STREET"
          ],
          [
           "1 PLEASANT VALLEY RD"
          ],
          [
           "16 PARK STREET"
          ],
          [
           "1713 VERMONT Rte 128"
          ],
          [
           "226 BROOKSIDE ROAD"
          ],
          [
           "130 MILL STREET"
          ],
          [
           "168 AMES DRIVE"
          ],
          [
           "275 HILL ST"
          ],
          [
           "406 NORTH MAIN STREET"
          ],
          [
           "1097 ROUTE 302"
          ],
          [
           "159 N MAIN ST"
          ],
          [
           "159 N MAIN ST"
          ],
          [
           "377 N MAIN ST"
          ],
          [
           "39 MAPLE AV"
          ],
          [
           "370 S BARRE RD"
          ],
          [
           "40 CHURCHILL ROAD"
          ],
          [
           "1239 JUNCTION ROAD"
          ],
          [
           "3795 CROSSTOWN RD"
          ],
          [
           "168 AMES DR"
          ],
          [
           "820 DANVILLE HILL ROAD"
          ],
          [
           "376 UPPER CURTIS ROAD"
          ],
          [
           "4520 VT RTE 14"
          ],
          [
           "2915 US ROUTE 2"
          ],
          [
           "1782 VT ROUTE 215 S"
          ],
          [
           "903 US ROUTE 2"
          ],
          [
           "108 STATE ST"
          ],
          [
           "126 MAIN ST"
          ],
          [
           "148 STATE STREET"
          ],
          [
           "139 S MAIN ST"
          ],
          [
           "164 SWANTON ROAD"
          ],
          [
           "171 S MAIN ST"
          ],
          [
           "191 SWANTON ROAD"
          ],
          [
           "211 LAKE ST"
          ],
          [
           "6 BROOKLYN ST"
          ],
          [
           "366 LAKE ROAD"
          ],
          [
           "66 S MAIN ST"
          ],
          [
           "725 FAIRFAX ROAD"
          ],
          [
           "900 INDUSTRIAL PARK ROAD"
          ],
          [
           "96 FEDERAL STREET"
          ],
          [
           "248 N MAIN ST"
          ],
          [
           "170 SWANTON RD"
          ],
          [
           "612 MAQUAM SHORE RD"
          ],
          [
           "165 1ST ST"
          ],
          [
           "236 LAKEWOOD DR"
          ],
          [
           "39 FIRST ST"
          ],
          [
           "555 VT ROUTE 78"
          ],
          [
           "75 1ST ST"
          ],
          [
           "10 WINTERS LANE EXT"
          ],
          [
           "232 US ROUTE 2 S"
          ],
          [
           "316 US ROUTE 2 NORTH"
          ],
          [
           "36 N MAIN ST"
          ],
          [
           "337 ROUTE 2"
          ],
          [
           "71 ROUTE 2"
          ],
          [
           "168 MAIN ST"
          ],
          [
           "3660 VT ROUTE 108 N"
          ],
          [
           "4828 ROUTE 15"
          ],
          [
           "12 N MAIN ST"
          ],
          [
           "143 LOWER MAIN E"
          ],
          [
           "370 MUNSON AVE"
          ],
          [
           "30 MOUNTAIN VIEW PLAZA"
          ],
          [
           "65 NORTHGATE PLAZA"
          ],
          [
           "863 HARVEST LANE"
          ],
          [
           "1 RUTLAND SHOPPING PLAZA"
          ],
          [
           "282 BERLIN MALL ROAD, SUITE 1"
          ],
          [
           "210 NORTHSIDE DRIVE"
          ],
          [
           "97 North St."
          ],
          [
           "325 Lower Main St"
          ],
          [
           "19 Kocher Dr"
          ],
          [
           "2989 SHELBURNE RD"
          ],
          [
           "216 Main St"
          ],
          [
           "2848 Route 7"
          ],
          [
           "863 HARVEST LN"
          ],
          [
           "210 Northside  DR"
          ],
          [
           "700 TUCKERS WAY"
          ],
          [
           "1 RUTLAND SHOPPING PLAZA"
          ],
          [
           "88 MALLETTS BAY AV"
          ],
          [
           "210 Depot St"
          ],
          [
           null
          ],
          [
           "137 Pearl St."
          ],
          [
           "340 North St."
          ],
          [
           "521 Mountain Road"
          ],
          [
           "100 Dorset St."
          ],
          [
           "1056 MOUNTAIN RD"
          ],
          [
           "63 Creek Farm Plz"
          ],
          [
           "74 S. Main St"
          ],
          [
           "29 Middle Rd"
          ],
          [
           "236 River St"
          ],
          [
           "260 N. Main St"
          ],
          [
           "111 N. Main St"
          ],
          [
           "164 Broad St."
          ],
          [
           "1032 Prim Rd"
          ],
          [
           "1 Noyes St"
          ],
          [
           "23 Marlboro Rd"
          ],
          [
           "105 VT Rte 12 South"
          ],
          [
           "2537 US Rte 7"
          ],
          [
           "173 Pearl St"
          ],
          [
           "31 Business Center Rd"
          ],
          [
           "2757 US Rte 5"
          ],
          [
           "186 Monkton Rd"
          ],
          [
           "108 North Main St"
          ],
          [
           "53 E Main St"
          ],
          [
           "393 VT Rte14 South"
          ],
          [
           "864 Ethan Allen Hwy"
          ],
          [
           "764 East Barre Rd"
          ],
          [
           "2802 Rte 7A"
          ],
          [
           "262 Main St"
          ],
          [
           "265 VT Rte 15"
          ],
          [
           "234 US Rte. 2 South"
          ],
          [
           "200 South Main St"
          ],
          [
           "123 US Rte 5 South"
          ],
          [
           "39 Alder St"
          ],
          [
           "540 North Main St"
          ],
          [
           "1755 US Rte 302"
          ],
          [
           "30 Rutland Shopping Plaza"
          ],
          [
           "499 Canal Street #6"
          ],
          [
           "121 Bennington Plaza #2"
          ],
          [
           "Derby Plaza, 4338 US Rte 5"
          ],
          [
           "570 Shelburne Rd"
          ],
          [
           "66 Morrisville Plaza"
          ],
          [
           "Green Mtn Mall, 2000 Memorial Drive #1"
          ],
          [
           "Maple St."
          ],
          [
           "90 Center Rd"
          ],
          [
           "266 Main Street"
          ],
          [
           "Springfield Shopping Plaza, 2 Chester Rd, Ste 17"
          ],
          [
           "P.O. Box 780"
          ],
          [
           "105 Lake St"
          ],
          [
           "69 Jayview Dr"
          ],
          [
           "76 Main St"
          ],
          [
           "53 E. Main St."
          ],
          [
           "23 Carson Rd"
          ],
          [
           "895 Putney Rd"
          ],
          [
           "34 Maple St"
          ],
          [
           "4684 VT Route 36"
          ],
          [
           "141 N Willard ST"
          ],
          [
           "71 SUPERMARKET DR"
          ],
          [
           "1128 WILLISTON RD"
          ],
          [
           "41 HINESBURG RD"
          ]
         ],
         "hovertemplate": "<b>%{hovertext}</b><br><br>TYPE2=Grocery<br>Latitude=%{lat}<br>Longitude=%{lon}<br>Address=%{customdata[0]}<extra></extra>",
         "hovertext": [
          "GREEN MOUNTAIN ASIAN MARKET",
          "PRICE CHOPPER STORE #177",
          "MR G'S TWIN STATE DISCOUNT",
          "FLEMING OIL COMPANY",
          "MACLENNAN FARMS",
          "MOUNT TOM FARMERS' MARKET",
          "F.H. GILLINGHAM & SONS GENERAL STORE",
          "TAFTSVILLE COUNTRY STORE",
          "RANDOLPH FARM STAND",
          "RINKERS SNAK SHOP",
          "COBURN'S GENERAL STORE",
          "WEST TOPSHAM COUNTRY STORE",
          "LAMARCHE ALBANY MARKET",
          "DEB'S REDEMPTION CITY",
          "DERBY SHORT STOP",
          "COUNTRY THYME VERMONT",
          "WILLEY'S STORE",
          "LITTLE JOHN'S GROCERY AND GAS",
          "NEW PORT MINI MART",
          "NO MORE BAD DOGS",
          "JUST GOOD FOOD",
          "VERMONT MAPLE MUSEUM",
          "ADAMS SEAFOOD CO INC",
          "N AND V ASIAN MARKET",
          "DUMMERSTON NEIGHBORS",
          "ELLIOT GROCERS",
          "BELCHER BRATTLEBORO",
          "PRICE CHOPPER",
          "YANKEE ONE DOLLAR STORE",
          "SUNOCO",
          "BRATTLEBORO AREA FARMERS' MARKET",
          "584 FLEMING OIL CO SHELL",
          "TWIN STATE FOOD MARTS INC",
          "INDIA PALACE",
          "DOLLAR TREE",
          "AVENUE GROCERY",
          "NORTH END MARKET",
          "PONCHO'S FISH MARKET",
          "MARKET 32 BY PRICE CHOPPER #136",
          "HIDDEN ACRES CAMPING RESORT",
          "FLEMING OIL CO",
          "CLARK'S QUALITY FOODS",
          "HOGBACK MOUNTAIN GIFT SHOP",
          "PUTNEY FARMERS' MARKET (WINTER)",
          "I Q SUNOCO",
          "PUTNEY FOOD CO-OP",
          "PUTNEY FARMERS' MARKET (SUMMER)",
          "POULTNEY MARKET & SPIRITS",
          "DISCOUNT FOOD OF POULTNEY",
          "WEST STREET MARKET",
          "UNITED DISTRIBUTING VERMONT",
          "WINE LTD",
          "TERRILL STREET DISCOUNT BEVERAGE CENTER",
          "VERMONT HALAL QUALITY MEAT",
          "BEDARD'S CASH MARKET",
          "TOPS FRIENDLY MARKET",
          "GUS' TOBACCO STORE",
          "CAGGIGI'S MARKET",
          "GREEN MOUNTAIN BOYS DISCOUNT BEVERAGES",
          "BEST OF VERMONT, LLC",
          "DAILY EXPRESS",
          "BEN AND JERRY'S ICE CREAM SCOOP SHOP",
          "HANNAFORD'S #306",
          "PETRO STORES",
          "GRANDVIEW ASSOCIATES",
          "YANKEE ONE DOLLAR STORE",
          "HANNAFORD SUPERMARKET & PH ARMACY #8306",
          "SOMETHING SWEET",
          "PRICE CHOPPER #131",
          "MENDON COUNTRY STORE",
          "RUTLAND AREA FOOD COOPERATIVE",
          "RUTLAND NATURAL FOOD MARKET",
          "DOLLAR TREE",
          "STEWARTS BREAD & BUTTER 194",
          "SHORT STOP",
          "SALTWATER COWBOY",
          "DALY EXPRESS",
          "SOUTH MAIN EXXON",
          "PARK SMART SHOP",
          "BOBS SHELL",
          "MALL MOBIL MART",
          "SHREWSBURY COOPERATIVE AT PIERCE'S STORE",
          "WALLINGFORD COUNTRY STORE & DELI",
          "CHARLIE'S GENERAL STORE",
          "WHITES TRADING POST",
          "LIZZ'S COUNTRY STORE AND DELI",
          "BILLMONT'S COUNTRY STORE",
          "TIFFTS TRADING POST",
          "TWIN BROOKS",
          "DIAMOND HILL STORE",
          "GROTON GROWERS FARMERS' MARKET",
          "FOREST COUNTRY STORE",
          "BUFFALO MT FOOD CO-OP",
          "TOPS FRIENDLY MARKET",
          "CIRCLE K #7401",
          "NICK'S MINI MART",
          "WHITE'S MARKET",
          "WHITES MARKET PLAZA",
          "BIG WHEEL VARIETY STORE",
          "BRENDA FAY'S BIG WHEEL VARIETY STORE",
          "VERMONT ENERGY COMPANY THE",
          "JD'S QUICK STOP",
          "MIDDLEBURY NATURAL FOODS COOPERATIVE",
          "ONE DOLLAR STORE",
          "MIDDLEBURY DISCOUNT BEVERAGE",
          "MIDDLEBURY WINE COMPANY",
          "LAKE HORTONIA COUNTRY STORE",
          "MOUNTAIN VALLEY VIEW PANTON GEN STORE",
          "FAT HEN MARKET",
          "VERGENNES WINE AND BEVERAGE INC",
          "PANTON GENERAL STORE",
          "VERGENNES VARIETY",
          "CREEK VALLEY FARM MARKET",
          "CHAMPLAIN DISCOUNT FOODS",
          "WHITING COUNTRY STORE",
          "CHIPPENHOOK GENERAL STORE",
          "PAULIN INC OF ARLINGTON",
          "CHEESE HOUSE",
          "PEACHAM STORE THE",
          "ALLEYS MARKET",
          "PETTYCO JUNCTION COUNTRY STORE",
          "Jiffy Mart",
          "BIG APPLE FOOD STORE THE",
          "WHITES MARKET GROCERY STORE",
          "Cumberland Farms",
          "DUNCAN'S SPIRITS",
          "FAMILY DOLLAR STORES",
          "ST. JOHNSBURY GO-GO GAS",
          "PRICE CHOPPER #141",
          "Jiffy Mart",
          "SWEET THING",
          "SPEAR'S CORNER STORE",
          "PRICE CHOPPER #230",
          "CAP'N CORK BEVERAGE DISCOUNT",
          "MAZZA FARMS",
          "COLCHESTER VARIETY INC",
          "BAYSIDE TRIPLE M DELI",
          "PORTERS POINT QUICK STOP",
          "CORNER STORE",
          "MAPLEFIELDS AT CHIMNEY CORNERS",
          "AFC SUSHI @ HANNAFORD 353",
          "PRICE CHOPPER #192",
          "NORTH COUNTRY QUICK STOP",
          "FAIRGROUNDS BEVERAGE",
          "MAZZA FRUIT AND VEGETABLE STAND",
          "LOVE EARTH ALWAYS",
          "DOLLAR DISCOUNT",
          "BALLARD'S CORNER STORE",
          "CHITTENDEN MILL BEVERAGE",
          "KIM AND JOE'S FASTON",
          "KORNER KWIK STOP",
          "BEVERAGE WAREHOUSE",
          "MYWEBGROCER.COM",
          "SIMON'S WINOOSKI STORE & DELI",
          "KC VARIETY INC",
          "WIZARD'S FAST STOP AND GRILL",
          "EURO MARKET",
          "PURPLE SHUTTER HERBS",
          "LAKE VIEW STORE",
          "DORISS CORNER STORE",
          "LUNENBURG VARIETY",
          "NORTON COUNTRY STORE",
          "WOOD'S BEVERAGE OUTLET",
          "SYLVESTER'S QWIK STOP",
          "BEVERAGE GALLERY",
          "UNCLE FLOYDS",
          "MAGNAN QUICK STOP AND DELI",
          "WOOD MEADOW MARKET",
          "EAST END QUICK STOP",
          "BYAMS QUICK STOP",
          "D&D DELI AND REDEMPTION",
          "MAYHEW'S CORNER STORE",
          "MAC'S MARKET",
          "VISTA",
          "COUNTRY CHARMS VARIETY",
          "LUDLOW SMART SHOP",
          "Jiffy Mart",
          "LUDLOW FARMERS' MARKET",
          "NORWICH WINES AND SPIRITS",
          "NORWICH FARMERS' MARKET (WINTER)",
          "NORWICH FARMERS' MARKET (SUMMER)",
          "PLYMOUTH COUNTRY STORE",
          "READING COUNTRY STORE",
          "ROYAL DELI",
          "SHARON SPROUTS FARMERS' MARKET",
          "ROYALTON WINTER FARMERS' MARKET",
          "ROYALTON FARMERS' MARKET",
          "COCO MART",
          "VERMONT FARM STAND",
          "FOODSTOP",
          "JOE'S DISCOUNT BEVERAGE",
          "SPRINGFIELD FOOD COOP",
          "RIVERSIDE DISCOUNT FOODS",
          "BLACK RIVER PRODUCE",
          "MAIN ST MARKET",
          "SPRINGFIELD COMMUNITY MARKET",
          "VERMONT COUNTRY STORE",
          "NEW ENGLAND KITCHEN DEPOT",
          "STERN QUALITY PRODUCE",
          "CONVENIENCE PLUS REDEMPTION",
          "TOPS FRIENDLY MARKET",
          "DEFELICES",
          "Cumberland Farms",
          "ROXBURY COUNTRY STORE",
          "WAITSFIELD WINE SHOPPE",
          "AMERICAN FOLK TEA",
          "DEPOT BEVERAGE",
          "CUMMINGS CORNER",
          "CENTER BAKERY & GENERAL STORE THE",
          "KELLEE'S CREEMEE AND GRILL",
          "DUXBURY COUNTRY STORE AND CAMPGROUND",
          "CABOT FOOD ANNEX STORE",
          "SUNFLOWER NATURAL FOODS",
          "EMERYS VILLAGE STORE & DELI",
          "WATERBURY BEVERAGE AND STATE LIQUOR STORE",
          "WATERBURY VILLAGE MARKET",
          "VERMONT WINE RACK",
          "WOODBURY VILLAGE STORE",
          "VERMONT COUNTRY STORE INC",
          "BELLOWS FALLS FARMERS' MARKET",
          "MANDY'S MARKET",
          "BRATTLEBORO WINTER FARMERS' MARKET",
          "DE WITT BEVERAGE",
          "YANKEE ONE DOLLAR STORE",
          "MORRISVILLE BEVERAGE STORE",
          "SNOW'S MARKET",
          "FINE WINE CELLARS",
          "WATERVILLE MARKET INC",
          "DAN & SHEILAS COUNTRY STORE & DELI",
          "NORTH WOLCOTT COUNTRY STORE",
          "HANNAFORD'S",
          "SHEARER'S GREENHOUSES",
          "SNOWSVILLE GENERAL STORE",
          "STEINS II",
          "CHELSEA FARMERS' MARKET",
          "CROSSROADS TRADING POST",
          "Cumberland Farms",
          "Jiffy Mart",
          "TEWKSBURYS COUNTRY STORE INC",
          "RANDOLPH FARMERS' MARKET",
          "B & D SUPERMARKET",
          "GU MARKETS LLC 1992",
          "BRANDON FARMERS MARKET CO-OP",
          "WATROBA'S GENERAL STORE",
          "J&LS GENERAL STORE",
          "COCO MART",
          "UNION STREET GROCERY",
          "DOLLAR CHEST",
          "SABINES MARKET INC",
          "BRANDON STATE LIQUOR STORE",
          "MRS TS COUNTRY STORE",
          "CRYSTAL BEACH MARKET",
          "CASTLETON VILLAGE STORE",
          "SUNS EAST MARKET",
          "MIKE'S COUNTRY STORE",
          "WHITES FUEL STOP OF CONVENIENCE",
          "DANBY FOUR CORNERS STORE",
          "FAIR HAVEN SMART SHOP",
          "FAIR HAVEN TRAVEL CENTER",
          "PUMPKIN PATCH THE",
          "ZORBAS MOUNTAIN MINI MARKET",
          "GLAZES WINE CELLAR",
          "CORDIALLY YOURS INC",
          "PRICE CHOPPER #122",
          "BUFFUM MAPLE PRODUCTS",
          "GRANT'S VILLAGE STORE",
          "DEBBIE'S SUMMIT GENERAL STORE",
          "DUTCHIES",
          "PILLEMER FARM",
          "TOWNSHEND COMMON FARMERS' MARKET",
          "WESTMINSTER STATION MARKET",
          "COASTAL IMPORTS INC",
          "1836 COUNTRY STORE",
          "C & S BEVERAGE AND DAIRY",
          "MCBREAIRTY'S LIQUOR",
          "BETHEL FARMERS MARKET",
          "OLSON'S BRIDGEWATER CORNERS STORE",
          "BENNETTS CAVENDISH GENERAL STORE",
          "RAY GOULD'S MARKET",
          "STONE VILLAGE FARMERS' MARKET",
          "EVANS EXPRESSMART",
          "COOL BEANS GOURMET COFFEE",
          "FOODSTOP",
          "QUECHEE COUNTRY STORE",
          "WILDER FOOD MART",
          "HARTLAND FARMERS MARKET",
          "CULLINAN STORE",
          "FAMILY DOLLAR STORES",
          "BENNINGTON SHORT STOP (STORE 117)",
          "BESHARA'S DISCOUNT BEVERAGE",
          "BENNINGTON BEVERAGE OUTLET",
          "SUNSET PLAYLAND",
          "YANKEE ONE DOLLAR STORE",
          "MAGUIRE'S MARKET",
          "SALEM SUPER MARKET",
          "WALLOOMSAC FARMERS MARKET",
          "DORSET GARDEN MARKET",
          "DUTTON FARM STAND",
          "NATURE'S MARKET",
          "WINES BY GEORGE",
          "EDNA'S GARDEN",
          "WINCHESTER STORE INC",
          "DAILY NEWS INC",
          "BRIXTON HALAAL",
          "BURLINGTON BEVERAGE CENTER",
          "PEARL STREET BEVERAGE",
          "VERMONT WINE MERCHANTS COMPANY",
          "APPLE MOUNTAIN",
          "GLOBAL MARKET",
          "J AND M GROCERIES",
          "HANDY'S CONVENIENCE STORES",
          "BLONDINIS",
          "CATAMOUNT GOURMET ETC",
          "VERMONT FARMERS MARKET ASSOCIATION",
          "VERMONT GREEN GROCER FRESH MARKET",
          "SHELBURNE STATE LIQUOR OUTLET",
          "SHELBURNE COUNTRY STORE",
          "SHELBURNE ROAD SHORT STOP",
          "CHEESE TRADERS",
          "GAGAN ASIAN GROCERY STORE",
          "GRACY'S LIQUOR STORE",
          "DORSET STREET BEVERAGE CENTER",
          "UNDERHILL COUNTRY STORE",
          "JACOBS' IGA STORE",
          "WESTFORD FARMER'S MARKET",
          "BROOKSIDE FINE WINES",
          "EAST BARRE MARKET",
          "DOLLAR TREE",
          "TROW HILL GROCERY",
          "DENTE'S MARKET",
          "SHORT STOP",
          "LACE CO",
          "PAKASTANI FOODS",
          "FASTOP EXXON",
          "MAPLESIDE MARKET & DELI",
          "M & M BEVERAGE CENTERS",
          "LAWSON'S STORE",
          "DEREK'S QUIK STOP",
          "RIVERTON COUNTRY STORE",
          "PRICE CHOPPER #123",
          "LITTLE COUNTRY",
          "MONTEVERDI SPIRITS",
          "GENERAL STORE",
          "C P DUDLEY STORE",
          "DEREK'S QUICK STOP",
          "MIDDLESEX COUNTRY STORE",
          "FASTOP SHELL",
          "YANKEE WINE AND SPIRITS",
          "VERMONT ALLIANCE OF INDEPENDENT COUNTRY STORES",
          "SOUTH MAIN GROCERY",
          "YANKEE ONE DOLLAR STORE",
          "J AND L'S SNACK SHOP",
          "COLONIAL MART INC",
          "BEVERAGE MART",
          "MAPLE CITY CARDS AND CANDY",
          "STACYS DISCOUNT AND VARIETY",
          "CIOFFI CORNER STORE",
          "WAGON WHEEL TRUCK PLAZA",
          "BEN AND JERRY'S ICE CREAM SCOOP SHOP",
          "JOLLEY SHORT STOP STORES",
          "TFZ INC",
          "PRICE CHOPPER SUPERMARKETS#127",
          "L & A MARKET",
          "SWANTON MOBIL MART",
          "B'S DISCOUNT",
          "GU MARKETS LLC 1958",
          "AEC SPECIALTY FOOD PRODUCTS",
          "WOOD'S BEVERAGE OUTLET",
          "MAPLE CREST QUALITY FOOD",
          "CROSSROADS MOBILE",
          "ALBURG GO-GO MART",
          "JOLLEY SHORT STOP STORES",
          "SOUTH HERO SHORT STOP",
          "DUGGANS",
          "VILLAGE SAMPLER",
          "CAMBRIDGE COMMUNITY FOOD",
          "MADONNA MOBIL",
          "TOPS MARKET #740",
          "C H STEARNS",
          "PRICE CHOPPER #137",
          "APPLE TREE NATURAL FOODS MARKET",
          "FAMILY DOLLAR STORES",
          "WILLISTON WALMART STORE #2224",
          "RUTLAND WALMART STORE #2530",
          "BERLIN WALMART STORE #2682",
          "BENNINGTON WALMART STORE #2289",
          "Himalayan Food Market LLC",
          "Housewolf Canine Dog Biscuits",
          "Kmart #9536",
          "SHELBURNE MEAT MARKET",
          "Stone Valley Community Market",
          "Takoda's Discount Variety",
          "WALMART #2224",
          "WALMART #2289",
          "WALMART #2332",
          "WALMART #2530",
          "Winooski Halal Store",
          "Above All Vermont",
          "Aldi",
          "Amity Asian Market",
          "Beverage Den & Smoke Shop",
          "Commodities Market",
          "Dakin Farm Store",
          "Dog and Cat",
          "Dollar General #10721",
          "Dollar General #11046",
          "Dollar General #11091",
          "Dollar General #11221",
          "Dollar General #11654",
          "Dollar General #11660",
          "Dollar General #11771",
          "Dollar General #11877",
          "Dollar General #12112",
          "Dollar General #12210",
          "Dollar General #12464",
          "Dollar General #12564",
          "Dollar General #12566",
          "Dollar General #12567",
          "Dollar General #12793",
          "Dollar General #13135",
          "Dollar General #13165",
          "Dollar General #13411",
          "Dollar General #14093",
          "Dollar General #14214",
          "Dollar General #14217",
          "Dollar General #14270",
          "Dollar General #14357",
          "Dollar General #14358",
          "Dollar General #14930",
          "Dollar General #15225",
          "Dollar General #15272",
          "Dollar General #15330",
          "Dollar General #15340",
          "Dollar General #15501",
          "DOLLAR TREE",
          "DOLLAR TREE",
          "Dollar Tree #2872",
          "Dollar Tree #2916",
          "Dollar Tree #4643",
          "Dollar Tree #5666",
          "Dollar Tree #5956",
          "Essex Junction Five Corners Farmers Market",
          "FAMILY DOLLAR STORES #10000",
          "FAMILY DOLLAR STORES #10137",
          "FAMILY DOLLAR STORES #1613",
          "FAMILY DOLLAR STORES #3204",
          "FAMILY DOLLAR STORES #5879",
          "FAMILY DOLLAR STORES #6008",
          "FAMILY DOLLAR STORES #7832",
          "FAMILY DOLLAR STORES #8524",
          "FAMILY DOLLAR STORES #8565",
          "FAMILY DOLLAR STORES #8626",
          "FAMILY DOLLAR STORES #8798",
          "FAIRFIELD MARKET",
          "MOMOS MARKET",
          "HANNAFORD SUPERMARKET #8409",
          "ALWAYS FULL ASIAN MARKET",
          "PRICE CHOPPER #228"
         ],
         "lat": [
          43.4810912,
          43.4862912,
          43.5824911,
          43.4809912,
          43.4365912,
          43.6367911,
          43.6254911,
          43.6289911,
          43.9031911,
          43.9442911,
          43.8341911,
          44.115991,
          44.7308909,
          44.9523909,
          44.9519909,
          44.9471909,
          44.575591,
          44.9300909,
          44.9388909,
          44.8127909,
          44.8042909,
          42.8762913,
          42.8462913,
          42.8556913,
          42.9269913,
          42.7335913,
          42.8405913,
          42.8396913,
          42.8396913,
          42.8367913,
          42.8496913,
          42.8705913,
          42.8705913,
          42.8520913,
          42.8741913,
          42.8521913,
          42.8811913,
          42.9397913,
          42.8396913,
          42.9156913,
          43.1458912,
          43.2274912,
          42.8527913,
          42.9906913,
          42.9637913,
          42.9681913,
          42.9677913,
          43.5173912,
          43.5177912,
          43.6588912,
          43.5985912,
          43.5985912,
          43.5984912,
          43.5890912,
          43.6119912,
          43.6104912,
          43.6066912,
          43.5974912,
          43.6172912,
          43.6042912,
          43.6117912,
          43.6193912,
          43.5907912,
          43.6267912,
          43.6090912,
          43.6041912,
          43.5902912,
          43.6067912,
          43.6122912,
          43.6205912,
          43.6058912,
          43.6058912,
          43.5783912,
          43.6286912,
          43.6143912,
          43.6236912,
          43.6117912,
          43.5908912,
          43.6093912,
          43.6138912,
          43.6106912,
          43.5286912,
          43.4735912,
          43.4122912,
          43.4080912,
          43.5983912,
          42.7491913,
          42.8769913,
          42.8901913,
          44.411691,
          44.211491,
          44.282791,
          44.508791,
          44.513491,
          44.539891,
          44.541691,
          44.534991,
          44.520191,
          44.0863911,
          44.0863911,
          44.1997911,
          43.9165911,
          44.0146911,
          44.0027911,
          44.0186911,
          44.0011911,
          43.7458911,
          44.1489911,
          44.1673911,
          44.1674911,
          44.1489911,
          44.1710911,
          44.1449911,
          44.1782911,
          43.8612911,
          43.0627913,
          43.0722913,
          43.0900913,
          44.328591,
          44.187091,
          44.531391,
          44.414991,
          44.420191,
          44.420891,
          44.420891,
          44.371491,
          44.422791,
          44.421591,
          44.444591,
          44.445891,
          44.477491,
          44.319091,
          44.537791,
          44.538291,
          44.527691,
          44.548091,
          44.535691,
          44.540891,
          44.539891,
          44.507891,
          44.507391,
          44.511791,
          44.490291,
          44.524291,
          44.478191,
          44.490891,
          44.494891,
          44.340991,
          44.504291,
          44.411191,
          44.437691,
          44.492291,
          44.489691,
          44.497191,
          44.497691,
          44.497691,
          44.492491,
          44.490291,
          44.9995909,
          45.0082909,
          44.462991,
          45.0018909,
          44.9052909,
          44.8839909,
          44.9051909,
          44.9053909,
          44.8720909,
          44.9073909,
          44.695891,
          44.9965909,
          44.9005909,
          44.9967909,
          44.9966909,
          44.9963909,
          44.9588909,
          43.3961912,
          43.3957912,
          43.3958912,
          43.7130911,
          43.7139911,
          43.7024911,
          43.5328912,
          43.5284912,
          43.8278911,
          43.7849911,
          43.7649911,
          43.8198911,
          43.3053912,
          43.3204912,
          43.3040912,
          43.3180912,
          43.3203912,
          43.3301912,
          43.3229912,
          43.2979912,
          43.2994912,
          43.2907912,
          43.6459911,
          43.6527911,
          44.154991,
          44.161591,
          44.148491,
          44.158791,
          44.0915911,
          44.190891,
          44.189291,
          44.328591,
          44.349991,
          44.376591,
          44.326191,
          44.282191,
          44.369191,
          44.373191,
          44.381591,
          44.359091,
          44.335391,
          44.422391,
          44.440891,
          43.1972912,
          43.1356912,
          43.1339912,
          42.8531913,
          42.8960913,
          44.573291,
          44.574191,
          44.483091,
          44.469991,
          44.690091,
          44.689991,
          44.607091,
          43.9838911,
          44.0099911,
          43.9969911,
          44.0415911,
          43.9889911,
          44.0351911,
          44.207991,
          44.152191,
          43.9214911,
          43.9283911,
          44.9955909,
          43.7975911,
          43.8247911,
          43.8270911,
          43.8270911,
          43.8023911,
          43.7955911,
          43.7973911,
          43.7988911,
          43.7999911,
          43.6043912,
          43.6626912,
          43.6115912,
          43.4900912,
          43.5600912,
          43.3787912,
          43.3546912,
          43.5918912,
          43.6031912,
          43.6847912,
          43.6680911,
          43.6367911,
          43.6708911,
          43.6556911,
          43.4639912,
          43.4731912,
          43.4559912,
          44.338491,
          43.3756912,
          43.0822912,
          43.0863912,
          43.1237912,
          42.8692913,
          42.8892913,
          42.8695913,
          43.8314911,
          43.5879912,
          43.3819912,
          43.2662912,
          43.2776912,
          43.6477911,
          43.6591911,
          43.6611911,
          43.6494911,
          43.6611911,
          43.5401912,
          43.0721913,
          42.8804913,
          42.8953913,
          42.8804913,
          42.8972913,
          42.9224913,
          42.8985913,
          42.8715913,
          42.8791913,
          42.8878913,
          43.2229912,
          43.1762912,
          43.1767912,
          43.1771912,
          43.2312912,
          42.7624913,
          44.476791,
          44.484891,
          44.485991,
          44.480791,
          44.472491,
          44.479691,
          44.485191,
          44.487891,
          44.478591,
          44.526591,
          44.617791,
          44.404191,
          44.398691,
          44.416691,
          44.380391,
          44.438191,
          44.468891,
          44.466991,
          44.466291,
          44.461191,
          44.507391,
          44.523691,
          44.625391,
          44.598491,
          44.159791,
          44.223791,
          44.191891,
          44.213091,
          44.223991,
          44.198691,
          44.198691,
          44.202291,
          44.204191,
          44.177291,
          44.159491,
          44.261991,
          44.199691,
          44.214991,
          44.404491,
          44.387091,
          44.365391,
          44.270691,
          44.351491,
          44.292091,
          44.260691,
          44.260991,
          44.261991,
          44.8039909,
          44.8356909,
          44.8021909,
          44.8380909,
          44.8113909,
          44.9247909,
          44.8113909,
          44.8089909,
          44.7948909,
          44.7952909,
          44.8137909,
          44.8225909,
          44.8355909,
          44.8717909,
          44.9220909,
          44.9497909,
          44.9184909,
          44.9310909,
          44.9186909,
          44.9667909,
          44.9597909,
          44.9992909,
          44.9814909,
          44.645191,
          44.635091,
          44.645991,
          44.698491,
          44.644391,
          43.6096912,
          44.634391,
          44.570491,
          44.572091,
          44.571491,
          44.441591,
          43.6126912,
          44.216891,
          42.8985913,
          44.484391,
          44.636391,
          42.8925913,
          44.412591,
          43.5171912,
          42.8002913,
          44.441591,
          42.8979913,
          44.8418909,
          43.6052912,
          44.493491,
          43.1747912,
          42.8736913,
          44.496991,
          42.8868913,
          44.472891,
          44.467691,
          44.474491,
          44.551991,
          44.192791,
          44.621791,
          43.3079912,
          43.6267912,
          43.5944912,
          44.521791,
          44.540091,
          44.9901909,
          42.8614913,
          43.9124911,
          42.8042913,
          44.9047909,
          44.1169911,
          43.4857912,
          44.1713911,
          44.149891,
          44.9957909,
          44.492991,
          44.691991,
          44.171691,
          43.0594913,
          42.8800913,
          44.511691,
          44.9590909,
          43.5948912,
          43.9024911,
          44.8135909,
          44.207791,
          44.233291,
          43.6045912,
          42.8395913,
          42.9073913,
          44.9536909,
          44.448991,
          44.573691,
          44.460591,
          44.488791,
          44.511891,
          44.9351909,
          43.3018912,
          43.5921912,
          44.8120909,
          44.9121909,
          44.8101909,
          42.8661913,
          43.9889911,
          42.8790913,
          43.4768912,
          44.8019909,
          44.484791,
          43.7971911,
          44.468891,
          44.465791
         ],
         "legendgroup": "Grocery",
         "lon": [
          -72.3952989,
          -72.3844989,
          -72.3727989,
          -72.3854989,
          -72.4011989,
          -72.5243988,
          -72.5186988,
          -72.5059989,
          -72.6568988,
          -72.6250988,
          -72.3603989,
          -72.3094989,
          -72.3799988,
          -72.1425989,
          -72.1574989,
          -72.1327989,
          -72.2955989,
          -72.2630988,
          -72.1983989,
          -72.1935989,
          -72.2075989,
          -72.6714988,
          -72.5630989,
          -72.5595989,
          -72.6126989,
          -72.5767989,
          -72.5641989,
          -72.5659989,
          -72.5659989,
          -72.5654989,
          -72.5877989,
          -72.5577989,
          -72.5577989,
          -72.5595989,
          -72.5610989,
          -72.5696989,
          -72.5582989,
          -72.8547988,
          -72.5659989,
          -72.5363989,
          -72.8413988,
          -72.8162988,
          -72.7931988,
          -72.5408989,
          -72.5274989,
          -72.5231989,
          -72.5226989,
          -73.2369986,
          -73.2268986,
          -73.0433987,
          -72.9819987,
          -72.9819987,
          -73.0474987,
          -72.9800987,
          -72.9871987,
          -72.9720987,
          -72.9792987,
          -72.9783987,
          -72.9580987,
          -72.9918987,
          -72.9727987,
          -72.9556987,
          -72.9723987,
          -72.9750987,
          -72.9468987,
          -72.9713987,
          -72.9697987,
          -72.9784987,
          -72.9626987,
          -72.9545987,
          -72.9776987,
          -72.9776987,
          -72.9668987,
          -72.9878987,
          -72.9828987,
          -72.9753987,
          -72.9727987,
          -72.9685987,
          -72.9718987,
          -72.9647987,
          -72.9725987,
          -72.8271988,
          -72.9772987,
          -72.9920987,
          -73.2267986,
          -73.0494987,
          -73.0710987,
          -73.0817987,
          -73.0295987,
          -72.1398989,
          -72.1973989,
          -72.2736989,
          -72.3615988,
          -72.3721988,
          -72.001899,
          -72.000499,
          -72.003799,
          -72.003299,
          -73.0893986,
          -73.0893986,
          -73.2486986,
          -72.8404987,
          -73.1652986,
          -73.1560986,
          -73.1697986,
          -73.1556986,
          -73.2222986,
          -73.3409985,
          -73.2517986,
          -73.2524986,
          -73.3409985,
          -73.2479986,
          -73.2762986,
          -73.2472986,
          -73.2008986,
          -73.1430987,
          -73.1553987,
          -73.1414987,
          -72.1706989,
          -72.1392989,
          -72.0482989,
          -72.016699,
          -72.010099,
          -72.007899,
          -72.003399,
          -72.057999,
          -72.014599,
          -72.000699,
          -72.016699,
          -72.015399,
          -73.2127986,
          -73.1884986,
          -73.2474985,
          -73.2496985,
          -73.2015986,
          -73.1644986,
          -73.2476985,
          -73.2559985,
          -73.1744986,
          -73.1792986,
          -73.0824986,
          -73.0660986,
          -73.1092986,
          -73.0345986,
          -73.0590986,
          -73.1029986,
          -73.1191986,
          -73.1181986,
          -72.9998986,
          -73.0611986,
          -73.0683986,
          -73.1817986,
          -73.1851986,
          -73.1853986,
          -73.1951986,
          -73.1951986,
          -73.1911986,
          -73.1869986,
          -71.707799,
          -71.5070991,
          -71.6832991,
          -71.800199,
          -72.8067987,
          -72.6592987,
          -72.8069987,
          -72.8058987,
          -72.7974987,
          -72.8045987,
          -73.1074986,
          -72.8314987,
          -72.6412987,
          -72.6708987,
          -72.6728987,
          -72.6731987,
          -72.6345987,
          -72.7015988,
          -72.7020988,
          -72.7023988,
          -72.3087989,
          -72.3078989,
          -72.3136989,
          -72.7414988,
          -72.5549988,
          -72.5748988,
          -72.4559989,
          -72.5322988,
          -72.5210988,
          -72.4820989,
          -72.4054989,
          -72.4902989,
          -72.5039989,
          -72.5054989,
          -72.5134989,
          -72.5081989,
          -72.4821989,
          -72.4812989,
          -72.7926988,
          -72.3181989,
          -72.3169989,
          -72.6564988,
          -72.6551988,
          -72.6557988,
          -72.6565988,
          -72.7337987,
          -72.8237987,
          -72.8262987,
          -72.7449987,
          -72.7422987,
          -72.7189987,
          -72.7445987,
          -72.7819987,
          -72.7286987,
          -72.7260987,
          -72.7207987,
          -72.7117987,
          -72.7530987,
          -72.7202987,
          -72.4154988,
          -72.5049989,
          -72.4446989,
          -72.4447989,
          -72.5582989,
          -72.5518989,
          -72.5917988,
          -72.5938988,
          -72.6614987,
          -72.6870987,
          -72.7696987,
          -72.7694987,
          -72.4645988,
          -72.123099,
          -72.108299,
          -72.6521988,
          -72.6026988,
          -72.4475988,
          -72.3112989,
          -72.5134988,
          -72.046299,
          -72.6655988,
          -72.6610988,
          -72.4033988,
          -73.0881986,
          -73.1254986,
          -73.0528987,
          -73.0528987,
          -73.0965986,
          -73.0880987,
          -73.0871987,
          -73.0832987,
          -73.0896986,
          -73.2336986,
          -73.1902986,
          -73.1771986,
          -72.9517987,
          -72.9649987,
          -73.0000987,
          -73.0477987,
          -73.2652986,
          -73.2751986,
          -73.1882986,
          -72.8035988,
          -72.7947988,
          -72.7897988,
          -72.8863987,
          -73.0780987,
          -73.1251987,
          -72.7929988,
          -72.7550987,
          -73.1968986,
          -72.7079988,
          -72.4388989,
          -72.4714989,
          -72.8731988,
          -72.8594988,
          -72.8737988,
          -72.6362988,
          -72.6560988,
          -72.6103988,
          -72.6192988,
          -72.5969988,
          -72.3344989,
          -72.3364989,
          -72.3403989,
          -72.3930989,
          -72.3140989,
          -72.4020989,
          -73.1534987,
          -73.1993987,
          -73.2042987,
          -73.1928987,
          -73.2058987,
          -73.2088987,
          -73.2109987,
          -73.1959987,
          -73.1813987,
          -73.2360987,
          -73.0721987,
          -73.0194987,
          -73.0522987,
          -73.0529987,
          -72.8970988,
          -73.2317987,
          -73.2149986,
          -73.2146986,
          -73.2099986,
          -73.2091986,
          -73.2170986,
          -73.2124986,
          -73.2112986,
          -73.2113986,
          -73.2114986,
          -73.2709985,
          -73.1491986,
          -72.9936986,
          -73.0011986,
          -73.2127986,
          -73.2269986,
          -73.2095986,
          -73.1762986,
          -73.1724986,
          -73.1707986,
          -73.1796986,
          -72.9010987,
          -72.9434986,
          -73.0201986,
          -73.0235986,
          -72.4511988,
          -72.5469988,
          -72.4802988,
          -72.5226988,
          -72.5508988,
          -72.5027988,
          -72.5027988,
          -72.5070988,
          -72.5052988,
          -72.5041988,
          -72.4709988,
          -72.6240988,
          -72.6321988,
          -72.5340988,
          -72.2959989,
          -72.4903988,
          -72.4304988,
          -72.4872988,
          -72.3475989,
          -72.6781988,
          -72.5791988,
          -72.5748988,
          -72.5851988,
          -73.0863986,
          -73.0809986,
          -73.0877986,
          -73.0810986,
          -73.0911986,
          -73.1272986,
          -73.1048986,
          -73.0841986,
          -73.0725986,
          -73.0991986,
          -73.0854986,
          -73.0816986,
          -73.0839986,
          -73.1777985,
          -73.1101986,
          -73.2235985,
          -73.1237986,
          -73.0890986,
          -73.1230986,
          -73.3019985,
          -73.2776985,
          -73.3292985,
          -73.2972985,
          -73.3069985,
          -73.2676985,
          -72.8280987,
          -72.8284987,
          -72.8335987,
          -72.9715987,
          -72.6764987,
          -72.5937988,
          -72.5912988,
          -72.5939988,
          -73.1220986,
          -72.9629987,
          -72.5649988,
          -73.2109987,
          -73.2182986,
          -72.6852987,
          -73.1963987,
          -73.2136986,
          -73.2370986,
          -73.2204987,
          -73.1221986,
          -73.2109987,
          -73.0896986,
          -72.9806987,
          -73.1911986,
          -73.0536987,
          -72.5601989,
          -73.1249986,
          -73.2000987,
          -72.6889987,
          -73.1804986,
          -72.6995987,
          -73.1662986,
          -72.5001988,
          -73.1196986,
          -72.4967989,
          -72.9748987,
          -73.2647986,
          -72.000099,
          -73.2455985,
          -72.6747987,
          -72.6056989,
          -72.6632988,
          -73.2191987,
          -72.8098987,
          -72.5396988,
          -72.3844989,
          -73.2373986,
          -72.6552988,
          -72.3980988,
          -72.3757988,
          -73.1080986,
          -72.4637988,
          -73.1598987,
          -73.1999987,
          -72.9584986,
          -73.2767985,
          -72.9687987,
          -72.151899,
          -71.881599,
          -72.5138988,
          -72.5542988,
          -72.9798987,
          -72.5665989,
          -73.2180987,
          -72.1540989,
          -73.2071986,
          -72.5924988,
          -72.013599,
          -73.1101986,
          -73.0659986,
          -72.2114989,
          -72.4908989,
          -73.0428987,
          -73.0871986,
          -72.7961987,
          -72.2040989,
          -72.8670988,
          -72.123299,
          -72.5587989,
          -72.9772987,
          -72.9408986,
          -73.2060986,
          -73.0893986,
          -73.1787986,
          -73.1728986
         ],
         "marker": {
          "color": "#EF553B"
         },
         "mode": "markers",
         "name": "Grocery",
         "showlegend": true,
         "subplot": "mapbox",
         "type": "scattermapbox"
        },
        {
         "customdata": [
          [
           "18 ELM ST"
          ],
          [
           "433 WOODSTOCK RD"
          ],
          [
           "7 CENTRAL ST"
          ],
          [
           "3073 VT ROUTE 5"
          ],
          [
           "2930 ROUTE 5"
          ],
          [
           "149 VT ROUTE 25"
          ],
          [
           "304 VT ROUTE 110"
          ],
          [
           "2980 VT RT 110"
          ],
          [
           "2886 US ROUTE 302"
          ],
          [
           "486 VT ROUTE 25"
          ],
          [
           "452 MAIN ST"
          ],
          [
           "25 S CRAFTSBURY RD"
          ],
          [
           "483 MAIN ST"
          ],
          [
           "6196 VERMONT ROUTE 14"
          ],
          [
           "3042 VT ROUTE 100"
          ],
          [
           "2519 VT ROUTE 105"
          ],
          [
           "429 CANAL ST"
          ],
          [
           "69 ELLIOT ST"
          ],
          [
           "197 ROUTE 100"
          ],
          [
           "3054 VT ROUTE 100"
          ],
          [
           "3816 VT ROUTE 30"
          ],
          [
           "2102 NORTH MAIN ST"
          ],
          [
           "2170 VT ROUTE 11"
          ],
          [
           "596 VT ROUTE 30"
          ],
          [
           "4085 ROUTE 7"
          ],
          [
           "10 E MAIN ST"
          ],
          [
           "11 ON THE GREEN"
          ],
          [
           "206 MAIN ST"
          ],
          [
           "100 STATE ST"
          ],
          [
           "129 GROVE ST"
          ],
          [
           "215 NORTH MAIN ST"
          ],
          [
           "212 S MAIN ST"
          ],
          [
           "215 NORTH MAIN ST"
          ],
          [
           "217 N MAIN ST"
          ],
          [
           "31 FOREST ST"
          ],
          [
           "379 WEST ST"
          ],
          [
           "88 CLEVELAND AVE"
          ],
          [
           "151 US ROUTE 4 BUSINESS"
          ],
          [
           "81 STATE ST"
          ],
          [
           "145 N MAIN ST"
          ],
          [
           "172 GRANGER ST"
          ],
          [
           "194 WOODSTOCK AVE"
          ],
          [
           "239 S MAIN ST"
          ],
          [
           "446 WEST ST"
          ],
          [
           "86 WOODSTOCK AVE"
          ],
          [
           "172 MAIN ST"
          ],
          [
           "263 VT ROUTE 103"
          ],
          [
           "1450 VERMONT ROUTE 30"
          ],
          [
           "355 MAIN ST"
          ],
          [
           "416 MAIN ST"
          ],
          [
           "610 RUTLAND RD"
          ],
          [
           "211 MAIN ST"
          ],
          [
           "46 VT ROUTE 30"
          ],
          [
           "5053 VT ROUTE 9"
          ],
          [
           "90 MONUMENT CIR"
          ],
          [
           "196 ROUTE 5A"
          ],
          [
           "2748 US 2"
          ],
          [
           "421 US ROUTE 2 E"
          ],
          [
           "107 MILL ST"
          ],
          [
           "308 VT ROUTE 14 S"
          ],
          [
           "406 BROAD ST"
          ],
          [
           "12 Broad ST"
          ],
          [
           "6973 US ROUTE 7"
          ],
          [
           "17 E RIVER RD"
          ],
          [
           "3201 US ROUTE 7"
          ],
          [
           "51 OSSIE RD"
          ],
          [
           "231 MONKTON RIDGE RD"
          ],
          [
           "48 Town Hill  RD"
          ],
          [
           "5356 ETHAN ALLEN HWY"
          ],
          [
           "499 MAIN ST"
          ],
          [
           "1538 LAKE DUNMORE RD"
          ],
          [
           "13B OLD MILL RD"
          ],
          [
           "3307 VT ROUTE 313  W"
          ],
          [
           "3784 VT ROUTE 7A"
          ],
          [
           "100 NORTH ST STE 1"
          ],
          [
           "133 BLAKELY RD"
          ],
          [
           "3570 ROOSEVELT HWY"
          ],
          [
           "221 COLCHESTER RD"
          ],
          [
           "17 BALLARDS CORNER RD"
          ],
          [
           "21 COMMERCE ST"
          ],
          [
           "341 VT ROUTE 15"
          ],
          [
           "53 VT ROUTE 15"
          ],
          [
           "2200 ESSEX RD"
          ],
          [
           "40 TAFTS CORNERS SHOPPING CENTER"
          ],
          [
           "500 ESSEX RD"
          ],
          [
           "155 MAIN ST"
          ],
          [
           "2861 VT ROUTE 105"
          ],
          [
           "182 MAIN ST"
          ],
          [
           "1098 MAIN ST"
          ],
          [
           "1301 Main  ST"
          ],
          [
           "874 MAIN ST"
          ],
          [
           "2934 US ROUTE 7"
          ],
          [
           "60 GORE RD"
          ],
          [
           "9 ST ARMAND ST"
          ],
          [
           "1711 N Main  ST"
          ],
          [
           "75 MAIN ST"
          ],
          [
           "94 BRIDGE ST"
          ],
          [
           "682 MILL ST"
          ],
          [
           "138 LAKE ST"
          ],
          [
           "ROUSES POINT"
          ],
          [
           "129 MAIN ST"
          ],
          [
           "143 MAIN ST"
          ],
          [
           "195 MAIN ST"
          ],
          [
           "471 ROUTE 103 SOUTH"
          ],
          [
           "135 ROUTE 5 SOUTH"
          ],
          [
           "319 MAIN ST"
          ],
          [
           "6800 WOODSTOCK RD"
          ],
          [
           "2069 VT RTE 107"
          ],
          [
           "232 CHELSEA ST"
          ],
          [
           "2336 VT ROUTE 14"
          ],
          [
           "181 SOUTH ST"
          ],
          [
           "4276 VT ROUTE 106"
          ],
          [
           "722 MAIN ST"
          ],
          [
           "1167 Hartford AVE"
          ],
          [
           "906 HARTFORD AVE"
          ],
          [
           "15 N MAIN ST"
          ],
          [
           "974 VT ROUTE 12 SOUTH"
          ],
          [
           "4348 MAIN ST"
          ],
          [
           "5119 MAIN ST"
          ],
          [
           "5134 MAIN ST"
          ],
          [
           "2367 SUGARBUSH ACCESS RD"
          ],
          [
           "42 ROXBURY GAP RD"
          ],
          [
           "1 N MAIN ST"
          ],
          [
           "52 NO MAIN ST"
          ],
          [
           "713 WATERBURY STOWE RD"
          ],
          [
           "44 WORCESTER VILLAGE RD"
          ],
          [
           "128 ATKINSON ST"
          ],
          [
           "154 ROCKINGHAM ST"
          ],
          [
           "705 ROCKINGHAM RD"
          ],
          [
           "97 WESTMINSTER ST"
          ],
          [
           "1020 WESTERN AVE"
          ],
          [
           "121 CANAL ST"
          ],
          [
           "14 S MAIN ST"
          ],
          [
           "383 MOSCOW RD"
          ],
          [
           "745 SOUTH MAIN ST"
          ],
          [
           "911 S MAIN ST"
          ],
          [
           "4076 VT ROUTE 15"
          ],
          [
           "560 WAITS RIVER"
          ],
          [
           "8392 VT ROUTE 25"
          ],
          [
           "29 VT ROUTE 14"
          ],
          [
           "51 LAKE MOREY RD"
          ],
          [
           "9 US ROUTE 5"
          ],
          [
           "14 S Main ST"
          ],
          [
           "14 S MAIN ST"
          ],
          [
           "16 N MAIN ST"
          ],
          [
           "6561 ROUTE 100"
          ],
          [
           "2400 BELMONT RD"
          ],
          [
           "1620 US ROUTE 7"
          ],
          [
           "2265 FORESTDALE RD"
          ],
          [
           "3 GROVE ST"
          ],
          [
           "232 GROVE ST"
          ],
          [
           "3279 MCCONNELL RD"
          ],
          [
           "15 FURNACE RD"
          ],
          [
           "111 VT ROUTE 30"
          ],
          [
           "16 ROUTE 4A"
          ],
          [
           "2194 MAIN ST"
          ],
          [
           "33 CREEK RD"
          ],
          [
           "334 ROUTE 4A"
          ],
          [
           "672 ROUTE 4A"
          ],
          [
           "1072 US ROUTE 7"
          ],
          [
           "9 NORTH MAIN ST"
          ],
          [
           "22 WASHINGTON ST EXT"
          ],
          [
           "2813 ROUTE 22A"
          ],
          [
           "38 MAIN ST"
          ],
          [
           "7 LIBERTY ST"
          ],
          [
           "2023 KILLINGTON RD"
          ],
          [
           "2068 US ROUTE 4"
          ],
          [
           "2384 KILLINGTON RD"
          ],
          [
           "4900 US ROUTE 4"
          ],
          [
           "2691 EAST CLARENDON RD"
          ],
          [
           "638 VT ROUTE 103"
          ],
          [
           "6083 ROUTE 30"
          ],
          [
           "3705 US ROUTE 7"
          ],
          [
           "23 MAIN ST"
          ],
          [
           "47 CROSS RD"
          ],
          [
           "323 VT ROUTE 100"
          ],
          [
           "661 VT ROUTE 100"
          ],
          [
           "87 EAST MAIN ST"
          ],
          [
           "137 MAIN ST"
          ],
          [
           "44 US ROUTE 4"
          ],
          [
           "89 VT ROUTE 103 S"
          ],
          [
           "526 DEPOT ST"
          ],
          [
           "60 VT ROUTE 103 SOUTH"
          ],
          [
           "3479 WOODSTOCK RD"
          ],
          [
           "3699 WOODSTOCK RD"
          ],
          [
           "111 NORTHSIDE DR"
          ],
          [
           "1404 EAST RD"
          ],
          [
           "150 BENMONT AVE"
          ],
          [
           "1896 HARWOOD HILL"
          ],
          [
           "251 ELM ST"
          ],
          [
           "300 GAGE ST"
          ],
          [
           "301 MAIN ST"
          ],
          [
           "9 ROUTE 67 WEST"
          ],
          [
           "831 MAIN ST"
          ],
          [
           "2045 US ROUTE 7"
          ],
          [
           "2732 VT ROUTE 30"
          ],
          [
           "31 CHURCH ST"
          ],
          [
           "69 ROUTE 30"
          ],
          [
           "271 DEPOT ST"
          ],
          [
           "5023 MAIN ST"
          ],
          [
           "3000 US ROUTE 7"
          ],
          [
           "6828 MAIN ST"
          ],
          [
           "1137 VT ROUTE 153"
          ],
          [
           "1250 US ROUTE 7A"
          ],
          [
           "22 ARCHIBALD ST"
          ],
          [
           "178 ROUTE 7 MIDTOWN PLAZA"
          ],
          [
           "69 MIDDLE RD"
          ],
          [
           "13 W MAIN ST"
          ],
          [
           "5637 SHELBURNE RD"
          ],
          [
           "110 KENNEDY DR"
          ],
          [
           "1110 SHELBURNE RD"
          ],
          [
           "1830 SHELBURNE RD"
          ],
          [
           "1855 SHELBURNE RD"
          ],
          [
           "1313 HAGGETT RD"
          ],
          [
           "132 S MAIN ST"
          ],
          [
           "155 WASHINGTON ST"
          ],
          [
           "411 NORTH MAIN ST"
          ],
          [
           "524 N MAIN ST"
          ],
          [
           "652 GRANITEVILLE RD"
          ],
          [
           "15 S MAIN ST"
          ],
          [
           "475 N MAIN ST"
          ],
          [
           "296 QUARRY HILL"
          ],
          [
           "339 EAST MONTPELIER RD"
          ],
          [
           "159 PAINE TPKE N"
          ],
          [
           "3109 MAIN ST"
          ],
          [
           "130 MILL ST"
          ],
          [
           "973 E BARRE RD"
          ],
          [
           "4520 VT ROUTE 14"
          ],
          [
           "1401 US ROUTE 2"
          ],
          [
           "1425 US ROUTE 2"
          ],
          [
           "108 STATE ST"
          ],
          [
           "14 STATE ST"
          ],
          [
           "284 ELM ST"
          ],
          [
           "3 BERLIN ST"
          ],
          [
           "366 E MONTPELIER RD"
          ],
          [
           "37 BERLIN ST"
          ],
          [
           "377 RIVER ST"
          ],
          [
           "5 MEMORIAL DR"
          ],
          [
           "1114 VT ROUTE 100B"
          ],
          [
           "70 SOUTH MAIN ST"
          ],
          [
           "277 NORTH MAIN ST"
          ],
          [
           "232 US ROUTE 2 SOUTH"
          ],
          [
           "337 US ROUTE 2"
          ],
          [
           "73 US ROUTE 2"
          ],
          [
           "110 SCHOOL RD"
          ],
          [
           "113 S MAIN ST"
          ],
          [
           "4837 VT ROUTE 15"
          ],
          [
           "143 LOWER MAIN ST"
          ],
          [
           "36 VT ROUTE 15"
          ],
          [
           "4495 RT 100C"
          ],
          [
           "1314 WILLISTON RD"
          ],
          [
           "977 SHELBURNE RD"
          ],
          [
           "107 MILL ST"
          ],
          [
           "8701 VT RTE 30"
          ],
          [
           "1038 N MAIN ST"
          ],
          [
           "261 BENMONT AVE"
          ],
          [
           "1097 US ROUTE 302"
          ],
          [
           "351 US ROUTE 4 EAST"
          ],
          [
           "27 STATE ST"
          ],
          [
           "153 COVENTRY ST"
          ],
          [
           "2781 US ROUTE 7"
          ],
          [
           "65 MAIN ST"
          ],
          [
           "509 S BARRE RD"
          ],
          [
           "156 ROOSEVELT  HWY"
          ],
          [
           "1 RIVER RD"
          ],
          [
           "325 MAIN ST STE 2"
          ],
          [
           "317 MARLBORO RD"
          ],
          [
           "301 VT ROUTE 131"
          ],
          [
           "116 MAIN ST"
          ]
         ],
         "hovertemplate": "<b>%{hovertext}</b><br><br>TYPE2=Convenience Store<br>Latitude=%{lat}<br>Longitude=%{lon}<br>Address=%{customdata[0]}<extra></extra>",
         "hovertext": [
          "VILLAGE BUTCHER",
          "Cumberland Farms",
          "Cumberland Farms",
          "WINGS MARKETS",
          "HUGGETTS MART",
          "WAITS RIVER COUNTRY STORE & DELI",
          "TUNBRIDGE STORE ",
          "ROBERTS COUNTRY STORE",
          "P & H TRUCK STOP #451",
          "GRAMP'S COUNTRY STORE",
          "CIRCLE K #7402",
          "C VILLAGE STORE",
          "DERBY VILLAGE STORE",
          "BOBS QUICK STOP",
          "LOWELL GENERAL STORE",
          "HILLIKERS STORE",
          "LIPTONMART SUBWAY #801",
          "INDO-AMERICAN GROCERY",
          "7 ELEVEN 32512D",
          "JACKSONVILLE GENERAL STORE",
          "D & KS JAMAICA GROCERY",
          "JELLEY'S MOBIL",
          "MIKE & TAMMYS MAIN STREET MARKET DELI",
          "NEWFANE MARKET",
          "KEITHS COUNTRY STORE",
          "DUNKIN' DONUTS",
          "EAST POULTNEY GENERAL STORE",
          "FULL BELLY DELI AND BEVERAGE LLC",
          "Jiffy Mart",
          "GROVE STREET JOLLEY #138",
          "RUTLAND COUNTRY STORE",
          "Cumberland Farms",
          "RUTLAND COUNTRY STORE",
          "TENNEYBROOK MARKET",
          "BELLOMOS MARKET",
          "WEST STREET CORNER STORE",
          "RUTLAND DISCOUNT FOOD & LIQUIDATION",
          "MAC'S",
          "STEWARTS SHOP #194",
          "MAC'S CONVENIENCE STORE",
          "GRANGER STREET MARKET & DELI",
          "STEWART'S SHOP #196",
          "MAC'S CONVENIENCE STORE",
          "WEST STREET SMART SHOP",
          "CIRCLE K #7403",
          "WALLINGFORD MOBIL",
          "MAC'S CONVENIENCE STORE",
          "WELLS COUNTRY STORE",
          "Jiffy Mart",
          "MAIN STREET CASH MARKET",
          "CENTER RUTLAND SUNOCO",
          "7 ELEVEN 32511B",
          "WINHALL MARKET",
          "WOODFORD MTN GENERAL STORE INC",
          "BARNET VILLAGE STORE",
          "ALDRICHS GENERAL STORE",
          "HASTINGS STORE",
          "MARTYS 1ST STOP",
          "Jiffy Mart",
          "M & M BEVERAGE",
          "LYNDONVILLE REDEMPTION CENTER INC",
          "THE TOWNS CORNER STORE",
          "FERRISBURG JOLLEY #311",
          "LINCOLN GENERAL STORE",
          "MAPLEFIELDS #62",
          "DOWNHOME DELI/MARKET",
          "MONKTON GENERAL STORE",
          "VILLAGE GREEN MARKET",
          "Jiffy Mart",
          "BUXTONS STORE",
          "KAMPERSVILLE CONVENIENCE STORE",
          "EAST ARLINGTON TAKEOUT",
          "WAYSIDE COUNTRY STORE",
          "STEWARTS SHOP #193",
          "THAI PHAT ORIENTAL MARKET",
          "Jiffy Mart",
          "CHAMPLAIN FARMS",
          "SIMON'S ROUTE 2A STORE",
          "Jiffy Mart",
          "HINESBURG JOLLEY #143",
          "JERICHO JOLLEY #303",
          "JERICHO GENERAL STORE",
          "TAFT CORNERS JOLLEY #124",
          "SHELBURNE MEAT MARKET AT WILLISTON",
          "Jiffy Mart",
          "FASTOP",
          "BERKSHIRE JOLLEY #112",
          "ENOSBURG JOLLEY #127",
          "STEEPLE MARKET",
          "NANS MOBIL",
          "MINOR'S COUNTRY STORE",
          "MARTINS GENERAL STORE",
          "HIGHGATE JOLLEY #340",
          "DESORCIE'S MARKET",
          "MONTGOMERY JOLLEY #338",
          "WETHERBYS QUICK STOP INC",
          "SHELDON CREEK MARKET",
          "#307 SHELDON JOLLEY",
          "SWITCHYARD MOBIL",
          "BG'S MARKET",
          "LUDLOW SHELL",
          "7-ELEVEN",
          "Dunkin’ Donuts",
          "LUDLOW COUNTRY STORE",
          "BAKERS STORE THE",
          "DAN & WHIT'S GENERAL STORE",
          "Jiffy Mart",
          "MCCULLOUGHS QUIK STOP",
          "RB'S DELICATESSEN",
          "CORNER STOP MINI MART",
          "JAKE'S SOUTH STREET MARKET",
          "Jiffy Mart",
          "WESTON MARKETPLACE",
          "Cumberland Farms",
          "WILDER SMART SHOP",
          "CHAMPLAIN FARMS",
          "SOUTH VILLAGE MOBIL",
          "VILLAGE GROCERY",
          "CHAMPLAIN FARMS",
          "IRASVILLE COUNTRY STORE",
          "PARADISE PROVISIONS",
          "EAST WARREN COMMUNITY MARKET",
          "CHAMPLAIN FARMS",
          "CROSSROAD DELI & BAKERY",
          "FASTOP",
          "LBJS GROCERY",
          "LISAIS MARKET",
          "7-ELEVEN",
          "Jiffy Mart",
          "JAMES PETRO",
          "7 ELEVEN STORE #32510K",
          "GOUGERS MARKET & DELI",
          "MAPLEFIELDS AT STOWE",
          "PIZZA JOINT AT MOSCOW SCHOOLHOUSE",
          "STOWE QUICK MART",
          "STOWE JOLLEY #156",
          "WOLCOTT STORE",
          "Jiffy Mart",
          "EAST CORINTH GENERAL STORE",
          "MIDDLE BRANCH MARKET & DELI",
          "CHAMPLAIN FARMS",
          "WINGS SUPERMARKETS",
          "SMARTSHOP TENNEYBROOK #725",
          "RANDOLPH DUNKIN DONUTS",
          "CHAMPLAIN FARMS",
          "TROY COUNTRY STORE",
          "BELMONT GENERAL STORE",
          "CHAMPLAIN BEVERAGE",
          "JUNCTION STORE & DELI",
          "CHAMPLAIN FARMS",
          "Jiffy Mart",
          "MAC'S CONVENIENCE STORE OF BRANDON",
          "FOREST DALE GROCERY & DELI",
          "Jiffy Mart",
          "CASTLETON CORNERS DELI",
          "Dunkin’ Donuts",
          "HARBOR VIEW GENERAL STORE",
          "BEVERAGE KING MARKET & DELI",
          "PRUNIERS MARKET",
          "MOUNT TABOR COUNTRY STORE",
          "NICHOLS GENERAL STORE",
          "MAC'S FAIR HAVEN",
          "G & L GENERAL STORE",
          "Dunkin’ Donuts",
          "LIBERTY STREET DISCOUNT BEVERAGE",
          "KILLINGTON MARKET",
          "DELI AT KILLINGTON CORNERS",
          "PHAT ITALIAN MARKET & DELI THE",
          "WATER WHEEL TRADING CO",
          "STEVE'S COUNTRY MARKET",
          "LORETTAS GOOD FOOD DELI AND GROCERIES",
          "SHELDONS MARKET",
          "CHAMPLAIN FARMS",
          "WARDSBORO COUNTRY STORE",
          "WEST WARDSBORO STORE",
          "SNOW MOUNTAIN MARKET",
          "RIVER VALLEY MARKET AT MOUNT SNOW",
          "WILMINGTON JOLLEY #147",
          "CHAMPLAIN FARMS",
          "SUNRISE GENERAL STORE",
          "Jiffy Mart",
          "LISAIS CHESTER MARKET",
          "SANDRI #225",
          "QUECHEE MOBIL MART",
          "ROUTE 4 COUNTRY STORE",
          "Cumberland Farms",
          "D'S MARKET & DELI",
          "CORNER MARKET THE",
          "MARKET WAGON THE",
          "ELM STREET MARKET THE",
          "WILLY'S VARIETY",
          "MARTINS MINI MART",
          "NORTH BENNINGTON VARIETY",
          "HENRYS MARKET",
          "Jiffy Mart",
          "HN WILLIAMS STORE INC",
          "DORSET UNION STORE",
          "HASGAS GENERAL STORE",
          "MAC'S",
          "MAPLEFIELDS AT MANCHESTER",
          "POWNAL MARKET & DELI",
          "READSBORO GENERAL STORE",
          "SHERMANS GENERAL STORE",
          "PAULIN INC",
          "DOTS MARKET",
          "MIDTOWN JOLLEY #128",
          "MIDDLE ROAD MARKET",
          "Cumberland Farms",
          "Jiffy Mart",
          "Jiffy Mart",
          "SHELBURNE ROAD JOLLEY #146",
          "JOLLEY SOUTH #104",
          "SHELBURNE ROAD VARIETY",
          "ADAMANT COOPERATIVE",
          "Cumberland Farms",
          "QUALITY MARKET",
          "BEVERAGE BARON",
          "Cumberland Farms",
          "GRANITEVILLE GENERAL STORE",
          "CHAMPLAIN FARMS",
          "NORTH END DELI MART",
          "QUARRY HILL QUICK STOP",
          "BROOKSIDE COUNTRY STORE & DELI",
          "MAPLEWOOD",
          "CABOT VILLAGE STORE",
          "MORGANS EAST BARRE MARKET",
          "Jiffy Mart",
          "EAST CALAIS GENERAL STORE",
          "RIVERS EDGE QUIK STOP",
          "MARSHFIELD VILLAGE STORE",
          "CAPITOL DELI",
          "PINKYS ON STATE",
          "MEADOW MART",
          "MONTPELIER MOBIL MART",
          "Jiffy Mart",
          "Cumberland Farms",
          "SIMON'S STORE & DELI",
          "CHAMPLAIN FARMS",
          "MORETOWN JOLLEY #321",
          "HOMETOWN BEVERAGE & REDEMPTION",
          "ST ALBANS JOLLEY #157",
          "CROSSROADS TRAVEL CENTER",
          "SOUTH HERO JOLLEY #173",
          "APPLE ISLAND GENERAL STORE",
          "FLETCHER GENERAL",
          "CAMBRIDGE VILLAGE MARKET",
          "CUPBOARD DELICATESSEN & BAKERY THE",
          "MAPLEFIELDS AT JOHNSON",
          "JOLLEY JOHNSON #305",
          "RIVER VALLEY STORE",
          "WILLISTON ROAD JOLLEY #105",
          "JOLLEY #107 MOBIL NORTH",
          "Jiffy Mart",
          "RAWSONVILLE MARKETPLACE",
          "EVAN'S EXPRESSMART",
          "TENNEYBROOK BENNINGTON",
          "BERLIN JOLLEY #137",
          "RUTLAND JOLLEY #140",
          "ALLA VITA LLC",
          "JIMMY KWIK STORE",
          "MAPLEFIELDS PITTSFORD",
          "CHAMPLAIN FARMS",
          "GREAT ENERGY STORE",
          "MARTELLO AND MILES AT THE STATION II",
          "MAPLEWOOD CONVENIENCE STORE",
          "NADA MARKET LLC",
          "Cumberland Farms",
          "Jiffy Mart",
          "STEWARTS SHOP #198"
         ],
         "lat": [
          43.6256911,
          43.6275911,
          43.9272911,
          43.8126911,
          43.8410911,
          44.089991,
          43.8902911,
          44.107391,
          44.161791,
          44.115991,
          44.7507909,
          44.635791,
          44.9993909,
          44.7878909,
          44.7934909,
          44.9310909,
          42.8269913,
          42.8517913,
          42.9447913,
          42.7970913,
          43.1000912,
          43.2282912,
          43.2084912,
          42.9867913,
          43.7177911,
          43.6082912,
          43.5261912,
          43.5173912,
          43.6089912,
          43.6143912,
          43.6355912,
          43.5937912,
          43.6117912,
          43.6243912,
          43.6052912,
          43.6054912,
          43.6126912,
          43.6038912,
          43.5940912,
          43.6186912,
          43.5974912,
          43.6175912,
          43.5918912,
          43.6039912,
          43.6130912,
          43.8264911,
          43.4537912,
          43.4169912,
          43.5929912,
          43.5935912,
          43.5952912,
          43.1442912,
          43.1445912,
          42.8769913,
          44.296791,
          44.6440909,
          44.408891,
          44.414591,
          44.503891,
          44.494491,
          44.525291,
          44.519791,
          44.259291,
          44.1518911,
          43.9718911,
          43.9722911,
          44.254491,
          44.1235911,
          44.1223911,
          43.8045911,
          43.9209911,
          43.0626913,
          43.0988913,
          43.0729913,
          44.484691,
          44.543991,
          44.504491,
          44.482391,
          44.340991,
          44.334991,
          44.517591,
          44.504591,
          44.449991,
          44.450991,
          44.475191,
          44.497291,
          44.9340909,
          44.403391,
          44.663591,
          44.674891,
          44.653291,
          44.9741909,
          44.9394909,
          44.9384909,
          44.8998909,
          44.9951909,
          44.8836909,
          44.9029909,
          44.8107909,
          43.5407912,
          43.3963912,
          43.3962912,
          43.3961912,
          43.3888912,
          43.7026911,
          43.7147911,
          43.6295911,
          43.8233911,
          43.8200911,
          43.8237911,
          43.2857912,
          43.3997912,
          43.2940912,
          43.6648911,
          43.6611911,
          44.159991,
          44.1194911,
          44.190791,
          44.184391,
          44.184491,
          44.1399911,
          44.1087911,
          44.338091,
          44.341691,
          44.345991,
          44.370991,
          43.1378912,
          43.1376912,
          43.1711912,
          43.1287912,
          42.8552913,
          42.8483913,
          44.465491,
          44.440291,
          44.456391,
          44.454191,
          44.569791,
          43.9817911,
          44.0548911,
          43.9398911,
          43.9042911,
          43.9036911,
          43.9217911,
          43.9217911,
          43.9234911,
          44.9044909,
          43.4474912,
          44.0006911,
          43.8270911,
          43.8007911,
          43.8002911,
          43.7936911,
          43.8302911,
          43.7025911,
          43.6087912,
          43.6086912,
          43.6051912,
          43.6092912,
          43.6078912,
          43.3491912,
          43.3468912,
          43.5950912,
          43.6673912,
          43.8939911,
          43.5920912,
          43.6442911,
          43.6667911,
          43.6390911,
          43.6495911,
          43.5625912,
          43.5314912,
          43.3415912,
          43.7063911,
          43.0409913,
          43.0292913,
          42.9556913,
          42.9062913,
          42.8654913,
          43.8299911,
          43.5998912,
          43.2746912,
          43.2673912,
          43.2585912,
          43.6620911,
          43.6590911,
          42.8955913,
          42.9137913,
          42.8833913,
          42.9279913,
          42.8775913,
          42.8816913,
          42.8789913,
          43.1725912,
          42.8792913,
          43.2398912,
          43.2472912,
          43.2544912,
          43.2133912,
          43.1748912,
          43.1777912,
          42.7981913,
          42.7736913,
          43.2275912,
          42.9504913,
          44.487891,
          44.626591,
          44.618591,
          44.405191,
          44.375591,
          44.454591,
          44.438191,
          44.421991,
          44.421291,
          44.329291,
          44.189591,
          44.192291,
          44.203891,
          44.213091,
          44.150691,
          44.195591,
          44.206191,
          44.177091,
          44.219391,
          44.213491,
          44.402491,
          44.159791,
          44.161391,
          44.365391,
          44.351491,
          44.351491,
          44.260691,
          44.261491,
          44.266091,
          44.257091,
          44.242691,
          44.255991,
          44.235991,
          44.258791,
          44.249991,
          44.8086909,
          44.8240909,
          44.9597909,
          44.645191,
          44.635091,
          44.673591,
          44.639791,
          44.644891,
          44.634391,
          44.635591,
          44.666491,
          44.467291,
          44.442591,
          44.503791,
          43.1458912,
          43.6476911,
          42.8910913,
          44.223891,
          43.6247912,
          44.260391,
          44.9341909,
          43.7004911,
          44.1631911,
          44.173091,
          44.601391,
          44.328591,
          44.498791,
          42.8662913,
          43.4045912,
          43.5939912
         ],
         "legendgroup": "Convenience Store",
         "lon": [
          -72.5185988,
          -72.5071989,
          -72.6653988,
          -72.1892989,
          -72.1889989,
          -72.2835989,
          -72.4912988,
          -72.4333988,
          -72.090099,
          -72.3094989,
          -72.1796989,
          -72.3726988,
          -72.1034989,
          -72.3000988,
          -72.4485988,
          -72.2887988,
          -72.5737989,
          -72.5593989,
          -72.8640988,
          -72.8216988,
          -72.7794988,
          -72.8116988,
          -72.7818988,
          -72.6545988,
          -73.0397987,
          -72.9717987,
          -73.2048986,
          -73.2369986,
          -72.9826987,
          -72.9828987,
          -73.0037987,
          -72.9691987,
          -72.9727987,
          -72.9756987,
          -72.9844987,
          -72.9967987,
          -72.9884987,
          -73.0071987,
          -73.0399987,
          -72.9746987,
          -72.9783987,
          -72.9571987,
          -72.9696987,
          -73.0032987,
          -72.9650987,
          -72.3319989,
          -72.8763987,
          -73.2044986,
          -73.0445987,
          -73.0459987,
          -73.0261987,
          -72.8742988,
          -72.8750988,
          -73.0817987,
          -72.049499,
          -71.980799,
          -72.1944989,
          -72.1328989,
          -72.3641988,
          -72.3748988,
          -72.000399,
          -72.001499,
          -73.2288986,
          -73.0079987,
          -73.1161986,
          -73.1083986,
          -73.1237986,
          -73.1542986,
          -73.1818986,
          -73.2984986,
          -73.0844986,
          -73.1432987,
          -73.2053987,
          -73.1542987,
          -73.2179986,
          -73.2138986,
          -73.1811986,
          -73.1918986,
          -73.1181986,
          -73.1119986,
          -72.9485986,
          -72.9976986,
          -73.1112986,
          -73.1090986,
          -73.1137986,
          -73.1847986,
          -72.7101987,
          -72.9902986,
          -73.0086986,
          -73.0195986,
          -73.0004986,
          -73.1047986,
          -73.0432986,
          -73.0457986,
          -72.6343987,
          -72.6725987,
          -72.9265986,
          -72.9738986,
          -73.0889986,
          -72.3998989,
          -72.6988988,
          -72.6997988,
          -72.7015988,
          -72.6698988,
          -72.3113989,
          -72.3089989,
          -72.4547989,
          -72.6060988,
          -72.5221988,
          -72.5184988,
          -72.4770989,
          -72.5149989,
          -72.7896988,
          -72.3122989,
          -72.3140989,
          -72.6568988,
          -72.6570988,
          -72.8239987,
          -72.8361987,
          -72.8368987,
          -72.8844987,
          -72.8191987,
          -72.7565987,
          -72.7600987,
          -72.7463987,
          -72.5503988,
          -72.4529989,
          -72.4518989,
          -72.4579989,
          -72.4446989,
          -72.6020989,
          -72.5613989,
          -72.6877987,
          -72.7148987,
          -72.6941987,
          -72.6956987,
          -72.5276988,
          -72.121299,
          -72.2210989,
          -72.5536988,
          -72.150699,
          -72.149799,
          -72.6646988,
          -72.6646988,
          -72.6653988,
          -72.4015988,
          -72.8255988,
          -73.2158986,
          -73.0528987,
          -73.0935986,
          -73.0937986,
          -73.0798987,
          -73.0550987,
          -73.1853986,
          -73.2086986,
          -73.2079986,
          -73.2338986,
          -73.2151986,
          -73.2217986,
          -72.9932987,
          -72.9964987,
          -73.2676986,
          -73.2901986,
          -73.3151986,
          -73.2643986,
          -72.7880988,
          -72.8086988,
          -72.7879988,
          -72.7707988,
          -72.9478987,
          -72.9373987,
          -73.1765987,
          -73.0242987,
          -72.7900988,
          -72.8544988,
          -72.8812988,
          -72.8496988,
          -72.8638988,
          -72.6325988,
          -72.7493988,
          -72.6026988,
          -72.5894988,
          -72.5890989,
          -72.3880989,
          -72.3878989,
          -73.2034987,
          -73.1883987,
          -73.2020987,
          -73.2087987,
          -73.2029987,
          -73.1928987,
          -73.1989987,
          -73.0718987,
          -73.1810987,
          -73.0103987,
          -73.0920987,
          -73.0992987,
          -73.0681987,
          -73.0523987,
          -73.0542987,
          -73.2210987,
          -72.9512988,
          -73.2586986,
          -73.2107987,
          -73.2132986,
          -73.1168986,
          -73.1202986,
          -72.9931986,
          -73.2290986,
          -73.1660986,
          -73.2095986,
          -73.2114986,
          -73.2126986,
          -72.5029988,
          -72.4980988,
          -72.4932988,
          -72.5084988,
          -72.5226988,
          -72.4888988,
          -72.5013988,
          -72.5117988,
          -72.4951988,
          -72.4914988,
          -72.5762988,
          -72.3108989,
          -72.4511988,
          -72.4492988,
          -72.4304988,
          -72.3475989,
          -72.3481989,
          -72.5791988,
          -72.5828988,
          -72.5692988,
          -72.5776988,
          -72.5461988,
          -72.5761988,
          -72.5541988,
          -72.5786988,
          -72.7613987,
          -73.0843986,
          -73.0804986,
          -73.2776985,
          -73.3069985,
          -73.2676985,
          -72.9238986,
          -72.9358986,
          -72.8341987,
          -72.6764987,
          -72.6928987,
          -72.6065987,
          -73.1717986,
          -73.2106986,
          -72.3638988,
          -72.8391988,
          -72.3343989,
          -73.2011987,
          -72.5509988,
          -72.9514987,
          -72.5761988,
          -72.2065989,
          -73.0106987,
          -73.2584986,
          -72.5081988,
          -73.2036986,
          -72.7451987,
          -73.1836986,
          -72.6159989,
          -72.4126989,
          -73.0427987
         ],
         "marker": {
          "color": "#00cc96"
         },
         "mode": "markers",
         "name": "Convenience Store",
         "showlegend": true,
         "subplot": "mapbox",
         "type": "scattermapbox"
        }
       ],
       "layout": {
        "legend": {
         "title": {
          "text": "TYPE2"
         },
         "tracegroupgap": 0
        },
        "mapbox": {
         "center": {
          "lat": 44.003000546007726,
          "lon": -72.7991859257888
         },
         "domain": {
          "x": [
           0,
           1
          ],
          "y": [
           0,
           1
          ]
         },
         "style": "open-street-map",
         "zoom": 6.3
        },
        "margin": {
         "b": 0,
         "l": 0,
         "r": 0,
         "t": 0
        },
        "template": {
         "data": {
          "bar": [
           {
            "error_x": {
             "color": "#2a3f5f"
            },
            "error_y": {
             "color": "#2a3f5f"
            },
            "marker": {
             "line": {
              "color": "#E5ECF6",
              "width": 0.5
             },
             "pattern": {
              "fillmode": "overlay",
              "size": 10,
              "solidity": 0.2
             }
            },
            "type": "bar"
           }
          ],
          "barpolar": [
           {
            "marker": {
             "line": {
              "color": "#E5ECF6",
              "width": 0.5
             },
             "pattern": {
              "fillmode": "overlay",
              "size": 10,
              "solidity": 0.2
             }
            },
            "type": "barpolar"
           }
          ],
          "carpet": [
           {
            "aaxis": {
             "endlinecolor": "#2a3f5f",
             "gridcolor": "white",
             "linecolor": "white",
             "minorgridcolor": "white",
             "startlinecolor": "#2a3f5f"
            },
            "baxis": {
             "endlinecolor": "#2a3f5f",
             "gridcolor": "white",
             "linecolor": "white",
             "minorgridcolor": "white",
             "startlinecolor": "#2a3f5f"
            },
            "type": "carpet"
           }
          ],
          "choropleth": [
           {
            "colorbar": {
             "outlinewidth": 0,
             "ticks": ""
            },
            "type": "choropleth"
           }
          ],
          "contour": [
           {
            "colorbar": {
             "outlinewidth": 0,
             "ticks": ""
            },
            "colorscale": [
             [
              0,
              "#0d0887"
             ],
             [
              0.1111111111111111,
              "#46039f"
             ],
             [
              0.2222222222222222,
              "#7201a8"
             ],
             [
              0.3333333333333333,
              "#9c179e"
             ],
             [
              0.4444444444444444,
              "#bd3786"
             ],
             [
              0.5555555555555556,
              "#d8576b"
             ],
             [
              0.6666666666666666,
              "#ed7953"
             ],
             [
              0.7777777777777778,
              "#fb9f3a"
             ],
             [
              0.8888888888888888,
              "#fdca26"
             ],
             [
              1,
              "#f0f921"
             ]
            ],
            "type": "contour"
           }
          ],
          "contourcarpet": [
           {
            "colorbar": {
             "outlinewidth": 0,
             "ticks": ""
            },
            "type": "contourcarpet"
           }
          ],
          "heatmap": [
           {
            "colorbar": {
             "outlinewidth": 0,
             "ticks": ""
            },
            "colorscale": [
             [
              0,
              "#0d0887"
             ],
             [
              0.1111111111111111,
              "#46039f"
             ],
             [
              0.2222222222222222,
              "#7201a8"
             ],
             [
              0.3333333333333333,
              "#9c179e"
             ],
             [
              0.4444444444444444,
              "#bd3786"
             ],
             [
              0.5555555555555556,
              "#d8576b"
             ],
             [
              0.6666666666666666,
              "#ed7953"
             ],
             [
              0.7777777777777778,
              "#fb9f3a"
             ],
             [
              0.8888888888888888,
              "#fdca26"
             ],
             [
              1,
              "#f0f921"
             ]
            ],
            "type": "heatmap"
           }
          ],
          "heatmapgl": [
           {
            "colorbar": {
             "outlinewidth": 0,
             "ticks": ""
            },
            "colorscale": [
             [
              0,
              "#0d0887"
             ],
             [
              0.1111111111111111,
              "#46039f"
             ],
             [
              0.2222222222222222,
              "#7201a8"
             ],
             [
              0.3333333333333333,
              "#9c179e"
             ],
             [
              0.4444444444444444,
              "#bd3786"
             ],
             [
              0.5555555555555556,
              "#d8576b"
             ],
             [
              0.6666666666666666,
              "#ed7953"
             ],
             [
              0.7777777777777778,
              "#fb9f3a"
             ],
             [
              0.8888888888888888,
              "#fdca26"
             ],
             [
              1,
              "#f0f921"
             ]
            ],
            "type": "heatmapgl"
           }
          ],
          "histogram": [
           {
            "marker": {
             "pattern": {
              "fillmode": "overlay",
              "size": 10,
              "solidity": 0.2
             }
            },
            "type": "histogram"
           }
          ],
          "histogram2d": [
           {
            "colorbar": {
             "outlinewidth": 0,
             "ticks": ""
            },
            "colorscale": [
             [
              0,
              "#0d0887"
             ],
             [
              0.1111111111111111,
              "#46039f"
             ],
             [
              0.2222222222222222,
              "#7201a8"
             ],
             [
              0.3333333333333333,
              "#9c179e"
             ],
             [
              0.4444444444444444,
              "#bd3786"
             ],
             [
              0.5555555555555556,
              "#d8576b"
             ],
             [
              0.6666666666666666,
              "#ed7953"
             ],
             [
              0.7777777777777778,
              "#fb9f3a"
             ],
             [
              0.8888888888888888,
              "#fdca26"
             ],
             [
              1,
              "#f0f921"
             ]
            ],
            "type": "histogram2d"
           }
          ],
          "histogram2dcontour": [
           {
            "colorbar": {
             "outlinewidth": 0,
             "ticks": ""
            },
            "colorscale": [
             [
              0,
              "#0d0887"
             ],
             [
              0.1111111111111111,
              "#46039f"
             ],
             [
              0.2222222222222222,
              "#7201a8"
             ],
             [
              0.3333333333333333,
              "#9c179e"
             ],
             [
              0.4444444444444444,
              "#bd3786"
             ],
             [
              0.5555555555555556,
              "#d8576b"
             ],
             [
              0.6666666666666666,
              "#ed7953"
             ],
             [
              0.7777777777777778,
              "#fb9f3a"
             ],
             [
              0.8888888888888888,
              "#fdca26"
             ],
             [
              1,
              "#f0f921"
             ]
            ],
            "type": "histogram2dcontour"
           }
          ],
          "mesh3d": [
           {
            "colorbar": {
             "outlinewidth": 0,
             "ticks": ""
            },
            "type": "mesh3d"
           }
          ],
          "parcoords": [
           {
            "line": {
             "colorbar": {
              "outlinewidth": 0,
              "ticks": ""
             }
            },
            "type": "parcoords"
           }
          ],
          "pie": [
           {
            "automargin": true,
            "type": "pie"
           }
          ],
          "scatter": [
           {
            "marker": {
             "colorbar": {
              "outlinewidth": 0,
              "ticks": ""
             }
            },
            "type": "scatter"
           }
          ],
          "scatter3d": [
           {
            "line": {
             "colorbar": {
              "outlinewidth": 0,
              "ticks": ""
             }
            },
            "marker": {
             "colorbar": {
              "outlinewidth": 0,
              "ticks": ""
             }
            },
            "type": "scatter3d"
           }
          ],
          "scattercarpet": [
           {
            "marker": {
             "colorbar": {
              "outlinewidth": 0,
              "ticks": ""
             }
            },
            "type": "scattercarpet"
           }
          ],
          "scattergeo": [
           {
            "marker": {
             "colorbar": {
              "outlinewidth": 0,
              "ticks": ""
             }
            },
            "type": "scattergeo"
           }
          ],
          "scattergl": [
           {
            "marker": {
             "colorbar": {
              "outlinewidth": 0,
              "ticks": ""
             }
            },
            "type": "scattergl"
           }
          ],
          "scattermapbox": [
           {
            "marker": {
             "colorbar": {
              "outlinewidth": 0,
              "ticks": ""
             }
            },
            "type": "scattermapbox"
           }
          ],
          "scatterpolar": [
           {
            "marker": {
             "colorbar": {
              "outlinewidth": 0,
              "ticks": ""
             }
            },
            "type": "scatterpolar"
           }
          ],
          "scatterpolargl": [
           {
            "marker": {
             "colorbar": {
              "outlinewidth": 0,
              "ticks": ""
             }
            },
            "type": "scatterpolargl"
           }
          ],
          "scatterternary": [
           {
            "marker": {
             "colorbar": {
              "outlinewidth": 0,
              "ticks": ""
             }
            },
            "type": "scatterternary"
           }
          ],
          "surface": [
           {
            "colorbar": {
             "outlinewidth": 0,
             "ticks": ""
            },
            "colorscale": [
             [
              0,
              "#0d0887"
             ],
             [
              0.1111111111111111,
              "#46039f"
             ],
             [
              0.2222222222222222,
              "#7201a8"
             ],
             [
              0.3333333333333333,
              "#9c179e"
             ],
             [
              0.4444444444444444,
              "#bd3786"
             ],
             [
              0.5555555555555556,
              "#d8576b"
             ],
             [
              0.6666666666666666,
              "#ed7953"
             ],
             [
              0.7777777777777778,
              "#fb9f3a"
             ],
             [
              0.8888888888888888,
              "#fdca26"
             ],
             [
              1,
              "#f0f921"
             ]
            ],
            "type": "surface"
           }
          ],
          "table": [
           {
            "cells": {
             "fill": {
              "color": "#EBF0F8"
             },
             "line": {
              "color": "white"
             }
            },
            "header": {
             "fill": {
              "color": "#C8D4E3"
             },
             "line": {
              "color": "white"
             }
            },
            "type": "table"
           }
          ]
         },
         "layout": {
          "annotationdefaults": {
           "arrowcolor": "#2a3f5f",
           "arrowhead": 0,
           "arrowwidth": 1
          },
          "autotypenumbers": "strict",
          "coloraxis": {
           "colorbar": {
            "outlinewidth": 0,
            "ticks": ""
           }
          },
          "colorscale": {
           "diverging": [
            [
             0,
             "#8e0152"
            ],
            [
             0.1,
             "#c51b7d"
            ],
            [
             0.2,
             "#de77ae"
            ],
            [
             0.3,
             "#f1b6da"
            ],
            [
             0.4,
             "#fde0ef"
            ],
            [
             0.5,
             "#f7f7f7"
            ],
            [
             0.6,
             "#e6f5d0"
            ],
            [
             0.7,
             "#b8e186"
            ],
            [
             0.8,
             "#7fbc41"
            ],
            [
             0.9,
             "#4d9221"
            ],
            [
             1,
             "#276419"
            ]
           ],
           "sequential": [
            [
             0,
             "#0d0887"
            ],
            [
             0.1111111111111111,
             "#46039f"
            ],
            [
             0.2222222222222222,
             "#7201a8"
            ],
            [
             0.3333333333333333,
             "#9c179e"
            ],
            [
             0.4444444444444444,
             "#bd3786"
            ],
            [
             0.5555555555555556,
             "#d8576b"
            ],
            [
             0.6666666666666666,
             "#ed7953"
            ],
            [
             0.7777777777777778,
             "#fb9f3a"
            ],
            [
             0.8888888888888888,
             "#fdca26"
            ],
            [
             1,
             "#f0f921"
            ]
           ],
           "sequentialminus": [
            [
             0,
             "#0d0887"
            ],
            [
             0.1111111111111111,
             "#46039f"
            ],
            [
             0.2222222222222222,
             "#7201a8"
            ],
            [
             0.3333333333333333,
             "#9c179e"
            ],
            [
             0.4444444444444444,
             "#bd3786"
            ],
            [
             0.5555555555555556,
             "#d8576b"
            ],
            [
             0.6666666666666666,
             "#ed7953"
            ],
            [
             0.7777777777777778,
             "#fb9f3a"
            ],
            [
             0.8888888888888888,
             "#fdca26"
            ],
            [
             1,
             "#f0f921"
            ]
           ]
          },
          "colorway": [
           "#636efa",
           "#EF553B",
           "#00cc96",
           "#ab63fa",
           "#FFA15A",
           "#19d3f3",
           "#FF6692",
           "#B6E880",
           "#FF97FF",
           "#FECB52"
          ],
          "font": {
           "color": "#2a3f5f"
          },
          "geo": {
           "bgcolor": "white",
           "lakecolor": "white",
           "landcolor": "#E5ECF6",
           "showlakes": true,
           "showland": true,
           "subunitcolor": "white"
          },
          "hoverlabel": {
           "align": "left"
          },
          "hovermode": "closest",
          "mapbox": {
           "style": "light"
          },
          "paper_bgcolor": "white",
          "plot_bgcolor": "#E5ECF6",
          "polar": {
           "angularaxis": {
            "gridcolor": "white",
            "linecolor": "white",
            "ticks": ""
           },
           "bgcolor": "#E5ECF6",
           "radialaxis": {
            "gridcolor": "white",
            "linecolor": "white",
            "ticks": ""
           }
          },
          "scene": {
           "xaxis": {
            "backgroundcolor": "#E5ECF6",
            "gridcolor": "white",
            "gridwidth": 2,
            "linecolor": "white",
            "showbackground": true,
            "ticks": "",
            "zerolinecolor": "white"
           },
           "yaxis": {
            "backgroundcolor": "#E5ECF6",
            "gridcolor": "white",
            "gridwidth": 2,
            "linecolor": "white",
            "showbackground": true,
            "ticks": "",
            "zerolinecolor": "white"
           },
           "zaxis": {
            "backgroundcolor": "#E5ECF6",
            "gridcolor": "white",
            "gridwidth": 2,
            "linecolor": "white",
            "showbackground": true,
            "ticks": "",
            "zerolinecolor": "white"
           }
          },
          "shapedefaults": {
           "line": {
            "color": "#2a3f5f"
           }
          },
          "ternary": {
           "aaxis": {
            "gridcolor": "white",
            "linecolor": "white",
            "ticks": ""
           },
           "baxis": {
            "gridcolor": "white",
            "linecolor": "white",
            "ticks": ""
           },
           "bgcolor": "#E5ECF6",
           "caxis": {
            "gridcolor": "white",
            "linecolor": "white",
            "ticks": ""
           }
          },
          "title": {
           "x": 0.05
          },
          "xaxis": {
           "automargin": true,
           "gridcolor": "white",
           "linecolor": "white",
           "ticks": "",
           "title": {
            "standoff": 15
           },
           "zerolinecolor": "white",
           "zerolinewidth": 2
          },
          "yaxis": {
           "automargin": true,
           "gridcolor": "white",
           "linecolor": "white",
           "ticks": "",
           "title": {
            "standoff": 15
           },
           "zerolinecolor": "white",
           "zerolinewidth": 2
          }
         }
        }
       }
      }
     },
     "metadata": {},
     "output_type": "display_data"
    }
   ],
   "source": [
    "fig = px.scatter_mapbox(our_sources_df, lat=\"Latitude\", lon=\"Longitude\", color=\"TYPE2\", hover_name=\"FSGName\", hover_data=[\"Address\"], zoom=6.3)\n",
    "fig.update_layout(mapbox_style=\"open-street-map\")\n",
    "fig.update_layout(margin={\"r\":0,\"t\":0,\"l\":0,\"b\":0})\n",
    "fig.show()\n",
    "fig.write_html(\"food_sources.html\")"
   ]
  },
  {
   "cell_type": "code",
   "execution_count": 8,
   "metadata": {},
   "outputs": [],
   "source": [
    "our_sources_df['County'] = our_sources_df['County'].str.upper()\n",
    "our_sources_df.loc[5120, \"County\"] = \"ORANGE\""
   ]
  },
  {
   "cell_type": "code",
   "execution_count": 9,
   "metadata": {},
   "outputs": [],
   "source": [
    "# area in km^2, population\n",
    "county_data = {\n",
    "    \"ADDISON\":[1994,37363],\n",
    "    \"BENNINGTON\":[1751,37347],\n",
    "    \"CALEDONIA\":[1686,30233],\n",
    "    \"CHITTENDEN\":[1396,168323],\n",
    "    \"ESSEX\":[1722,5920],\n",
    "    \"FRANKLIN\":[1650,49946],\n",
    "    \"GRAND ISLE\":[215,7293],\n",
    "    \"LAMOILLE\":[1194,25945],\n",
    "    \"ORANGE\":[1785,29277],\n",
    "    \"ORLEANS\":[1805,27393],\n",
    "    \"RUTLAND\":[2414,60572],\n",
    "    \"WASHINGTON\":[1787,59807],\n",
    "    \"WINDHAM\":[2044,45905],\n",
    "    \"WINDSOR\":[2515,57753]\n",
    "}\n",
    "county_df = pd.DataFrame.from_dict(county_data, orient=\"index\", columns=[\"Area\",\"Population\"])\n",
    "county_df['Pop. Density'] = county_df['Population']/county_df['Area']\n"
   ]
  },
  {
   "cell_type": "code",
   "execution_count": 10,
   "metadata": {},
   "outputs": [],
   "source": [
    "restaurant_counts = pd.DataFrame(our_sources_df.loc[our_sources_df.TYPE2==\"Restaurant\"].County.value_counts())\n",
    "grocery_counts = pd.DataFrame(our_sources_df.loc[our_sources_df.TYPE2==\"Grocery\"].County.value_counts())\n",
    "convenience_counts = pd.DataFrame(our_sources_df.loc[our_sources_df.TYPE2==\"Convenience Store\"].County.value_counts())\n",
    "county_to_count = {\"County\":\"Count\"}\n",
    "restaurant_counts.rename(columns=county_to_count, inplace=True)\n",
    "grocery_counts.rename(columns=county_to_count, inplace=True)\n",
    "convenience_counts.rename(columns=county_to_count, inplace=True)\n",
    "restaurant_df = restaurant_counts.join(county_df)\n",
    "grocery_df = grocery_counts.join(county_df)\n",
    "convenience_df = convenience_counts.join(county_df)"
   ]
  },
  {
   "cell_type": "code",
   "execution_count": 13,
   "metadata": {},
   "outputs": [
    {
     "data": {
      "text/html": [
       "<div>\n",
       "<style scoped>\n",
       "    .dataframe tbody tr th:only-of-type {\n",
       "        vertical-align: middle;\n",
       "    }\n",
       "\n",
       "    .dataframe tbody tr th {\n",
       "        vertical-align: top;\n",
       "    }\n",
       "\n",
       "    .dataframe thead th {\n",
       "        text-align: right;\n",
       "    }\n",
       "</style>\n",
       "<table border=\"1\" class=\"dataframe\">\n",
       "  <thead>\n",
       "    <tr style=\"text-align: right;\">\n",
       "      <th></th>\n",
       "      <th>Count</th>\n",
       "      <th>Area</th>\n",
       "      <th>Population</th>\n",
       "      <th>Pop. Density</th>\n",
       "      <th>Source Density</th>\n",
       "    </tr>\n",
       "  </thead>\n",
       "  <tbody>\n",
       "    <tr>\n",
       "      <th>RUTLAND</th>\n",
       "      <td>54</td>\n",
       "      <td>2414</td>\n",
       "      <td>60572</td>\n",
       "      <td>25.091964</td>\n",
       "      <td>0.022370</td>\n",
       "    </tr>\n",
       "    <tr>\n",
       "      <th>WASHINGTON</th>\n",
       "      <td>37</td>\n",
       "      <td>1787</td>\n",
       "      <td>59807</td>\n",
       "      <td>33.467823</td>\n",
       "      <td>0.020705</td>\n",
       "    </tr>\n",
       "    <tr>\n",
       "      <th>BENNINGTON</th>\n",
       "      <td>25</td>\n",
       "      <td>1751</td>\n",
       "      <td>37347</td>\n",
       "      <td>21.328955</td>\n",
       "      <td>0.014278</td>\n",
       "    </tr>\n",
       "    <tr>\n",
       "      <th>WINDSOR</th>\n",
       "      <td>25</td>\n",
       "      <td>2515</td>\n",
       "      <td>57753</td>\n",
       "      <td>22.963419</td>\n",
       "      <td>0.009940</td>\n",
       "    </tr>\n",
       "    <tr>\n",
       "      <th>CHITTENDEN</th>\n",
       "      <td>23</td>\n",
       "      <td>1396</td>\n",
       "      <td>168323</td>\n",
       "      <td>120.575215</td>\n",
       "      <td>0.016476</td>\n",
       "    </tr>\n",
       "    <tr>\n",
       "      <th>WINDHAM</th>\n",
       "      <td>19</td>\n",
       "      <td>2044</td>\n",
       "      <td>45905</td>\n",
       "      <td>22.458415</td>\n",
       "      <td>0.009295</td>\n",
       "    </tr>\n",
       "    <tr>\n",
       "      <th>ORANGE</th>\n",
       "      <td>16</td>\n",
       "      <td>1785</td>\n",
       "      <td>29277</td>\n",
       "      <td>16.401681</td>\n",
       "      <td>0.008964</td>\n",
       "    </tr>\n",
       "    <tr>\n",
       "      <th>FRANKLIN</th>\n",
       "      <td>15</td>\n",
       "      <td>1650</td>\n",
       "      <td>49946</td>\n",
       "      <td>30.270303</td>\n",
       "      <td>0.009091</td>\n",
       "    </tr>\n",
       "    <tr>\n",
       "      <th>LAMOILLE</th>\n",
       "      <td>11</td>\n",
       "      <td>1194</td>\n",
       "      <td>25945</td>\n",
       "      <td>21.729481</td>\n",
       "      <td>0.009213</td>\n",
       "    </tr>\n",
       "    <tr>\n",
       "      <th>CALEDONIA</th>\n",
       "      <td>9</td>\n",
       "      <td>1686</td>\n",
       "      <td>30233</td>\n",
       "      <td>17.931791</td>\n",
       "      <td>0.005338</td>\n",
       "    </tr>\n",
       "    <tr>\n",
       "      <th>ADDISON</th>\n",
       "      <td>9</td>\n",
       "      <td>1994</td>\n",
       "      <td>37363</td>\n",
       "      <td>18.737713</td>\n",
       "      <td>0.004514</td>\n",
       "    </tr>\n",
       "    <tr>\n",
       "      <th>ORLEANS</th>\n",
       "      <td>7</td>\n",
       "      <td>1805</td>\n",
       "      <td>27393</td>\n",
       "      <td>15.176177</td>\n",
       "      <td>0.003878</td>\n",
       "    </tr>\n",
       "    <tr>\n",
       "      <th>GRAND ISLE</th>\n",
       "      <td>3</td>\n",
       "      <td>215</td>\n",
       "      <td>7293</td>\n",
       "      <td>33.920930</td>\n",
       "      <td>0.013953</td>\n",
       "    </tr>\n",
       "  </tbody>\n",
       "</table>\n",
       "</div>"
      ],
      "text/plain": [
       "            Count  Area  Population  Pop. Density  Source Density\n",
       "RUTLAND        54  2414       60572     25.091964        0.022370\n",
       "WASHINGTON     37  1787       59807     33.467823        0.020705\n",
       "BENNINGTON     25  1751       37347     21.328955        0.014278\n",
       "WINDSOR        25  2515       57753     22.963419        0.009940\n",
       "CHITTENDEN     23  1396      168323    120.575215        0.016476\n",
       "WINDHAM        19  2044       45905     22.458415        0.009295\n",
       "ORANGE         16  1785       29277     16.401681        0.008964\n",
       "FRANKLIN       15  1650       49946     30.270303        0.009091\n",
       "LAMOILLE       11  1194       25945     21.729481        0.009213\n",
       "CALEDONIA       9  1686       30233     17.931791        0.005338\n",
       "ADDISON         9  1994       37363     18.737713        0.004514\n",
       "ORLEANS         7  1805       27393     15.176177        0.003878\n",
       "GRAND ISLE      3   215        7293     33.920930        0.013953"
      ]
     },
     "execution_count": 13,
     "metadata": {},
     "output_type": "execute_result"
    }
   ],
   "source": [
    "restaurant_df['Source Density'] = restaurant_df['Count']/restaurant_df['Area']\n",
    "grocery_df['Source Density'] = grocery_df['Count']/grocery_df['Area']\n",
    "convenience_df['Source Density'] = convenience_df['Count']/convenience_df['Area']"
   ]
  },
  {
   "cell_type": "code",
   "execution_count": 45,
   "metadata": {},
   "outputs": [
    {
     "data": {
      "image/png": "[encoded data removed]",
      "text/plain": [
       "<Figure size 432x288 with 1 Axes>"
      ]
     },
     "metadata": {
      "needs_background": "light"
     },
     "output_type": "display_data"
    },
    {
     "name": "stdout",
     "output_type": "stream",
     "text": [
      "Restaurant alpha:  0.947836618418219\n",
      "Grocery alpha:  1.6004757940978092\n",
      "Convenience alpha:  1.5129148388367026\n"
     ]
    }
   ],
   "source": [
    "fig, ax = plt.subplots()\n",
    "ax.axis('equal')\n",
    "restaurant_mod = scipy.stats.linregress(np.log10(restaurant_df[~restaurant_df.index.isin(['CHITTENDEN','ESSEX'])]['Pop. Density']), np.log10(restaurant_df[~restaurant_df.index.isin(['CHITTENDEN','ESSEX'])]['Source Density']))\n",
    "grocery_mod = scipy.stats.linregress(np.log10(grocery_df[~grocery_df.index.isin(['CHITTENDEN','ESSEX'])]['Pop. Density']), np.log10(grocery_df[~grocery_df.index.isin(['CHITTENDEN','ESSEX'])]['Source Density']))\n",
    "convenience_mod = scipy.stats.linregress(np.log10(convenience_df[~convenience_df.index.isin(['CHITTENDEN','ESSEX'])]['Pop. Density']), np.log10(convenience_df[~convenience_df.index.isin(['CHITTENDEN','ESSEX'])]['Source Density']))\n",
    "ax.plot('Pop. Density','Source Density','bo',data=np.log10(restaurant_df), label=\"Restaurants\")\n",
    "ax.plot(np.log10(restaurant_df['Pop. Density']), restaurant_mod.intercept + restaurant_mod.slope*np.log10(restaurant_df['Pop. Density']), 'b--')\n",
    "ax.plot('Pop. Density','Source Density','ro', data=np.log10(grocery_df), label=\"Grocery Stores\")\n",
    "ax.plot(np.log10(grocery_df['Pop. Density']), grocery_mod.intercept + grocery_mod.slope*np.log10(grocery_df['Pop. Density']), 'r--')\n",
    "ax.plot('Pop. Density','Source Density', 'go',data=np.log10(convenience_df), label=\"Convenience Stores\")\n",
    "ax.plot(np.log10(convenience_df['Pop. Density']), convenience_mod.intercept + convenience_mod.slope*np.log10(convenience_df['Pop. Density']), 'g--')\n",
    "ax.set_xlabel(\"log Population Density (ppl./km^2)\")\n",
    "ax.set_ylabel(\"log Source Density (km^-2)\")\n",
    "ax.set_title(\"Food Sources by Vermont County\")\n",
    "ax.legend()\n",
    "plt.show()\n",
    "print(\"Restaurant alpha: \", restaurant_mod.slope)\n",
    "print(\"Grocery alpha: \", grocery_mod.slope)\n",
    "print(\"Convenience alpha: \", convenience_mod.slope)"
   ]
  }
 ],
 "metadata": {
  "interpreter": {
   "hash": "99691978db10e532c6debc14b4bffb671279f7ab736799629086e011d08b1efc"
  },
  "kernelspec": {
   "display_name": "Python 3.9.7 64-bit",
   "language": "python",
   "name": "python3"
  },
  "language_info": {
   "codemirror_mode": {
    "name": "ipython",
    "version": 3
   },
   "file_extension": ".py",
   "mimetype": "text/x-python",
   "name": "python",
   "nbconvert_exporter": "python",
   "pygments_lexer": "ipython3",
   "version": "3.9.7"
  },
  "orig_nbformat": 4
 },
 "nbformat": 4,
 "nbformat_minor": 2
}
